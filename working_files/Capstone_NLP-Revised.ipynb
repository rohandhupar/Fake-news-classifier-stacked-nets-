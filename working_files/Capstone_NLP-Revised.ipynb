{
 "cells": [
  {
   "cell_type": "code",
   "execution_count": 147,
   "metadata": {
    "collapsed": true
   },
   "outputs": [],
   "source": [
    "import spacy\n",
    "nlp = spacy.load('en')"
   ]
  },
  {
   "cell_type": "code",
   "execution_count": 148,
   "metadata": {
    "collapsed": true
   },
   "outputs": [],
   "source": [
    "import pandas as pd\n",
    "import re"
   ]
  },
  {
   "cell_type": "code",
   "execution_count": 149,
   "metadata": {},
   "outputs": [
    {
     "data": {
      "text/html": [
       "<div>\n",
       "<style>\n",
       "    .dataframe thead tr:only-child th {\n",
       "        text-align: right;\n",
       "    }\n",
       "\n",
       "    .dataframe thead th {\n",
       "        text-align: left;\n",
       "    }\n",
       "\n",
       "    .dataframe tbody tr th {\n",
       "        vertical-align: top;\n",
       "    }\n",
       "</style>\n",
       "<table border=\"1\" class=\"dataframe\">\n",
       "  <thead>\n",
       "    <tr style=\"text-align: right;\">\n",
       "      <th></th>\n",
       "      <th>author</th>\n",
       "      <th>published</th>\n",
       "      <th>text</th>\n",
       "      <th>domain_rank</th>\n",
       "      <th>site_url</th>\n",
       "      <th>spam_score</th>\n",
       "      <th>title</th>\n",
       "      <th>response</th>\n",
       "      <th>length</th>\n",
       "    </tr>\n",
       "  </thead>\n",
       "  <tbody>\n",
       "    <tr>\n",
       "      <th>0</th>\n",
       "      <td>SAM TANENHAUS</td>\n",
       "      <td>2016-11-20T03:51:00.000+02:00</td>\n",
       "      <td>Privacy Policy Eisenhowers two terms bore this...</td>\n",
       "      <td>98.0</td>\n",
       "      <td>nytimes.com</td>\n",
       "      <td>0.000</td>\n",
       "      <td>Opinion: Donald Trump’s Art of the New Deal?</td>\n",
       "      <td>Not fake</td>\n",
       "      <td>949</td>\n",
       "    </tr>\n",
       "    <tr>\n",
       "      <th>1</th>\n",
       "      <td>NaN</td>\n",
       "      <td>2016-11-20T00:52:00.000+02:00</td>\n",
       "      <td>Can Trump Save Their Jobs?  by Nelson D. Sc...</td>\n",
       "      <td>98.0</td>\n",
       "      <td>nytimes.com</td>\n",
       "      <td>0.000</td>\n",
       "      <td>Carrier Workers for Trump</td>\n",
       "      <td>Not fake</td>\n",
       "      <td>372</td>\n",
       "    </tr>\n",
       "    <tr>\n",
       "      <th>2</th>\n",
       "      <td>Kathleen Elkins</td>\n",
       "      <td>2016-11-20T06:18:00.000+02:00</td>\n",
       "      <td>Tuesday, 18 Oct 2016 | 10:25 AM ET CNBC.com Ed...</td>\n",
       "      <td>767.0</td>\n",
       "      <td>cnbc.com</td>\n",
       "      <td>0.008</td>\n",
       "      <td>Tennis star Caroline Wozniacki shares the mone...</td>\n",
       "      <td>Not fake</td>\n",
       "      <td>386</td>\n",
       "    </tr>\n",
       "    <tr>\n",
       "      <th>3</th>\n",
       "      <td>JEFF SOMMER</td>\n",
       "      <td>2016-11-20T00:04:00.000+02:00</td>\n",
       "      <td>Continue reading the main story Yet it is poss...</td>\n",
       "      <td>98.0</td>\n",
       "      <td>nytimes.com</td>\n",
       "      <td>0.000</td>\n",
       "      <td>Strategies: It’s Not Just the White House. Cha...</td>\n",
       "      <td>Not fake</td>\n",
       "      <td>1005</td>\n",
       "    </tr>\n",
       "    <tr>\n",
       "      <th>4</th>\n",
       "      <td>James Rufus Koren</td>\n",
       "      <td>2016-11-20T02:42:00.000+02:00</td>\n",
       "      <td>Wells Fargo hit with new sanctions following f...</td>\n",
       "      <td>609.0</td>\n",
       "      <td>latimes.com</td>\n",
       "      <td>0.264</td>\n",
       "      <td>Wells Fargo hit with new sanctions following f...</td>\n",
       "      <td>Not fake</td>\n",
       "      <td>809</td>\n",
       "    </tr>\n",
       "    <tr>\n",
       "      <th>5</th>\n",
       "      <td>ROSS DOUTHAT</td>\n",
       "      <td>2016-11-20T02:30:00.000+02:00</td>\n",
       "      <td>Privacy Policy But liberal societies have alwa...</td>\n",
       "      <td>98.0</td>\n",
       "      <td>nytimes.com</td>\n",
       "      <td>0.000</td>\n",
       "      <td>The Crisis for Liberalism</td>\n",
       "      <td>Not fake</td>\n",
       "      <td>529</td>\n",
       "    </tr>\n",
       "    <tr>\n",
       "      <th>6</th>\n",
       "      <td>NaN</td>\n",
       "      <td>2016-11-20T03:09:00.000+02:00</td>\n",
       "      <td>Let friends in your social network know what y...</td>\n",
       "      <td>313.0</td>\n",
       "      <td>usatoday.com</td>\n",
       "      <td>0.000</td>\n",
       "      <td>Joe Thomas Sr., 55, makes history as oldest pl...</td>\n",
       "      <td>Not fake</td>\n",
       "      <td>339</td>\n",
       "    </tr>\n",
       "    <tr>\n",
       "      <th>7</th>\n",
       "      <td>JOE COSCARELLI</td>\n",
       "      <td>2016-11-21T02:51:00.000+02:00</td>\n",
       "      <td>Privacy Policy A lot of people here tonight fe...</td>\n",
       "      <td>98.0</td>\n",
       "      <td>nytimes.com</td>\n",
       "      <td>0.000</td>\n",
       "      <td>Kanye West Calls Out Beyoncé and Praises Trump...</td>\n",
       "      <td>Not fake</td>\n",
       "      <td>340</td>\n",
       "    </tr>\n",
       "    <tr>\n",
       "      <th>8</th>\n",
       "      <td>Catherine Osborn</td>\n",
       "      <td>2016-11-21T05:09:00.000+02:00</td>\n",
       "      <td>Young Barbers In Brazil Are Cutting Away From ...</td>\n",
       "      <td>495.0</td>\n",
       "      <td>npr.org</td>\n",
       "      <td>0.000</td>\n",
       "      <td>Young Barbers In Brazil Are Cutting Away From ...</td>\n",
       "      <td>Not fake</td>\n",
       "      <td>57</td>\n",
       "    </tr>\n",
       "    <tr>\n",
       "      <th>9</th>\n",
       "      <td>cnn</td>\n",
       "      <td>2016-11-20T02:00:00.000+02:00</td>\n",
       "      <td>A passenger train goes off the track near the ...</td>\n",
       "      <td>81.0</td>\n",
       "      <td>cnn.com</td>\n",
       "      <td>0.079</td>\n",
       "      <td>Train derails in Northern India</td>\n",
       "      <td>Not fake</td>\n",
       "      <td>55</td>\n",
       "    </tr>\n",
       "    <tr>\n",
       "      <th>10</th>\n",
       "      <td>KEN JAWOROWSKI</td>\n",
       "      <td>2016-11-21T05:50:00.000+02:00</td>\n",
       "      <td>Photo From left, Lily Dorment, Sarah Street ...</td>\n",
       "      <td>98.0</td>\n",
       "      <td>nytimes.com</td>\n",
       "      <td>0.000</td>\n",
       "      <td>Review: Innocuous Remarks Double as Cutting Co...</td>\n",
       "      <td>Not fake</td>\n",
       "      <td>482</td>\n",
       "    </tr>\n",
       "    <tr>\n",
       "      <th>11</th>\n",
       "      <td>NaN</td>\n",
       "      <td>2016-11-21T05:27:00.000+02:00</td>\n",
       "      <td>Deutsche Banks Achleitner Said to Have Backing...</td>\n",
       "      <td>356.0</td>\n",
       "      <td>bloomberg.com</td>\n",
       "      <td>0.000</td>\n",
       "      <td>Deutsche Bank's Achleitner Said to Have Backin...</td>\n",
       "      <td>Not fake</td>\n",
       "      <td>265</td>\n",
       "    </tr>\n",
       "    <tr>\n",
       "      <th>12</th>\n",
       "      <td>James Fallows Nov 15, 2016 How Casinos Enable ...</td>\n",
       "      <td>2016-11-20T11:50:00.000+02:00</td>\n",
       "      <td>All signs seem to point to a budding bromance ...</td>\n",
       "      <td>918.0</td>\n",
       "      <td>theatlantic.com</td>\n",
       "      <td>0.000</td>\n",
       "      <td>Can America and Russia Both Be Great Again?</td>\n",
       "      <td>Not fake</td>\n",
       "      <td>162</td>\n",
       "    </tr>\n",
       "    <tr>\n",
       "      <th>13</th>\n",
       "      <td>NaN</td>\n",
       "      <td>2016-11-21T01:44:00.000+02:00</td>\n",
       "      <td>Let friends in your social network know what y...</td>\n",
       "      <td>313.0</td>\n",
       "      <td>usatoday.com</td>\n",
       "      <td>0.000</td>\n",
       "      <td>Russians explain what Trump means to them</td>\n",
       "      <td>Not fake</td>\n",
       "      <td>135</td>\n",
       "    </tr>\n",
       "    <tr>\n",
       "      <th>14</th>\n",
       "      <td>Roman Stubbs</td>\n",
       "      <td>2016-11-20T00:06:00.000+02:00</td>\n",
       "      <td>With Perry Hills out, Maryland freshman QB Max...</td>\n",
       "      <td>177.0</td>\n",
       "      <td>washingtonpost.com</td>\n",
       "      <td>0.000</td>\n",
       "      <td>With Perry Hills out, Maryland freshman QB Max...</td>\n",
       "      <td>Not fake</td>\n",
       "      <td>332</td>\n",
       "    </tr>\n",
       "    <tr>\n",
       "      <th>15</th>\n",
       "      <td>David Folkenflik</td>\n",
       "      <td>2016-11-20T05:21:00.000+02:00</td>\n",
       "      <td>Mark Zuckerberg Addresses Fake News On Faceboo...</td>\n",
       "      <td>495.0</td>\n",
       "      <td>npr.org</td>\n",
       "      <td>0.000</td>\n",
       "      <td>Mark Zuckerberg Addresses Fake News On Facebook</td>\n",
       "      <td>Not fake</td>\n",
       "      <td>1032</td>\n",
       "    </tr>\n",
       "    <tr>\n",
       "      <th>16</th>\n",
       "      <td>Steph Harmon</td>\n",
       "      <td>2016-11-20T05:06:00.000+02:00</td>\n",
       "      <td>In the fourth episode of Seinfelds ninth seaso...</td>\n",
       "      <td>170.0</td>\n",
       "      <td>theguardian.com</td>\n",
       "      <td>0.000</td>\n",
       "      <td>You must be joking: Seinfeld ticket frenzy hig...</td>\n",
       "      <td>Not fake</td>\n",
       "      <td>2503</td>\n",
       "    </tr>\n",
       "    <tr>\n",
       "      <th>17</th>\n",
       "      <td>CHRISTINE LAGORIO-CHAFKIN</td>\n",
       "      <td>2016-11-20T02:55:00.000+02:00</td>\n",
       "      <td>Reddit and the God Emperor of the Internet By ...</td>\n",
       "      <td>98.0</td>\n",
       "      <td>nytimes.com</td>\n",
       "      <td>0.000</td>\n",
       "      <td>Opinion: Reddit and the God Emperor of the Int...</td>\n",
       "      <td>Not fake</td>\n",
       "      <td>1443</td>\n",
       "    </tr>\n",
       "    <tr>\n",
       "      <th>18</th>\n",
       "      <td>Kim Willsher</td>\n",
       "      <td>2016-11-20T03:14:00.000+02:00</td>\n",
       "      <td>Too old? Never! Alain Jupps home city rallies ...</td>\n",
       "      <td>170.0</td>\n",
       "      <td>theguardian.com</td>\n",
       "      <td>0.199</td>\n",
       "      <td>‘Too old? Never!’ Alain Juppé’s home city rall...</td>\n",
       "      <td>Not fake</td>\n",
       "      <td>1559</td>\n",
       "    </tr>\n",
       "    <tr>\n",
       "      <th>19</th>\n",
       "      <td>DOUGLAS ROBSON</td>\n",
       "      <td>2016-11-20T00:56:00.000+02:00</td>\n",
       "      <td>Mens Tennis Wants to Crack Down on Tanking. Bu...</td>\n",
       "      <td>98.0</td>\n",
       "      <td>nytimes.com</td>\n",
       "      <td>0.000</td>\n",
       "      <td>Men’s Tennis Wants to Crack Down on Tanking. B...</td>\n",
       "      <td>Not fake</td>\n",
       "      <td>932</td>\n",
       "    </tr>\n",
       "    <tr>\n",
       "      <th>20</th>\n",
       "      <td>Liz Ryan</td>\n",
       "      <td>2016-11-21T05:01:00.000+02:00</td>\n",
       "      <td>There is no question that interviewing for a j...</td>\n",
       "      <td>196.0</td>\n",
       "      <td>forbes.com</td>\n",
       "      <td>0.000</td>\n",
       "      <td>Ten Things Never, Ever To Say Before You're Hired</td>\n",
       "      <td>Not fake</td>\n",
       "      <td>603</td>\n",
       "    </tr>\n",
       "    <tr>\n",
       "      <th>21</th>\n",
       "      <td>Ivan Krastev</td>\n",
       "      <td>2016-11-20T23:46:00.000+02:00</td>\n",
       "      <td>The Opinion Pages | Contributing Op-Ed Writer ...</td>\n",
       "      <td>98.0</td>\n",
       "      <td>nytimes.com</td>\n",
       "      <td>0.213</td>\n",
       "      <td>Donald Trump and the Bieber Doctrine - The New...</td>\n",
       "      <td>Not fake</td>\n",
       "      <td>871</td>\n",
       "    </tr>\n",
       "    <tr>\n",
       "      <th>22</th>\n",
       "      <td>npr.org</td>\n",
       "      <td>2016-11-21T00:09:00.000+02:00</td>\n",
       "      <td>Enlarge this image A Tribe Called Red's latest...</td>\n",
       "      <td>495.0</td>\n",
       "      <td>npr.org</td>\n",
       "      <td>0.000</td>\n",
       "      <td>A Tribe Called Red Breaks Down Its 'Powwow-Ste...</td>\n",
       "      <td>Not fake</td>\n",
       "      <td>331</td>\n",
       "    </tr>\n",
       "    <tr>\n",
       "      <th>23</th>\n",
       "      <td>NaN</td>\n",
       "      <td>2016-11-21T05:19:00.000+02:00</td>\n",
       "      <td>Heng on Democracy in Hong Kong NOV. 20, 2016  ...</td>\n",
       "      <td>98.0</td>\n",
       "      <td>nytimes.com</td>\n",
       "      <td>0.000</td>\n",
       "      <td>Heng on Democracy in Hong Kong</td>\n",
       "      <td>Not fake</td>\n",
       "      <td>56</td>\n",
       "    </tr>\n",
       "    <tr>\n",
       "      <th>24</th>\n",
       "      <td>Sarah Shearman</td>\n",
       "      <td>2016-11-20T18:00:00.000+02:00</td>\n",
       "      <td>Hillary Clinton has not yet revealed whether s...</td>\n",
       "      <td>170.0</td>\n",
       "      <td>theguardian.com</td>\n",
       "      <td>0.000</td>\n",
       "      <td>How to get a job in politics – live chat | Gua...</td>\n",
       "      <td>Not fake</td>\n",
       "      <td>356</td>\n",
       "    </tr>\n",
       "    <tr>\n",
       "      <th>25</th>\n",
       "      <td>npr.org</td>\n",
       "      <td>2016-11-20T16:11:00.000+02:00</td>\n",
       "      <td>President-elect Donald Trump vows his administ...</td>\n",
       "      <td>495.0</td>\n",
       "      <td>npr.org</td>\n",
       "      <td>0.000</td>\n",
       "      <td>U.S. Immigrant Youths Fear Deportation Under T...</td>\n",
       "      <td>Not fake</td>\n",
       "      <td>899</td>\n",
       "    </tr>\n",
       "    <tr>\n",
       "      <th>26</th>\n",
       "      <td>Eli Lake</td>\n",
       "      <td>2016-11-21T00:44:00.000+02:00</td>\n",
       "      <td>Military Why Trump's Washington Loves 'Mad Dog...</td>\n",
       "      <td>356.0</td>\n",
       "      <td>bloomberg.com</td>\n",
       "      <td>0.000</td>\n",
       "      <td>Why Trump's Washington Loves 'Mad Dog' Mattis</td>\n",
       "      <td>Not fake</td>\n",
       "      <td>728</td>\n",
       "    </tr>\n",
       "    <tr>\n",
       "      <th>27</th>\n",
       "      <td>Candace Buckner</td>\n",
       "      <td>2016-11-21T04:44:00.000+02:00</td>\n",
       "      <td>Wizards survey the damage from their poor defe...</td>\n",
       "      <td>177.0</td>\n",
       "      <td>washingtonpost.com</td>\n",
       "      <td>0.000</td>\n",
       "      <td>Wizards survey the damage from their poor defe...</td>\n",
       "      <td>Not fake</td>\n",
       "      <td>659</td>\n",
       "    </tr>\n",
       "    <tr>\n",
       "      <th>28</th>\n",
       "      <td>Meredith Woerner</td>\n",
       "      <td>2016-11-21T05:25:00.000+02:00</td>\n",
       "      <td>Dan Fogler on finding the 'sad clown' in the n...</td>\n",
       "      <td>609.0</td>\n",
       "      <td>latimes.com</td>\n",
       "      <td>0.000</td>\n",
       "      <td>Dan Fogler on finding the 'sad clown' in the n...</td>\n",
       "      <td>Not fake</td>\n",
       "      <td>818</td>\n",
       "    </tr>\n",
       "    <tr>\n",
       "      <th>29</th>\n",
       "      <td>David Ma</td>\n",
       "      <td>2016-11-21T00:57:00.000+02:00</td>\n",
       "      <td>A s reports confirmed Sharon Jones death on Fr...</td>\n",
       "      <td>170.0</td>\n",
       "      <td>theguardian.com</td>\n",
       "      <td>0.000</td>\n",
       "      <td>Sharon Jones: a soul survivor who helped rejuv...</td>\n",
       "      <td>Not fake</td>\n",
       "      <td>467</td>\n",
       "    </tr>\n",
       "    <tr>\n",
       "      <th>...</th>\n",
       "      <td>...</td>\n",
       "      <td>...</td>\n",
       "      <td>...</td>\n",
       "      <td>...</td>\n",
       "      <td>...</td>\n",
       "      <td>...</td>\n",
       "      <td>...</td>\n",
       "      <td>...</td>\n",
       "      <td>...</td>\n",
       "    </tr>\n",
       "    <tr>\n",
       "      <th>34581</th>\n",
       "      <td>Edmondo Burr</td>\n",
       "      <td>2016-11-01T06:01:00.000+02:00</td>\n",
       "      <td>RT.com reports: \\nThe search warrant allows th...</td>\n",
       "      <td>43665.0</td>\n",
       "      <td>yournewswire.com</td>\n",
       "      <td>0.000</td>\n",
       "      <td>FBI To Scour 650k Emails Linked To Private Ser...</td>\n",
       "      <td>fake</td>\n",
       "      <td>556</td>\n",
       "    </tr>\n",
       "    <tr>\n",
       "      <th>34582</th>\n",
       "      <td>Edmondo Burr</td>\n",
       "      <td>2016-11-01T05:57:00.000+02:00</td>\n",
       "      <td>USA Today reports: \\nAoun, 81, is an ally of H...</td>\n",
       "      <td>43665.0</td>\n",
       "      <td>yournewswire.com</td>\n",
       "      <td>0.000</td>\n",
       "      <td>Lebanon Chooses Iran And Hezbollah Ally Michel...</td>\n",
       "      <td>fake</td>\n",
       "      <td>421</td>\n",
       "    </tr>\n",
       "    <tr>\n",
       "      <th>34583</th>\n",
       "      <td>Sean Adl-Tabatabai</td>\n",
       "      <td>2016-11-01T04:19:00.000+02:00</td>\n",
       "      <td>Posted on October 31, 2016 by Sean Adl-Tabatab...</td>\n",
       "      <td>43665.0</td>\n",
       "      <td>yournewswire.com</td>\n",
       "      <td>0.000</td>\n",
       "      <td>FBI Insider: Clinton Emails Linked To Politica...</td>\n",
       "      <td>fake</td>\n",
       "      <td>141</td>\n",
       "    </tr>\n",
       "    <tr>\n",
       "      <th>34584</th>\n",
       "      <td>Edmondo Burr</td>\n",
       "      <td>2016-11-01T04:15:00.000+02:00</td>\n",
       "      <td>Posted on October 31, 2016 by Edmondo Burr in ...</td>\n",
       "      <td>43665.0</td>\n",
       "      <td>yournewswire.com</td>\n",
       "      <td>0.000</td>\n",
       "      <td>Freddy Krueger Escapes Shooting – Injures Five...</td>\n",
       "      <td>fake</td>\n",
       "      <td>381</td>\n",
       "    </tr>\n",
       "    <tr>\n",
       "      <th>34585</th>\n",
       "      <td>Carol Adl</td>\n",
       "      <td>2016-11-01T04:04:00.000+02:00</td>\n",
       "      <td>Posted on October 31, 2016 by Carol Adl in New...</td>\n",
       "      <td>43665.0</td>\n",
       "      <td>yournewswire.com</td>\n",
       "      <td>0.000</td>\n",
       "      <td>UN &amp; Amnesty Investigate Human Rights Violatio...</td>\n",
       "      <td>fake</td>\n",
       "      <td>508</td>\n",
       "    </tr>\n",
       "    <tr>\n",
       "      <th>34586</th>\n",
       "      <td>Edmondo Burr</td>\n",
       "      <td>2016-11-01T18:15:25.323+02:00</td>\n",
       "      <td>Posted on November 1, 2016 by Edmondo Burr in ...</td>\n",
       "      <td>43665.0</td>\n",
       "      <td>yournewswire.com</td>\n",
       "      <td>0.000</td>\n",
       "      <td>Turkish Military Deploy Tanks And Equipment To...</td>\n",
       "      <td>fake</td>\n",
       "      <td>232</td>\n",
       "    </tr>\n",
       "    <tr>\n",
       "      <th>34587</th>\n",
       "      <td>Edmondo Burr</td>\n",
       "      <td>2016-11-01T18:15:25.543+02:00</td>\n",
       "      <td>Sputnik reports: \\nAustralian Prime Minister M...</td>\n",
       "      <td>43665.0</td>\n",
       "      <td>yournewswire.com</td>\n",
       "      <td>0.000</td>\n",
       "      <td>Australia Is Worried Foreign Migrants Are Coming</td>\n",
       "      <td>fake</td>\n",
       "      <td>682</td>\n",
       "    </tr>\n",
       "    <tr>\n",
       "      <th>34588</th>\n",
       "      <td>Carol Adl</td>\n",
       "      <td>2016-11-01T18:15:26.065+02:00</td>\n",
       "      <td>Johnson &amp; Johnson Lose Third Multimillion Doll...</td>\n",
       "      <td>43665.0</td>\n",
       "      <td>yournewswire.com</td>\n",
       "      <td>0.000</td>\n",
       "      <td>Johnson &amp; Johnson Lose Third Multimillion Doll...</td>\n",
       "      <td>fake</td>\n",
       "      <td>502</td>\n",
       "    </tr>\n",
       "    <tr>\n",
       "      <th>34589</th>\n",
       "      <td>Tyler Durden</td>\n",
       "      <td>2016-10-26T21:06:43.751+03:00</td>\n",
       "      <td>Texas County Enacts \"Emergency Paper Ballots...</td>\n",
       "      <td>2435.0</td>\n",
       "      <td>zerohedge.com</td>\n",
       "      <td>0.000</td>\n",
       "      <td>Texas County Enacts \"Emergency Paper Ballots\" ...</td>\n",
       "      <td>fake</td>\n",
       "      <td>384</td>\n",
       "    </tr>\n",
       "    <tr>\n",
       "      <th>34590</th>\n",
       "      <td>Tyler Durden</td>\n",
       "      <td>2016-10-26T21:33:04.557+03:00</td>\n",
       "      <td>Stupid Stuff, Late-2016 Edition by Sprott Mone...</td>\n",
       "      <td>2435.0</td>\n",
       "      <td>zerohedge.com</td>\n",
       "      <td>0.000</td>\n",
       "      <td>Bank of England Asks UK Banks To Detail Their ...</td>\n",
       "      <td>fake</td>\n",
       "      <td>915</td>\n",
       "    </tr>\n",
       "    <tr>\n",
       "      <th>34591</th>\n",
       "      <td>Tyler Durden</td>\n",
       "      <td>2016-10-26T21:38:25.969+03:00</td>\n",
       "      <td>As Calais \"Jungle\" Burns, Refugees Try To St...</td>\n",
       "      <td>2435.0</td>\n",
       "      <td>zerohedge.com</td>\n",
       "      <td>0.000</td>\n",
       "      <td>As Calais \"Jungle\" Burns, Refugees Try To Stor...</td>\n",
       "      <td>fake</td>\n",
       "      <td>964</td>\n",
       "    </tr>\n",
       "    <tr>\n",
       "      <th>34592</th>\n",
       "      <td>Tyler Durden</td>\n",
       "      <td>2016-10-26T22:05:24.968+03:00</td>\n",
       "      <td>Don't Diss The Dark Ages Oct 26, 2016 2:50 P...</td>\n",
       "      <td>2435.0</td>\n",
       "      <td>zerohedge.com</td>\n",
       "      <td>0.000</td>\n",
       "      <td>Don't Diss The Dark Ages</td>\n",
       "      <td>fake</td>\n",
       "      <td>653</td>\n",
       "    </tr>\n",
       "    <tr>\n",
       "      <th>34593</th>\n",
       "      <td>Tyler Durden</td>\n",
       "      <td>2016-10-26T22:55:01.492+03:00</td>\n",
       "      <td>Bitcoin Soars As China Launches Crackdown On...</td>\n",
       "      <td>2435.0</td>\n",
       "      <td>zerohedge.com</td>\n",
       "      <td>0.000</td>\n",
       "      <td>Bitcoin Soars As China Launches Crackdown On W...</td>\n",
       "      <td>fake</td>\n",
       "      <td>750</td>\n",
       "    </tr>\n",
       "    <tr>\n",
       "      <th>34594</th>\n",
       "      <td>Tyler Durden</td>\n",
       "      <td>2016-10-26T22:55:05.171+03:00</td>\n",
       "      <td>Project Veritas 4: Robert Creamer's Illegal ...</td>\n",
       "      <td>2435.0</td>\n",
       "      <td>zerohedge.com</td>\n",
       "      <td>0.000</td>\n",
       "      <td>Project Veritas 4: Robert Creamer's Illegal $2...</td>\n",
       "      <td>fake</td>\n",
       "      <td>630</td>\n",
       "    </tr>\n",
       "    <tr>\n",
       "      <th>34595</th>\n",
       "      <td>Tyler Durden</td>\n",
       "      <td>2016-10-26T23:05:53.362+03:00</td>\n",
       "      <td>Oct 26, 2016 3:52 PM 0 SHARES \\nThe long await...</td>\n",
       "      <td>2435.0</td>\n",
       "      <td>zerohedge.com</td>\n",
       "      <td>0.000</td>\n",
       "      <td>Snapchat To Raise Up To $4 Billion In IPO, Val...</td>\n",
       "      <td>fake</td>\n",
       "      <td>217</td>\n",
       "    </tr>\n",
       "    <tr>\n",
       "      <th>34596</th>\n",
       "      <td>Tyler Durden</td>\n",
       "      <td>2016-10-26T23:06:05.104+03:00</td>\n",
       "      <td>Oct 26, 2016 3:50 PM 0 \\nSubmitted by Claudio ...</td>\n",
       "      <td>2435.0</td>\n",
       "      <td>zerohedge.com</td>\n",
       "      <td>0.000</td>\n",
       "      <td>Love Him Or Hate Him: Trump Is The Revolution ...</td>\n",
       "      <td>fake</td>\n",
       "      <td>2350</td>\n",
       "    </tr>\n",
       "    <tr>\n",
       "      <th>34597</th>\n",
       "      <td>Tyler Durden</td>\n",
       "      <td>2016-10-26T23:25:49.124+03:00</td>\n",
       "      <td>Kaiser Sousa Oct 26, 2016 4:07 PM \\nwhen i awo...</td>\n",
       "      <td>2435.0</td>\n",
       "      <td>zerohedge.com</td>\n",
       "      <td>0.000</td>\n",
       "      <td>Stocks Pump'n'Dump As Crude Crumbles To 3-Week...</td>\n",
       "      <td>fake</td>\n",
       "      <td>436</td>\n",
       "    </tr>\n",
       "    <tr>\n",
       "      <th>34598</th>\n",
       "      <td>NaN</td>\n",
       "      <td>2016-10-26T21:28:00.000+03:00</td>\n",
       "      <td>Oct 26, 2016 4:26 PM 0 SHARES \\nThere was a su...</td>\n",
       "      <td>2435.0</td>\n",
       "      <td>zerohedge.com</td>\n",
       "      <td>0.010</td>\n",
       "      <td>Tesla Earnings Smash Expectations After Dramat...</td>\n",
       "      <td>fake</td>\n",
       "      <td>1007</td>\n",
       "    </tr>\n",
       "    <tr>\n",
       "      <th>34599</th>\n",
       "      <td>Tyler Durden</td>\n",
       "      <td>2016-10-26T23:53:43.161+03:00</td>\n",
       "      <td>The following video is a must watch, particula...</td>\n",
       "      <td>2435.0</td>\n",
       "      <td>zerohedge.com</td>\n",
       "      <td>0.000</td>\n",
       "      <td>Rules For Rulers (Or How The World Really Works)</td>\n",
       "      <td>fake</td>\n",
       "      <td>100</td>\n",
       "    </tr>\n",
       "    <tr>\n",
       "      <th>34600</th>\n",
       "      <td>George Washington</td>\n",
       "      <td>2016-10-26T23:53:49.879+03:00</td>\n",
       "      <td>She explains : \\nHillary Clinton wants to star...</td>\n",
       "      <td>2435.0</td>\n",
       "      <td>zerohedge.com</td>\n",
       "      <td>0.000</td>\n",
       "      <td>Fact Check: Trump Is Right that Clinton Might ...</td>\n",
       "      <td>fake</td>\n",
       "      <td>1336</td>\n",
       "    </tr>\n",
       "    <tr>\n",
       "      <th>34601</th>\n",
       "      <td>Tyler Durden</td>\n",
       "      <td>2016-10-27T00:20:00.111+03:00</td>\n",
       "      <td>YHC-FTSE Oct 26, 2016 5:14 PM \\nWould have bee...</td>\n",
       "      <td>2435.0</td>\n",
       "      <td>zerohedge.com</td>\n",
       "      <td>0.000</td>\n",
       "      <td>Caught On Tape: ISIS Destroys Iraqi Abrams Wit...</td>\n",
       "      <td>fake</td>\n",
       "      <td>270</td>\n",
       "    </tr>\n",
       "    <tr>\n",
       "      <th>34602</th>\n",
       "      <td>Tyler Durden</td>\n",
       "      <td>2016-10-27T00:35:58.174+03:00</td>\n",
       "      <td>Oct 26, 2016 5:20 PM 0 \\nSubmitted by Joseph J...</td>\n",
       "      <td>2435.0</td>\n",
       "      <td>zerohedge.com</td>\n",
       "      <td>0.000</td>\n",
       "      <td>ObamaCare Architect Admits \"The Law Is Working...</td>\n",
       "      <td>fake</td>\n",
       "      <td>391</td>\n",
       "    </tr>\n",
       "    <tr>\n",
       "      <th>34603</th>\n",
       "      <td>YHC-FTSE</td>\n",
       "      <td>2016-10-27T00:37:43.296+03:00</td>\n",
       "      <td>Would have been more ironic if that had been a...</td>\n",
       "      <td>2435.0</td>\n",
       "      <td>zerohedge.com</td>\n",
       "      <td>0.000</td>\n",
       "      <td>NaN</td>\n",
       "      <td>fake</td>\n",
       "      <td>54</td>\n",
       "    </tr>\n",
       "    <tr>\n",
       "      <th>34604</th>\n",
       "      <td>cowdiddly</td>\n",
       "      <td>2016-10-27T00:37:43.303+03:00</td>\n",
       "      <td>Those Abrams tanks have been cooking off like ...</td>\n",
       "      <td>2435.0</td>\n",
       "      <td>zerohedge.com</td>\n",
       "      <td>0.000</td>\n",
       "      <td>NaN</td>\n",
       "      <td>fake</td>\n",
       "      <td>146</td>\n",
       "    </tr>\n",
       "    <tr>\n",
       "      <th>34605</th>\n",
       "      <td>Jethro</td>\n",
       "      <td>2016-10-27T00:37:43.325+03:00</td>\n",
       "      <td>Lots of T-72 convertibles in Iraq alone. \\nHon...</td>\n",
       "      <td>2435.0</td>\n",
       "      <td>zerohedge.com</td>\n",
       "      <td>0.000</td>\n",
       "      <td>NaN</td>\n",
       "      <td>fake</td>\n",
       "      <td>53</td>\n",
       "    </tr>\n",
       "    <tr>\n",
       "      <th>34606</th>\n",
       "      <td>GoldRulesPaperDrools</td>\n",
       "      <td>2016-10-27T00:37:43.344+03:00</td>\n",
       "      <td>While we (the U.S. gov't) have been spending m...</td>\n",
       "      <td>2435.0</td>\n",
       "      <td>zerohedge.com</td>\n",
       "      <td>0.000</td>\n",
       "      <td>NaN</td>\n",
       "      <td>fake</td>\n",
       "      <td>70</td>\n",
       "    </tr>\n",
       "    <tr>\n",
       "      <th>34607</th>\n",
       "      <td>Ecclesia Militans</td>\n",
       "      <td>2016-10-27T00:37:44.612+03:00</td>\n",
       "      <td>All this non-GAAP activity should be disclosed...</td>\n",
       "      <td>2435.0</td>\n",
       "      <td>zerohedge.com</td>\n",
       "      <td>0.000</td>\n",
       "      <td>NaN</td>\n",
       "      <td>fake</td>\n",
       "      <td>79</td>\n",
       "    </tr>\n",
       "    <tr>\n",
       "      <th>34608</th>\n",
       "      <td>Kaiser Sousa</td>\n",
       "      <td>2016-10-27T00:07:00.000+03:00</td>\n",
       "      <td>when i awoke this morning the Dow Jones Propag...</td>\n",
       "      <td>2435.0</td>\n",
       "      <td>zerohedge.com</td>\n",
       "      <td>0.000</td>\n",
       "      <td>NaN</td>\n",
       "      <td>fake</td>\n",
       "      <td>430</td>\n",
       "    </tr>\n",
       "    <tr>\n",
       "      <th>34609</th>\n",
       "      <td>Keltner Channel Surf</td>\n",
       "      <td>2016-10-27T00:15:00.000+03:00</td>\n",
       "      <td>Technical explanations are out of favor, so he...</td>\n",
       "      <td>2435.0</td>\n",
       "      <td>zerohedge.com</td>\n",
       "      <td>0.000</td>\n",
       "      <td>NaN</td>\n",
       "      <td>fake</td>\n",
       "      <td>128</td>\n",
       "    </tr>\n",
       "    <tr>\n",
       "      <th>34610</th>\n",
       "      <td>Keltner Channel Surf</td>\n",
       "      <td>2016-10-27T00:30:00.000+03:00</td>\n",
       "      <td>The weekly Wednesday Oil follies from 10:20 (s...</td>\n",
       "      <td>2435.0</td>\n",
       "      <td>zerohedge.com</td>\n",
       "      <td>0.000</td>\n",
       "      <td>NaN</td>\n",
       "      <td>fake</td>\n",
       "      <td>104</td>\n",
       "    </tr>\n",
       "  </tbody>\n",
       "</table>\n",
       "<p>34611 rows × 9 columns</p>\n",
       "</div>"
      ],
      "text/plain": [
       "                                                  author  \\\n",
       "0                                          SAM TANENHAUS   \n",
       "1                                                    NaN   \n",
       "2                                        Kathleen Elkins   \n",
       "3                                            JEFF SOMMER   \n",
       "4                                      James Rufus Koren   \n",
       "5                                           ROSS DOUTHAT   \n",
       "6                                                    NaN   \n",
       "7                                         JOE COSCARELLI   \n",
       "8                                       Catherine Osborn   \n",
       "9                                                    cnn   \n",
       "10                                        KEN JAWOROWSKI   \n",
       "11                                                   NaN   \n",
       "12     James Fallows Nov 15, 2016 How Casinos Enable ...   \n",
       "13                                                   NaN   \n",
       "14                                          Roman Stubbs   \n",
       "15                                      David Folkenflik   \n",
       "16                                          Steph Harmon   \n",
       "17                             CHRISTINE LAGORIO-CHAFKIN   \n",
       "18                                          Kim Willsher   \n",
       "19                                        DOUGLAS ROBSON   \n",
       "20                                              Liz Ryan   \n",
       "21                                          Ivan Krastev   \n",
       "22                                               npr.org   \n",
       "23                                                   NaN   \n",
       "24                                        Sarah Shearman   \n",
       "25                                               npr.org   \n",
       "26                                              Eli Lake   \n",
       "27                                       Candace Buckner   \n",
       "28                                      Meredith Woerner   \n",
       "29                                              David Ma   \n",
       "...                                                  ...   \n",
       "34581                                       Edmondo Burr   \n",
       "34582                                       Edmondo Burr   \n",
       "34583                                 Sean Adl-Tabatabai   \n",
       "34584                                       Edmondo Burr   \n",
       "34585                                          Carol Adl   \n",
       "34586                                       Edmondo Burr   \n",
       "34587                                       Edmondo Burr   \n",
       "34588                                          Carol Adl   \n",
       "34589                                       Tyler Durden   \n",
       "34590                                       Tyler Durden   \n",
       "34591                                       Tyler Durden   \n",
       "34592                                       Tyler Durden   \n",
       "34593                                       Tyler Durden   \n",
       "34594                                       Tyler Durden   \n",
       "34595                                       Tyler Durden   \n",
       "34596                                       Tyler Durden   \n",
       "34597                                       Tyler Durden   \n",
       "34598                                                NaN   \n",
       "34599                                       Tyler Durden   \n",
       "34600                                  George Washington   \n",
       "34601                                       Tyler Durden   \n",
       "34602                                       Tyler Durden   \n",
       "34603                                           YHC-FTSE   \n",
       "34604                                          cowdiddly   \n",
       "34605                                             Jethro   \n",
       "34606                               GoldRulesPaperDrools   \n",
       "34607                                  Ecclesia Militans   \n",
       "34608                                       Kaiser Sousa   \n",
       "34609                               Keltner Channel Surf   \n",
       "34610                               Keltner Channel Surf   \n",
       "\n",
       "                           published  \\\n",
       "0      2016-11-20T03:51:00.000+02:00   \n",
       "1      2016-11-20T00:52:00.000+02:00   \n",
       "2      2016-11-20T06:18:00.000+02:00   \n",
       "3      2016-11-20T00:04:00.000+02:00   \n",
       "4      2016-11-20T02:42:00.000+02:00   \n",
       "5      2016-11-20T02:30:00.000+02:00   \n",
       "6      2016-11-20T03:09:00.000+02:00   \n",
       "7      2016-11-21T02:51:00.000+02:00   \n",
       "8      2016-11-21T05:09:00.000+02:00   \n",
       "9      2016-11-20T02:00:00.000+02:00   \n",
       "10     2016-11-21T05:50:00.000+02:00   \n",
       "11     2016-11-21T05:27:00.000+02:00   \n",
       "12     2016-11-20T11:50:00.000+02:00   \n",
       "13     2016-11-21T01:44:00.000+02:00   \n",
       "14     2016-11-20T00:06:00.000+02:00   \n",
       "15     2016-11-20T05:21:00.000+02:00   \n",
       "16     2016-11-20T05:06:00.000+02:00   \n",
       "17     2016-11-20T02:55:00.000+02:00   \n",
       "18     2016-11-20T03:14:00.000+02:00   \n",
       "19     2016-11-20T00:56:00.000+02:00   \n",
       "20     2016-11-21T05:01:00.000+02:00   \n",
       "21     2016-11-20T23:46:00.000+02:00   \n",
       "22     2016-11-21T00:09:00.000+02:00   \n",
       "23     2016-11-21T05:19:00.000+02:00   \n",
       "24     2016-11-20T18:00:00.000+02:00   \n",
       "25     2016-11-20T16:11:00.000+02:00   \n",
       "26     2016-11-21T00:44:00.000+02:00   \n",
       "27     2016-11-21T04:44:00.000+02:00   \n",
       "28     2016-11-21T05:25:00.000+02:00   \n",
       "29     2016-11-21T00:57:00.000+02:00   \n",
       "...                              ...   \n",
       "34581  2016-11-01T06:01:00.000+02:00   \n",
       "34582  2016-11-01T05:57:00.000+02:00   \n",
       "34583  2016-11-01T04:19:00.000+02:00   \n",
       "34584  2016-11-01T04:15:00.000+02:00   \n",
       "34585  2016-11-01T04:04:00.000+02:00   \n",
       "34586  2016-11-01T18:15:25.323+02:00   \n",
       "34587  2016-11-01T18:15:25.543+02:00   \n",
       "34588  2016-11-01T18:15:26.065+02:00   \n",
       "34589  2016-10-26T21:06:43.751+03:00   \n",
       "34590  2016-10-26T21:33:04.557+03:00   \n",
       "34591  2016-10-26T21:38:25.969+03:00   \n",
       "34592  2016-10-26T22:05:24.968+03:00   \n",
       "34593  2016-10-26T22:55:01.492+03:00   \n",
       "34594  2016-10-26T22:55:05.171+03:00   \n",
       "34595  2016-10-26T23:05:53.362+03:00   \n",
       "34596  2016-10-26T23:06:05.104+03:00   \n",
       "34597  2016-10-26T23:25:49.124+03:00   \n",
       "34598  2016-10-26T21:28:00.000+03:00   \n",
       "34599  2016-10-26T23:53:43.161+03:00   \n",
       "34600  2016-10-26T23:53:49.879+03:00   \n",
       "34601  2016-10-27T00:20:00.111+03:00   \n",
       "34602  2016-10-27T00:35:58.174+03:00   \n",
       "34603  2016-10-27T00:37:43.296+03:00   \n",
       "34604  2016-10-27T00:37:43.303+03:00   \n",
       "34605  2016-10-27T00:37:43.325+03:00   \n",
       "34606  2016-10-27T00:37:43.344+03:00   \n",
       "34607  2016-10-27T00:37:44.612+03:00   \n",
       "34608  2016-10-27T00:07:00.000+03:00   \n",
       "34609  2016-10-27T00:15:00.000+03:00   \n",
       "34610  2016-10-27T00:30:00.000+03:00   \n",
       "\n",
       "                                                    text  domain_rank  \\\n",
       "0      Privacy Policy Eisenhowers two terms bore this...         98.0   \n",
       "1         Can Trump Save Their Jobs?  by Nelson D. Sc...         98.0   \n",
       "2      Tuesday, 18 Oct 2016 | 10:25 AM ET CNBC.com Ed...        767.0   \n",
       "3      Continue reading the main story Yet it is poss...         98.0   \n",
       "4      Wells Fargo hit with new sanctions following f...        609.0   \n",
       "5      Privacy Policy But liberal societies have alwa...         98.0   \n",
       "6      Let friends in your social network know what y...        313.0   \n",
       "7      Privacy Policy A lot of people here tonight fe...         98.0   \n",
       "8      Young Barbers In Brazil Are Cutting Away From ...        495.0   \n",
       "9      A passenger train goes off the track near the ...         81.0   \n",
       "10       Photo From left, Lily Dorment, Sarah Street ...         98.0   \n",
       "11     Deutsche Banks Achleitner Said to Have Backing...        356.0   \n",
       "12     All signs seem to point to a budding bromance ...        918.0   \n",
       "13     Let friends in your social network know what y...        313.0   \n",
       "14     With Perry Hills out, Maryland freshman QB Max...        177.0   \n",
       "15     Mark Zuckerberg Addresses Fake News On Faceboo...        495.0   \n",
       "16     In the fourth episode of Seinfelds ninth seaso...        170.0   \n",
       "17     Reddit and the God Emperor of the Internet By ...         98.0   \n",
       "18     Too old? Never! Alain Jupps home city rallies ...        170.0   \n",
       "19     Mens Tennis Wants to Crack Down on Tanking. Bu...         98.0   \n",
       "20     There is no question that interviewing for a j...        196.0   \n",
       "21     The Opinion Pages | Contributing Op-Ed Writer ...         98.0   \n",
       "22     Enlarge this image A Tribe Called Red's latest...        495.0   \n",
       "23     Heng on Democracy in Hong Kong NOV. 20, 2016  ...         98.0   \n",
       "24     Hillary Clinton has not yet revealed whether s...        170.0   \n",
       "25     President-elect Donald Trump vows his administ...        495.0   \n",
       "26     Military Why Trump's Washington Loves 'Mad Dog...        356.0   \n",
       "27     Wizards survey the damage from their poor defe...        177.0   \n",
       "28     Dan Fogler on finding the 'sad clown' in the n...        609.0   \n",
       "29     A s reports confirmed Sharon Jones death on Fr...        170.0   \n",
       "...                                                  ...          ...   \n",
       "34581  RT.com reports: \\nThe search warrant allows th...      43665.0   \n",
       "34582  USA Today reports: \\nAoun, 81, is an ally of H...      43665.0   \n",
       "34583  Posted on October 31, 2016 by Sean Adl-Tabatab...      43665.0   \n",
       "34584  Posted on October 31, 2016 by Edmondo Burr in ...      43665.0   \n",
       "34585  Posted on October 31, 2016 by Carol Adl in New...      43665.0   \n",
       "34586  Posted on November 1, 2016 by Edmondo Burr in ...      43665.0   \n",
       "34587  Sputnik reports: \\nAustralian Prime Minister M...      43665.0   \n",
       "34588  Johnson & Johnson Lose Third Multimillion Doll...      43665.0   \n",
       "34589    Texas County Enacts \"Emergency Paper Ballots...       2435.0   \n",
       "34590  Stupid Stuff, Late-2016 Edition by Sprott Mone...       2435.0   \n",
       "34591    As Calais \"Jungle\" Burns, Refugees Try To St...       2435.0   \n",
       "34592    Don't Diss The Dark Ages Oct 26, 2016 2:50 P...       2435.0   \n",
       "34593    Bitcoin Soars As China Launches Crackdown On...       2435.0   \n",
       "34594    Project Veritas 4: Robert Creamer's Illegal ...       2435.0   \n",
       "34595  Oct 26, 2016 3:52 PM 0 SHARES \\nThe long await...       2435.0   \n",
       "34596  Oct 26, 2016 3:50 PM 0 \\nSubmitted by Claudio ...       2435.0   \n",
       "34597  Kaiser Sousa Oct 26, 2016 4:07 PM \\nwhen i awo...       2435.0   \n",
       "34598  Oct 26, 2016 4:26 PM 0 SHARES \\nThere was a su...       2435.0   \n",
       "34599  The following video is a must watch, particula...       2435.0   \n",
       "34600  She explains : \\nHillary Clinton wants to star...       2435.0   \n",
       "34601  YHC-FTSE Oct 26, 2016 5:14 PM \\nWould have bee...       2435.0   \n",
       "34602  Oct 26, 2016 5:20 PM 0 \\nSubmitted by Joseph J...       2435.0   \n",
       "34603  Would have been more ironic if that had been a...       2435.0   \n",
       "34604  Those Abrams tanks have been cooking off like ...       2435.0   \n",
       "34605  Lots of T-72 convertibles in Iraq alone. \\nHon...       2435.0   \n",
       "34606  While we (the U.S. gov't) have been spending m...       2435.0   \n",
       "34607  All this non-GAAP activity should be disclosed...       2435.0   \n",
       "34608  when i awoke this morning the Dow Jones Propag...       2435.0   \n",
       "34609  Technical explanations are out of favor, so he...       2435.0   \n",
       "34610  The weekly Wednesday Oil follies from 10:20 (s...       2435.0   \n",
       "\n",
       "                 site_url  spam_score  \\\n",
       "0             nytimes.com       0.000   \n",
       "1             nytimes.com       0.000   \n",
       "2                cnbc.com       0.008   \n",
       "3             nytimes.com       0.000   \n",
       "4             latimes.com       0.264   \n",
       "5             nytimes.com       0.000   \n",
       "6            usatoday.com       0.000   \n",
       "7             nytimes.com       0.000   \n",
       "8                 npr.org       0.000   \n",
       "9                 cnn.com       0.079   \n",
       "10            nytimes.com       0.000   \n",
       "11          bloomberg.com       0.000   \n",
       "12        theatlantic.com       0.000   \n",
       "13           usatoday.com       0.000   \n",
       "14     washingtonpost.com       0.000   \n",
       "15                npr.org       0.000   \n",
       "16        theguardian.com       0.000   \n",
       "17            nytimes.com       0.000   \n",
       "18        theguardian.com       0.199   \n",
       "19            nytimes.com       0.000   \n",
       "20             forbes.com       0.000   \n",
       "21            nytimes.com       0.213   \n",
       "22                npr.org       0.000   \n",
       "23            nytimes.com       0.000   \n",
       "24        theguardian.com       0.000   \n",
       "25                npr.org       0.000   \n",
       "26          bloomberg.com       0.000   \n",
       "27     washingtonpost.com       0.000   \n",
       "28            latimes.com       0.000   \n",
       "29        theguardian.com       0.000   \n",
       "...                   ...         ...   \n",
       "34581    yournewswire.com       0.000   \n",
       "34582    yournewswire.com       0.000   \n",
       "34583    yournewswire.com       0.000   \n",
       "34584    yournewswire.com       0.000   \n",
       "34585    yournewswire.com       0.000   \n",
       "34586    yournewswire.com       0.000   \n",
       "34587    yournewswire.com       0.000   \n",
       "34588    yournewswire.com       0.000   \n",
       "34589       zerohedge.com       0.000   \n",
       "34590       zerohedge.com       0.000   \n",
       "34591       zerohedge.com       0.000   \n",
       "34592       zerohedge.com       0.000   \n",
       "34593       zerohedge.com       0.000   \n",
       "34594       zerohedge.com       0.000   \n",
       "34595       zerohedge.com       0.000   \n",
       "34596       zerohedge.com       0.000   \n",
       "34597       zerohedge.com       0.000   \n",
       "34598       zerohedge.com       0.010   \n",
       "34599       zerohedge.com       0.000   \n",
       "34600       zerohedge.com       0.000   \n",
       "34601       zerohedge.com       0.000   \n",
       "34602       zerohedge.com       0.000   \n",
       "34603       zerohedge.com       0.000   \n",
       "34604       zerohedge.com       0.000   \n",
       "34605       zerohedge.com       0.000   \n",
       "34606       zerohedge.com       0.000   \n",
       "34607       zerohedge.com       0.000   \n",
       "34608       zerohedge.com       0.000   \n",
       "34609       zerohedge.com       0.000   \n",
       "34610       zerohedge.com       0.000   \n",
       "\n",
       "                                                   title  response  length  \n",
       "0           Opinion: Donald Trump’s Art of the New Deal?  Not fake     949  \n",
       "1                              Carrier Workers for Trump  Not fake     372  \n",
       "2      Tennis star Caroline Wozniacki shares the mone...  Not fake     386  \n",
       "3      Strategies: It’s Not Just the White House. Cha...  Not fake    1005  \n",
       "4      Wells Fargo hit with new sanctions following f...  Not fake     809  \n",
       "5                              The Crisis for Liberalism  Not fake     529  \n",
       "6      Joe Thomas Sr., 55, makes history as oldest pl...  Not fake     339  \n",
       "7      Kanye West Calls Out Beyoncé and Praises Trump...  Not fake     340  \n",
       "8      Young Barbers In Brazil Are Cutting Away From ...  Not fake      57  \n",
       "9                        Train derails in Northern India  Not fake      55  \n",
       "10     Review: Innocuous Remarks Double as Cutting Co...  Not fake     482  \n",
       "11     Deutsche Bank's Achleitner Said to Have Backin...  Not fake     265  \n",
       "12           Can America and Russia Both Be Great Again?  Not fake     162  \n",
       "13             Russians explain what Trump means to them  Not fake     135  \n",
       "14     With Perry Hills out, Maryland freshman QB Max...  Not fake     332  \n",
       "15       Mark Zuckerberg Addresses Fake News On Facebook  Not fake    1032  \n",
       "16     You must be joking: Seinfeld ticket frenzy hig...  Not fake    2503  \n",
       "17     Opinion: Reddit and the God Emperor of the Int...  Not fake    1443  \n",
       "18     ‘Too old? Never!’ Alain Juppé’s home city rall...  Not fake    1559  \n",
       "19     Men’s Tennis Wants to Crack Down on Tanking. B...  Not fake     932  \n",
       "20     Ten Things Never, Ever To Say Before You're Hired  Not fake     603  \n",
       "21     Donald Trump and the Bieber Doctrine - The New...  Not fake     871  \n",
       "22     A Tribe Called Red Breaks Down Its 'Powwow-Ste...  Not fake     331  \n",
       "23                        Heng on Democracy in Hong Kong  Not fake      56  \n",
       "24     How to get a job in politics – live chat | Gua...  Not fake     356  \n",
       "25     U.S. Immigrant Youths Fear Deportation Under T...  Not fake     899  \n",
       "26         Why Trump's Washington Loves 'Mad Dog' Mattis  Not fake     728  \n",
       "27     Wizards survey the damage from their poor defe...  Not fake     659  \n",
       "28     Dan Fogler on finding the 'sad clown' in the n...  Not fake     818  \n",
       "29     Sharon Jones: a soul survivor who helped rejuv...  Not fake     467  \n",
       "...                                                  ...       ...     ...  \n",
       "34581  FBI To Scour 650k Emails Linked To Private Ser...      fake     556  \n",
       "34582  Lebanon Chooses Iran And Hezbollah Ally Michel...      fake     421  \n",
       "34583  FBI Insider: Clinton Emails Linked To Politica...      fake     141  \n",
       "34584  Freddy Krueger Escapes Shooting – Injures Five...      fake     381  \n",
       "34585  UN & Amnesty Investigate Human Rights Violatio...      fake     508  \n",
       "34586  Turkish Military Deploy Tanks And Equipment To...      fake     232  \n",
       "34587   Australia Is Worried Foreign Migrants Are Coming      fake     682  \n",
       "34588  Johnson & Johnson Lose Third Multimillion Doll...      fake     502  \n",
       "34589  Texas County Enacts \"Emergency Paper Ballots\" ...      fake     384  \n",
       "34590  Bank of England Asks UK Banks To Detail Their ...      fake     915  \n",
       "34591  As Calais \"Jungle\" Burns, Refugees Try To Stor...      fake     964  \n",
       "34592                           Don't Diss The Dark Ages      fake     653  \n",
       "34593  Bitcoin Soars As China Launches Crackdown On W...      fake     750  \n",
       "34594  Project Veritas 4: Robert Creamer's Illegal $2...      fake     630  \n",
       "34595  Snapchat To Raise Up To $4 Billion In IPO, Val...      fake     217  \n",
       "34596  Love Him Or Hate Him: Trump Is The Revolution ...      fake    2350  \n",
       "34597  Stocks Pump'n'Dump As Crude Crumbles To 3-Week...      fake     436  \n",
       "34598  Tesla Earnings Smash Expectations After Dramat...      fake    1007  \n",
       "34599   Rules For Rulers (Or How The World Really Works)      fake     100  \n",
       "34600  Fact Check: Trump Is Right that Clinton Might ...      fake    1336  \n",
       "34601  Caught On Tape: ISIS Destroys Iraqi Abrams Wit...      fake     270  \n",
       "34602  ObamaCare Architect Admits \"The Law Is Working...      fake     391  \n",
       "34603                                                NaN      fake      54  \n",
       "34604                                                NaN      fake     146  \n",
       "34605                                                NaN      fake      53  \n",
       "34606                                                NaN      fake      70  \n",
       "34607                                                NaN      fake      79  \n",
       "34608                                                NaN      fake     430  \n",
       "34609                                                NaN      fake     128  \n",
       "34610                                                NaN      fake     104  \n",
       "\n",
       "[34611 rows x 9 columns]"
      ]
     },
     "execution_count": 149,
     "metadata": {},
     "output_type": "execute_result"
    }
   ],
   "source": [
    "clean_final = pd.read_csv(\"clean_final_news.csv\", encoding = \"utf8\", index_col = 0)\n",
    "clean_final = clean_final.reset_index()\n",
    "clean_final.drop(['index'], 1, inplace=True)\n",
    "clean_final"
   ]
  },
  {
   "cell_type": "code",
   "execution_count": 150,
   "metadata": {
    "collapsed": true
   },
   "outputs": [],
   "source": [
    "clean_final['binary_response'] = np.where(clean_final['response'] == 'Not fake', 0 , 1) "
   ]
  },
  {
   "cell_type": "code",
   "execution_count": 151,
   "metadata": {},
   "outputs": [
    {
     "data": {
      "text/html": [
       "<div>\n",
       "<style>\n",
       "    .dataframe thead tr:only-child th {\n",
       "        text-align: right;\n",
       "    }\n",
       "\n",
       "    .dataframe thead th {\n",
       "        text-align: left;\n",
       "    }\n",
       "\n",
       "    .dataframe tbody tr th {\n",
       "        vertical-align: top;\n",
       "    }\n",
       "</style>\n",
       "<table border=\"1\" class=\"dataframe\">\n",
       "  <thead>\n",
       "    <tr style=\"text-align: right;\">\n",
       "      <th></th>\n",
       "      <th>author</th>\n",
       "      <th>published</th>\n",
       "      <th>text</th>\n",
       "      <th>domain_rank</th>\n",
       "      <th>site_url</th>\n",
       "      <th>spam_score</th>\n",
       "      <th>title</th>\n",
       "      <th>response</th>\n",
       "      <th>length</th>\n",
       "      <th>binary_response</th>\n",
       "    </tr>\n",
       "  </thead>\n",
       "  <tbody>\n",
       "    <tr>\n",
       "      <th>34606</th>\n",
       "      <td>GoldRulesPaperDrools</td>\n",
       "      <td>2016-10-27T00:37:43.344+03:00</td>\n",
       "      <td>While we (the U.S. gov't) have been spending m...</td>\n",
       "      <td>2435.0</td>\n",
       "      <td>zerohedge.com</td>\n",
       "      <td>0.0</td>\n",
       "      <td>NaN</td>\n",
       "      <td>fake</td>\n",
       "      <td>70</td>\n",
       "      <td>1</td>\n",
       "    </tr>\n",
       "    <tr>\n",
       "      <th>34607</th>\n",
       "      <td>Ecclesia Militans</td>\n",
       "      <td>2016-10-27T00:37:44.612+03:00</td>\n",
       "      <td>All this non-GAAP activity should be disclosed...</td>\n",
       "      <td>2435.0</td>\n",
       "      <td>zerohedge.com</td>\n",
       "      <td>0.0</td>\n",
       "      <td>NaN</td>\n",
       "      <td>fake</td>\n",
       "      <td>79</td>\n",
       "      <td>1</td>\n",
       "    </tr>\n",
       "    <tr>\n",
       "      <th>34608</th>\n",
       "      <td>Kaiser Sousa</td>\n",
       "      <td>2016-10-27T00:07:00.000+03:00</td>\n",
       "      <td>when i awoke this morning the Dow Jones Propag...</td>\n",
       "      <td>2435.0</td>\n",
       "      <td>zerohedge.com</td>\n",
       "      <td>0.0</td>\n",
       "      <td>NaN</td>\n",
       "      <td>fake</td>\n",
       "      <td>430</td>\n",
       "      <td>1</td>\n",
       "    </tr>\n",
       "    <tr>\n",
       "      <th>34609</th>\n",
       "      <td>Keltner Channel Surf</td>\n",
       "      <td>2016-10-27T00:15:00.000+03:00</td>\n",
       "      <td>Technical explanations are out of favor, so he...</td>\n",
       "      <td>2435.0</td>\n",
       "      <td>zerohedge.com</td>\n",
       "      <td>0.0</td>\n",
       "      <td>NaN</td>\n",
       "      <td>fake</td>\n",
       "      <td>128</td>\n",
       "      <td>1</td>\n",
       "    </tr>\n",
       "    <tr>\n",
       "      <th>34610</th>\n",
       "      <td>Keltner Channel Surf</td>\n",
       "      <td>2016-10-27T00:30:00.000+03:00</td>\n",
       "      <td>The weekly Wednesday Oil follies from 10:20 (s...</td>\n",
       "      <td>2435.0</td>\n",
       "      <td>zerohedge.com</td>\n",
       "      <td>0.0</td>\n",
       "      <td>NaN</td>\n",
       "      <td>fake</td>\n",
       "      <td>104</td>\n",
       "      <td>1</td>\n",
       "    </tr>\n",
       "  </tbody>\n",
       "</table>\n",
       "</div>"
      ],
      "text/plain": [
       "                     author                      published  \\\n",
       "34606  GoldRulesPaperDrools  2016-10-27T00:37:43.344+03:00   \n",
       "34607     Ecclesia Militans  2016-10-27T00:37:44.612+03:00   \n",
       "34608          Kaiser Sousa  2016-10-27T00:07:00.000+03:00   \n",
       "34609  Keltner Channel Surf  2016-10-27T00:15:00.000+03:00   \n",
       "34610  Keltner Channel Surf  2016-10-27T00:30:00.000+03:00   \n",
       "\n",
       "                                                    text  domain_rank  \\\n",
       "34606  While we (the U.S. gov't) have been spending m...       2435.0   \n",
       "34607  All this non-GAAP activity should be disclosed...       2435.0   \n",
       "34608  when i awoke this morning the Dow Jones Propag...       2435.0   \n",
       "34609  Technical explanations are out of favor, so he...       2435.0   \n",
       "34610  The weekly Wednesday Oil follies from 10:20 (s...       2435.0   \n",
       "\n",
       "            site_url  spam_score title response  length  binary_response  \n",
       "34606  zerohedge.com         0.0   NaN     fake      70                1  \n",
       "34607  zerohedge.com         0.0   NaN     fake      79                1  \n",
       "34608  zerohedge.com         0.0   NaN     fake     430                1  \n",
       "34609  zerohedge.com         0.0   NaN     fake     128                1  \n",
       "34610  zerohedge.com         0.0   NaN     fake     104                1  "
      ]
     },
     "execution_count": 151,
     "metadata": {},
     "output_type": "execute_result"
    }
   ],
   "source": [
    "clean_final.tail()"
   ]
  },
  {
   "cell_type": "code",
   "execution_count": 152,
   "metadata": {},
   "outputs": [
    {
     "data": {
      "text/plain": [
       "\"Let friends in your social network know what you are reading about Facebook Email Joe Thomas Sr., 55, makes history as oldest player in Division I football Joe Thomas Sr. is 55 years old. He wanted to make history as the oldest player in college football history. Appearing for South Carolina State, the running back did by carrying for three yards. Post to Facebook Joe Thomas Sr., 55, makes history as oldest player in Division I football Joe Thomas Sr. is 55 years old. He wanted to make history as the oldest player in college football history. Appearing for South Carolina State, the running back did by carrying for three yards. Check out this story on USATODAY.com: http://usat.ly/2g8FHhN Cancel Send A link has been sent to your friend's email address. Posted! A link has been posted to your Facebook feed. Join the Nation's Conversation To find out more about Facebook commenting please read the Conversation Guidelines and FAQs Joe Thomas Sr., 55, makes history as oldest player in Division I football USA TODAY 3:09 p.m. EST November 19, 2016 Joe Thomas made history by appearing in a game at the age of 55. (Photo: Ron Chenoy, USA TODAY Sports) \\nJoe Thomas Sr. made college football history by appearing as a running back for South Carolina State. \\nThomas at the age of 55 is believed to be the oldest player to participate in a Division I football game. The father of Green Bay Packers linebacker Joe Thomas Jr., practiced with the team with his son and then stayed on the past two seasons with the hope of find his way into a game. \\nHis dream was realized in the first quarter on senior day against Savannah State when he carried for three yards. Joe Thomas Sr., 55, sees action at RB for S.C. State vs. Savannah St. (Bulldogs up 6-0 1Q) 3-yard gain! @postandcourier  Gene Sapakoff (@Sapakoff) November 19, 2016 Breaking: 55-year-old Joe Thomas Sr becomes oldest DI football player after rushing for 3 yds for @SCStateAthletic . @wachfox pic.twitter.com/eyoSMpZDBK\""
      ]
     },
     "execution_count": 152,
     "metadata": {},
     "output_type": "execute_result"
    }
   ],
   "source": [
    "clean_final.text[6]"
   ]
  },
  {
   "cell_type": "code",
   "execution_count": 153,
   "metadata": {},
   "outputs": [
    {
     "data": {
      "text/plain": [
       "(34611, 10)"
      ]
     },
     "execution_count": 153,
     "metadata": {},
     "output_type": "execute_result"
    }
   ],
   "source": [
    "clean_final.shape"
   ]
  },
  {
   "cell_type": "code",
   "execution_count": 154,
   "metadata": {},
   "outputs": [
    {
     "data": {
      "text/plain": [
       "34611"
      ]
     },
     "execution_count": 154,
     "metadata": {},
     "output_type": "execute_result"
    }
   ],
   "source": [
    "len(x_text)"
   ]
  },
  {
   "cell_type": "code",
   "execution_count": 155,
   "metadata": {
    "collapsed": true
   },
   "outputs": [],
   "source": [
    "# Update puncuation list in spacy\n",
    "nlp.vocab[\"$\"].is_punct = True\n",
    "nlp.vocab[\"|\"].is_punct = True\n",
    "nlp.vocab[\"+\"].is_punct = True\n",
    "nlp.vocab[\"<\"].is_punct = True\n",
    "nlp.vocab[\">\"].is_punct = True\n",
    "nlp.vocab[\"=\"].is_punct = True\n",
    "nlp.vocab[\"^\"].is_punct = True\n",
    "nlp.vocab[\"`\"].is_punct = True\n",
    "nlp.vocab[\"~\"].is_punct = True"
   ]
  },
  {
   "cell_type": "markdown",
   "metadata": {},
   "source": [
    "# Pre-processing"
   ]
  },
  {
   "cell_type": "code",
   "execution_count": 156,
   "metadata": {
    "collapsed": true
   },
   "outputs": [],
   "source": [
    "# Convert text and response to array \n",
    "x_text = clean_final.text.values\n",
    "y_response = clean_final.binary_response.values"
   ]
  },
  {
   "cell_type": "code",
   "execution_count": 157,
   "metadata": {},
   "outputs": [],
   "source": [
    "for idx in range(len(x_text)):\n",
    "    x_text[idx] = re.sub(r'@([A-Za-z0-9_]+)', \"\", str(x_text[idx]))"
   ]
  },
  {
   "cell_type": "code",
   "execution_count": 158,
   "metadata": {},
   "outputs": [],
   "source": [
    "for idx in range(len(x_text)):\n",
    "    x_text[idx] = re.sub(r\"(https|http)\\S+\", \"\", str(x_text[idx]))"
   ]
  },
  {
   "cell_type": "code",
   "execution_count": 159,
   "metadata": {
    "collapsed": true
   },
   "outputs": [],
   "source": [
    "# helper function to eliminate tokens that are pure punctuation, whitespace, or stopword\n",
    "# can be updated based on desired filtering \n",
    "\n",
    "def process_txt(token):\n",
    "    return token.is_punct or token.is_space or token.is_stop or token.like_num"
   ]
  },
  {
   "cell_type": "code",
   "execution_count": 160,
   "metadata": {
    "collapsed": true
   },
   "outputs": [],
   "source": [
    "# function to take array of articles and turn them into nested list of tokens\n",
    "def lemmatize_txt(array):\n",
    "    lemma = []\n",
    "    \n",
    "    for doc in nlp.pipe(array, batch_size=50,\n",
    "                        n_threads=-1):\n",
    "        if doc.is_parsed:\n",
    "            lemma.append([n.lemma_ for n in doc if not process_txt(n)])\n",
    "        \n",
    "        else:\n",
    "            lemma.append(None)\n",
    "    \n",
    "    return lemma"
   ]
  },
  {
   "cell_type": "code",
   "execution_count": 161,
   "metadata": {
    "collapsed": true
   },
   "outputs": [],
   "source": [
    "# function to recombine nested list of tokens into full articles \n",
    "def lemma_combine(lis):\n",
    "    parsed_articles = []\n",
    "    \n",
    "    for i in range(len(lis)):\n",
    "        concat_art = ' '.join(lis[i])\n",
    "        parsed_articles.append(concat_art)\n",
    "    \n",
    "    return parsed_articles"
   ]
  },
  {
   "cell_type": "code",
   "execution_count": 162,
   "metadata": {
    "collapsed": true
   },
   "outputs": [],
   "source": [
    "# function to match \"cleaned\" text back up with response variable\n",
    "def zip_response(observations, response):\n",
    "    response = response.tolist()\n",
    "    \n",
    "    return list(zip(observations, response))"
   ]
  },
  {
   "cell_type": "code",
   "execution_count": 163,
   "metadata": {
    "scrolled": true
   },
   "outputs": [],
   "source": [
    "# Create nested list of tokens for each article\n",
    "lem = lemmatize_txt(x_text)"
   ]
  },
  {
   "cell_type": "markdown",
   "metadata": {},
   "source": [
    "# Text Processing"
   ]
  },
  {
   "cell_type": "code",
   "execution_count": 164,
   "metadata": {
    "collapsed": true
   },
   "outputs": [],
   "source": [
    "from gensim.models import Phrases\n",
    "from gensim.models.phrases import Phraser"
   ]
  },
  {
   "cell_type": "code",
   "execution_count": 165,
   "metadata": {
    "collapsed": true
   },
   "outputs": [],
   "source": [
    "# Create bi-grams for our text \n",
    "phrases = Phrases(lem)\n",
    "bigram = Phraser(phrases)\n",
    "bigram_lem = list(bigram[lem])"
   ]
  },
  {
   "cell_type": "code",
   "execution_count": 166,
   "metadata": {
    "collapsed": true
   },
   "outputs": [],
   "source": [
    "# Create tri-grams for our text\n",
    "phrases2 = Phrases(bigram_lem)\n",
    "trigram = Phraser(phrases2)\n",
    "trigram_lem = list(trigram[bigram_lem])"
   ]
  },
  {
   "cell_type": "code",
   "execution_count": 167,
   "metadata": {
    "collapsed": true
   },
   "outputs": [],
   "source": [
    "# Recombine full article text for unigrams, bigrams, and trigrams\n",
    "uni_lem_comb = lemma_combine(lem)\n",
    "bi_lem_comb = lemma_combine(bigram_lem)\n",
    "tri_lem_comb = lemma_combine(trigram_lem)"
   ]
  },
  {
   "cell_type": "code",
   "execution_count": 29,
   "metadata": {
    "collapsed": true
   },
   "outputs": [],
   "source": [
    "# zipped_tri = zip_response(tri_lem_comb,y_response)\n",
    "# test_x = [x[0] for x in zipped_tri if x[1] == 'Not fake']\n",
    "# test_y = [x[0] for x in zipped_tri if x[1] == 'fake']\n",
    "# len(test_y)"
   ]
  },
  {
   "cell_type": "markdown",
   "metadata": {},
   "source": [
    "# Modeling"
   ]
  },
  {
   "cell_type": "code",
   "execution_count": 168,
   "metadata": {
    "collapsed": true
   },
   "outputs": [],
   "source": [
    "from sklearn.feature_extraction.text import TfidfVectorizer\n",
    "from sklearn.model_selection import train_test_split\n",
    "from sklearn.pipeline import Pipeline\n",
    "from sklearn.naive_bayes import MultinomialNB\n",
    "from sklearn import metrics\n",
    "import numpy as np\n",
    "from sklearn.model_selection import GridSearchCV\n",
    "from sklearn.metrics import confusion_matrix\n",
    "import time"
   ]
  },
  {
   "cell_type": "code",
   "execution_count": 194,
   "metadata": {
    "collapsed": true
   },
   "outputs": [],
   "source": [
    "from __future__ import print_function\n",
    "import sklearn.metrics\n",
    "\n",
    "def evaluate_model(clf, actual, predicted):\n",
    "    \"\"\"Scores a model with the created train and test sets.\"\"\"\n",
    "    train_loss = metrics.log_loss(y_train, clf.predict_proba(x_train))\n",
    "    test_loss = metrics.log_loss(y_test, clf.predict_proba(x_test))\n",
    "    matrix = confusion_matrix(actual, predicted)\n",
    "    report = metrics.classification_report(actual, predicted, target_names = ['0', '1'])\n",
    "    print(\"Train score:\", train_loss)\n",
    "    print(\"Test score:\", test_loss)\n",
    "    print('Confusion Matrix:\\n', matrix)\n",
    "    print('Classification report:\\n', report)\n",
    "\n",
    "    return test_loss"
   ]
  },
  {
   "cell_type": "code",
   "execution_count": 170,
   "metadata": {
    "collapsed": true
   },
   "outputs": [],
   "source": [
    "# Split test and train data using trigram text\n",
    "x_train, x_test, y_train, y_test = train_test_split(tri_lem_comb, y_response, test_size = 0.2, stratify = y_response)"
   ]
  },
  {
   "cell_type": "markdown",
   "metadata": {},
   "source": [
    "# Naive Bayes: Multinomial"
   ]
  },
  {
   "cell_type": "code",
   "execution_count": 174,
   "metadata": {
    "collapsed": true
   },
   "outputs": [],
   "source": [
    "# Set up pipeline to run TFIDF and Naive Bayes\n",
    "text_pipe_nb = Pipeline([('tfidf', TfidfVectorizer()), ('nb', MultinomialNB())])"
   ]
  },
  {
   "cell_type": "code",
   "execution_count": 175,
   "metadata": {},
   "outputs": [
    {
     "data": {
      "text/plain": [
       "Pipeline(steps=[('tfidf', TfidfVectorizer(analyzer='word', binary=False, decode_error='strict',\n",
       "        dtype=<class 'numpy.int64'>, encoding='utf-8', input='content',\n",
       "        lowercase=True, max_df=1.0, max_features=None, min_df=1,\n",
       "        ngram_range=(1, 1), norm='l2', preprocessor=None, smooth_idf=True,\n",
       " ...True,\n",
       "        vocabulary=None)), ('nb', MultinomialNB(alpha=1.0, class_prior=None, fit_prior=True))])"
      ]
     },
     "execution_count": 175,
     "metadata": {},
     "output_type": "execute_result"
    }
   ],
   "source": [
    "%time\n",
    "text_pipe_nb.fit(x_train, y_train)"
   ]
  },
  {
   "cell_type": "code",
   "execution_count": 33,
   "metadata": {},
   "outputs": [
    {
     "data": {
      "text/plain": [
       "0.82877058653568336"
      ]
     },
     "execution_count": 33,
     "metadata": {},
     "output_type": "execute_result"
    }
   ],
   "source": [
    "# Use pipeline to predict on train data and find accuracy\n",
    "# predicted_train = text_pipe.predict(x_train)\n",
    "# np.mean(predicted_train == y_train)"
   ]
  },
  {
   "cell_type": "code",
   "execution_count": 34,
   "metadata": {},
   "outputs": [
    {
     "data": {
      "text/plain": [
       "0.80528672540806012"
      ]
     },
     "execution_count": 34,
     "metadata": {},
     "output_type": "execute_result"
    }
   ],
   "source": [
    "# Use pipeline to predict on train data and find accuracy\n",
    "# predicted_test = text_pipe.predict(x_test)\n",
    "# np.mean(predicted_test == y_test)"
   ]
  },
  {
   "cell_type": "code",
   "execution_count": 176,
   "metadata": {
    "collapsed": true
   },
   "outputs": [],
   "source": [
    "# Set up grid search to find best parameters for TFIDF and MNB\n",
    "parameters = {'tfidf__max_df': (0.75, 0.80, 0.85, 0.90, 0.95, 1.0),\\\n",
    "              'tfidf__min_df': (0.001,0.01,0.1),\\\n",
    "              'nb__alpha': (1, 0.1, 0.01, 0.001, 0.0001, 0.00001)}"
   ]
  },
  {
   "cell_type": "code",
   "execution_count": 177,
   "metadata": {},
   "outputs": [],
   "source": [
    "# Establish grid search instance\n",
    "gs_nb = GridSearchCV(text_pipe_nb, parameters, n_jobs=-1, scoring = 'f1')"
   ]
  },
  {
   "cell_type": "code",
   "execution_count": 180,
   "metadata": {},
   "outputs": [
    {
     "name": "stdout",
     "output_type": "stream",
     "text": [
      "CPU times: user 29.6 s, sys: 26.2 s, total: 55.8 s\n",
      "Wall time: 20min 21s\n"
     ]
    }
   ],
   "source": [
    "%%time\n",
    "\n",
    "gs_nb = gs_nb.fit(x_train, y_train)"
   ]
  },
  {
   "cell_type": "code",
   "execution_count": 181,
   "metadata": {},
   "outputs": [
    {
     "data": {
      "text/plain": [
       "{'nb__alpha': 1e-05, 'tfidf__max_df': 0.75, 'tfidf__min_df': 0.001}"
      ]
     },
     "execution_count": 181,
     "metadata": {},
     "output_type": "execute_result"
    }
   ],
   "source": [
    "# Check best parameters\n",
    "gs_nb.best_params_"
   ]
  },
  {
   "cell_type": "code",
   "execution_count": 182,
   "metadata": {},
   "outputs": [],
   "source": [
    "# Predict on test data and display accuracy\n",
    "nb_predicted = gs_nb.predict(x_test)"
   ]
  },
  {
   "cell_type": "code",
   "execution_count": 195,
   "metadata": {},
   "outputs": [
    {
     "name": "stdout",
     "output_type": "stream",
     "text": [
      "Train score: 0.175018740819\n",
      "Test score: 0.20938011173\n",
      "Confusion Matrix:\n",
      " [[4473  242]\n",
      " [ 392 1816]]\n",
      "Classification report:\n",
      "              precision    recall  f1-score   support\n",
      "\n",
      "          0       0.92      0.95      0.93      4715\n",
      "          1       0.88      0.82      0.85      2208\n",
      "\n",
      "avg / total       0.91      0.91      0.91      6923\n",
      "\n",
      "CPU times: user 10.2 s, sys: 134 ms, total: 10.3 s\n",
      "Wall time: 10.3 s\n"
     ]
    },
    {
     "data": {
      "text/plain": [
       "0.20938011172993537"
      ]
     },
     "execution_count": 195,
     "metadata": {},
     "output_type": "execute_result"
    }
   ],
   "source": [
    "%%time\n",
    "# Get more detailed performance metrics\n",
    "evaluate_model(gs_nb, y_test, nb_predicted)"
   ]
  },
  {
   "cell_type": "code",
   "execution_count": 129,
   "metadata": {},
   "outputs": [
    {
     "name": "stdout",
     "output_type": "stream",
     "text": [
      "confusion_matrix:\n",
      " [[4486  229]\n",
      " [ 373 1835]]\n"
     ]
    }
   ],
   "source": [
    "# print('confusion_matrix:\\n', confusion_matrix(y_test,gs_predicted))"
   ]
  },
  {
   "cell_type": "code",
   "execution_count": 196,
   "metadata": {},
   "outputs": [
    {
     "name": "stdout",
     "output_type": "stream",
     "text": [
      "Train score: 0.907295322328\n",
      "Test score: 0.885569105691\n"
     ]
    }
   ],
   "source": [
    "train_loss = metrics.roc_auc_score(y_train, gs_nb.predict(x_train))\n",
    "test_loss = metrics.roc_auc_score(y_test, gs_nb.predict(x_test))\n",
    "print(\"Train score:\", train_loss)\n",
    "print(\"Test score:\", test_loss)"
   ]
  },
  {
   "cell_type": "code",
   "execution_count": 197,
   "metadata": {},
   "outputs": [
    {
     "data": {
      "text/plain": [
       "<matplotlib.legend.Legend at 0x1d5aff8d0>"
      ]
     },
     "execution_count": 197,
     "metadata": {},
     "output_type": "execute_result"
    },
    {
     "data": {
      "image/png": "[encoded data removed]",
      "text/plain": [
       "<matplotlib.figure.Figure at 0x1d5916748>"
      ]
     },
     "metadata": {},
     "output_type": "display_data"
    }
   ],
   "source": [
    "A=sklearn.metrics.roc_curve(y_train,gs_nb.predict(x_train),pos_label=1)\n",
    "B=sklearn.metrics.roc_curve(y_test,gs_nb.predict(x_test),pos_label=1)\n",
    "\n",
    "plt.plot(A[0],A[1],label='ROC NB Train')\n",
    "plt.plot(B[0],B[1],label='ROC NB Test')\n",
    "plt.xlim((-0.2,1.1))\n",
    "plt.ylim((-0.1,1.1))\n",
    "plt.legend(loc=4)"
   ]
  },
  {
   "cell_type": "code",
   "execution_count": 237,
   "metadata": {
    "collapsed": true
   },
   "outputs": [],
   "source": [
    "filename = 'nb_model.sav'\n",
    "pickle.dump(gs_nb, open(filename, 'wb'))"
   ]
  },
  {
   "cell_type": "markdown",
   "metadata": {},
   "source": [
    "# Logistic Regression"
   ]
  },
  {
   "cell_type": "code",
   "execution_count": 209,
   "metadata": {
    "collapsed": true
   },
   "outputs": [],
   "source": [
    "# Split test and train data using trigram text\n",
    "x_train, x_test, y_train, y_test = train_test_split(tri_lem_comb, y_response, test_size = 0.2, stratify = y_response)"
   ]
  },
  {
   "cell_type": "code",
   "execution_count": 210,
   "metadata": {},
   "outputs": [
    {
     "data": {
      "text/plain": [
       "[<matplotlib.lines.Line2D at 0x194ba2f28>]"
      ]
     },
     "execution_count": 210,
     "metadata": {},
     "output_type": "execute_result"
    },
    {
     "data": {
      "image/png": "[encoded data removed]",
      "text/plain": [
       "<matplotlib.figure.Figure at 0x196f8cf98>"
      ]
     },
     "metadata": {},
     "output_type": "display_data"
    }
   ],
   "source": [
    "import sklearn.learning_curve\n",
    "from sklearn.linear_model import LogisticRegression\n",
    "% matplotlib inline\n",
    "import matplotlib.pyplot as plt\n",
    "logit = TfidfVectorizer()\n",
    "\n",
    "x_train_log = logit.fit_transform(x_train)\n",
    "\n",
    "C_values = [0.001, 0.01,0.1,1,10,100]\n",
    "\n",
    "train_scores, test_scores = sklearn.learning_curve.validation_curve(\n",
    "    LogisticRegression(), x_train_log, y_train, 'C', C_values)\n",
    "plt.plot(np.mean(train_scores, axis=1), label='Train')\n",
    "plt.plot(np.mean(test_scores, axis=1), label='Test')"
   ]
  },
  {
   "cell_type": "code",
   "execution_count": 211,
   "metadata": {
    "collapsed": true
   },
   "outputs": [],
   "source": [
    "text_pipe_lr = Pipeline([('tfidf', TfidfVectorizer()), ('lr', LogisticRegression())])"
   ]
  },
  {
   "cell_type": "code",
   "execution_count": 212,
   "metadata": {},
   "outputs": [
    {
     "name": "stdout",
     "output_type": "stream",
     "text": [
      "CPU times: user 11.5 s, sys: 292 ms, total: 11.8 s\n",
      "Wall time: 11.8 s\n"
     ]
    },
    {
     "data": {
      "text/plain": [
       "Pipeline(steps=[('tfidf', TfidfVectorizer(analyzer='word', binary=False, decode_error='strict',\n",
       "        dtype=<class 'numpy.int64'>, encoding='utf-8', input='content',\n",
       "        lowercase=True, max_df=1.0, max_features=None, min_df=1,\n",
       "        ngram_range=(1, 1), norm='l2', preprocessor=None, smooth_idf=True,\n",
       " ...ty='l2', random_state=None, solver='liblinear', tol=0.0001,\n",
       "          verbose=0, warm_start=False))])"
      ]
     },
     "execution_count": 212,
     "metadata": {},
     "output_type": "execute_result"
    }
   ],
   "source": [
    "%%time\n",
    "text_pipe_lr.fit(x_train, y_train)"
   ]
  },
  {
   "cell_type": "code",
   "execution_count": 213,
   "metadata": {},
   "outputs": [],
   "source": [
    "lr_parameters = {'tfidf__max_df': (0.75, 0.80, 0.85, 0.90, 0.95, 1.0),\\\n",
    "             'tfidf__min_df': (0.001,0.01,0.1),\\\n",
    "             'lr__penalty': ('l1','l2'),\\\n",
    "               'lr__C': (0.01, 0.1, 1),\\\n",
    "               'lr__class_weight': (None, 'balanced')}"
   ]
  },
  {
   "cell_type": "code",
   "execution_count": 214,
   "metadata": {
    "collapsed": true
   },
   "outputs": [],
   "source": [
    "gs_lr = GridSearchCV(text_pipe_lr, lr_parameters, n_jobs=-1, scoring='f1')"
   ]
  },
  {
   "cell_type": "code",
   "execution_count": 208,
   "metadata": {},
   "outputs": [
    {
     "data": {
      "text/plain": [
       "27688"
      ]
     },
     "execution_count": 208,
     "metadata": {},
     "output_type": "execute_result"
    }
   ],
   "source": [
    "len(x_train)"
   ]
  },
  {
   "cell_type": "code",
   "execution_count": 215,
   "metadata": {},
   "outputs": [
    {
     "name": "stderr",
     "output_type": "stream",
     "text": [
      "/Users/mikeghoul/anaconda/envs/py35/lib/python3.5/site-packages/sklearn/metrics/classification.py:1113: UndefinedMetricWarning: F-score is ill-defined and being set to 0.0 due to no predicted samples.\n",
      "  'precision', 'predicted', average, warn_for)\n",
      "/Users/mikeghoul/anaconda/envs/py35/lib/python3.5/site-packages/sklearn/metrics/classification.py:1113: UndefinedMetricWarning: F-score is ill-defined and being set to 0.0 due to no predicted samples.\n",
      "  'precision', 'predicted', average, warn_for)\n",
      "/Users/mikeghoul/anaconda/envs/py35/lib/python3.5/site-packages/sklearn/metrics/classification.py:1113: UndefinedMetricWarning: F-score is ill-defined and being set to 0.0 due to no predicted samples.\n",
      "  'precision', 'predicted', average, warn_for)\n",
      "/Users/mikeghoul/anaconda/envs/py35/lib/python3.5/site-packages/sklearn/metrics/classification.py:1113: UndefinedMetricWarning: F-score is ill-defined and being set to 0.0 due to no predicted samples.\n",
      "  'precision', 'predicted', average, warn_for)\n",
      "/Users/mikeghoul/anaconda/envs/py35/lib/python3.5/site-packages/sklearn/metrics/classification.py:1113: UndefinedMetricWarning: F-score is ill-defined and being set to 0.0 due to no predicted samples.\n",
      "  'precision', 'predicted', average, warn_for)\n",
      "/Users/mikeghoul/anaconda/envs/py35/lib/python3.5/site-packages/sklearn/metrics/classification.py:1113: UndefinedMetricWarning: F-score is ill-defined and being set to 0.0 due to no predicted samples.\n",
      "  'precision', 'predicted', average, warn_for)\n",
      "/Users/mikeghoul/anaconda/envs/py35/lib/python3.5/site-packages/sklearn/metrics/classification.py:1113: UndefinedMetricWarning: F-score is ill-defined and being set to 0.0 due to no predicted samples.\n",
      "  'precision', 'predicted', average, warn_for)\n",
      "/Users/mikeghoul/anaconda/envs/py35/lib/python3.5/site-packages/sklearn/metrics/classification.py:1113: UndefinedMetricWarning: F-score is ill-defined and being set to 0.0 due to no predicted samples.\n",
      "  'precision', 'predicted', average, warn_for)\n",
      "/Users/mikeghoul/anaconda/envs/py35/lib/python3.5/site-packages/sklearn/metrics/classification.py:1113: UndefinedMetricWarning: F-score is ill-defined and being set to 0.0 due to no predicted samples.\n",
      "  'precision', 'predicted', average, warn_for)\n"
     ]
    },
    {
     "ename": "KeyboardInterrupt",
     "evalue": "",
     "output_type": "error",
     "traceback": [
      "\u001b[0;31m---------------------------------------------------------------------------\u001b[0m",
      "\u001b[0;31mKeyboardInterrupt\u001b[0m                         Traceback (most recent call last)",
      "\u001b[0;32m<ipython-input-215-b1ab58961a9d>\u001b[0m in \u001b[0;36m<module>\u001b[0;34m()\u001b[0m\n\u001b[0;32m----> 1\u001b[0;31m \u001b[0mget_ipython\u001b[0m\u001b[0;34m(\u001b[0m\u001b[0;34m)\u001b[0m\u001b[0;34m.\u001b[0m\u001b[0mrun_cell_magic\u001b[0m\u001b[0;34m(\u001b[0m\u001b[0;34m'time'\u001b[0m\u001b[0;34m,\u001b[0m \u001b[0;34m''\u001b[0m\u001b[0;34m,\u001b[0m \u001b[0;34m'gs_lr = gs_lr.fit(x_train, y_train)'\u001b[0m\u001b[0;34m)\u001b[0m\u001b[0;34m\u001b[0m\u001b[0m\n\u001b[0m",
      "\u001b[0;32m/Users/mikeghoul/anaconda/envs/py35/lib/python3.5/site-packages/IPython/core/interactiveshell.py\u001b[0m in \u001b[0;36mrun_cell_magic\u001b[0;34m(self, magic_name, line, cell)\u001b[0m\n\u001b[1;32m   2113\u001b[0m             \u001b[0mmagic_arg_s\u001b[0m \u001b[0;34m=\u001b[0m \u001b[0mself\u001b[0m\u001b[0;34m.\u001b[0m\u001b[0mvar_expand\u001b[0m\u001b[0;34m(\u001b[0m\u001b[0mline\u001b[0m\u001b[0;34m,\u001b[0m \u001b[0mstack_depth\u001b[0m\u001b[0;34m)\u001b[0m\u001b[0;34m\u001b[0m\u001b[0m\n\u001b[1;32m   2114\u001b[0m             \u001b[0;32mwith\u001b[0m \u001b[0mself\u001b[0m\u001b[0;34m.\u001b[0m\u001b[0mbuiltin_trap\u001b[0m\u001b[0;34m:\u001b[0m\u001b[0;34m\u001b[0m\u001b[0m\n\u001b[0;32m-> 2115\u001b[0;31m                 \u001b[0mresult\u001b[0m \u001b[0;34m=\u001b[0m \u001b[0mfn\u001b[0m\u001b[0;34m(\u001b[0m\u001b[0mmagic_arg_s\u001b[0m\u001b[0;34m,\u001b[0m \u001b[0mcell\u001b[0m\u001b[0;34m)\u001b[0m\u001b[0;34m\u001b[0m\u001b[0m\n\u001b[0m\u001b[1;32m   2116\u001b[0m             \u001b[0;32mreturn\u001b[0m \u001b[0mresult\u001b[0m\u001b[0;34m\u001b[0m\u001b[0m\n\u001b[1;32m   2117\u001b[0m \u001b[0;34m\u001b[0m\u001b[0m\n",
      "\u001b[0;32m<decorator-gen-59>\u001b[0m in \u001b[0;36mtime\u001b[0;34m(self, line, cell, local_ns)\u001b[0m\n",
      "\u001b[0;32m/Users/mikeghoul/anaconda/envs/py35/lib/python3.5/site-packages/IPython/core/magic.py\u001b[0m in \u001b[0;36m<lambda>\u001b[0;34m(f, *a, **k)\u001b[0m\n\u001b[1;32m    186\u001b[0m     \u001b[0;31m# but it's overkill for just that one bit of state.\u001b[0m\u001b[0;34m\u001b[0m\u001b[0;34m\u001b[0m\u001b[0m\n\u001b[1;32m    187\u001b[0m     \u001b[0;32mdef\u001b[0m \u001b[0mmagic_deco\u001b[0m\u001b[0;34m(\u001b[0m\u001b[0marg\u001b[0m\u001b[0;34m)\u001b[0m\u001b[0;34m:\u001b[0m\u001b[0;34m\u001b[0m\u001b[0m\n\u001b[0;32m--> 188\u001b[0;31m         \u001b[0mcall\u001b[0m \u001b[0;34m=\u001b[0m \u001b[0;32mlambda\u001b[0m \u001b[0mf\u001b[0m\u001b[0;34m,\u001b[0m \u001b[0;34m*\u001b[0m\u001b[0ma\u001b[0m\u001b[0;34m,\u001b[0m \u001b[0;34m**\u001b[0m\u001b[0mk\u001b[0m\u001b[0;34m:\u001b[0m \u001b[0mf\u001b[0m\u001b[0;34m(\u001b[0m\u001b[0;34m*\u001b[0m\u001b[0ma\u001b[0m\u001b[0;34m,\u001b[0m \u001b[0;34m**\u001b[0m\u001b[0mk\u001b[0m\u001b[0;34m)\u001b[0m\u001b[0;34m\u001b[0m\u001b[0m\n\u001b[0m\u001b[1;32m    189\u001b[0m \u001b[0;34m\u001b[0m\u001b[0m\n\u001b[1;32m    190\u001b[0m         \u001b[0;32mif\u001b[0m \u001b[0mcallable\u001b[0m\u001b[0;34m(\u001b[0m\u001b[0marg\u001b[0m\u001b[0;34m)\u001b[0m\u001b[0;34m:\u001b[0m\u001b[0;34m\u001b[0m\u001b[0m\n",
      "\u001b[0;32m/Users/mikeghoul/anaconda/envs/py35/lib/python3.5/site-packages/IPython/core/magics/execution.py\u001b[0m in \u001b[0;36mtime\u001b[0;34m(self, line, cell, local_ns)\u001b[0m\n\u001b[1;32m   1183\u001b[0m         \u001b[0;32melse\u001b[0m\u001b[0;34m:\u001b[0m\u001b[0;34m\u001b[0m\u001b[0m\n\u001b[1;32m   1184\u001b[0m             \u001b[0mst\u001b[0m \u001b[0;34m=\u001b[0m \u001b[0mclock2\u001b[0m\u001b[0;34m(\u001b[0m\u001b[0;34m)\u001b[0m\u001b[0;34m\u001b[0m\u001b[0m\n\u001b[0;32m-> 1185\u001b[0;31m             \u001b[0mexec\u001b[0m\u001b[0;34m(\u001b[0m\u001b[0mcode\u001b[0m\u001b[0;34m,\u001b[0m \u001b[0mglob\u001b[0m\u001b[0;34m,\u001b[0m \u001b[0mlocal_ns\u001b[0m\u001b[0;34m)\u001b[0m\u001b[0;34m\u001b[0m\u001b[0m\n\u001b[0m\u001b[1;32m   1186\u001b[0m             \u001b[0mend\u001b[0m \u001b[0;34m=\u001b[0m \u001b[0mclock2\u001b[0m\u001b[0;34m(\u001b[0m\u001b[0;34m)\u001b[0m\u001b[0;34m\u001b[0m\u001b[0m\n\u001b[1;32m   1187\u001b[0m             \u001b[0mout\u001b[0m \u001b[0;34m=\u001b[0m \u001b[0;32mNone\u001b[0m\u001b[0;34m\u001b[0m\u001b[0m\n",
      "\u001b[0;32m<timed exec>\u001b[0m in \u001b[0;36m<module>\u001b[0;34m()\u001b[0m\n",
      "\u001b[0;32m/Users/mikeghoul/anaconda/envs/py35/lib/python3.5/site-packages/sklearn/model_selection/_search.py\u001b[0m in \u001b[0;36mfit\u001b[0;34m(self, X, y, groups)\u001b[0m\n\u001b[1;32m    943\u001b[0m             \u001b[0mtrain\u001b[0m\u001b[0;34m/\u001b[0m\u001b[0mtest\u001b[0m \u001b[0mset\u001b[0m\u001b[0;34m.\u001b[0m\u001b[0;34m\u001b[0m\u001b[0m\n\u001b[1;32m    944\u001b[0m         \"\"\"\n\u001b[0;32m--> 945\u001b[0;31m         \u001b[0;32mreturn\u001b[0m \u001b[0mself\u001b[0m\u001b[0;34m.\u001b[0m\u001b[0m_fit\u001b[0m\u001b[0;34m(\u001b[0m\u001b[0mX\u001b[0m\u001b[0;34m,\u001b[0m \u001b[0my\u001b[0m\u001b[0;34m,\u001b[0m \u001b[0mgroups\u001b[0m\u001b[0;34m,\u001b[0m \u001b[0mParameterGrid\u001b[0m\u001b[0;34m(\u001b[0m\u001b[0mself\u001b[0m\u001b[0;34m.\u001b[0m\u001b[0mparam_grid\u001b[0m\u001b[0;34m)\u001b[0m\u001b[0;34m)\u001b[0m\u001b[0;34m\u001b[0m\u001b[0m\n\u001b[0m\u001b[1;32m    946\u001b[0m \u001b[0;34m\u001b[0m\u001b[0m\n\u001b[1;32m    947\u001b[0m \u001b[0;34m\u001b[0m\u001b[0m\n",
      "\u001b[0;32m/Users/mikeghoul/anaconda/envs/py35/lib/python3.5/site-packages/sklearn/model_selection/_search.py\u001b[0m in \u001b[0;36m_fit\u001b[0;34m(self, X, y, groups, parameter_iterable)\u001b[0m\n\u001b[1;32m    562\u001b[0m                                   \u001b[0mreturn_times\u001b[0m\u001b[0;34m=\u001b[0m\u001b[0;32mTrue\u001b[0m\u001b[0;34m,\u001b[0m \u001b[0mreturn_parameters\u001b[0m\u001b[0;34m=\u001b[0m\u001b[0;32mTrue\u001b[0m\u001b[0;34m,\u001b[0m\u001b[0;34m\u001b[0m\u001b[0m\n\u001b[1;32m    563\u001b[0m                                   error_score=self.error_score)\n\u001b[0;32m--> 564\u001b[0;31m           \u001b[0;32mfor\u001b[0m \u001b[0mparameters\u001b[0m \u001b[0;32min\u001b[0m \u001b[0mparameter_iterable\u001b[0m\u001b[0;34m\u001b[0m\u001b[0m\n\u001b[0m\u001b[1;32m    565\u001b[0m           for train, test in cv_iter)\n\u001b[1;32m    566\u001b[0m \u001b[0;34m\u001b[0m\u001b[0m\n",
      "\u001b[0;32m/Users/mikeghoul/anaconda/envs/py35/lib/python3.5/site-packages/sklearn/externals/joblib/parallel.py\u001b[0m in \u001b[0;36m__call__\u001b[0;34m(self, iterable)\u001b[0m\n\u001b[1;32m    766\u001b[0m                 \u001b[0;31m# consumption.\u001b[0m\u001b[0;34m\u001b[0m\u001b[0;34m\u001b[0m\u001b[0m\n\u001b[1;32m    767\u001b[0m                 \u001b[0mself\u001b[0m\u001b[0;34m.\u001b[0m\u001b[0m_iterating\u001b[0m \u001b[0;34m=\u001b[0m \u001b[0;32mFalse\u001b[0m\u001b[0;34m\u001b[0m\u001b[0m\n\u001b[0;32m--> 768\u001b[0;31m             \u001b[0mself\u001b[0m\u001b[0;34m.\u001b[0m\u001b[0mretrieve\u001b[0m\u001b[0;34m(\u001b[0m\u001b[0;34m)\u001b[0m\u001b[0;34m\u001b[0m\u001b[0m\n\u001b[0m\u001b[1;32m    769\u001b[0m             \u001b[0;31m# Make sure that we get a last message telling us we are done\u001b[0m\u001b[0;34m\u001b[0m\u001b[0;34m\u001b[0m\u001b[0m\n\u001b[1;32m    770\u001b[0m             \u001b[0melapsed_time\u001b[0m \u001b[0;34m=\u001b[0m \u001b[0mtime\u001b[0m\u001b[0;34m.\u001b[0m\u001b[0mtime\u001b[0m\u001b[0;34m(\u001b[0m\u001b[0;34m)\u001b[0m \u001b[0;34m-\u001b[0m \u001b[0mself\u001b[0m\u001b[0;34m.\u001b[0m\u001b[0m_start_time\u001b[0m\u001b[0;34m\u001b[0m\u001b[0m\n",
      "\u001b[0;32m/Users/mikeghoul/anaconda/envs/py35/lib/python3.5/site-packages/sklearn/externals/joblib/parallel.py\u001b[0m in \u001b[0;36mretrieve\u001b[0;34m(self)\u001b[0m\n\u001b[1;32m    717\u001b[0m                     \u001b[0mensure_ready\u001b[0m \u001b[0;34m=\u001b[0m \u001b[0mself\u001b[0m\u001b[0;34m.\u001b[0m\u001b[0m_managed_backend\u001b[0m\u001b[0;34m\u001b[0m\u001b[0m\n\u001b[1;32m    718\u001b[0m                     \u001b[0mbackend\u001b[0m\u001b[0;34m.\u001b[0m\u001b[0mabort_everything\u001b[0m\u001b[0;34m(\u001b[0m\u001b[0mensure_ready\u001b[0m\u001b[0;34m=\u001b[0m\u001b[0mensure_ready\u001b[0m\u001b[0;34m)\u001b[0m\u001b[0;34m\u001b[0m\u001b[0m\n\u001b[0;32m--> 719\u001b[0;31m                 \u001b[0;32mraise\u001b[0m \u001b[0mexception\u001b[0m\u001b[0;34m\u001b[0m\u001b[0m\n\u001b[0m\u001b[1;32m    720\u001b[0m \u001b[0;34m\u001b[0m\u001b[0m\n\u001b[1;32m    721\u001b[0m     \u001b[0;32mdef\u001b[0m \u001b[0m__call__\u001b[0m\u001b[0;34m(\u001b[0m\u001b[0mself\u001b[0m\u001b[0;34m,\u001b[0m \u001b[0miterable\u001b[0m\u001b[0;34m)\u001b[0m\u001b[0;34m:\u001b[0m\u001b[0;34m\u001b[0m\u001b[0m\n",
      "\u001b[0;32m/Users/mikeghoul/anaconda/envs/py35/lib/python3.5/site-packages/sklearn/externals/joblib/parallel.py\u001b[0m in \u001b[0;36mretrieve\u001b[0;34m(self)\u001b[0m\n\u001b[1;32m    680\u001b[0m                 \u001b[0;31m# check if timeout supported in backend future implementation\u001b[0m\u001b[0;34m\u001b[0m\u001b[0;34m\u001b[0m\u001b[0m\n\u001b[1;32m    681\u001b[0m                 \u001b[0;32mif\u001b[0m \u001b[0;34m'timeout'\u001b[0m \u001b[0;32min\u001b[0m \u001b[0mgetfullargspec\u001b[0m\u001b[0;34m(\u001b[0m\u001b[0mjob\u001b[0m\u001b[0;34m.\u001b[0m\u001b[0mget\u001b[0m\u001b[0;34m)\u001b[0m\u001b[0;34m.\u001b[0m\u001b[0margs\u001b[0m\u001b[0;34m:\u001b[0m\u001b[0;34m\u001b[0m\u001b[0m\n\u001b[0;32m--> 682\u001b[0;31m                     \u001b[0mself\u001b[0m\u001b[0;34m.\u001b[0m\u001b[0m_output\u001b[0m\u001b[0;34m.\u001b[0m\u001b[0mextend\u001b[0m\u001b[0;34m(\u001b[0m\u001b[0mjob\u001b[0m\u001b[0;34m.\u001b[0m\u001b[0mget\u001b[0m\u001b[0;34m(\u001b[0m\u001b[0mtimeout\u001b[0m\u001b[0;34m=\u001b[0m\u001b[0mself\u001b[0m\u001b[0;34m.\u001b[0m\u001b[0mtimeout\u001b[0m\u001b[0;34m)\u001b[0m\u001b[0;34m)\u001b[0m\u001b[0;34m\u001b[0m\u001b[0m\n\u001b[0m\u001b[1;32m    683\u001b[0m                 \u001b[0;32melse\u001b[0m\u001b[0;34m:\u001b[0m\u001b[0;34m\u001b[0m\u001b[0m\n\u001b[1;32m    684\u001b[0m                     \u001b[0mself\u001b[0m\u001b[0;34m.\u001b[0m\u001b[0m_output\u001b[0m\u001b[0;34m.\u001b[0m\u001b[0mextend\u001b[0m\u001b[0;34m(\u001b[0m\u001b[0mjob\u001b[0m\u001b[0;34m.\u001b[0m\u001b[0mget\u001b[0m\u001b[0;34m(\u001b[0m\u001b[0;34m)\u001b[0m\u001b[0;34m)\u001b[0m\u001b[0;34m\u001b[0m\u001b[0m\n",
      "\u001b[0;32m/Users/mikeghoul/anaconda/envs/py35/lib/python3.5/multiprocessing/pool.py\u001b[0m in \u001b[0;36mget\u001b[0;34m(self, timeout)\u001b[0m\n\u001b[1;32m    600\u001b[0m \u001b[0;34m\u001b[0m\u001b[0m\n\u001b[1;32m    601\u001b[0m     \u001b[0;32mdef\u001b[0m \u001b[0mget\u001b[0m\u001b[0;34m(\u001b[0m\u001b[0mself\u001b[0m\u001b[0;34m,\u001b[0m \u001b[0mtimeout\u001b[0m\u001b[0;34m=\u001b[0m\u001b[0;32mNone\u001b[0m\u001b[0;34m)\u001b[0m\u001b[0;34m:\u001b[0m\u001b[0;34m\u001b[0m\u001b[0m\n\u001b[0;32m--> 602\u001b[0;31m         \u001b[0mself\u001b[0m\u001b[0;34m.\u001b[0m\u001b[0mwait\u001b[0m\u001b[0;34m(\u001b[0m\u001b[0mtimeout\u001b[0m\u001b[0;34m)\u001b[0m\u001b[0;34m\u001b[0m\u001b[0m\n\u001b[0m\u001b[1;32m    603\u001b[0m         \u001b[0;32mif\u001b[0m \u001b[0;32mnot\u001b[0m \u001b[0mself\u001b[0m\u001b[0;34m.\u001b[0m\u001b[0mready\u001b[0m\u001b[0;34m(\u001b[0m\u001b[0;34m)\u001b[0m\u001b[0;34m:\u001b[0m\u001b[0;34m\u001b[0m\u001b[0m\n\u001b[1;32m    604\u001b[0m             \u001b[0;32mraise\u001b[0m \u001b[0mTimeoutError\u001b[0m\u001b[0;34m\u001b[0m\u001b[0m\n",
      "\u001b[0;32m/Users/mikeghoul/anaconda/envs/py35/lib/python3.5/multiprocessing/pool.py\u001b[0m in \u001b[0;36mwait\u001b[0;34m(self, timeout)\u001b[0m\n\u001b[1;32m    597\u001b[0m \u001b[0;34m\u001b[0m\u001b[0m\n\u001b[1;32m    598\u001b[0m     \u001b[0;32mdef\u001b[0m \u001b[0mwait\u001b[0m\u001b[0;34m(\u001b[0m\u001b[0mself\u001b[0m\u001b[0;34m,\u001b[0m \u001b[0mtimeout\u001b[0m\u001b[0;34m=\u001b[0m\u001b[0;32mNone\u001b[0m\u001b[0;34m)\u001b[0m\u001b[0;34m:\u001b[0m\u001b[0;34m\u001b[0m\u001b[0m\n\u001b[0;32m--> 599\u001b[0;31m         \u001b[0mself\u001b[0m\u001b[0;34m.\u001b[0m\u001b[0m_event\u001b[0m\u001b[0;34m.\u001b[0m\u001b[0mwait\u001b[0m\u001b[0;34m(\u001b[0m\u001b[0mtimeout\u001b[0m\u001b[0;34m)\u001b[0m\u001b[0;34m\u001b[0m\u001b[0m\n\u001b[0m\u001b[1;32m    600\u001b[0m \u001b[0;34m\u001b[0m\u001b[0m\n\u001b[1;32m    601\u001b[0m     \u001b[0;32mdef\u001b[0m \u001b[0mget\u001b[0m\u001b[0;34m(\u001b[0m\u001b[0mself\u001b[0m\u001b[0;34m,\u001b[0m \u001b[0mtimeout\u001b[0m\u001b[0;34m=\u001b[0m\u001b[0;32mNone\u001b[0m\u001b[0;34m)\u001b[0m\u001b[0;34m:\u001b[0m\u001b[0;34m\u001b[0m\u001b[0m\n",
      "\u001b[0;32m/Users/mikeghoul/anaconda/envs/py35/lib/python3.5/threading.py\u001b[0m in \u001b[0;36mwait\u001b[0;34m(self, timeout)\u001b[0m\n\u001b[1;32m    547\u001b[0m             \u001b[0msignaled\u001b[0m \u001b[0;34m=\u001b[0m \u001b[0mself\u001b[0m\u001b[0;34m.\u001b[0m\u001b[0m_flag\u001b[0m\u001b[0;34m\u001b[0m\u001b[0m\n\u001b[1;32m    548\u001b[0m             \u001b[0;32mif\u001b[0m \u001b[0;32mnot\u001b[0m \u001b[0msignaled\u001b[0m\u001b[0;34m:\u001b[0m\u001b[0;34m\u001b[0m\u001b[0m\n\u001b[0;32m--> 549\u001b[0;31m                 \u001b[0msignaled\u001b[0m \u001b[0;34m=\u001b[0m \u001b[0mself\u001b[0m\u001b[0;34m.\u001b[0m\u001b[0m_cond\u001b[0m\u001b[0;34m.\u001b[0m\u001b[0mwait\u001b[0m\u001b[0;34m(\u001b[0m\u001b[0mtimeout\u001b[0m\u001b[0;34m)\u001b[0m\u001b[0;34m\u001b[0m\u001b[0m\n\u001b[0m\u001b[1;32m    550\u001b[0m             \u001b[0;32mreturn\u001b[0m \u001b[0msignaled\u001b[0m\u001b[0;34m\u001b[0m\u001b[0m\n\u001b[1;32m    551\u001b[0m \u001b[0;34m\u001b[0m\u001b[0m\n",
      "\u001b[0;32m/Users/mikeghoul/anaconda/envs/py35/lib/python3.5/threading.py\u001b[0m in \u001b[0;36mwait\u001b[0;34m(self, timeout)\u001b[0m\n\u001b[1;32m    291\u001b[0m         \u001b[0;32mtry\u001b[0m\u001b[0;34m:\u001b[0m    \u001b[0;31m# restore state no matter what (e.g., KeyboardInterrupt)\u001b[0m\u001b[0;34m\u001b[0m\u001b[0m\n\u001b[1;32m    292\u001b[0m             \u001b[0;32mif\u001b[0m \u001b[0mtimeout\u001b[0m \u001b[0;32mis\u001b[0m \u001b[0;32mNone\u001b[0m\u001b[0;34m:\u001b[0m\u001b[0;34m\u001b[0m\u001b[0m\n\u001b[0;32m--> 293\u001b[0;31m                 \u001b[0mwaiter\u001b[0m\u001b[0;34m.\u001b[0m\u001b[0macquire\u001b[0m\u001b[0;34m(\u001b[0m\u001b[0;34m)\u001b[0m\u001b[0;34m\u001b[0m\u001b[0m\n\u001b[0m\u001b[1;32m    294\u001b[0m                 \u001b[0mgotit\u001b[0m \u001b[0;34m=\u001b[0m \u001b[0;32mTrue\u001b[0m\u001b[0;34m\u001b[0m\u001b[0m\n\u001b[1;32m    295\u001b[0m             \u001b[0;32melse\u001b[0m\u001b[0;34m:\u001b[0m\u001b[0;34m\u001b[0m\u001b[0m\n",
      "\u001b[0;31mKeyboardInterrupt\u001b[0m: "
     ]
    }
   ],
   "source": [
    "%%time\n",
    "gs_lr = gs_lr.fit(x_train, y_train)"
   ]
  },
  {
   "cell_type": "code",
   "execution_count": 63,
   "metadata": {},
   "outputs": [
    {
     "data": {
      "text/plain": [
       "{'lr__C': 1,\n",
       " 'lr__class_weight': None,\n",
       " 'lr__penalty': 'l1',\n",
       " 'tfidf__max_df': 0.9,\n",
       " 'tfidf__min_df': 0.001}"
      ]
     },
     "execution_count": 63,
     "metadata": {},
     "output_type": "execute_result"
    }
   ],
   "source": [
    "gs_lr.best_params_"
   ]
  },
  {
   "cell_type": "code",
   "execution_count": 68,
   "metadata": {},
   "outputs": [
    {
     "name": "stdout",
     "output_type": "stream",
     "text": [
      "Train score: 0.179119437437\n",
      "Test score: 0.197408087036\n"
     ]
    }
   ],
   "source": [
    "lr_predicted = gs_lr.predict(x_test)"
   ]
  },
  {
   "cell_type": "code",
   "execution_count": null,
   "metadata": {
    "collapsed": true
   },
   "outputs": [],
   "source": [
    "evaluate_model(gs_lr, y_test, lr_predicted)"
   ]
  },
  {
   "cell_type": "code",
   "execution_count": 76,
   "metadata": {},
   "outputs": [
    {
     "data": {
      "text/plain": [
       "(6923,)"
      ]
     },
     "execution_count": 76,
     "metadata": {},
     "output_type": "execute_result"
    }
   ],
   "source": [
    "gs_lr.predict_proba(x_test)[:, 1].shape"
   ]
  },
  {
   "cell_type": "code",
   "execution_count": 73,
   "metadata": {},
   "outputs": [
    {
     "data": {
      "text/plain": [
       "(6923,)"
      ]
     },
     "execution_count": 73,
     "metadata": {},
     "output_type": "execute_result"
    }
   ],
   "source": [
    "y_test.shape"
   ]
  },
  {
   "cell_type": "code",
   "execution_count": 132,
   "metadata": {},
   "outputs": [
    {
     "data": {
      "text/plain": [
       "array(['fake', 'Not fake', 'Not fake', 'Not fake', 'Not fake', 'Not fake',\n",
       "       'fake', 'Not fake', 'Not fake', 'Not fake'], dtype=object)"
      ]
     },
     "execution_count": 132,
     "metadata": {},
     "output_type": "execute_result"
    }
   ],
   "source": [
    "y_test[:10]"
   ]
  },
  {
   "cell_type": "markdown",
   "metadata": {},
   "source": [
    "# Random Forest"
   ]
  },
  {
   "cell_type": "code",
   "execution_count": 81,
   "metadata": {},
   "outputs": [],
   "source": [
    "from sklearn.ensemble import RandomForestClassifier\n",
    "text_pipe_rf = Pipeline([('tfidf', TfidfVectorizer()), ('rf', RandomForestClassifier())])"
   ]
  },
  {
   "cell_type": "code",
   "execution_count": null,
   "metadata": {
    "collapsed": true
   },
   "outputs": [],
   "source": [
    "%%time\n",
    "text_pipe_rf.fit(x_train, y_train)"
   ]
  },
  {
   "cell_type": "code",
   "execution_count": 82,
   "metadata": {
    "collapsed": true
   },
   "outputs": [],
   "source": [
    "rf_parameters = {'tfidf__min_df': (0.75, 0.80, 0.85, 0.90, 0.95, 1.0),\\\n",
    "             'tfidf__min_df': (0.001,0.01,0.1),\\\n",
    "            'rf__n_estimators': (50, 100, 200),\\\n",
    "                 'rf__criterion': ('gini', 'entropy'),\\\n",
    "               'rf__class_weight': (None, 'balanced')}"
   ]
  },
  {
   "cell_type": "code",
   "execution_count": 83,
   "metadata": {
    "collapsed": true
   },
   "outputs": [],
   "source": [
    "gs_rf = GridSearchCV(text_pipe_rf, rf_parameters, n_jobs=-1, scoring='f1')"
   ]
  },
  {
   "cell_type": "code",
   "execution_count": null,
   "metadata": {
    "collapsed": true
   },
   "outputs": [],
   "source": [
    "%% time\n",
    "gs_rf = gs_rf.fit(x_train, y_train)"
   ]
  },
  {
   "cell_type": "code",
   "execution_count": null,
   "metadata": {
    "collapsed": true
   },
   "outputs": [],
   "source": [
    "gs_rf.best_params_"
   ]
  },
  {
   "cell_type": "code",
   "execution_count": null,
   "metadata": {
    "collapsed": true
   },
   "outputs": [],
   "source": [
    "rf_predicted = gs_rf.predict(x_test)"
   ]
  },
  {
   "cell_type": "code",
   "execution_count": 94,
   "metadata": {},
   "outputs": [
    {
     "name": "stdout",
     "output_type": "stream",
     "text": [
      "Train score: 0.0921773808974\n",
      "Test score: 0.298432721433\n",
      "\n"
     ]
    },
    {
     "data": {
      "text/plain": [
       "0.29843272143251104"
      ]
     },
     "execution_count": 94,
     "metadata": {},
     "output_type": "execute_result"
    }
   ],
   "source": [
    "evaluate_model(gs_rf, y_test, rf_predicted)"
   ]
  },
  {
   "cell_type": "code",
   "execution_count": 90,
   "metadata": {},
   "outputs": [
    {
     "data": {
      "text/plain": [
       "array(['Not fake', 'Not fake', 'Not fake', ..., 'fake', 'Not fake',\n",
       "       'Not fake'], dtype=object)"
      ]
     },
     "execution_count": 90,
     "metadata": {},
     "output_type": "execute_result"
    }
   ],
   "source": [
    "gs_rf.predict(x_train)"
   ]
  },
  {
   "cell_type": "markdown",
   "metadata": {},
   "source": [
    "# Gradient Boosting"
   ]
  },
  {
   "cell_type": "code",
   "execution_count": 216,
   "metadata": {
    "collapsed": true
   },
   "outputs": [],
   "source": [
    "from sklearn.ensemble import GradientBoostingClassifier\n",
    "text_pipe_gbt = Pipeline([('tfidf', TfidfVectorizer()), ('gbt', GradientBoostingClassifier())])"
   ]
  },
  {
   "cell_type": "code",
   "execution_count": 217,
   "metadata": {},
   "outputs": [
    {
     "data": {
      "text/plain": [
       "Pipeline(steps=[('tfidf', TfidfVectorizer(analyzer='word', binary=False, decode_error='strict',\n",
       "        dtype=<class 'numpy.int64'>, encoding='utf-8', input='content',\n",
       "        lowercase=True, max_df=1.0, max_features=None, min_df=1,\n",
       "        ngram_range=(1, 1), norm='l2', preprocessor=None, smooth_idf=True,\n",
       " ...=100, presort='auto', random_state=None,\n",
       "              subsample=1.0, verbose=0, warm_start=False))])"
      ]
     },
     "execution_count": 217,
     "metadata": {},
     "output_type": "execute_result"
    }
   ],
   "source": [
    "%%time\n",
    "text_pipe_gbt.fit(x_train, y_train)"
   ]
  },
  {
   "cell_type": "code",
   "execution_count": 218,
   "metadata": {
    "collapsed": true
   },
   "outputs": [],
   "source": [
    "gbt_parameters = {'tfidf__min_df': (0.75, 0.80, 0.85, 0.90, 0.95, 1.0),\\\n",
    "             'tfidf__min_df': (0.001,0.01,0.1),\\\n",
    "            'gbt__n_estimators': (50, 100, 200)}"
   ]
  },
  {
   "cell_type": "code",
   "execution_count": 219,
   "metadata": {
    "collapsed": true
   },
   "outputs": [],
   "source": [
    "gs_gbt = GridSearchCV(text_pipe_gbt, gbt_parameters, n_jobs=-1, scoring='f1')"
   ]
  },
  {
   "cell_type": "code",
   "execution_count": 221,
   "metadata": {},
   "outputs": [
    {
     "ename": "JoblibTypeError",
     "evalue": "JoblibTypeError\n___________________________________________________________________________\nMultiprocessing exception:\n...........................................................................\n/Users/mikeghoul/anaconda/envs/py35/lib/python3.5/runpy.py in _run_module_as_main(mod_name='ipykernel_launcher', alter_argv=1)\n    188         sys.exit(msg)\n    189     main_globals = sys.modules[\"__main__\"].__dict__\n    190     if alter_argv:\n    191         sys.argv[0] = mod_spec.origin\n    192     return _run_code(code, main_globals, None,\n--> 193                      \"__main__\", mod_spec)\n        mod_spec = ModuleSpec(name='ipykernel_launcher', loader=<_f...b/python3.5/site-packages/ipykernel_launcher.py')\n    194 \n    195 def run_module(mod_name, init_globals=None,\n    196                run_name=None, alter_sys=False):\n    197     \"\"\"Execute a module's code without importing it\n\n...........................................................................\n/Users/mikeghoul/anaconda/envs/py35/lib/python3.5/runpy.py in _run_code(code=<code object <module> at 0x10cb3ae40, file \"/Use...3.5/site-packages/ipykernel_launcher.py\", line 5>, run_globals={'__builtins__': <module 'builtins' (built-in)>, '__cached__': '/Users/mikeghoul/anaconda/envs/py35/lib/python3....ges/__pycache__/ipykernel_launcher.cpython-35.pyc', '__doc__': 'Entry point for launching an IPython kernel.\\n\\nTh...orts until\\nafter removing the cwd from sys.path.\\n', '__file__': '/Users/mikeghoul/anaconda/envs/py35/lib/python3.5/site-packages/ipykernel_launcher.py', '__loader__': <_frozen_importlib_external.SourceFileLoader object>, '__name__': '__main__', '__package__': '', '__spec__': ModuleSpec(name='ipykernel_launcher', loader=<_f...b/python3.5/site-packages/ipykernel_launcher.py'), 'app': <module 'ipykernel.kernelapp' from '/Users/mikeg.../python3.5/site-packages/ipykernel/kernelapp.py'>, 'sys': <module 'sys' (built-in)>}, init_globals=None, mod_name='__main__', mod_spec=ModuleSpec(name='ipykernel_launcher', loader=<_f...b/python3.5/site-packages/ipykernel_launcher.py'), pkg_name='', script_name=None)\n     80                        __cached__ = cached,\n     81                        __doc__ = None,\n     82                        __loader__ = loader,\n     83                        __package__ = pkg_name,\n     84                        __spec__ = mod_spec)\n---> 85     exec(code, run_globals)\n        code = <code object <module> at 0x10cb3ae40, file \"/Use...3.5/site-packages/ipykernel_launcher.py\", line 5>\n        run_globals = {'__builtins__': <module 'builtins' (built-in)>, '__cached__': '/Users/mikeghoul/anaconda/envs/py35/lib/python3....ges/__pycache__/ipykernel_launcher.cpython-35.pyc', '__doc__': 'Entry point for launching an IPython kernel.\\n\\nTh...orts until\\nafter removing the cwd from sys.path.\\n', '__file__': '/Users/mikeghoul/anaconda/envs/py35/lib/python3.5/site-packages/ipykernel_launcher.py', '__loader__': <_frozen_importlib_external.SourceFileLoader object>, '__name__': '__main__', '__package__': '', '__spec__': ModuleSpec(name='ipykernel_launcher', loader=<_f...b/python3.5/site-packages/ipykernel_launcher.py'), 'app': <module 'ipykernel.kernelapp' from '/Users/mikeg.../python3.5/site-packages/ipykernel/kernelapp.py'>, 'sys': <module 'sys' (built-in)>}\n     86     return run_globals\n     87 \n     88 def _run_module_code(code, init_globals=None,\n     89                     mod_name=None, mod_spec=None,\n\n...........................................................................\n/Users/mikeghoul/anaconda/envs/py35/lib/python3.5/site-packages/ipykernel_launcher.py in <module>()\n     11     # This is added back by InteractiveShellApp.init_path()\n     12     if sys.path[0] == '':\n     13         del sys.path[0]\n     14 \n     15     from ipykernel import kernelapp as app\n---> 16     app.launch_new_instance()\n     17 \n     18 \n     19 \n     20 \n\n...........................................................................\n/Users/mikeghoul/anaconda/envs/py35/lib/python3.5/site-packages/traitlets/config/application.py in launch_instance(cls=<class 'ipykernel.kernelapp.IPKernelApp'>, argv=None, **kwargs={})\n    653 \n    654         If a global instance already exists, this reinitializes and starts it\n    655         \"\"\"\n    656         app = cls.instance(**kwargs)\n    657         app.initialize(argv)\n--> 658         app.start()\n        app.start = <bound method IPKernelApp.start of <ipykernel.kernelapp.IPKernelApp object>>\n    659 \n    660 #-----------------------------------------------------------------------------\n    661 # utility functions, for convenience\n    662 #-----------------------------------------------------------------------------\n\n...........................................................................\n/Users/mikeghoul/anaconda/envs/py35/lib/python3.5/site-packages/ipykernel/kernelapp.py in start(self=<ipykernel.kernelapp.IPKernelApp object>)\n    472             return self.subapp.start()\n    473         if self.poller is not None:\n    474             self.poller.start()\n    475         self.kernel.start()\n    476         try:\n--> 477             ioloop.IOLoop.instance().start()\n    478         except KeyboardInterrupt:\n    479             pass\n    480 \n    481 launch_new_instance = IPKernelApp.launch_instance\n\n...........................................................................\n/Users/mikeghoul/anaconda/envs/py35/lib/python3.5/site-packages/zmq/eventloop/ioloop.py in start(self=<zmq.eventloop.ioloop.ZMQIOLoop object>)\n    172             )\n    173         return loop\n    174     \n    175     def start(self):\n    176         try:\n--> 177             super(ZMQIOLoop, self).start()\n        self.start = <bound method ZMQIOLoop.start of <zmq.eventloop.ioloop.ZMQIOLoop object>>\n    178         except ZMQError as e:\n    179             if e.errno == ETERM:\n    180                 # quietly return on ETERM\n    181                 pass\n\n...........................................................................\n/Users/mikeghoul/anaconda/envs/py35/lib/python3.5/site-packages/tornado/ioloop.py in start(self=<zmq.eventloop.ioloop.ZMQIOLoop object>)\n    883                 self._events.update(event_pairs)\n    884                 while self._events:\n    885                     fd, events = self._events.popitem()\n    886                     try:\n    887                         fd_obj, handler_func = self._handlers[fd]\n--> 888                         handler_func(fd_obj, events)\n        handler_func = <function wrap.<locals>.null_wrapper>\n        fd_obj = <zmq.sugar.socket.Socket object>\n        events = 1\n    889                     except (OSError, IOError) as e:\n    890                         if errno_from_exception(e) == errno.EPIPE:\n    891                             # Happens when the client closes the connection\n    892                             pass\n\n...........................................................................\n/Users/mikeghoul/anaconda/envs/py35/lib/python3.5/site-packages/tornado/stack_context.py in null_wrapper(*args=(<zmq.sugar.socket.Socket object>, 1), **kwargs={})\n    272         # Fast path when there are no active contexts.\n    273         def null_wrapper(*args, **kwargs):\n    274             try:\n    275                 current_state = _state.contexts\n    276                 _state.contexts = cap_contexts[0]\n--> 277                 return fn(*args, **kwargs)\n        args = (<zmq.sugar.socket.Socket object>, 1)\n        kwargs = {}\n    278             finally:\n    279                 _state.contexts = current_state\n    280         null_wrapper._wrapped = True\n    281         return null_wrapper\n\n...........................................................................\n/Users/mikeghoul/anaconda/envs/py35/lib/python3.5/site-packages/zmq/eventloop/zmqstream.py in _handle_events(self=<zmq.eventloop.zmqstream.ZMQStream object>, fd=<zmq.sugar.socket.Socket object>, events=1)\n    435             # dispatch events:\n    436             if events & IOLoop.ERROR:\n    437                 gen_log.error(\"got POLLERR event on ZMQStream, which doesn't make sense\")\n    438                 return\n    439             if events & IOLoop.READ:\n--> 440                 self._handle_recv()\n        self._handle_recv = <bound method ZMQStream._handle_recv of <zmq.eventloop.zmqstream.ZMQStream object>>\n    441                 if not self.socket:\n    442                     return\n    443             if events & IOLoop.WRITE:\n    444                 self._handle_send()\n\n...........................................................................\n/Users/mikeghoul/anaconda/envs/py35/lib/python3.5/site-packages/zmq/eventloop/zmqstream.py in _handle_recv(self=<zmq.eventloop.zmqstream.ZMQStream object>)\n    467                 gen_log.error(\"RECV Error: %s\"%zmq.strerror(e.errno))\n    468         else:\n    469             if self._recv_callback:\n    470                 callback = self._recv_callback\n    471                 # self._recv_callback = None\n--> 472                 self._run_callback(callback, msg)\n        self._run_callback = <bound method ZMQStream._run_callback of <zmq.eventloop.zmqstream.ZMQStream object>>\n        callback = <function wrap.<locals>.null_wrapper>\n        msg = [<zmq.sugar.frame.Frame object>, <zmq.sugar.frame.Frame object>, <zmq.sugar.frame.Frame object>, <zmq.sugar.frame.Frame object>, <zmq.sugar.frame.Frame object>, <zmq.sugar.frame.Frame object>, <zmq.sugar.frame.Frame object>]\n    473                 \n    474         # self.update_state()\n    475         \n    476 \n\n...........................................................................\n/Users/mikeghoul/anaconda/envs/py35/lib/python3.5/site-packages/zmq/eventloop/zmqstream.py in _run_callback(self=<zmq.eventloop.zmqstream.ZMQStream object>, callback=<function wrap.<locals>.null_wrapper>, *args=([<zmq.sugar.frame.Frame object>, <zmq.sugar.frame.Frame object>, <zmq.sugar.frame.Frame object>, <zmq.sugar.frame.Frame object>, <zmq.sugar.frame.Frame object>, <zmq.sugar.frame.Frame object>, <zmq.sugar.frame.Frame object>],), **kwargs={})\n    409         close our socket.\"\"\"\n    410         try:\n    411             # Use a NullContext to ensure that all StackContexts are run\n    412             # inside our blanket exception handler rather than outside.\n    413             with stack_context.NullContext():\n--> 414                 callback(*args, **kwargs)\n        callback = <function wrap.<locals>.null_wrapper>\n        args = ([<zmq.sugar.frame.Frame object>, <zmq.sugar.frame.Frame object>, <zmq.sugar.frame.Frame object>, <zmq.sugar.frame.Frame object>, <zmq.sugar.frame.Frame object>, <zmq.sugar.frame.Frame object>, <zmq.sugar.frame.Frame object>],)\n        kwargs = {}\n    415         except:\n    416             gen_log.error(\"Uncaught exception, closing connection.\",\n    417                           exc_info=True)\n    418             # Close the socket on an uncaught exception from a user callback\n\n...........................................................................\n/Users/mikeghoul/anaconda/envs/py35/lib/python3.5/site-packages/tornado/stack_context.py in null_wrapper(*args=([<zmq.sugar.frame.Frame object>, <zmq.sugar.frame.Frame object>, <zmq.sugar.frame.Frame object>, <zmq.sugar.frame.Frame object>, <zmq.sugar.frame.Frame object>, <zmq.sugar.frame.Frame object>, <zmq.sugar.frame.Frame object>],), **kwargs={})\n    272         # Fast path when there are no active contexts.\n    273         def null_wrapper(*args, **kwargs):\n    274             try:\n    275                 current_state = _state.contexts\n    276                 _state.contexts = cap_contexts[0]\n--> 277                 return fn(*args, **kwargs)\n        args = ([<zmq.sugar.frame.Frame object>, <zmq.sugar.frame.Frame object>, <zmq.sugar.frame.Frame object>, <zmq.sugar.frame.Frame object>, <zmq.sugar.frame.Frame object>, <zmq.sugar.frame.Frame object>, <zmq.sugar.frame.Frame object>],)\n        kwargs = {}\n    278             finally:\n    279                 _state.contexts = current_state\n    280         null_wrapper._wrapped = True\n    281         return null_wrapper\n\n...........................................................................\n/Users/mikeghoul/anaconda/envs/py35/lib/python3.5/site-packages/ipykernel/kernelbase.py in dispatcher(msg=[<zmq.sugar.frame.Frame object>, <zmq.sugar.frame.Frame object>, <zmq.sugar.frame.Frame object>, <zmq.sugar.frame.Frame object>, <zmq.sugar.frame.Frame object>, <zmq.sugar.frame.Frame object>, <zmq.sugar.frame.Frame object>])\n    278         if self.control_stream:\n    279             self.control_stream.on_recv(self.dispatch_control, copy=False)\n    280 \n    281         def make_dispatcher(stream):\n    282             def dispatcher(msg):\n--> 283                 return self.dispatch_shell(stream, msg)\n        msg = [<zmq.sugar.frame.Frame object>, <zmq.sugar.frame.Frame object>, <zmq.sugar.frame.Frame object>, <zmq.sugar.frame.Frame object>, <zmq.sugar.frame.Frame object>, <zmq.sugar.frame.Frame object>, <zmq.sugar.frame.Frame object>]\n    284             return dispatcher\n    285 \n    286         for s in self.shell_streams:\n    287             s.on_recv(make_dispatcher(s), copy=False)\n\n...........................................................................\n/Users/mikeghoul/anaconda/envs/py35/lib/python3.5/site-packages/ipykernel/kernelbase.py in dispatch_shell(self=<ipykernel.ipkernel.IPythonKernel object>, stream=<zmq.eventloop.zmqstream.ZMQStream object>, msg={'buffers': [], 'content': {'allow_stdin': True, 'code': '%%time\\ngs_gbt = gs_gbt.fit(x_train, y_train)', 'silent': False, 'stop_on_error': True, 'store_history': True, 'user_expressions': {}}, 'header': {'date': datetime.datetime(2017, 9, 6, 20, 37, 4, 685018, tzinfo=datetime.timezone.utc), 'msg_id': '18DADD79228F46FA9D1484D2DD11DDE0', 'msg_type': 'execute_request', 'session': 'F8998EAA59024FEA83AC48F899FEC55D', 'username': 'username', 'version': '5.0'}, 'metadata': {}, 'msg_id': '18DADD79228F46FA9D1484D2DD11DDE0', 'msg_type': 'execute_request', 'parent_header': {}})\n    230             self.log.warn(\"Unknown message type: %r\", msg_type)\n    231         else:\n    232             self.log.debug(\"%s: %s\", msg_type, msg)\n    233             self.pre_handler_hook()\n    234             try:\n--> 235                 handler(stream, idents, msg)\n        handler = <bound method Kernel.execute_request of <ipykernel.ipkernel.IPythonKernel object>>\n        stream = <zmq.eventloop.zmqstream.ZMQStream object>\n        idents = [b'F8998EAA59024FEA83AC48F899FEC55D']\n        msg = {'buffers': [], 'content': {'allow_stdin': True, 'code': '%%time\\ngs_gbt = gs_gbt.fit(x_train, y_train)', 'silent': False, 'stop_on_error': True, 'store_history': True, 'user_expressions': {}}, 'header': {'date': datetime.datetime(2017, 9, 6, 20, 37, 4, 685018, tzinfo=datetime.timezone.utc), 'msg_id': '18DADD79228F46FA9D1484D2DD11DDE0', 'msg_type': 'execute_request', 'session': 'F8998EAA59024FEA83AC48F899FEC55D', 'username': 'username', 'version': '5.0'}, 'metadata': {}, 'msg_id': '18DADD79228F46FA9D1484D2DD11DDE0', 'msg_type': 'execute_request', 'parent_header': {}}\n    236             except Exception:\n    237                 self.log.error(\"Exception in message handler:\", exc_info=True)\n    238             finally:\n    239                 self.post_handler_hook()\n\n...........................................................................\n/Users/mikeghoul/anaconda/envs/py35/lib/python3.5/site-packages/ipykernel/kernelbase.py in execute_request(self=<ipykernel.ipkernel.IPythonKernel object>, stream=<zmq.eventloop.zmqstream.ZMQStream object>, ident=[b'F8998EAA59024FEA83AC48F899FEC55D'], parent={'buffers': [], 'content': {'allow_stdin': True, 'code': '%%time\\ngs_gbt = gs_gbt.fit(x_train, y_train)', 'silent': False, 'stop_on_error': True, 'store_history': True, 'user_expressions': {}}, 'header': {'date': datetime.datetime(2017, 9, 6, 20, 37, 4, 685018, tzinfo=datetime.timezone.utc), 'msg_id': '18DADD79228F46FA9D1484D2DD11DDE0', 'msg_type': 'execute_request', 'session': 'F8998EAA59024FEA83AC48F899FEC55D', 'username': 'username', 'version': '5.0'}, 'metadata': {}, 'msg_id': '18DADD79228F46FA9D1484D2DD11DDE0', 'msg_type': 'execute_request', 'parent_header': {}})\n    394         if not silent:\n    395             self.execution_count += 1\n    396             self._publish_execute_input(code, parent, self.execution_count)\n    397 \n    398         reply_content = self.do_execute(code, silent, store_history,\n--> 399                                         user_expressions, allow_stdin)\n        user_expressions = {}\n        allow_stdin = True\n    400 \n    401         # Flush output before sending the reply.\n    402         sys.stdout.flush()\n    403         sys.stderr.flush()\n\n...........................................................................\n/Users/mikeghoul/anaconda/envs/py35/lib/python3.5/site-packages/ipykernel/ipkernel.py in do_execute(self=<ipykernel.ipkernel.IPythonKernel object>, code='%%time\\ngs_gbt = gs_gbt.fit(x_train, y_train)', silent=False, store_history=True, user_expressions={}, allow_stdin=True)\n    191 \n    192         self._forward_input(allow_stdin)\n    193 \n    194         reply_content = {}\n    195         try:\n--> 196             res = shell.run_cell(code, store_history=store_history, silent=silent)\n        res = undefined\n        shell.run_cell = <bound method ZMQInteractiveShell.run_cell of <ipykernel.zmqshell.ZMQInteractiveShell object>>\n        code = '%%time\\ngs_gbt = gs_gbt.fit(x_train, y_train)'\n        store_history = True\n        silent = False\n    197         finally:\n    198             self._restore_input()\n    199 \n    200         if res.error_before_exec is not None:\n\n...........................................................................\n/Users/mikeghoul/anaconda/envs/py35/lib/python3.5/site-packages/ipykernel/zmqshell.py in run_cell(self=<ipykernel.zmqshell.ZMQInteractiveShell object>, *args=('%%time\\ngs_gbt = gs_gbt.fit(x_train, y_train)',), **kwargs={'silent': False, 'store_history': True})\n    528             )\n    529         self.payload_manager.write_payload(payload)\n    530 \n    531     def run_cell(self, *args, **kwargs):\n    532         self._last_traceback = None\n--> 533         return super(ZMQInteractiveShell, self).run_cell(*args, **kwargs)\n        self.run_cell = <bound method ZMQInteractiveShell.run_cell of <ipykernel.zmqshell.ZMQInteractiveShell object>>\n        args = ('%%time\\ngs_gbt = gs_gbt.fit(x_train, y_train)',)\n        kwargs = {'silent': False, 'store_history': True}\n    534 \n    535     def _showtraceback(self, etype, evalue, stb):\n    536         # try to preserve ordering of tracebacks and print statements\n    537         sys.stdout.flush()\n\n...........................................................................\n/Users/mikeghoul/anaconda/envs/py35/lib/python3.5/site-packages/IPython/core/interactiveshell.py in run_cell(self=<ipykernel.zmqshell.ZMQInteractiveShell object>, raw_cell='%%time\\ngs_gbt = gs_gbt.fit(x_train, y_train)', store_history=True, silent=False, shell_futures=True)\n   2712                 self.displayhook.exec_result = result\n   2713 \n   2714                 # Execute the user code\n   2715                 interactivity = \"none\" if silent else self.ast_node_interactivity\n   2716                 has_raised = self.run_ast_nodes(code_ast.body, cell_name,\n-> 2717                    interactivity=interactivity, compiler=compiler, result=result)\n        interactivity = 'last_expr'\n        compiler = <IPython.core.compilerop.CachingCompiler object>\n   2718                 \n   2719                 self.last_execution_succeeded = not has_raised\n   2720 \n   2721                 # Reset this so later displayed values do not modify the\n\n...........................................................................\n/Users/mikeghoul/anaconda/envs/py35/lib/python3.5/site-packages/IPython/core/interactiveshell.py in run_ast_nodes(self=<ipykernel.zmqshell.ZMQInteractiveShell object>, nodelist=[<_ast.Expr object>], cell_name='<ipython-input-221-b35b073dc8e5>', interactivity='last', compiler=<IPython.core.compilerop.CachingCompiler object>, result=<ExecutionResult object at 1d7429fd0, execution_..._before_exec=None error_in_exec=None result=None>)\n   2822                     return True\n   2823 \n   2824             for i, node in enumerate(to_run_interactive):\n   2825                 mod = ast.Interactive([node])\n   2826                 code = compiler(mod, cell_name, \"single\")\n-> 2827                 if self.run_code(code, result):\n        self.run_code = <bound method InteractiveShell.run_code of <ipykernel.zmqshell.ZMQInteractiveShell object>>\n        code = <code object <module> at 0x18d6e6420, file \"<ipython-input-221-b35b073dc8e5>\", line 1>\n        result = <ExecutionResult object at 1d7429fd0, execution_..._before_exec=None error_in_exec=None result=None>\n   2828                     return True\n   2829 \n   2830             # Flush softspace\n   2831             if softspace(sys.stdout, 0):\n\n...........................................................................\n/Users/mikeghoul/anaconda/envs/py35/lib/python3.5/site-packages/IPython/core/interactiveshell.py in run_code(self=<ipykernel.zmqshell.ZMQInteractiveShell object>, code_obj=<code object <module> at 0x18d6e6420, file \"<ipython-input-221-b35b073dc8e5>\", line 1>, result=<ExecutionResult object at 1d7429fd0, execution_..._before_exec=None error_in_exec=None result=None>)\n   2876         outflag = 1  # happens in more places, so it's easier as default\n   2877         try:\n   2878             try:\n   2879                 self.hooks.pre_run_code_hook()\n   2880                 #rprint('Running code', repr(code_obj)) # dbg\n-> 2881                 exec(code_obj, self.user_global_ns, self.user_ns)\n        code_obj = <code object <module> at 0x18d6e6420, file \"<ipython-input-221-b35b073dc8e5>\", line 1>\n        self.user_global_ns = {'A': (array([ 0.        ,  0.04104794,  1.        ]), array([ 0.        ,  0.85563859,  1.        ]), array([2, 1, 0])), 'B': (array([ 0.        ,  0.05132556,  1.        ]), array([ 0.        ,  0.82246377,  1.        ]), array([2, 1, 0])), 'C_values': [0.001, 0.01, 0.1, 1, 10, 100], 'GradientBoostingClassifier': <class 'sklearn.ensemble.gradient_boosting.GradientBoostingClassifier'>, 'GridSearchCV': <class 'sklearn.model_selection._search.GridSearchCV'>, 'In': ['', \"import spacy\\nnlp = spacy.load('en')\", 'import pandas as pd\\nimport re', 'clean_final = pd.read_csv(\"clean_final_news.csv\"...inal.drop([\\'index\\'], 1, inplace=True)\\nclean_final', 'clean_final.text[6]', 'clean_final.shape', '# Convert text and response to array \\nx_text = c...t.values\\ny_response = clean_final.response.values', 'for idx in range(len(x_text)):\\n    x_text[idx] = re.sub(r\\'@([A-Za-z0-9_]+)\\', \"\", str(x_text[idx]))', 'for idx in range(len(x_text)):\\n    x_text[idx] = re.sub(r\"(https|http)\\\\S+\", \"\", str(x_text[idx]))', 'len(x_text)', '# Update puncuation list in spacy\\nnlp.vocab[\"$\"]...\"].is_punct = True\\nnlp.vocab[\"~\"].is_punct = True', '# helper function to eliminate tokens that are p...token.is_space or token.is_stop or token.like_num', '# function to take array of articles and turn th...         lemma.append(None)\\n    \\n    return lemma', '# function to recombine nested list of tokens in...ppend(concat_art)\\n    \\n    return parsed_articles', '# function to match \"cleaned\" text back up with ...    \\n    return list(zip(observations, response))', '# Lemmatize text\\nlem = lemmatize_txt(x_text)', 'from gensim.models import Phrases\\nfrom gensim.models.phrases import Phraser', '# Create bi-grams for our text \\nphrases = Phrase...= Phraser(phrases)\\nbigram_lem = list(bigram[lem])', '# Create tri-grams for our text\\nphrases2 = Phras...phrases2)\\ntrigram_lem = list(trigram[bigram_lem])', '# Recombine full article text for unigrams, bigr...am_lem)\\ntri_lem_comb = lemma_combine(trigram_lem)', ...], 'LogisticRegression': <class 'sklearn.linear_model.logistic.LogisticRegression'>, 'MultinomialNB': <class 'sklearn.naive_bayes.MultinomialNB'>, 'Out': {3:                                                 ...610                1  \n\n[34611 rows x 10 columns], 4: 'Let friends in your social network know what you...ateAthletic . @wachfox pic.twitter.com/eyoSMpZDBK', 5: (34611, 9), 9: 34611, 32: Pipeline(steps=[('tfidf', TfidfVectorizer(analyz...B(alpha=1.0, class_prior=None, fit_prior=True))]), 33: 0.82877058653568336, 34: 0.80528672540806012, 42: {'clf__alpha': 1e-05, 'tfidf__max_df': 0.75, 'tfidf__min_df': 0.001}, 43: 0.90931089280554755, 44: 0.91304347826086951, ...}, 'Phraser': <class 'gensim.models.phrases.Phraser'>, ...}\n        self.user_ns = {'A': (array([ 0.        ,  0.04104794,  1.        ]), array([ 0.        ,  0.85563859,  1.        ]), array([2, 1, 0])), 'B': (array([ 0.        ,  0.05132556,  1.        ]), array([ 0.        ,  0.82246377,  1.        ]), array([2, 1, 0])), 'C_values': [0.001, 0.01, 0.1, 1, 10, 100], 'GradientBoostingClassifier': <class 'sklearn.ensemble.gradient_boosting.GradientBoostingClassifier'>, 'GridSearchCV': <class 'sklearn.model_selection._search.GridSearchCV'>, 'In': ['', \"import spacy\\nnlp = spacy.load('en')\", 'import pandas as pd\\nimport re', 'clean_final = pd.read_csv(\"clean_final_news.csv\"...inal.drop([\\'index\\'], 1, inplace=True)\\nclean_final', 'clean_final.text[6]', 'clean_final.shape', '# Convert text and response to array \\nx_text = c...t.values\\ny_response = clean_final.response.values', 'for idx in range(len(x_text)):\\n    x_text[idx] = re.sub(r\\'@([A-Za-z0-9_]+)\\', \"\", str(x_text[idx]))', 'for idx in range(len(x_text)):\\n    x_text[idx] = re.sub(r\"(https|http)\\\\S+\", \"\", str(x_text[idx]))', 'len(x_text)', '# Update puncuation list in spacy\\nnlp.vocab[\"$\"]...\"].is_punct = True\\nnlp.vocab[\"~\"].is_punct = True', '# helper function to eliminate tokens that are p...token.is_space or token.is_stop or token.like_num', '# function to take array of articles and turn th...         lemma.append(None)\\n    \\n    return lemma', '# function to recombine nested list of tokens in...ppend(concat_art)\\n    \\n    return parsed_articles', '# function to match \"cleaned\" text back up with ...    \\n    return list(zip(observations, response))', '# Lemmatize text\\nlem = lemmatize_txt(x_text)', 'from gensim.models import Phrases\\nfrom gensim.models.phrases import Phraser', '# Create bi-grams for our text \\nphrases = Phrase...= Phraser(phrases)\\nbigram_lem = list(bigram[lem])', '# Create tri-grams for our text\\nphrases2 = Phras...phrases2)\\ntrigram_lem = list(trigram[bigram_lem])', '# Recombine full article text for unigrams, bigr...am_lem)\\ntri_lem_comb = lemma_combine(trigram_lem)', ...], 'LogisticRegression': <class 'sklearn.linear_model.logistic.LogisticRegression'>, 'MultinomialNB': <class 'sklearn.naive_bayes.MultinomialNB'>, 'Out': {3:                                                 ...610                1  \n\n[34611 rows x 10 columns], 4: 'Let friends in your social network know what you...ateAthletic . @wachfox pic.twitter.com/eyoSMpZDBK', 5: (34611, 9), 9: 34611, 32: Pipeline(steps=[('tfidf', TfidfVectorizer(analyz...B(alpha=1.0, class_prior=None, fit_prior=True))]), 33: 0.82877058653568336, 34: 0.80528672540806012, 42: {'clf__alpha': 1e-05, 'tfidf__max_df': 0.75, 'tfidf__min_df': 0.001}, 43: 0.90931089280554755, 44: 0.91304347826086951, ...}, 'Phraser': <class 'gensim.models.phrases.Phraser'>, ...}\n   2882             finally:\n   2883                 # Reset our crash handler in place\n   2884                 sys.excepthook = old_excepthook\n   2885         except SystemExit as e:\n\n...........................................................................\n/Users/mikeghoul/Desktop/Data Science Bootcamp/Projects/Capstone/<ipython-input-221-b35b073dc8e5> in <module>()\n----> 1 \n      2 \n      3 \n      4 \n      5 \n      6 get_ipython().run_cell_magic('time', '', 'gs_gbt = gs_gbt.fit(x_train, y_train)')\n      7 \n      8 \n      9 \n     10 \n\n...........................................................................\n/Users/mikeghoul/anaconda/envs/py35/lib/python3.5/site-packages/IPython/core/interactiveshell.py in run_cell_magic(self=<ipykernel.zmqshell.ZMQInteractiveShell object>, magic_name='time', line='', cell='gs_gbt = gs_gbt.fit(x_train, y_train)')\n   2110             # This will need to be updated if the internal calling logic gets\n   2111             # refactored, or else we'll be expanding the wrong variables.\n   2112             stack_depth = 2\n   2113             magic_arg_s = self.var_expand(line, stack_depth)\n   2114             with self.builtin_trap:\n-> 2115                 result = fn(magic_arg_s, cell)\n        result = undefined\n        fn = <bound method ExecutionMagics.time of <IPython.core.magics.execution.ExecutionMagics object>>\n        magic_arg_s = ''\n        cell = 'gs_gbt = gs_gbt.fit(x_train, y_train)'\n   2116             return result\n   2117 \n   2118     def find_line_magic(self, magic_name):\n   2119         \"\"\"Find and return a line magic by name.\n\n...........................................................................\n/Users/mikeghoul/Desktop/Data Science Bootcamp/Projects/Capstone/<decorator-gen-59> in time(self=<IPython.core.magics.execution.ExecutionMagics object>, line='', cell='gs_gbt = gs_gbt.fit(x_train, y_train)', local_ns=None)\n      1 \n----> 2 \n      3 \n      4 \n      5 \n      6 \n      7 \n      8 \n      9 \n     10 \n\n...........................................................................\n/Users/mikeghoul/anaconda/envs/py35/lib/python3.5/site-packages/IPython/core/magic.py in <lambda>(f=<function ExecutionMagics.time>, *a=(<IPython.core.magics.execution.ExecutionMagics object>, '', 'gs_gbt = gs_gbt.fit(x_train, y_train)', None), **k={})\n    183     validate_type(magic_kind)\n    184 \n    185     # This is a closure to capture the magic_kind.  We could also use a class,\n    186     # but it's overkill for just that one bit of state.\n    187     def magic_deco(arg):\n--> 188         call = lambda f, *a, **k: f(*a, **k)\n        f = <function ExecutionMagics.time>\n        a = (<IPython.core.magics.execution.ExecutionMagics object>, '', 'gs_gbt = gs_gbt.fit(x_train, y_train)', None)\n        k = {}\n    189 \n    190         if callable(arg):\n    191             # \"Naked\" decorator call (just @foo, no args)\n    192             func = arg\n\n...........................................................................\n/Users/mikeghoul/anaconda/envs/py35/lib/python3.5/site-packages/IPython/core/magics/execution.py in time(self=<IPython.core.magics.execution.ExecutionMagics object>, line='', cell='gs_gbt = gs_gbt.fit(x_train, y_train)', local_ns=None)\n   1180             st = clock2()\n   1181             out = eval(code, glob, local_ns)\n   1182             end = clock2()\n   1183         else:\n   1184             st = clock2()\n-> 1185             exec(code, glob, local_ns)\n        code = <code object <module> at 0x1e776b780, file \"<timed exec>\", line 1>\n        glob = {'A': (array([ 0.        ,  0.04104794,  1.        ]), array([ 0.        ,  0.85563859,  1.        ]), array([2, 1, 0])), 'B': (array([ 0.        ,  0.05132556,  1.        ]), array([ 0.        ,  0.82246377,  1.        ]), array([2, 1, 0])), 'C_values': [0.001, 0.01, 0.1, 1, 10, 100], 'GradientBoostingClassifier': <class 'sklearn.ensemble.gradient_boosting.GradientBoostingClassifier'>, 'GridSearchCV': <class 'sklearn.model_selection._search.GridSearchCV'>, 'In': ['', \"import spacy\\nnlp = spacy.load('en')\", 'import pandas as pd\\nimport re', 'clean_final = pd.read_csv(\"clean_final_news.csv\"...inal.drop([\\'index\\'], 1, inplace=True)\\nclean_final', 'clean_final.text[6]', 'clean_final.shape', '# Convert text and response to array \\nx_text = c...t.values\\ny_response = clean_final.response.values', 'for idx in range(len(x_text)):\\n    x_text[idx] = re.sub(r\\'@([A-Za-z0-9_]+)\\', \"\", str(x_text[idx]))', 'for idx in range(len(x_text)):\\n    x_text[idx] = re.sub(r\"(https|http)\\\\S+\", \"\", str(x_text[idx]))', 'len(x_text)', '# Update puncuation list in spacy\\nnlp.vocab[\"$\"]...\"].is_punct = True\\nnlp.vocab[\"~\"].is_punct = True', '# helper function to eliminate tokens that are p...token.is_space or token.is_stop or token.like_num', '# function to take array of articles and turn th...         lemma.append(None)\\n    \\n    return lemma', '# function to recombine nested list of tokens in...ppend(concat_art)\\n    \\n    return parsed_articles', '# function to match \"cleaned\" text back up with ...    \\n    return list(zip(observations, response))', '# Lemmatize text\\nlem = lemmatize_txt(x_text)', 'from gensim.models import Phrases\\nfrom gensim.models.phrases import Phraser', '# Create bi-grams for our text \\nphrases = Phrase...= Phraser(phrases)\\nbigram_lem = list(bigram[lem])', '# Create tri-grams for our text\\nphrases2 = Phras...phrases2)\\ntrigram_lem = list(trigram[bigram_lem])', '# Recombine full article text for unigrams, bigr...am_lem)\\ntri_lem_comb = lemma_combine(trigram_lem)', ...], 'LogisticRegression': <class 'sklearn.linear_model.logistic.LogisticRegression'>, 'MultinomialNB': <class 'sklearn.naive_bayes.MultinomialNB'>, 'Out': {3:                                                 ...610                1  \n\n[34611 rows x 10 columns], 4: 'Let friends in your social network know what you...ateAthletic . @wachfox pic.twitter.com/eyoSMpZDBK', 5: (34611, 9), 9: 34611, 32: Pipeline(steps=[('tfidf', TfidfVectorizer(analyz...B(alpha=1.0, class_prior=None, fit_prior=True))]), 33: 0.82877058653568336, 34: 0.80528672540806012, 42: {'clf__alpha': 1e-05, 'tfidf__max_df': 0.75, 'tfidf__min_df': 0.001}, 43: 0.90931089280554755, 44: 0.91304347826086951, ...}, 'Phraser': <class 'gensim.models.phrases.Phraser'>, ...}\n        local_ns = None\n   1186             end = clock2()\n   1187             out = None\n   1188         wall_end = wtime()\n   1189         # Compute actual times and report\n\n...........................................................................\n/Users/mikeghoul/Desktop/Data Science Bootcamp/Projects/Capstone/<timed exec> in <module>()\n----> 1 \n      2 \n      3 \n      4 \n      5 \n      6 \n      7 \n      8 \n      9 \n     10 \n\n...........................................................................\n/Users/mikeghoul/anaconda/envs/py35/lib/python3.5/site-packages/sklearn/model_selection/_search.py in fit(self=GridSearchCV(cv=None, error_score='raise',\n     ...train_score=True,\n       scoring='f1', verbose=0), X=['zurich nov_reuters spotlight find cancer cure sp...create value contract future editing anna willard', 'post_october daisy_luther oh loretta ill_bet ag_..._word share_article_favorite_social network_share', 'mike_coppinger_november 10:02 pm_follow las_vega...ig butt everyone go saturday ap_photo_john_locher', \"man nostalgic simpler era hour_ago close_vol_iss...n_onion 's_newsletter_spam filter_daily_headlines\", 'john_wall approach free_throw_line early quarter...ble point_rebound morris contribute point_rebound', \"white_house_press_secretary josh_earnest_say mon...president_obama send_delegation tyrant 's funeral\", 'social_care chancellor wrong social_care_funding...drew_marr sunday_november_gmt_view sharing_option', 'hard working american vs. government_parasite mi...mment work soup_kitchen day maybe gary2s approach', 'cnn.com_div_class=\"banner_id=\"cnn_300x250_sync_f...draiser run event host constance milstein section', 'gold_coast target good_friend afl_draft strategy...jor reason interested join battle queensland club', '1940s baghdad 1980s newcastle archive urban chan...nuszka guardianwitness_facebook_twitter_pinterest', 'jessie_karangu november 7:37 pm michael_jordan a...am time president beloved chicago bull dream team', 'swipe_leave_right attack clones translate chines... jedi council folks crooked yoda say whitemamba83', 'michael cliff waters lead analyst energy_transfe..._environmental science_follow_adventure instagram', 'janet_yellen stay president trump 12:53 pm_est i...mber schmidt not think google successful november', 'obama quickly appeal_court_ruling stop new_overt...ss intend follow_opinion_section twitter_facebook', '1:30_pm follow josh_norman push cowboys_quarterb... injure_reserve ne good performance position post', 'enlarge_image aaron_lee tasjan perform world_caf...uhaus vuhaus episode_playlist_world_cafe 11/29/16', 'washington_post live election_night view party e...dvertise_washington post_video_buildnumber:0299c0', 'sharpton try dismiss say oh talk heavily edit vi..._not point speck brother eye acknowledge log boom', ...], y=array([0, 1, 0, ..., 0, 1, 0]), groups=None)\n    940 \n    941         groups : array-like, with shape (n_samples,), optional\n    942             Group labels for the samples used while splitting the dataset into\n    943             train/test set.\n    944         \"\"\"\n--> 945         return self._fit(X, y, groups, ParameterGrid(self.param_grid))\n        self._fit = <bound method BaseSearchCV._fit of GridSearchCV(...rain_score=True,\n       scoring='f1', verbose=0)>\n        X = ['zurich nov_reuters spotlight find cancer cure sp...create value contract future editing anna willard', 'post_october daisy_luther oh loretta ill_bet ag_..._word share_article_favorite_social network_share', 'mike_coppinger_november 10:02 pm_follow las_vega...ig butt everyone go saturday ap_photo_john_locher', \"man nostalgic simpler era hour_ago close_vol_iss...n_onion 's_newsletter_spam filter_daily_headlines\", 'john_wall approach free_throw_line early quarter...ble point_rebound morris contribute point_rebound', \"white_house_press_secretary josh_earnest_say mon...president_obama send_delegation tyrant 's funeral\", 'social_care chancellor wrong social_care_funding...drew_marr sunday_november_gmt_view sharing_option', 'hard working american vs. government_parasite mi...mment work soup_kitchen day maybe gary2s approach', 'cnn.com_div_class=\"banner_id=\"cnn_300x250_sync_f...draiser run event host constance milstein section', 'gold_coast target good_friend afl_draft strategy...jor reason interested join battle queensland club', '1940s baghdad 1980s newcastle archive urban chan...nuszka guardianwitness_facebook_twitter_pinterest', 'jessie_karangu november 7:37 pm michael_jordan a...am time president beloved chicago bull dream team', 'swipe_leave_right attack clones translate chines... jedi council folks crooked yoda say whitemamba83', 'michael cliff waters lead analyst energy_transfe..._environmental science_follow_adventure instagram', 'janet_yellen stay president trump 12:53 pm_est i...mber schmidt not think google successful november', 'obama quickly appeal_court_ruling stop new_overt...ss intend follow_opinion_section twitter_facebook', '1:30_pm follow josh_norman push cowboys_quarterb... injure_reserve ne good performance position post', 'enlarge_image aaron_lee tasjan perform world_caf...uhaus vuhaus episode_playlist_world_cafe 11/29/16', 'washington_post live election_night view party e...dvertise_washington post_video_buildnumber:0299c0', 'sharpton try dismiss say oh talk heavily edit vi..._not point speck brother eye acknowledge log boom', ...]\n        y = array([0, 1, 0, ..., 0, 1, 0])\n        groups = None\n        self.param_grid = {'gbt__n_estimators': (50, 100, 200), 'tfidf__min_df': (0.001, 0.01, 0.1)}\n    946 \n    947 \n    948 class RandomizedSearchCV(BaseSearchCV):\n    949     \"\"\"Randomized search on hyper parameters.\n\n...........................................................................\n/Users/mikeghoul/anaconda/envs/py35/lib/python3.5/site-packages/sklearn/model_selection/_search.py in _fit(self=GridSearchCV(cv=None, error_score='raise',\n     ...train_score=True,\n       scoring='f1', verbose=0), X=['zurich nov_reuters spotlight find cancer cure sp...create value contract future editing anna willard', 'post_october daisy_luther oh loretta ill_bet ag_..._word share_article_favorite_social network_share', 'mike_coppinger_november 10:02 pm_follow las_vega...ig butt everyone go saturday ap_photo_john_locher', \"man nostalgic simpler era hour_ago close_vol_iss...n_onion 's_newsletter_spam filter_daily_headlines\", 'john_wall approach free_throw_line early quarter...ble point_rebound morris contribute point_rebound', \"white_house_press_secretary josh_earnest_say mon...president_obama send_delegation tyrant 's funeral\", 'social_care chancellor wrong social_care_funding...drew_marr sunday_november_gmt_view sharing_option', 'hard working american vs. government_parasite mi...mment work soup_kitchen day maybe gary2s approach', 'cnn.com_div_class=\"banner_id=\"cnn_300x250_sync_f...draiser run event host constance milstein section', 'gold_coast target good_friend afl_draft strategy...jor reason interested join battle queensland club', '1940s baghdad 1980s newcastle archive urban chan...nuszka guardianwitness_facebook_twitter_pinterest', 'jessie_karangu november 7:37 pm michael_jordan a...am time president beloved chicago bull dream team', 'swipe_leave_right attack clones translate chines... jedi council folks crooked yoda say whitemamba83', 'michael cliff waters lead analyst energy_transfe..._environmental science_follow_adventure instagram', 'janet_yellen stay president trump 12:53 pm_est i...mber schmidt not think google successful november', 'obama quickly appeal_court_ruling stop new_overt...ss intend follow_opinion_section twitter_facebook', '1:30_pm follow josh_norman push cowboys_quarterb... injure_reserve ne good performance position post', 'enlarge_image aaron_lee tasjan perform world_caf...uhaus vuhaus episode_playlist_world_cafe 11/29/16', 'washington_post live election_night view party e...dvertise_washington post_video_buildnumber:0299c0', 'sharpton try dismiss say oh talk heavily edit vi..._not point speck brother eye acknowledge log boom', ...], y=array([0, 1, 0, ..., 0, 1, 0]), groups=None, parameter_iterable=<sklearn.model_selection._search.ParameterGrid object>)\n    559                                   fit_params=self.fit_params,\n    560                                   return_train_score=self.return_train_score,\n    561                                   return_n_test_samples=True,\n    562                                   return_times=True, return_parameters=True,\n    563                                   error_score=self.error_score)\n--> 564           for parameters in parameter_iterable\n        parameters = undefined\n        parameter_iterable = <sklearn.model_selection._search.ParameterGrid object>\n    565           for train, test in cv_iter)\n    566 \n    567         # if one choose to see train score, \"out\" will contain train score info\n    568         if self.return_train_score:\n\n...........................................................................\n/Users/mikeghoul/anaconda/envs/py35/lib/python3.5/site-packages/sklearn/externals/joblib/parallel.py in __call__(self=Parallel(n_jobs=-1), iterable=<generator object BaseSearchCV._fit.<locals>.<genexpr>>)\n    763             if pre_dispatch == \"all\" or n_jobs == 1:\n    764                 # The iterable was consumed all at once by the above for loop.\n    765                 # No need to wait for async callbacks to trigger to\n    766                 # consumption.\n    767                 self._iterating = False\n--> 768             self.retrieve()\n        self.retrieve = <bound method Parallel.retrieve of Parallel(n_jobs=-1)>\n    769             # Make sure that we get a last message telling us we are done\n    770             elapsed_time = time.time() - self._start_time\n    771             self._print('Done %3i out of %3i | elapsed: %s finished',\n    772                         (len(self._output), len(self._output),\n\n---------------------------------------------------------------------------\nSub-process traceback:\n---------------------------------------------------------------------------\nTypeError                                          Wed Sep  6 16:38:40 2017\nPID: 35616     Python 3.5.3: /Users/mikeghoul/anaconda/envs/py35/bin/python\n...........................................................................\n/Users/mikeghoul/anaconda/envs/py35/lib/python3.5/site-packages/sklearn/externals/joblib/parallel.py in __call__(self=<sklearn.externals.joblib.parallel.BatchedCalls object>)\n    126     def __init__(self, iterator_slice):\n    127         self.items = list(iterator_slice)\n    128         self._size = len(self.items)\n    129 \n    130     def __call__(self):\n--> 131         return [func(*args, **kwargs) for func, args, kwargs in self.items]\n        self.items = [(<function _fit_and_score>, (Pipeline(steps=[('tfidf', TfidfVectorizer(analyz...   subsample=1.0, verbose=0, warm_start=False))]), ['zurich nov_reuters spotlight find cancer cure sp...create value contract future editing anna willard', 'post_october daisy_luther oh loretta ill_bet ag_..._word share_article_favorite_social network_share', 'mike_coppinger_november 10:02 pm_follow las_vega...ig butt everyone go saturday ap_photo_john_locher', \"man nostalgic simpler era hour_ago close_vol_iss...n_onion 's_newsletter_spam filter_daily_headlines\", 'john_wall approach free_throw_line early quarter...ble point_rebound morris contribute point_rebound', \"white_house_press_secretary josh_earnest_say mon...president_obama send_delegation tyrant 's funeral\", 'social_care chancellor wrong social_care_funding...drew_marr sunday_november_gmt_view sharing_option', 'hard working american vs. government_parasite mi...mment work soup_kitchen day maybe gary2s approach', 'cnn.com_div_class=\"banner_id=\"cnn_300x250_sync_f...draiser run event host constance milstein section', 'gold_coast target good_friend afl_draft strategy...jor reason interested join battle queensland club', '1940s baghdad 1980s newcastle archive urban chan...nuszka guardianwitness_facebook_twitter_pinterest', 'jessie_karangu november 7:37 pm michael_jordan a...am time president beloved chicago bull dream team', 'swipe_leave_right attack clones translate chines... jedi council folks crooked yoda say whitemamba83', 'michael cliff waters lead analyst energy_transfe..._environmental science_follow_adventure instagram', 'janet_yellen stay president trump 12:53 pm_est i...mber schmidt not think google successful november', 'obama quickly appeal_court_ruling stop new_overt...ss intend follow_opinion_section twitter_facebook', '1:30_pm follow josh_norman push cowboys_quarterb... injure_reserve ne good performance position post', 'enlarge_image aaron_lee tasjan perform world_caf...uhaus vuhaus episode_playlist_world_cafe 11/29/16', 'washington_post live election_night view party e...dvertise_washington post_video_buildnumber:0299c0', 'sharpton try dismiss say oh talk heavily edit vi..._not point speck brother eye acknowledge log boom', ...], array([0, 1, 0, ..., 0, 1, 0]), make_scorer(f1_score), array([ 9174,  9175,  9176, ..., 27685, 27686, 27687]), array([   0,    1,    2, ..., 9252, 9253, 9254]), 0, {'gbt__n_estimators': 50, 'tfidf__min_df': 0.001}), {'error_score': 'raise', 'fit_params': {}, 'return_n_test_samples': True, 'return_parameters': True, 'return_times': True, 'return_train_score': True})]\n    132 \n    133     def __len__(self):\n    134         return self._size\n    135 \n\n...........................................................................\n/Users/mikeghoul/anaconda/envs/py35/lib/python3.5/site-packages/sklearn/externals/joblib/parallel.py in <listcomp>(.0=<list_iterator object>)\n    126     def __init__(self, iterator_slice):\n    127         self.items = list(iterator_slice)\n    128         self._size = len(self.items)\n    129 \n    130     def __call__(self):\n--> 131         return [func(*args, **kwargs) for func, args, kwargs in self.items]\n        func = <function _fit_and_score>\n        args = (Pipeline(steps=[('tfidf', TfidfVectorizer(analyz...   subsample=1.0, verbose=0, warm_start=False))]), ['zurich nov_reuters spotlight find cancer cure sp...create value contract future editing anna willard', 'post_october daisy_luther oh loretta ill_bet ag_..._word share_article_favorite_social network_share', 'mike_coppinger_november 10:02 pm_follow las_vega...ig butt everyone go saturday ap_photo_john_locher', \"man nostalgic simpler era hour_ago close_vol_iss...n_onion 's_newsletter_spam filter_daily_headlines\", 'john_wall approach free_throw_line early quarter...ble point_rebound morris contribute point_rebound', \"white_house_press_secretary josh_earnest_say mon...president_obama send_delegation tyrant 's funeral\", 'social_care chancellor wrong social_care_funding...drew_marr sunday_november_gmt_view sharing_option', 'hard working american vs. government_parasite mi...mment work soup_kitchen day maybe gary2s approach', 'cnn.com_div_class=\"banner_id=\"cnn_300x250_sync_f...draiser run event host constance milstein section', 'gold_coast target good_friend afl_draft strategy...jor reason interested join battle queensland club', '1940s baghdad 1980s newcastle archive urban chan...nuszka guardianwitness_facebook_twitter_pinterest', 'jessie_karangu november 7:37 pm michael_jordan a...am time president beloved chicago bull dream team', 'swipe_leave_right attack clones translate chines... jedi council folks crooked yoda say whitemamba83', 'michael cliff waters lead analyst energy_transfe..._environmental science_follow_adventure instagram', 'janet_yellen stay president trump 12:53 pm_est i...mber schmidt not think google successful november', 'obama quickly appeal_court_ruling stop new_overt...ss intend follow_opinion_section twitter_facebook', '1:30_pm follow josh_norman push cowboys_quarterb... injure_reserve ne good performance position post', 'enlarge_image aaron_lee tasjan perform world_caf...uhaus vuhaus episode_playlist_world_cafe 11/29/16', 'washington_post live election_night view party e...dvertise_washington post_video_buildnumber:0299c0', 'sharpton try dismiss say oh talk heavily edit vi..._not point speck brother eye acknowledge log boom', ...], array([0, 1, 0, ..., 0, 1, 0]), make_scorer(f1_score), array([ 9174,  9175,  9176, ..., 27685, 27686, 27687]), array([   0,    1,    2, ..., 9252, 9253, 9254]), 0, {'gbt__n_estimators': 50, 'tfidf__min_df': 0.001})\n        kwargs = {'error_score': 'raise', 'fit_params': {}, 'return_n_test_samples': True, 'return_parameters': True, 'return_times': True, 'return_train_score': True}\n    132 \n    133     def __len__(self):\n    134         return self._size\n    135 \n\n...........................................................................\n/Users/mikeghoul/anaconda/envs/py35/lib/python3.5/site-packages/sklearn/model_selection/_validation.py in _fit_and_score(estimator=Pipeline(steps=[('tfidf', TfidfVectorizer(analyz...   subsample=1.0, verbose=0, warm_start=False))]), X=['zurich nov_reuters spotlight find cancer cure sp...create value contract future editing anna willard', 'post_october daisy_luther oh loretta ill_bet ag_..._word share_article_favorite_social network_share', 'mike_coppinger_november 10:02 pm_follow las_vega...ig butt everyone go saturday ap_photo_john_locher', \"man nostalgic simpler era hour_ago close_vol_iss...n_onion 's_newsletter_spam filter_daily_headlines\", 'john_wall approach free_throw_line early quarter...ble point_rebound morris contribute point_rebound', \"white_house_press_secretary josh_earnest_say mon...president_obama send_delegation tyrant 's funeral\", 'social_care chancellor wrong social_care_funding...drew_marr sunday_november_gmt_view sharing_option', 'hard working american vs. government_parasite mi...mment work soup_kitchen day maybe gary2s approach', 'cnn.com_div_class=\"banner_id=\"cnn_300x250_sync_f...draiser run event host constance milstein section', 'gold_coast target good_friend afl_draft strategy...jor reason interested join battle queensland club', '1940s baghdad 1980s newcastle archive urban chan...nuszka guardianwitness_facebook_twitter_pinterest', 'jessie_karangu november 7:37 pm michael_jordan a...am time president beloved chicago bull dream team', 'swipe_leave_right attack clones translate chines... jedi council folks crooked yoda say whitemamba83', 'michael cliff waters lead analyst energy_transfe..._environmental science_follow_adventure instagram', 'janet_yellen stay president trump 12:53 pm_est i...mber schmidt not think google successful november', 'obama quickly appeal_court_ruling stop new_overt...ss intend follow_opinion_section twitter_facebook', '1:30_pm follow josh_norman push cowboys_quarterb... injure_reserve ne good performance position post', 'enlarge_image aaron_lee tasjan perform world_caf...uhaus vuhaus episode_playlist_world_cafe 11/29/16', 'washington_post live election_night view party e...dvertise_washington post_video_buildnumber:0299c0', 'sharpton try dismiss say oh talk heavily edit vi..._not point speck brother eye acknowledge log boom', ...], y=array([0, 1, 0, ..., 0, 1, 0]), scorer=make_scorer(f1_score), train=array([ 9174,  9175,  9176, ..., 27685, 27686, 27687]), test=array([   0,    1,    2, ..., 9252, 9253, 9254]), verbose=0, parameters={'gbt__n_estimators': 50, 'tfidf__min_df': 0.001}, fit_params={}, return_train_score=True, return_parameters=True, return_n_test_samples=True, return_times=True, error_score='raise')\n    255                              \" numeric value. (Hint: if using 'raise', please\"\n    256                              \" make sure that it has been spelled correctly.)\")\n    257 \n    258     else:\n    259         fit_time = time.time() - start_time\n--> 260         test_score = _score(estimator, X_test, y_test, scorer)\n        test_score = undefined\n        estimator = Pipeline(steps=[('tfidf', TfidfVectorizer(analyz...   subsample=1.0, verbose=0, warm_start=False))])\n        X_test = ['zurich nov_reuters spotlight find cancer cure sp...create value contract future editing anna willard', 'post_october daisy_luther oh loretta ill_bet ag_..._word share_article_favorite_social network_share', 'mike_coppinger_november 10:02 pm_follow las_vega...ig butt everyone go saturday ap_photo_john_locher', \"man nostalgic simpler era hour_ago close_vol_iss...n_onion 's_newsletter_spam filter_daily_headlines\", 'john_wall approach free_throw_line early quarter...ble point_rebound morris contribute point_rebound', \"white_house_press_secretary josh_earnest_say mon...president_obama send_delegation tyrant 's funeral\", 'social_care chancellor wrong social_care_funding...drew_marr sunday_november_gmt_view sharing_option', 'hard working american vs. government_parasite mi...mment work soup_kitchen day maybe gary2s approach', 'cnn.com_div_class=\"banner_id=\"cnn_300x250_sync_f...draiser run event host constance milstein section', 'gold_coast target good_friend afl_draft strategy...jor reason interested join battle queensland club', '1940s baghdad 1980s newcastle archive urban chan...nuszka guardianwitness_facebook_twitter_pinterest', 'jessie_karangu november 7:37 pm michael_jordan a...am time president beloved chicago bull dream team', 'swipe_leave_right attack clones translate chines... jedi council folks crooked yoda say whitemamba83', 'michael cliff waters lead analyst energy_transfe..._environmental science_follow_adventure instagram', 'janet_yellen stay president trump 12:53 pm_est i...mber schmidt not think google successful november', 'obama quickly appeal_court_ruling stop new_overt...ss intend follow_opinion_section twitter_facebook', '1:30_pm follow josh_norman push cowboys_quarterb... injure_reserve ne good performance position post', 'enlarge_image aaron_lee tasjan perform world_caf...uhaus vuhaus episode_playlist_world_cafe 11/29/16', 'washington_post live election_night view party e...dvertise_washington post_video_buildnumber:0299c0', 'sharpton try dismiss say oh talk heavily edit vi..._not point speck brother eye acknowledge log boom', ...]\n        y_test = array([0, 1, 0, ..., 0, 0, 0])\n        scorer = make_scorer(f1_score)\n    261         score_time = time.time() - start_time - fit_time\n    262         if return_train_score:\n    263             train_score = _score(estimator, X_train, y_train, scorer)\n    264 \n\n...........................................................................\n/Users/mikeghoul/anaconda/envs/py35/lib/python3.5/site-packages/sklearn/model_selection/_validation.py in _score(estimator=Pipeline(steps=[('tfidf', TfidfVectorizer(analyz...   subsample=1.0, verbose=0, warm_start=False))]), X_test=['zurich nov_reuters spotlight find cancer cure sp...create value contract future editing anna willard', 'post_october daisy_luther oh loretta ill_bet ag_..._word share_article_favorite_social network_share', 'mike_coppinger_november 10:02 pm_follow las_vega...ig butt everyone go saturday ap_photo_john_locher', \"man nostalgic simpler era hour_ago close_vol_iss...n_onion 's_newsletter_spam filter_daily_headlines\", 'john_wall approach free_throw_line early quarter...ble point_rebound morris contribute point_rebound', \"white_house_press_secretary josh_earnest_say mon...president_obama send_delegation tyrant 's funeral\", 'social_care chancellor wrong social_care_funding...drew_marr sunday_november_gmt_view sharing_option', 'hard working american vs. government_parasite mi...mment work soup_kitchen day maybe gary2s approach', 'cnn.com_div_class=\"banner_id=\"cnn_300x250_sync_f...draiser run event host constance milstein section', 'gold_coast target good_friend afl_draft strategy...jor reason interested join battle queensland club', '1940s baghdad 1980s newcastle archive urban chan...nuszka guardianwitness_facebook_twitter_pinterest', 'jessie_karangu november 7:37 pm michael_jordan a...am time president beloved chicago bull dream team', 'swipe_leave_right attack clones translate chines... jedi council folks crooked yoda say whitemamba83', 'michael cliff waters lead analyst energy_transfe..._environmental science_follow_adventure instagram', 'janet_yellen stay president trump 12:53 pm_est i...mber schmidt not think google successful november', 'obama quickly appeal_court_ruling stop new_overt...ss intend follow_opinion_section twitter_facebook', '1:30_pm follow josh_norman push cowboys_quarterb... injure_reserve ne good performance position post', 'enlarge_image aaron_lee tasjan perform world_caf...uhaus vuhaus episode_playlist_world_cafe 11/29/16', 'washington_post live election_night view party e...dvertise_washington post_video_buildnumber:0299c0', 'sharpton try dismiss say oh talk heavily edit vi..._not point speck brother eye acknowledge log boom', ...], y_test=array([0, 1, 0, ..., 0, 0, 0]), scorer=make_scorer(f1_score))\n    283 def _score(estimator, X_test, y_test, scorer):\n    284     \"\"\"Compute the score of an estimator on a given test set.\"\"\"\n    285     if y_test is None:\n    286         score = scorer(estimator, X_test)\n    287     else:\n--> 288         score = scorer(estimator, X_test, y_test)\n        score = undefined\n        scorer = make_scorer(f1_score)\n        estimator = Pipeline(steps=[('tfidf', TfidfVectorizer(analyz...   subsample=1.0, verbose=0, warm_start=False))])\n        X_test = ['zurich nov_reuters spotlight find cancer cure sp...create value contract future editing anna willard', 'post_october daisy_luther oh loretta ill_bet ag_..._word share_article_favorite_social network_share', 'mike_coppinger_november 10:02 pm_follow las_vega...ig butt everyone go saturday ap_photo_john_locher', \"man nostalgic simpler era hour_ago close_vol_iss...n_onion 's_newsletter_spam filter_daily_headlines\", 'john_wall approach free_throw_line early quarter...ble point_rebound morris contribute point_rebound', \"white_house_press_secretary josh_earnest_say mon...president_obama send_delegation tyrant 's funeral\", 'social_care chancellor wrong social_care_funding...drew_marr sunday_november_gmt_view sharing_option', 'hard working american vs. government_parasite mi...mment work soup_kitchen day maybe gary2s approach', 'cnn.com_div_class=\"banner_id=\"cnn_300x250_sync_f...draiser run event host constance milstein section', 'gold_coast target good_friend afl_draft strategy...jor reason interested join battle queensland club', '1940s baghdad 1980s newcastle archive urban chan...nuszka guardianwitness_facebook_twitter_pinterest', 'jessie_karangu november 7:37 pm michael_jordan a...am time president beloved chicago bull dream team', 'swipe_leave_right attack clones translate chines... jedi council folks crooked yoda say whitemamba83', 'michael cliff waters lead analyst energy_transfe..._environmental science_follow_adventure instagram', 'janet_yellen stay president trump 12:53 pm_est i...mber schmidt not think google successful november', 'obama quickly appeal_court_ruling stop new_overt...ss intend follow_opinion_section twitter_facebook', '1:30_pm follow josh_norman push cowboys_quarterb... injure_reserve ne good performance position post', 'enlarge_image aaron_lee tasjan perform world_caf...uhaus vuhaus episode_playlist_world_cafe 11/29/16', 'washington_post live election_night view party e...dvertise_washington post_video_buildnumber:0299c0', 'sharpton try dismiss say oh talk heavily edit vi..._not point speck brother eye acknowledge log boom', ...]\n        y_test = array([0, 1, 0, ..., 0, 0, 0])\n    289     if hasattr(score, 'item'):\n    290         try:\n    291             # e.g. unwrap memmapped scalars\n    292             score = score.item()\n\n...........................................................................\n/Users/mikeghoul/anaconda/envs/py35/lib/python3.5/site-packages/sklearn/metrics/scorer.py in __call__(self=make_scorer(f1_score), estimator=Pipeline(steps=[('tfidf', TfidfVectorizer(analyz...   subsample=1.0, verbose=0, warm_start=False))]), X=['zurich nov_reuters spotlight find cancer cure sp...create value contract future editing anna willard', 'post_october daisy_luther oh loretta ill_bet ag_..._word share_article_favorite_social network_share', 'mike_coppinger_november 10:02 pm_follow las_vega...ig butt everyone go saturday ap_photo_john_locher', \"man nostalgic simpler era hour_ago close_vol_iss...n_onion 's_newsletter_spam filter_daily_headlines\", 'john_wall approach free_throw_line early quarter...ble point_rebound morris contribute point_rebound', \"white_house_press_secretary josh_earnest_say mon...president_obama send_delegation tyrant 's funeral\", 'social_care chancellor wrong social_care_funding...drew_marr sunday_november_gmt_view sharing_option', 'hard working american vs. government_parasite mi...mment work soup_kitchen day maybe gary2s approach', 'cnn.com_div_class=\"banner_id=\"cnn_300x250_sync_f...draiser run event host constance milstein section', 'gold_coast target good_friend afl_draft strategy...jor reason interested join battle queensland club', '1940s baghdad 1980s newcastle archive urban chan...nuszka guardianwitness_facebook_twitter_pinterest', 'jessie_karangu november 7:37 pm michael_jordan a...am time president beloved chicago bull dream team', 'swipe_leave_right attack clones translate chines... jedi council folks crooked yoda say whitemamba83', 'michael cliff waters lead analyst energy_transfe..._environmental science_follow_adventure instagram', 'janet_yellen stay president trump 12:53 pm_est i...mber schmidt not think google successful november', 'obama quickly appeal_court_ruling stop new_overt...ss intend follow_opinion_section twitter_facebook', '1:30_pm follow josh_norman push cowboys_quarterb... injure_reserve ne good performance position post', 'enlarge_image aaron_lee tasjan perform world_caf...uhaus vuhaus episode_playlist_world_cafe 11/29/16', 'washington_post live election_night view party e...dvertise_washington post_video_buildnumber:0299c0', 'sharpton try dismiss say oh talk heavily edit vi..._not point speck brother eye acknowledge log boom', ...], y_true=array([0, 1, 0, ..., 0, 0, 0]), sample_weight=None)\n     86         score : float\n     87             Score function applied to prediction of estimator on X.\n     88         \"\"\"\n     89         super(_PredictScorer, self).__call__(estimator, X, y_true,\n     90                                              sample_weight=sample_weight)\n---> 91         y_pred = estimator.predict(X)\n        y_pred = undefined\n        estimator.predict = <function Pipeline.predict>\n        X = ['zurich nov_reuters spotlight find cancer cure sp...create value contract future editing anna willard', 'post_october daisy_luther oh loretta ill_bet ag_..._word share_article_favorite_social network_share', 'mike_coppinger_november 10:02 pm_follow las_vega...ig butt everyone go saturday ap_photo_john_locher', \"man nostalgic simpler era hour_ago close_vol_iss...n_onion 's_newsletter_spam filter_daily_headlines\", 'john_wall approach free_throw_line early quarter...ble point_rebound morris contribute point_rebound', \"white_house_press_secretary josh_earnest_say mon...president_obama send_delegation tyrant 's funeral\", 'social_care chancellor wrong social_care_funding...drew_marr sunday_november_gmt_view sharing_option', 'hard working american vs. government_parasite mi...mment work soup_kitchen day maybe gary2s approach', 'cnn.com_div_class=\"banner_id=\"cnn_300x250_sync_f...draiser run event host constance milstein section', 'gold_coast target good_friend afl_draft strategy...jor reason interested join battle queensland club', '1940s baghdad 1980s newcastle archive urban chan...nuszka guardianwitness_facebook_twitter_pinterest', 'jessie_karangu november 7:37 pm michael_jordan a...am time president beloved chicago bull dream team', 'swipe_leave_right attack clones translate chines... jedi council folks crooked yoda say whitemamba83', 'michael cliff waters lead analyst energy_transfe..._environmental science_follow_adventure instagram', 'janet_yellen stay president trump 12:53 pm_est i...mber schmidt not think google successful november', 'obama quickly appeal_court_ruling stop new_overt...ss intend follow_opinion_section twitter_facebook', '1:30_pm follow josh_norman push cowboys_quarterb... injure_reserve ne good performance position post', 'enlarge_image aaron_lee tasjan perform world_caf...uhaus vuhaus episode_playlist_world_cafe 11/29/16', 'washington_post live election_night view party e...dvertise_washington post_video_buildnumber:0299c0', 'sharpton try dismiss say oh talk heavily edit vi..._not point speck brother eye acknowledge log boom', ...]\n     92         if sample_weight is not None:\n     93             return self._sign * self._score_func(y_true, y_pred,\n     94                                                  sample_weight=sample_weight,\n     95                                                  **self._kwargs)\n\n...........................................................................\n/Users/mikeghoul/anaconda/envs/py35/lib/python3.5/site-packages/sklearn/utils/metaestimators.py in <lambda>(*args=(['zurich nov_reuters spotlight find cancer cure sp...create value contract future editing anna willard', 'post_october daisy_luther oh loretta ill_bet ag_..._word share_article_favorite_social network_share', 'mike_coppinger_november 10:02 pm_follow las_vega...ig butt everyone go saturday ap_photo_john_locher', \"man nostalgic simpler era hour_ago close_vol_iss...n_onion 's_newsletter_spam filter_daily_headlines\", 'john_wall approach free_throw_line early quarter...ble point_rebound morris contribute point_rebound', \"white_house_press_secretary josh_earnest_say mon...president_obama send_delegation tyrant 's funeral\", 'social_care chancellor wrong social_care_funding...drew_marr sunday_november_gmt_view sharing_option', 'hard working american vs. government_parasite mi...mment work soup_kitchen day maybe gary2s approach', 'cnn.com_div_class=\"banner_id=\"cnn_300x250_sync_f...draiser run event host constance milstein section', 'gold_coast target good_friend afl_draft strategy...jor reason interested join battle queensland club', '1940s baghdad 1980s newcastle archive urban chan...nuszka guardianwitness_facebook_twitter_pinterest', 'jessie_karangu november 7:37 pm michael_jordan a...am time president beloved chicago bull dream team', 'swipe_leave_right attack clones translate chines... jedi council folks crooked yoda say whitemamba83', 'michael cliff waters lead analyst energy_transfe..._environmental science_follow_adventure instagram', 'janet_yellen stay president trump 12:53 pm_est i...mber schmidt not think google successful november', 'obama quickly appeal_court_ruling stop new_overt...ss intend follow_opinion_section twitter_facebook', '1:30_pm follow josh_norman push cowboys_quarterb... injure_reserve ne good performance position post', 'enlarge_image aaron_lee tasjan perform world_caf...uhaus vuhaus episode_playlist_world_cafe 11/29/16', 'washington_post live election_night view party e...dvertise_washington post_video_buildnumber:0299c0', 'sharpton try dismiss say oh talk heavily edit vi..._not point speck brother eye acknowledge log boom', ...],), **kwargs={})\n     49                     break\n     50             else:\n     51                 attrgetter(self.delegate_names[-1])(obj)\n     52 \n     53         # lambda, but not partial, allows help() to work with update_wrapper\n---> 54         out = lambda *args, **kwargs: self.fn(obj, *args, **kwargs)\n        args = (['zurich nov_reuters spotlight find cancer cure sp...create value contract future editing anna willard', 'post_october daisy_luther oh loretta ill_bet ag_..._word share_article_favorite_social network_share', 'mike_coppinger_november 10:02 pm_follow las_vega...ig butt everyone go saturday ap_photo_john_locher', \"man nostalgic simpler era hour_ago close_vol_iss...n_onion 's_newsletter_spam filter_daily_headlines\", 'john_wall approach free_throw_line early quarter...ble point_rebound morris contribute point_rebound', \"white_house_press_secretary josh_earnest_say mon...president_obama send_delegation tyrant 's funeral\", 'social_care chancellor wrong social_care_funding...drew_marr sunday_november_gmt_view sharing_option', 'hard working american vs. government_parasite mi...mment work soup_kitchen day maybe gary2s approach', 'cnn.com_div_class=\"banner_id=\"cnn_300x250_sync_f...draiser run event host constance milstein section', 'gold_coast target good_friend afl_draft strategy...jor reason interested join battle queensland club', '1940s baghdad 1980s newcastle archive urban chan...nuszka guardianwitness_facebook_twitter_pinterest', 'jessie_karangu november 7:37 pm michael_jordan a...am time president beloved chicago bull dream team', 'swipe_leave_right attack clones translate chines... jedi council folks crooked yoda say whitemamba83', 'michael cliff waters lead analyst energy_transfe..._environmental science_follow_adventure instagram', 'janet_yellen stay president trump 12:53 pm_est i...mber schmidt not think google successful november', 'obama quickly appeal_court_ruling stop new_overt...ss intend follow_opinion_section twitter_facebook', '1:30_pm follow josh_norman push cowboys_quarterb... injure_reserve ne good performance position post', 'enlarge_image aaron_lee tasjan perform world_caf...uhaus vuhaus episode_playlist_world_cafe 11/29/16', 'washington_post live election_night view party e...dvertise_washington post_video_buildnumber:0299c0', 'sharpton try dismiss say oh talk heavily edit vi..._not point speck brother eye acknowledge log boom', ...],)\n        kwargs = {}\n     55         # update the docstring of the returned function\n     56         update_wrapper(out, self.fn)\n     57         return out\n     58 \n\n...........................................................................\n/Users/mikeghoul/anaconda/envs/py35/lib/python3.5/site-packages/sklearn/pipeline.py in predict(self=Pipeline(steps=[('tfidf', TfidfVectorizer(analyz...   subsample=1.0, verbose=0, warm_start=False))]), X=['zurich nov_reuters spotlight find cancer cure sp...create value contract future editing anna willard', 'post_october daisy_luther oh loretta ill_bet ag_..._word share_article_favorite_social network_share', 'mike_coppinger_november 10:02 pm_follow las_vega...ig butt everyone go saturday ap_photo_john_locher', \"man nostalgic simpler era hour_ago close_vol_iss...n_onion 's_newsletter_spam filter_daily_headlines\", 'john_wall approach free_throw_line early quarter...ble point_rebound morris contribute point_rebound', \"white_house_press_secretary josh_earnest_say mon...president_obama send_delegation tyrant 's funeral\", 'social_care chancellor wrong social_care_funding...drew_marr sunday_november_gmt_view sharing_option', 'hard working american vs. government_parasite mi...mment work soup_kitchen day maybe gary2s approach', 'cnn.com_div_class=\"banner_id=\"cnn_300x250_sync_f...draiser run event host constance milstein section', 'gold_coast target good_friend afl_draft strategy...jor reason interested join battle queensland club', '1940s baghdad 1980s newcastle archive urban chan...nuszka guardianwitness_facebook_twitter_pinterest', 'jessie_karangu november 7:37 pm michael_jordan a...am time president beloved chicago bull dream team', 'swipe_leave_right attack clones translate chines... jedi council folks crooked yoda say whitemamba83', 'michael cliff waters lead analyst energy_transfe..._environmental science_follow_adventure instagram', 'janet_yellen stay president trump 12:53 pm_est i...mber schmidt not think google successful november', 'obama quickly appeal_court_ruling stop new_overt...ss intend follow_opinion_section twitter_facebook', '1:30_pm follow josh_norman push cowboys_quarterb... injure_reserve ne good performance position post', 'enlarge_image aaron_lee tasjan perform world_caf...uhaus vuhaus episode_playlist_world_cafe 11/29/16', 'washington_post live election_night view party e...dvertise_washington post_video_buildnumber:0299c0', 'sharpton try dismiss say oh talk heavily edit vi..._not point speck brother eye acknowledge log boom', ...])\n    322         \"\"\"\n    323         Xt = X\n    324         for name, transform in self.steps[:-1]:\n    325             if transform is not None:\n    326                 Xt = transform.transform(Xt)\n--> 327         return self.steps[-1][-1].predict(Xt)\n        self.steps.predict = undefined\n        Xt = <9230x20552 sparse matrix of type '<class 'numpy... stored elements in Compressed Sparse Row format>\n    328 \n    329     @if_delegate_has_method(delegate='_final_estimator')\n    330     def fit_predict(self, X, y=None, **fit_params):\n    331         \"\"\"Applies fit_predict of last step in pipeline after transforms.\n\n...........................................................................\n/Users/mikeghoul/anaconda/envs/py35/lib/python3.5/site-packages/sklearn/ensemble/gradient_boosting.py in predict(self=GradientBoostingClassifier(criterion='friedman_m...      subsample=1.0, verbose=0, warm_start=False), X=<9230x20552 sparse matrix of type '<class 'numpy... stored elements in Compressed Sparse Row format>)\n   1530         Returns\n   1531         -------\n   1532         y: array of shape = [\"n_samples]\n   1533             The predicted values.\n   1534         \"\"\"\n-> 1535         score = self.decision_function(X)\n        score = undefined\n        self.decision_function = <bound method GradientBoostingClassifier.decisio...     subsample=1.0, verbose=0, warm_start=False)>\n        X = <9230x20552 sparse matrix of type '<class 'numpy... stored elements in Compressed Sparse Row format>\n   1536         decisions = self.loss_._score_to_decision(score)\n   1537         return self.classes_.take(decisions, axis=0)\n   1538 \n   1539     def staged_predict(self, X):\n\n...........................................................................\n/Users/mikeghoul/anaconda/envs/py35/lib/python3.5/site-packages/sklearn/ensemble/gradient_boosting.py in decision_function(self=GradientBoostingClassifier(criterion='friedman_m...      subsample=1.0, verbose=0, warm_start=False), X=<9230x20552 sparse matrix of type '<class 'numpy... stored elements in Compressed Sparse Row format>)\n   1488             The decision function of the input samples. The order of the\n   1489             classes corresponds to that in the attribute `classes_`.\n   1490             Regression and binary classification produce an array of shape\n   1491             [n_samples].\n   1492         \"\"\"\n-> 1493         X = check_array(X, dtype=DTYPE, order=\"C\")\n        X = <9230x20552 sparse matrix of type '<class 'numpy... stored elements in Compressed Sparse Row format>\n   1494         score = self._decision_function(X)\n   1495         if score.shape[1] == 1:\n   1496             return score.ravel()\n   1497         return score\n\n...........................................................................\n/Users/mikeghoul/anaconda/envs/py35/lib/python3.5/site-packages/sklearn/utils/validation.py in check_array(array=<9230x20552 sparse matrix of type '<class 'numpy... stored elements in Compressed Sparse Row format>, accept_sparse=None, dtype=<class 'numpy.float32'>, order='C', copy=False, force_all_finite=True, ensure_2d=True, allow_nd=False, ensure_min_samples=1, ensure_min_features=1, warn_on_dtype=False, estimator=None)\n    375         estimator_name = \"Estimator\"\n    376     context = \" by %s\" % estimator_name if estimator is not None else \"\"\n    377 \n    378     if sp.issparse(array):\n    379         array = _ensure_sparse_format(array, accept_sparse, dtype, copy,\n--> 380                                       force_all_finite)\n        force_all_finite = True\n    381     else:\n    382         array = np.array(array, dtype=dtype, order=order, copy=copy)\n    383 \n    384         if ensure_2d:\n\n...........................................................................\n/Users/mikeghoul/anaconda/envs/py35/lib/python3.5/site-packages/sklearn/utils/validation.py in _ensure_sparse_format(spmatrix=<9230x20552 sparse matrix of type '<class 'numpy... stored elements in Compressed Sparse Row format>, accept_sparse=None, dtype=<class 'numpy.float32'>, copy=False, force_all_finite=True)\n    238     -------\n    239     spmatrix_converted : scipy sparse matrix.\n    240         Matrix that is ensured to have an allowed type.\n    241     \"\"\"\n    242     if accept_sparse in [None, False]:\n--> 243         raise TypeError('A sparse matrix was passed, but dense '\n    244                         'data is required. Use X.toarray() to '\n    245                         'convert to a dense numpy array.')\n    246     if dtype is None:\n    247         dtype = spmatrix.dtype\n\nTypeError: A sparse matrix was passed, but dense data is required. Use X.toarray() to convert to a dense numpy array.\n___________________________________________________________________________",
     "output_type": "error",
     "traceback": [
      "\u001b[0;31m---------------------------------------------------------------------------\u001b[0m",
      "\u001b[0;31mRemoteTraceback\u001b[0m                           Traceback (most recent call last)",
      "\u001b[0;31mRemoteTraceback\u001b[0m: \n\"\"\"\nTraceback (most recent call last):\n  File \"/Users/mikeghoul/anaconda/envs/py35/lib/python3.5/site-packages/sklearn/externals/joblib/_parallel_backends.py\", line 344, in __call__\n    return self.func(*args, **kwargs)\n  File \"/Users/mikeghoul/anaconda/envs/py35/lib/python3.5/site-packages/sklearn/externals/joblib/parallel.py\", line 131, in __call__\n    return [func(*args, **kwargs) for func, args, kwargs in self.items]\n  File \"/Users/mikeghoul/anaconda/envs/py35/lib/python3.5/site-packages/sklearn/externals/joblib/parallel.py\", line 131, in <listcomp>\n    return [func(*args, **kwargs) for func, args, kwargs in self.items]\n  File \"/Users/mikeghoul/anaconda/envs/py35/lib/python3.5/site-packages/sklearn/model_selection/_validation.py\", line 260, in _fit_and_score\n    test_score = _score(estimator, X_test, y_test, scorer)\n  File \"/Users/mikeghoul/anaconda/envs/py35/lib/python3.5/site-packages/sklearn/model_selection/_validation.py\", line 288, in _score\n    score = scorer(estimator, X_test, y_test)\n  File \"/Users/mikeghoul/anaconda/envs/py35/lib/python3.5/site-packages/sklearn/metrics/scorer.py\", line 91, in __call__\n    y_pred = estimator.predict(X)\n  File \"/Users/mikeghoul/anaconda/envs/py35/lib/python3.5/site-packages/sklearn/utils/metaestimators.py\", line 54, in <lambda>\n    out = lambda *args, **kwargs: self.fn(obj, *args, **kwargs)\n  File \"/Users/mikeghoul/anaconda/envs/py35/lib/python3.5/site-packages/sklearn/pipeline.py\", line 327, in predict\n    return self.steps[-1][-1].predict(Xt)\n  File \"/Users/mikeghoul/anaconda/envs/py35/lib/python3.5/site-packages/sklearn/ensemble/gradient_boosting.py\", line 1535, in predict\n    score = self.decision_function(X)\n  File \"/Users/mikeghoul/anaconda/envs/py35/lib/python3.5/site-packages/sklearn/ensemble/gradient_boosting.py\", line 1493, in decision_function\n    X = check_array(X, dtype=DTYPE, order=\"C\")\n  File \"/Users/mikeghoul/anaconda/envs/py35/lib/python3.5/site-packages/sklearn/utils/validation.py\", line 380, in check_array\n    force_all_finite)\n  File \"/Users/mikeghoul/anaconda/envs/py35/lib/python3.5/site-packages/sklearn/utils/validation.py\", line 243, in _ensure_sparse_format\n    raise TypeError('A sparse matrix was passed, but dense '\nTypeError: A sparse matrix was passed, but dense data is required. Use X.toarray() to convert to a dense numpy array.\n\nDuring handling of the above exception, another exception occurred:\n\nTraceback (most recent call last):\n  File \"/Users/mikeghoul/anaconda/envs/py35/lib/python3.5/multiprocessing/pool.py\", line 119, in worker\n    result = (True, func(*args, **kwds))\n  File \"/Users/mikeghoul/anaconda/envs/py35/lib/python3.5/site-packages/sklearn/externals/joblib/_parallel_backends.py\", line 353, in __call__\n    raise TransportableException(text, e_type)\nsklearn.externals.joblib.my_exceptions.TransportableException: TransportableException\n___________________________________________________________________________\nTypeError                                          Wed Sep  6 16:38:40 2017\nPID: 35616     Python 3.5.3: /Users/mikeghoul/anaconda/envs/py35/bin/python\n...........................................................................\n/Users/mikeghoul/anaconda/envs/py35/lib/python3.5/site-packages/sklearn/externals/joblib/parallel.py in __call__(self=<sklearn.externals.joblib.parallel.BatchedCalls object>)\n    126     def __init__(self, iterator_slice):\n    127         self.items = list(iterator_slice)\n    128         self._size = len(self.items)\n    129 \n    130     def __call__(self):\n--> 131         return [func(*args, **kwargs) for func, args, kwargs in self.items]\n        self.items = [(<function _fit_and_score>, (Pipeline(steps=[('tfidf', TfidfVectorizer(analyz...   subsample=1.0, verbose=0, warm_start=False))]), ['zurich nov_reuters spotlight find cancer cure sp...create value contract future editing anna willard', 'post_october daisy_luther oh loretta ill_bet ag_..._word share_article_favorite_social network_share', 'mike_coppinger_november 10:02 pm_follow las_vega...ig butt everyone go saturday ap_photo_john_locher', \"man nostalgic simpler era hour_ago close_vol_iss...n_onion 's_newsletter_spam filter_daily_headlines\", 'john_wall approach free_throw_line early quarter...ble point_rebound morris contribute point_rebound', \"white_house_press_secretary josh_earnest_say mon...president_obama send_delegation tyrant 's funeral\", 'social_care chancellor wrong social_care_funding...drew_marr sunday_november_gmt_view sharing_option', 'hard working american vs. government_parasite mi...mment work soup_kitchen day maybe gary2s approach', 'cnn.com_div_class=\"banner_id=\"cnn_300x250_sync_f...draiser run event host constance milstein section', 'gold_coast target good_friend afl_draft strategy...jor reason interested join battle queensland club', '1940s baghdad 1980s newcastle archive urban chan...nuszka guardianwitness_facebook_twitter_pinterest', 'jessie_karangu november 7:37 pm michael_jordan a...am time president beloved chicago bull dream team', 'swipe_leave_right attack clones translate chines... jedi council folks crooked yoda say whitemamba83', 'michael cliff waters lead analyst energy_transfe..._environmental science_follow_adventure instagram', 'janet_yellen stay president trump 12:53 pm_est i...mber schmidt not think google successful november', 'obama quickly appeal_court_ruling stop new_overt...ss intend follow_opinion_section twitter_facebook', '1:30_pm follow josh_norman push cowboys_quarterb... injure_reserve ne good performance position post', 'enlarge_image aaron_lee tasjan perform world_caf...uhaus vuhaus episode_playlist_world_cafe 11/29/16', 'washington_post live election_night view party e...dvertise_washington post_video_buildnumber:0299c0', 'sharpton try dismiss say oh talk heavily edit vi..._not point speck brother eye acknowledge log boom', ...], array([0, 1, 0, ..., 0, 1, 0]), make_scorer(f1_score), array([ 9174,  9175,  9176, ..., 27685, 27686, 27687]), array([   0,    1,    2, ..., 9252, 9253, 9254]), 0, {'gbt__n_estimators': 50, 'tfidf__min_df': 0.001}), {'error_score': 'raise', 'fit_params': {}, 'return_n_test_samples': True, 'return_parameters': True, 'return_times': True, 'return_train_score': True})]\n    132 \n    133     def __len__(self):\n    134         return self._size\n    135 \n\n...........................................................................\n/Users/mikeghoul/anaconda/envs/py35/lib/python3.5/site-packages/sklearn/externals/joblib/parallel.py in <listcomp>(.0=<list_iterator object>)\n    126     def __init__(self, iterator_slice):\n    127         self.items = list(iterator_slice)\n    128         self._size = len(self.items)\n    129 \n    130     def __call__(self):\n--> 131         return [func(*args, **kwargs) for func, args, kwargs in self.items]\n        func = <function _fit_and_score>\n        args = (Pipeline(steps=[('tfidf', TfidfVectorizer(analyz...   subsample=1.0, verbose=0, warm_start=False))]), ['zurich nov_reuters spotlight find cancer cure sp...create value contract future editing anna willard', 'post_october daisy_luther oh loretta ill_bet ag_..._word share_article_favorite_social network_share', 'mike_coppinger_november 10:02 pm_follow las_vega...ig butt everyone go saturday ap_photo_john_locher', \"man nostalgic simpler era hour_ago close_vol_iss...n_onion 's_newsletter_spam filter_daily_headlines\", 'john_wall approach free_throw_line early quarter...ble point_rebound morris contribute point_rebound', \"white_house_press_secretary josh_earnest_say mon...president_obama send_delegation tyrant 's funeral\", 'social_care chancellor wrong social_care_funding...drew_marr sunday_november_gmt_view sharing_option', 'hard working american vs. government_parasite mi...mment work soup_kitchen day maybe gary2s approach', 'cnn.com_div_class=\"banner_id=\"cnn_300x250_sync_f...draiser run event host constance milstein section', 'gold_coast target good_friend afl_draft strategy...jor reason interested join battle queensland club', '1940s baghdad 1980s newcastle archive urban chan...nuszka guardianwitness_facebook_twitter_pinterest', 'jessie_karangu november 7:37 pm michael_jordan a...am time president beloved chicago bull dream team', 'swipe_leave_right attack clones translate chines... jedi council folks crooked yoda say whitemamba83', 'michael cliff waters lead analyst energy_transfe..._environmental science_follow_adventure instagram', 'janet_yellen stay president trump 12:53 pm_est i...mber schmidt not think google successful november', 'obama quickly appeal_court_ruling stop new_overt...ss intend follow_opinion_section twitter_facebook', '1:30_pm follow josh_norman push cowboys_quarterb... injure_reserve ne good performance position post', 'enlarge_image aaron_lee tasjan perform world_caf...uhaus vuhaus episode_playlist_world_cafe 11/29/16', 'washington_post live election_night view party e...dvertise_washington post_video_buildnumber:0299c0', 'sharpton try dismiss say oh talk heavily edit vi..._not point speck brother eye acknowledge log boom', ...], array([0, 1, 0, ..., 0, 1, 0]), make_scorer(f1_score), array([ 9174,  9175,  9176, ..., 27685, 27686, 27687]), array([   0,    1,    2, ..., 9252, 9253, 9254]), 0, {'gbt__n_estimators': 50, 'tfidf__min_df': 0.001})\n        kwargs = {'error_score': 'raise', 'fit_params': {}, 'return_n_test_samples': True, 'return_parameters': True, 'return_times': True, 'return_train_score': True}\n    132 \n    133     def __len__(self):\n    134         return self._size\n    135 \n\n...........................................................................\n/Users/mikeghoul/anaconda/envs/py35/lib/python3.5/site-packages/sklearn/model_selection/_validation.py in _fit_and_score(estimator=Pipeline(steps=[('tfidf', TfidfVectorizer(analyz...   subsample=1.0, verbose=0, warm_start=False))]), X=['zurich nov_reuters spotlight find cancer cure sp...create value contract future editing anna willard', 'post_october daisy_luther oh loretta ill_bet ag_..._word share_article_favorite_social network_share', 'mike_coppinger_november 10:02 pm_follow las_vega...ig butt everyone go saturday ap_photo_john_locher', \"man nostalgic simpler era hour_ago close_vol_iss...n_onion 's_newsletter_spam filter_daily_headlines\", 'john_wall approach free_throw_line early quarter...ble point_rebound morris contribute point_rebound', \"white_house_press_secretary josh_earnest_say mon...president_obama send_delegation tyrant 's funeral\", 'social_care chancellor wrong social_care_funding...drew_marr sunday_november_gmt_view sharing_option', 'hard working american vs. government_parasite mi...mment work soup_kitchen day maybe gary2s approach', 'cnn.com_div_class=\"banner_id=\"cnn_300x250_sync_f...draiser run event host constance milstein section', 'gold_coast target good_friend afl_draft strategy...jor reason interested join battle queensland club', '1940s baghdad 1980s newcastle archive urban chan...nuszka guardianwitness_facebook_twitter_pinterest', 'jessie_karangu november 7:37 pm michael_jordan a...am time president beloved chicago bull dream team', 'swipe_leave_right attack clones translate chines... jedi council folks crooked yoda say whitemamba83', 'michael cliff waters lead analyst energy_transfe..._environmental science_follow_adventure instagram', 'janet_yellen stay president trump 12:53 pm_est i...mber schmidt not think google successful november', 'obama quickly appeal_court_ruling stop new_overt...ss intend follow_opinion_section twitter_facebook', '1:30_pm follow josh_norman push cowboys_quarterb... injure_reserve ne good performance position post', 'enlarge_image aaron_lee tasjan perform world_caf...uhaus vuhaus episode_playlist_world_cafe 11/29/16', 'washington_post live election_night view party e...dvertise_washington post_video_buildnumber:0299c0', 'sharpton try dismiss say oh talk heavily edit vi..._not point speck brother eye acknowledge log boom', ...], y=array([0, 1, 0, ..., 0, 1, 0]), scorer=make_scorer(f1_score), train=array([ 9174,  9175,  9176, ..., 27685, 27686, 27687]), test=array([   0,    1,    2, ..., 9252, 9253, 9254]), verbose=0, parameters={'gbt__n_estimators': 50, 'tfidf__min_df': 0.001}, fit_params={}, return_train_score=True, return_parameters=True, return_n_test_samples=True, return_times=True, error_score='raise')\n    255                              \" numeric value. (Hint: if using 'raise', please\"\n    256                              \" make sure that it has been spelled correctly.)\")\n    257 \n    258     else:\n    259         fit_time = time.time() - start_time\n--> 260         test_score = _score(estimator, X_test, y_test, scorer)\n        test_score = undefined\n        estimator = Pipeline(steps=[('tfidf', TfidfVectorizer(analyz...   subsample=1.0, verbose=0, warm_start=False))])\n        X_test = ['zurich nov_reuters spotlight find cancer cure sp...create value contract future editing anna willard', 'post_october daisy_luther oh loretta ill_bet ag_..._word share_article_favorite_social network_share', 'mike_coppinger_november 10:02 pm_follow las_vega...ig butt everyone go saturday ap_photo_john_locher', \"man nostalgic simpler era hour_ago close_vol_iss...n_onion 's_newsletter_spam filter_daily_headlines\", 'john_wall approach free_throw_line early quarter...ble point_rebound morris contribute point_rebound', \"white_house_press_secretary josh_earnest_say mon...president_obama send_delegation tyrant 's funeral\", 'social_care chancellor wrong social_care_funding...drew_marr sunday_november_gmt_view sharing_option', 'hard working american vs. government_parasite mi...mment work soup_kitchen day maybe gary2s approach', 'cnn.com_div_class=\"banner_id=\"cnn_300x250_sync_f...draiser run event host constance milstein section', 'gold_coast target good_friend afl_draft strategy...jor reason interested join battle queensland club', '1940s baghdad 1980s newcastle archive urban chan...nuszka guardianwitness_facebook_twitter_pinterest', 'jessie_karangu november 7:37 pm michael_jordan a...am time president beloved chicago bull dream team', 'swipe_leave_right attack clones translate chines... jedi council folks crooked yoda say whitemamba83', 'michael cliff waters lead analyst energy_transfe..._environmental science_follow_adventure instagram', 'janet_yellen stay president trump 12:53 pm_est i...mber schmidt not think google successful november', 'obama quickly appeal_court_ruling stop new_overt...ss intend follow_opinion_section twitter_facebook', '1:30_pm follow josh_norman push cowboys_quarterb... injure_reserve ne good performance position post', 'enlarge_image aaron_lee tasjan perform world_caf...uhaus vuhaus episode_playlist_world_cafe 11/29/16', 'washington_post live election_night view party e...dvertise_washington post_video_buildnumber:0299c0', 'sharpton try dismiss say oh talk heavily edit vi..._not point speck brother eye acknowledge log boom', ...]\n        y_test = array([0, 1, 0, ..., 0, 0, 0])\n        scorer = make_scorer(f1_score)\n    261         score_time = time.time() - start_time - fit_time\n    262         if return_train_score:\n    263             train_score = _score(estimator, X_train, y_train, scorer)\n    264 \n\n...........................................................................\n/Users/mikeghoul/anaconda/envs/py35/lib/python3.5/site-packages/sklearn/model_selection/_validation.py in _score(estimator=Pipeline(steps=[('tfidf', TfidfVectorizer(analyz...   subsample=1.0, verbose=0, warm_start=False))]), X_test=['zurich nov_reuters spotlight find cancer cure sp...create value contract future editing anna willard', 'post_october daisy_luther oh loretta ill_bet ag_..._word share_article_favorite_social network_share', 'mike_coppinger_november 10:02 pm_follow las_vega...ig butt everyone go saturday ap_photo_john_locher', \"man nostalgic simpler era hour_ago close_vol_iss...n_onion 's_newsletter_spam filter_daily_headlines\", 'john_wall approach free_throw_line early quarter...ble point_rebound morris contribute point_rebound', \"white_house_press_secretary josh_earnest_say mon...president_obama send_delegation tyrant 's funeral\", 'social_care chancellor wrong social_care_funding...drew_marr sunday_november_gmt_view sharing_option', 'hard working american vs. government_parasite mi...mment work soup_kitchen day maybe gary2s approach', 'cnn.com_div_class=\"banner_id=\"cnn_300x250_sync_f...draiser run event host constance milstein section', 'gold_coast target good_friend afl_draft strategy...jor reason interested join battle queensland club', '1940s baghdad 1980s newcastle archive urban chan...nuszka guardianwitness_facebook_twitter_pinterest', 'jessie_karangu november 7:37 pm michael_jordan a...am time president beloved chicago bull dream team', 'swipe_leave_right attack clones translate chines... jedi council folks crooked yoda say whitemamba83', 'michael cliff waters lead analyst energy_transfe..._environmental science_follow_adventure instagram', 'janet_yellen stay president trump 12:53 pm_est i...mber schmidt not think google successful november', 'obama quickly appeal_court_ruling stop new_overt...ss intend follow_opinion_section twitter_facebook', '1:30_pm follow josh_norman push cowboys_quarterb... injure_reserve ne good performance position post', 'enlarge_image aaron_lee tasjan perform world_caf...uhaus vuhaus episode_playlist_world_cafe 11/29/16', 'washington_post live election_night view party e...dvertise_washington post_video_buildnumber:0299c0', 'sharpton try dismiss say oh talk heavily edit vi..._not point speck brother eye acknowledge log boom', ...], y_test=array([0, 1, 0, ..., 0, 0, 0]), scorer=make_scorer(f1_score))\n    283 def _score(estimator, X_test, y_test, scorer):\n    284     \"\"\"Compute the score of an estimator on a given test set.\"\"\"\n    285     if y_test is None:\n    286         score = scorer(estimator, X_test)\n    287     else:\n--> 288         score = scorer(estimator, X_test, y_test)\n        score = undefined\n        scorer = make_scorer(f1_score)\n        estimator = Pipeline(steps=[('tfidf', TfidfVectorizer(analyz...   subsample=1.0, verbose=0, warm_start=False))])\n        X_test = ['zurich nov_reuters spotlight find cancer cure sp...create value contract future editing anna willard', 'post_october daisy_luther oh loretta ill_bet ag_..._word share_article_favorite_social network_share', 'mike_coppinger_november 10:02 pm_follow las_vega...ig butt everyone go saturday ap_photo_john_locher', \"man nostalgic simpler era hour_ago close_vol_iss...n_onion 's_newsletter_spam filter_daily_headlines\", 'john_wall approach free_throw_line early quarter...ble point_rebound morris contribute point_rebound', \"white_house_press_secretary josh_earnest_say mon...president_obama send_delegation tyrant 's funeral\", 'social_care chancellor wrong social_care_funding...drew_marr sunday_november_gmt_view sharing_option', 'hard working american vs. government_parasite mi...mment work soup_kitchen day maybe gary2s approach', 'cnn.com_div_class=\"banner_id=\"cnn_300x250_sync_f...draiser run event host constance milstein section', 'gold_coast target good_friend afl_draft strategy...jor reason interested join battle queensland club', '1940s baghdad 1980s newcastle archive urban chan...nuszka guardianwitness_facebook_twitter_pinterest', 'jessie_karangu november 7:37 pm michael_jordan a...am time president beloved chicago bull dream team', 'swipe_leave_right attack clones translate chines... jedi council folks crooked yoda say whitemamba83', 'michael cliff waters lead analyst energy_transfe..._environmental science_follow_adventure instagram', 'janet_yellen stay president trump 12:53 pm_est i...mber schmidt not think google successful november', 'obama quickly appeal_court_ruling stop new_overt...ss intend follow_opinion_section twitter_facebook', '1:30_pm follow josh_norman push cowboys_quarterb... injure_reserve ne good performance position post', 'enlarge_image aaron_lee tasjan perform world_caf...uhaus vuhaus episode_playlist_world_cafe 11/29/16', 'washington_post live election_night view party e...dvertise_washington post_video_buildnumber:0299c0', 'sharpton try dismiss say oh talk heavily edit vi..._not point speck brother eye acknowledge log boom', ...]\n        y_test = array([0, 1, 0, ..., 0, 0, 0])\n    289     if hasattr(score, 'item'):\n    290         try:\n    291             # e.g. unwrap memmapped scalars\n    292             score = score.item()\n\n...........................................................................\n/Users/mikeghoul/anaconda/envs/py35/lib/python3.5/site-packages/sklearn/metrics/scorer.py in __call__(self=make_scorer(f1_score), estimator=Pipeline(steps=[('tfidf', TfidfVectorizer(analyz...   subsample=1.0, verbose=0, warm_start=False))]), X=['zurich nov_reuters spotlight find cancer cure sp...create value contract future editing anna willard', 'post_october daisy_luther oh loretta ill_bet ag_..._word share_article_favorite_social network_share', 'mike_coppinger_november 10:02 pm_follow las_vega...ig butt everyone go saturday ap_photo_john_locher', \"man nostalgic simpler era hour_ago close_vol_iss...n_onion 's_newsletter_spam filter_daily_headlines\", 'john_wall approach free_throw_line early quarter...ble point_rebound morris contribute point_rebound', \"white_house_press_secretary josh_earnest_say mon...president_obama send_delegation tyrant 's funeral\", 'social_care chancellor wrong social_care_funding...drew_marr sunday_november_gmt_view sharing_option', 'hard working american vs. government_parasite mi...mment work soup_kitchen day maybe gary2s approach', 'cnn.com_div_class=\"banner_id=\"cnn_300x250_sync_f...draiser run event host constance milstein section', 'gold_coast target good_friend afl_draft strategy...jor reason interested join battle queensland club', '1940s baghdad 1980s newcastle archive urban chan...nuszka guardianwitness_facebook_twitter_pinterest', 'jessie_karangu november 7:37 pm michael_jordan a...am time president beloved chicago bull dream team', 'swipe_leave_right attack clones translate chines... jedi council folks crooked yoda say whitemamba83', 'michael cliff waters lead analyst energy_transfe..._environmental science_follow_adventure instagram', 'janet_yellen stay president trump 12:53 pm_est i...mber schmidt not think google successful november', 'obama quickly appeal_court_ruling stop new_overt...ss intend follow_opinion_section twitter_facebook', '1:30_pm follow josh_norman push cowboys_quarterb... injure_reserve ne good performance position post', 'enlarge_image aaron_lee tasjan perform world_caf...uhaus vuhaus episode_playlist_world_cafe 11/29/16', 'washington_post live election_night view party e...dvertise_washington post_video_buildnumber:0299c0', 'sharpton try dismiss say oh talk heavily edit vi..._not point speck brother eye acknowledge log boom', ...], y_true=array([0, 1, 0, ..., 0, 0, 0]), sample_weight=None)\n     86         score : float\n     87             Score function applied to prediction of estimator on X.\n     88         \"\"\"\n     89         super(_PredictScorer, self).__call__(estimator, X, y_true,\n     90                                              sample_weight=sample_weight)\n---> 91         y_pred = estimator.predict(X)\n        y_pred = undefined\n        estimator.predict = <function Pipeline.predict>\n        X = ['zurich nov_reuters spotlight find cancer cure sp...create value contract future editing anna willard', 'post_october daisy_luther oh loretta ill_bet ag_..._word share_article_favorite_social network_share', 'mike_coppinger_november 10:02 pm_follow las_vega...ig butt everyone go saturday ap_photo_john_locher', \"man nostalgic simpler era hour_ago close_vol_iss...n_onion 's_newsletter_spam filter_daily_headlines\", 'john_wall approach free_throw_line early quarter...ble point_rebound morris contribute point_rebound', \"white_house_press_secretary josh_earnest_say mon...president_obama send_delegation tyrant 's funeral\", 'social_care chancellor wrong social_care_funding...drew_marr sunday_november_gmt_view sharing_option', 'hard working american vs. government_parasite mi...mment work soup_kitchen day maybe gary2s approach', 'cnn.com_div_class=\"banner_id=\"cnn_300x250_sync_f...draiser run event host constance milstein section', 'gold_coast target good_friend afl_draft strategy...jor reason interested join battle queensland club', '1940s baghdad 1980s newcastle archive urban chan...nuszka guardianwitness_facebook_twitter_pinterest', 'jessie_karangu november 7:37 pm michael_jordan a...am time president beloved chicago bull dream team', 'swipe_leave_right attack clones translate chines... jedi council folks crooked yoda say whitemamba83', 'michael cliff waters lead analyst energy_transfe..._environmental science_follow_adventure instagram', 'janet_yellen stay president trump 12:53 pm_est i...mber schmidt not think google successful november', 'obama quickly appeal_court_ruling stop new_overt...ss intend follow_opinion_section twitter_facebook', '1:30_pm follow josh_norman push cowboys_quarterb... injure_reserve ne good performance position post', 'enlarge_image aaron_lee tasjan perform world_caf...uhaus vuhaus episode_playlist_world_cafe 11/29/16', 'washington_post live election_night view party e...dvertise_washington post_video_buildnumber:0299c0', 'sharpton try dismiss say oh talk heavily edit vi..._not point speck brother eye acknowledge log boom', ...]\n     92         if sample_weight is not None:\n     93             return self._sign * self._score_func(y_true, y_pred,\n     94                                                  sample_weight=sample_weight,\n     95                                                  **self._kwargs)\n\n...........................................................................\n/Users/mikeghoul/anaconda/envs/py35/lib/python3.5/site-packages/sklearn/utils/metaestimators.py in <lambda>(*args=(['zurich nov_reuters spotlight find cancer cure sp...create value contract future editing anna willard', 'post_october daisy_luther oh loretta ill_bet ag_..._word share_article_favorite_social network_share', 'mike_coppinger_november 10:02 pm_follow las_vega...ig butt everyone go saturday ap_photo_john_locher', \"man nostalgic simpler era hour_ago close_vol_iss...n_onion 's_newsletter_spam filter_daily_headlines\", 'john_wall approach free_throw_line early quarter...ble point_rebound morris contribute point_rebound', \"white_house_press_secretary josh_earnest_say mon...president_obama send_delegation tyrant 's funeral\", 'social_care chancellor wrong social_care_funding...drew_marr sunday_november_gmt_view sharing_option', 'hard working american vs. government_parasite mi...mment work soup_kitchen day maybe gary2s approach', 'cnn.com_div_class=\"banner_id=\"cnn_300x250_sync_f...draiser run event host constance milstein section', 'gold_coast target good_friend afl_draft strategy...jor reason interested join battle queensland club', '1940s baghdad 1980s newcastle archive urban chan...nuszka guardianwitness_facebook_twitter_pinterest', 'jessie_karangu november 7:37 pm michael_jordan a...am time president beloved chicago bull dream team', 'swipe_leave_right attack clones translate chines... jedi council folks crooked yoda say whitemamba83', 'michael cliff waters lead analyst energy_transfe..._environmental science_follow_adventure instagram', 'janet_yellen stay president trump 12:53 pm_est i...mber schmidt not think google successful november', 'obama quickly appeal_court_ruling stop new_overt...ss intend follow_opinion_section twitter_facebook', '1:30_pm follow josh_norman push cowboys_quarterb... injure_reserve ne good performance position post', 'enlarge_image aaron_lee tasjan perform world_caf...uhaus vuhaus episode_playlist_world_cafe 11/29/16', 'washington_post live election_night view party e...dvertise_washington post_video_buildnumber:0299c0', 'sharpton try dismiss say oh talk heavily edit vi..._not point speck brother eye acknowledge log boom', ...],), **kwargs={})\n     49                     break\n     50             else:\n     51                 attrgetter(self.delegate_names[-1])(obj)\n     52 \n     53         # lambda, but not partial, allows help() to work with update_wrapper\n---> 54         out = lambda *args, **kwargs: self.fn(obj, *args, **kwargs)\n        args = (['zurich nov_reuters spotlight find cancer cure sp...create value contract future editing anna willard', 'post_october daisy_luther oh loretta ill_bet ag_..._word share_article_favorite_social network_share', 'mike_coppinger_november 10:02 pm_follow las_vega...ig butt everyone go saturday ap_photo_john_locher', \"man nostalgic simpler era hour_ago close_vol_iss...n_onion 's_newsletter_spam filter_daily_headlines\", 'john_wall approach free_throw_line early quarter...ble point_rebound morris contribute point_rebound', \"white_house_press_secretary josh_earnest_say mon...president_obama send_delegation tyrant 's funeral\", 'social_care chancellor wrong social_care_funding...drew_marr sunday_november_gmt_view sharing_option', 'hard working american vs. government_parasite mi...mment work soup_kitchen day maybe gary2s approach', 'cnn.com_div_class=\"banner_id=\"cnn_300x250_sync_f...draiser run event host constance milstein section', 'gold_coast target good_friend afl_draft strategy...jor reason interested join battle queensland club', '1940s baghdad 1980s newcastle archive urban chan...nuszka guardianwitness_facebook_twitter_pinterest', 'jessie_karangu november 7:37 pm michael_jordan a...am time president beloved chicago bull dream team', 'swipe_leave_right attack clones translate chines... jedi council folks crooked yoda say whitemamba83', 'michael cliff waters lead analyst energy_transfe..._environmental science_follow_adventure instagram', 'janet_yellen stay president trump 12:53 pm_est i...mber schmidt not think google successful november', 'obama quickly appeal_court_ruling stop new_overt...ss intend follow_opinion_section twitter_facebook', '1:30_pm follow josh_norman push cowboys_quarterb... injure_reserve ne good performance position post', 'enlarge_image aaron_lee tasjan perform world_caf...uhaus vuhaus episode_playlist_world_cafe 11/29/16', 'washington_post live election_night view party e...dvertise_washington post_video_buildnumber:0299c0', 'sharpton try dismiss say oh talk heavily edit vi..._not point speck brother eye acknowledge log boom', ...],)\n        kwargs = {}\n     55         # update the docstring of the returned function\n     56         update_wrapper(out, self.fn)\n     57         return out\n     58 \n\n...........................................................................\n/Users/mikeghoul/anaconda/envs/py35/lib/python3.5/site-packages/sklearn/pipeline.py in predict(self=Pipeline(steps=[('tfidf', TfidfVectorizer(analyz...   subsample=1.0, verbose=0, warm_start=False))]), X=['zurich nov_reuters spotlight find cancer cure sp...create value contract future editing anna willard', 'post_october daisy_luther oh loretta ill_bet ag_..._word share_article_favorite_social network_share', 'mike_coppinger_november 10:02 pm_follow las_vega...ig butt everyone go saturday ap_photo_john_locher', \"man nostalgic simpler era hour_ago close_vol_iss...n_onion 's_newsletter_spam filter_daily_headlines\", 'john_wall approach free_throw_line early quarter...ble point_rebound morris contribute point_rebound', \"white_house_press_secretary josh_earnest_say mon...president_obama send_delegation tyrant 's funeral\", 'social_care chancellor wrong social_care_funding...drew_marr sunday_november_gmt_view sharing_option', 'hard working american vs. government_parasite mi...mment work soup_kitchen day maybe gary2s approach', 'cnn.com_div_class=\"banner_id=\"cnn_300x250_sync_f...draiser run event host constance milstein section', 'gold_coast target good_friend afl_draft strategy...jor reason interested join battle queensland club', '1940s baghdad 1980s newcastle archive urban chan...nuszka guardianwitness_facebook_twitter_pinterest', 'jessie_karangu november 7:37 pm michael_jordan a...am time president beloved chicago bull dream team', 'swipe_leave_right attack clones translate chines... jedi council folks crooked yoda say whitemamba83', 'michael cliff waters lead analyst energy_transfe..._environmental science_follow_adventure instagram', 'janet_yellen stay president trump 12:53 pm_est i...mber schmidt not think google successful november', 'obama quickly appeal_court_ruling stop new_overt...ss intend follow_opinion_section twitter_facebook', '1:30_pm follow josh_norman push cowboys_quarterb... injure_reserve ne good performance position post', 'enlarge_image aaron_lee tasjan perform world_caf...uhaus vuhaus episode_playlist_world_cafe 11/29/16', 'washington_post live election_night view party e...dvertise_washington post_video_buildnumber:0299c0', 'sharpton try dismiss say oh talk heavily edit vi..._not point speck brother eye acknowledge log boom', ...])\n    322         \"\"\"\n    323         Xt = X\n    324         for name, transform in self.steps[:-1]:\n    325             if transform is not None:\n    326                 Xt = transform.transform(Xt)\n--> 327         return self.steps[-1][-1].predict(Xt)\n        self.steps.predict = undefined\n        Xt = <9230x20552 sparse matrix of type '<class 'numpy... stored elements in Compressed Sparse Row format>\n    328 \n    329     @if_delegate_has_method(delegate='_final_estimator')\n    330     def fit_predict(self, X, y=None, **fit_params):\n    331         \"\"\"Applies fit_predict of last step in pipeline after transforms.\n\n...........................................................................\n/Users/mikeghoul/anaconda/envs/py35/lib/python3.5/site-packages/sklearn/ensemble/gradient_boosting.py in predict(self=GradientBoostingClassifier(criterion='friedman_m...      subsample=1.0, verbose=0, warm_start=False), X=<9230x20552 sparse matrix of type '<class 'numpy... stored elements in Compressed Sparse Row format>)\n   1530         Returns\n   1531         -------\n   1532         y: array of shape = [\"n_samples]\n   1533             The predicted values.\n   1534         \"\"\"\n-> 1535         score = self.decision_function(X)\n        score = undefined\n        self.decision_function = <bound method GradientBoostingClassifier.decisio...     subsample=1.0, verbose=0, warm_start=False)>\n        X = <9230x20552 sparse matrix of type '<class 'numpy... stored elements in Compressed Sparse Row format>\n   1536         decisions = self.loss_._score_to_decision(score)\n   1537         return self.classes_.take(decisions, axis=0)\n   1538 \n   1539     def staged_predict(self, X):\n\n...........................................................................\n/Users/mikeghoul/anaconda/envs/py35/lib/python3.5/site-packages/sklearn/ensemble/gradient_boosting.py in decision_function(self=GradientBoostingClassifier(criterion='friedman_m...      subsample=1.0, verbose=0, warm_start=False), X=<9230x20552 sparse matrix of type '<class 'numpy... stored elements in Compressed Sparse Row format>)\n   1488             The decision function of the input samples. The order of the\n   1489             classes corresponds to that in the attribute `classes_`.\n   1490             Regression and binary classification produce an array of shape\n   1491             [n_samples].\n   1492         \"\"\"\n-> 1493         X = check_array(X, dtype=DTYPE, order=\"C\")\n        X = <9230x20552 sparse matrix of type '<class 'numpy... stored elements in Compressed Sparse Row format>\n   1494         score = self._decision_function(X)\n   1495         if score.shape[1] == 1:\n   1496             return score.ravel()\n   1497         return score\n\n...........................................................................\n/Users/mikeghoul/anaconda/envs/py35/lib/python3.5/site-packages/sklearn/utils/validation.py in check_array(array=<9230x20552 sparse matrix of type '<class 'numpy... stored elements in Compressed Sparse Row format>, accept_sparse=None, dtype=<class 'numpy.float32'>, order='C', copy=False, force_all_finite=True, ensure_2d=True, allow_nd=False, ensure_min_samples=1, ensure_min_features=1, warn_on_dtype=False, estimator=None)\n    375         estimator_name = \"Estimator\"\n    376     context = \" by %s\" % estimator_name if estimator is not None else \"\"\n    377 \n    378     if sp.issparse(array):\n    379         array = _ensure_sparse_format(array, accept_sparse, dtype, copy,\n--> 380                                       force_all_finite)\n        force_all_finite = True\n    381     else:\n    382         array = np.array(array, dtype=dtype, order=order, copy=copy)\n    383 \n    384         if ensure_2d:\n\n...........................................................................\n/Users/mikeghoul/anaconda/envs/py35/lib/python3.5/site-packages/sklearn/utils/validation.py in _ensure_sparse_format(spmatrix=<9230x20552 sparse matrix of type '<class 'numpy... stored elements in Compressed Sparse Row format>, accept_sparse=None, dtype=<class 'numpy.float32'>, copy=False, force_all_finite=True)\n    238     -------\n    239     spmatrix_converted : scipy sparse matrix.\n    240         Matrix that is ensured to have an allowed type.\n    241     \"\"\"\n    242     if accept_sparse in [None, False]:\n--> 243         raise TypeError('A sparse matrix was passed, but dense '\n    244                         'data is required. Use X.toarray() to '\n    245                         'convert to a dense numpy array.')\n    246     if dtype is None:\n    247         dtype = spmatrix.dtype\n\nTypeError: A sparse matrix was passed, but dense data is required. Use X.toarray() to convert to a dense numpy array.\n___________________________________________________________________________\n\"\"\"",
      "\nThe above exception was the direct cause of the following exception:\n",
      "\u001b[0;31mTransportableException\u001b[0m                    Traceback (most recent call last)",
      "\u001b[0;32m/Users/mikeghoul/anaconda/envs/py35/lib/python3.5/site-packages/sklearn/externals/joblib/parallel.py\u001b[0m in \u001b[0;36mretrieve\u001b[0;34m(self)\u001b[0m\n\u001b[1;32m    681\u001b[0m                 \u001b[0;32mif\u001b[0m \u001b[0;34m'timeout'\u001b[0m \u001b[0;32min\u001b[0m \u001b[0mgetfullargspec\u001b[0m\u001b[0;34m(\u001b[0m\u001b[0mjob\u001b[0m\u001b[0;34m.\u001b[0m\u001b[0mget\u001b[0m\u001b[0;34m)\u001b[0m\u001b[0;34m.\u001b[0m\u001b[0margs\u001b[0m\u001b[0;34m:\u001b[0m\u001b[0;34m\u001b[0m\u001b[0m\n\u001b[0;32m--> 682\u001b[0;31m                     \u001b[0mself\u001b[0m\u001b[0;34m.\u001b[0m\u001b[0m_output\u001b[0m\u001b[0;34m.\u001b[0m\u001b[0mextend\u001b[0m\u001b[0;34m(\u001b[0m\u001b[0mjob\u001b[0m\u001b[0;34m.\u001b[0m\u001b[0mget\u001b[0m\u001b[0;34m(\u001b[0m\u001b[0mtimeout\u001b[0m\u001b[0;34m=\u001b[0m\u001b[0mself\u001b[0m\u001b[0;34m.\u001b[0m\u001b[0mtimeout\u001b[0m\u001b[0;34m)\u001b[0m\u001b[0;34m)\u001b[0m\u001b[0;34m\u001b[0m\u001b[0m\n\u001b[0m\u001b[1;32m    683\u001b[0m                 \u001b[0;32melse\u001b[0m\u001b[0;34m:\u001b[0m\u001b[0;34m\u001b[0m\u001b[0m\n",
      "\u001b[0;32m/Users/mikeghoul/anaconda/envs/py35/lib/python3.5/multiprocessing/pool.py\u001b[0m in \u001b[0;36mget\u001b[0;34m(self, timeout)\u001b[0m\n\u001b[1;32m    607\u001b[0m         \u001b[0;32melse\u001b[0m\u001b[0;34m:\u001b[0m\u001b[0;34m\u001b[0m\u001b[0m\n\u001b[0;32m--> 608\u001b[0;31m             \u001b[0;32mraise\u001b[0m \u001b[0mself\u001b[0m\u001b[0;34m.\u001b[0m\u001b[0m_value\u001b[0m\u001b[0;34m\u001b[0m\u001b[0m\n\u001b[0m\u001b[1;32m    609\u001b[0m \u001b[0;34m\u001b[0m\u001b[0m\n",
      "\u001b[0;31mTransportableException\u001b[0m: TransportableException\n___________________________________________________________________________\nTypeError                                          Wed Sep  6 16:38:40 2017\nPID: 35616     Python 3.5.3: /Users/mikeghoul/anaconda/envs/py35/bin/python\n...........................................................................\n/Users/mikeghoul/anaconda/envs/py35/lib/python3.5/site-packages/sklearn/externals/joblib/parallel.py in __call__(self=<sklearn.externals.joblib.parallel.BatchedCalls object>)\n    126     def __init__(self, iterator_slice):\n    127         self.items = list(iterator_slice)\n    128         self._size = len(self.items)\n    129 \n    130     def __call__(self):\n--> 131         return [func(*args, **kwargs) for func, args, kwargs in self.items]\n        self.items = [(<function _fit_and_score>, (Pipeline(steps=[('tfidf', TfidfVectorizer(analyz...   subsample=1.0, verbose=0, warm_start=False))]), ['zurich nov_reuters spotlight find cancer cure sp...create value contract future editing anna willard', 'post_october daisy_luther oh loretta ill_bet ag_..._word share_article_favorite_social network_share', 'mike_coppinger_november 10:02 pm_follow las_vega...ig butt everyone go saturday ap_photo_john_locher', \"man nostalgic simpler era hour_ago close_vol_iss...n_onion 's_newsletter_spam filter_daily_headlines\", 'john_wall approach free_throw_line early quarter...ble point_rebound morris contribute point_rebound', \"white_house_press_secretary josh_earnest_say mon...president_obama send_delegation tyrant 's funeral\", 'social_care chancellor wrong social_care_funding...drew_marr sunday_november_gmt_view sharing_option', 'hard working american vs. government_parasite mi...mment work soup_kitchen day maybe gary2s approach', 'cnn.com_div_class=\"banner_id=\"cnn_300x250_sync_f...draiser run event host constance milstein section', 'gold_coast target good_friend afl_draft strategy...jor reason interested join battle queensland club', '1940s baghdad 1980s newcastle archive urban chan...nuszka guardianwitness_facebook_twitter_pinterest', 'jessie_karangu november 7:37 pm michael_jordan a...am time president beloved chicago bull dream team', 'swipe_leave_right attack clones translate chines... jedi council folks crooked yoda say whitemamba83', 'michael cliff waters lead analyst energy_transfe..._environmental science_follow_adventure instagram', 'janet_yellen stay president trump 12:53 pm_est i...mber schmidt not think google successful november', 'obama quickly appeal_court_ruling stop new_overt...ss intend follow_opinion_section twitter_facebook', '1:30_pm follow josh_norman push cowboys_quarterb... injure_reserve ne good performance position post', 'enlarge_image aaron_lee tasjan perform world_caf...uhaus vuhaus episode_playlist_world_cafe 11/29/16', 'washington_post live election_night view party e...dvertise_washington post_video_buildnumber:0299c0', 'sharpton try dismiss say oh talk heavily edit vi..._not point speck brother eye acknowledge log boom', ...], array([0, 1, 0, ..., 0, 1, 0]), make_scorer(f1_score), array([ 9174,  9175,  9176, ..., 27685, 27686, 27687]), array([   0,    1,    2, ..., 9252, 9253, 9254]), 0, {'gbt__n_estimators': 50, 'tfidf__min_df': 0.001}), {'error_score': 'raise', 'fit_params': {}, 'return_n_test_samples': True, 'return_parameters': True, 'return_times': True, 'return_train_score': True})]\n    132 \n    133     def __len__(self):\n    134         return self._size\n    135 \n\n...........................................................................\n/Users/mikeghoul/anaconda/envs/py35/lib/python3.5/site-packages/sklearn/externals/joblib/parallel.py in <listcomp>(.0=<list_iterator object>)\n    126     def __init__(self, iterator_slice):\n    127         self.items = list(iterator_slice)\n    128         self._size = len(self.items)\n    129 \n    130     def __call__(self):\n--> 131         return [func(*args, **kwargs) for func, args, kwargs in self.items]\n        func = <function _fit_and_score>\n        args = (Pipeline(steps=[('tfidf', TfidfVectorizer(analyz...   subsample=1.0, verbose=0, warm_start=False))]), ['zurich nov_reuters spotlight find cancer cure sp...create value contract future editing anna willard', 'post_october daisy_luther oh loretta ill_bet ag_..._word share_article_favorite_social network_share', 'mike_coppinger_november 10:02 pm_follow las_vega...ig butt everyone go saturday ap_photo_john_locher', \"man nostalgic simpler era hour_ago close_vol_iss...n_onion 's_newsletter_spam filter_daily_headlines\", 'john_wall approach free_throw_line early quarter...ble point_rebound morris contribute point_rebound', \"white_house_press_secretary josh_earnest_say mon...president_obama send_delegation tyrant 's funeral\", 'social_care chancellor wrong social_care_funding...drew_marr sunday_november_gmt_view sharing_option', 'hard working american vs. government_parasite mi...mment work soup_kitchen day maybe gary2s approach', 'cnn.com_div_class=\"banner_id=\"cnn_300x250_sync_f...draiser run event host constance milstein section', 'gold_coast target good_friend afl_draft strategy...jor reason interested join battle queensland club', '1940s baghdad 1980s newcastle archive urban chan...nuszka guardianwitness_facebook_twitter_pinterest', 'jessie_karangu november 7:37 pm michael_jordan a...am time president beloved chicago bull dream team', 'swipe_leave_right attack clones translate chines... jedi council folks crooked yoda say whitemamba83', 'michael cliff waters lead analyst energy_transfe..._environmental science_follow_adventure instagram', 'janet_yellen stay president trump 12:53 pm_est i...mber schmidt not think google successful november', 'obama quickly appeal_court_ruling stop new_overt...ss intend follow_opinion_section twitter_facebook', '1:30_pm follow josh_norman push cowboys_quarterb... injure_reserve ne good performance position post', 'enlarge_image aaron_lee tasjan perform world_caf...uhaus vuhaus episode_playlist_world_cafe 11/29/16', 'washington_post live election_night view party e...dvertise_washington post_video_buildnumber:0299c0', 'sharpton try dismiss say oh talk heavily edit vi..._not point speck brother eye acknowledge log boom', ...], array([0, 1, 0, ..., 0, 1, 0]), make_scorer(f1_score), array([ 9174,  9175,  9176, ..., 27685, 27686, 27687]), array([   0,    1,    2, ..., 9252, 9253, 9254]), 0, {'gbt__n_estimators': 50, 'tfidf__min_df': 0.001})\n        kwargs = {'error_score': 'raise', 'fit_params': {}, 'return_n_test_samples': True, 'return_parameters': True, 'return_times': True, 'return_train_score': True}\n    132 \n    133     def __len__(self):\n    134         return self._size\n    135 \n\n...........................................................................\n/Users/mikeghoul/anaconda/envs/py35/lib/python3.5/site-packages/sklearn/model_selection/_validation.py in _fit_and_score(estimator=Pipeline(steps=[('tfidf', TfidfVectorizer(analyz...   subsample=1.0, verbose=0, warm_start=False))]), X=['zurich nov_reuters spotlight find cancer cure sp...create value contract future editing anna willard', 'post_october daisy_luther oh loretta ill_bet ag_..._word share_article_favorite_social network_share', 'mike_coppinger_november 10:02 pm_follow las_vega...ig butt everyone go saturday ap_photo_john_locher', \"man nostalgic simpler era hour_ago close_vol_iss...n_onion 's_newsletter_spam filter_daily_headlines\", 'john_wall approach free_throw_line early quarter...ble point_rebound morris contribute point_rebound', \"white_house_press_secretary josh_earnest_say mon...president_obama send_delegation tyrant 's funeral\", 'social_care chancellor wrong social_care_funding...drew_marr sunday_november_gmt_view sharing_option', 'hard working american vs. government_parasite mi...mment work soup_kitchen day maybe gary2s approach', 'cnn.com_div_class=\"banner_id=\"cnn_300x250_sync_f...draiser run event host constance milstein section', 'gold_coast target good_friend afl_draft strategy...jor reason interested join battle queensland club', '1940s baghdad 1980s newcastle archive urban chan...nuszka guardianwitness_facebook_twitter_pinterest', 'jessie_karangu november 7:37 pm michael_jordan a...am time president beloved chicago bull dream team', 'swipe_leave_right attack clones translate chines... jedi council folks crooked yoda say whitemamba83', 'michael cliff waters lead analyst energy_transfe..._environmental science_follow_adventure instagram', 'janet_yellen stay president trump 12:53 pm_est i...mber schmidt not think google successful november', 'obama quickly appeal_court_ruling stop new_overt...ss intend follow_opinion_section twitter_facebook', '1:30_pm follow josh_norman push cowboys_quarterb... injure_reserve ne good performance position post', 'enlarge_image aaron_lee tasjan perform world_caf...uhaus vuhaus episode_playlist_world_cafe 11/29/16', 'washington_post live election_night view party e...dvertise_washington post_video_buildnumber:0299c0', 'sharpton try dismiss say oh talk heavily edit vi..._not point speck brother eye acknowledge log boom', ...], y=array([0, 1, 0, ..., 0, 1, 0]), scorer=make_scorer(f1_score), train=array([ 9174,  9175,  9176, ..., 27685, 27686, 27687]), test=array([   0,    1,    2, ..., 9252, 9253, 9254]), verbose=0, parameters={'gbt__n_estimators': 50, 'tfidf__min_df': 0.001}, fit_params={}, return_train_score=True, return_parameters=True, return_n_test_samples=True, return_times=True, error_score='raise')\n    255                              \" numeric value. (Hint: if using 'raise', please\"\n    256                              \" make sure that it has been spelled correctly.)\")\n    257 \n    258     else:\n    259         fit_time = time.time() - start_time\n--> 260         test_score = _score(estimator, X_test, y_test, scorer)\n        test_score = undefined\n        estimator = Pipeline(steps=[('tfidf', TfidfVectorizer(analyz...   subsample=1.0, verbose=0, warm_start=False))])\n        X_test = ['zurich nov_reuters spotlight find cancer cure sp...create value contract future editing anna willard', 'post_october daisy_luther oh loretta ill_bet ag_..._word share_article_favorite_social network_share', 'mike_coppinger_november 10:02 pm_follow las_vega...ig butt everyone go saturday ap_photo_john_locher', \"man nostalgic simpler era hour_ago close_vol_iss...n_onion 's_newsletter_spam filter_daily_headlines\", 'john_wall approach free_throw_line early quarter...ble point_rebound morris contribute point_rebound', \"white_house_press_secretary josh_earnest_say mon...president_obama send_delegation tyrant 's funeral\", 'social_care chancellor wrong social_care_funding...drew_marr sunday_november_gmt_view sharing_option', 'hard working american vs. government_parasite mi...mment work soup_kitchen day maybe gary2s approach', 'cnn.com_div_class=\"banner_id=\"cnn_300x250_sync_f...draiser run event host constance milstein section', 'gold_coast target good_friend afl_draft strategy...jor reason interested join battle queensland club', '1940s baghdad 1980s newcastle archive urban chan...nuszka guardianwitness_facebook_twitter_pinterest', 'jessie_karangu november 7:37 pm michael_jordan a...am time president beloved chicago bull dream team', 'swipe_leave_right attack clones translate chines... jedi council folks crooked yoda say whitemamba83', 'michael cliff waters lead analyst energy_transfe..._environmental science_follow_adventure instagram', 'janet_yellen stay president trump 12:53 pm_est i...mber schmidt not think google successful november', 'obama quickly appeal_court_ruling stop new_overt...ss intend follow_opinion_section twitter_facebook', '1:30_pm follow josh_norman push cowboys_quarterb... injure_reserve ne good performance position post', 'enlarge_image aaron_lee tasjan perform world_caf...uhaus vuhaus episode_playlist_world_cafe 11/29/16', 'washington_post live election_night view party e...dvertise_washington post_video_buildnumber:0299c0', 'sharpton try dismiss say oh talk heavily edit vi..._not point speck brother eye acknowledge log boom', ...]\n        y_test = array([0, 1, 0, ..., 0, 0, 0])\n        scorer = make_scorer(f1_score)\n    261         score_time = time.time() - start_time - fit_time\n    262         if return_train_score:\n    263             train_score = _score(estimator, X_train, y_train, scorer)\n    264 \n\n...........................................................................\n/Users/mikeghoul/anaconda/envs/py35/lib/python3.5/site-packages/sklearn/model_selection/_validation.py in _score(estimator=Pipeline(steps=[('tfidf', TfidfVectorizer(analyz...   subsample=1.0, verbose=0, warm_start=False))]), X_test=['zurich nov_reuters spotlight find cancer cure sp...create value contract future editing anna willard', 'post_october daisy_luther oh loretta ill_bet ag_..._word share_article_favorite_social network_share', 'mike_coppinger_november 10:02 pm_follow las_vega...ig butt everyone go saturday ap_photo_john_locher', \"man nostalgic simpler era hour_ago close_vol_iss...n_onion 's_newsletter_spam filter_daily_headlines\", 'john_wall approach free_throw_line early quarter...ble point_rebound morris contribute point_rebound', \"white_house_press_secretary josh_earnest_say mon...president_obama send_delegation tyrant 's funeral\", 'social_care chancellor wrong social_care_funding...drew_marr sunday_november_gmt_view sharing_option', 'hard working american vs. government_parasite mi...mment work soup_kitchen day maybe gary2s approach', 'cnn.com_div_class=\"banner_id=\"cnn_300x250_sync_f...draiser run event host constance milstein section', 'gold_coast target good_friend afl_draft strategy...jor reason interested join battle queensland club', '1940s baghdad 1980s newcastle archive urban chan...nuszka guardianwitness_facebook_twitter_pinterest', 'jessie_karangu november 7:37 pm michael_jordan a...am time president beloved chicago bull dream team', 'swipe_leave_right attack clones translate chines... jedi council folks crooked yoda say whitemamba83', 'michael cliff waters lead analyst energy_transfe..._environmental science_follow_adventure instagram', 'janet_yellen stay president trump 12:53 pm_est i...mber schmidt not think google successful november', 'obama quickly appeal_court_ruling stop new_overt...ss intend follow_opinion_section twitter_facebook', '1:30_pm follow josh_norman push cowboys_quarterb... injure_reserve ne good performance position post', 'enlarge_image aaron_lee tasjan perform world_caf...uhaus vuhaus episode_playlist_world_cafe 11/29/16', 'washington_post live election_night view party e...dvertise_washington post_video_buildnumber:0299c0', 'sharpton try dismiss say oh talk heavily edit vi..._not point speck brother eye acknowledge log boom', ...], y_test=array([0, 1, 0, ..., 0, 0, 0]), scorer=make_scorer(f1_score))\n    283 def _score(estimator, X_test, y_test, scorer):\n    284     \"\"\"Compute the score of an estimator on a given test set.\"\"\"\n    285     if y_test is None:\n    286         score = scorer(estimator, X_test)\n    287     else:\n--> 288         score = scorer(estimator, X_test, y_test)\n        score = undefined\n        scorer = make_scorer(f1_score)\n        estimator = Pipeline(steps=[('tfidf', TfidfVectorizer(analyz...   subsample=1.0, verbose=0, warm_start=False))])\n        X_test = ['zurich nov_reuters spotlight find cancer cure sp...create value contract future editing anna willard', 'post_october daisy_luther oh loretta ill_bet ag_..._word share_article_favorite_social network_share', 'mike_coppinger_november 10:02 pm_follow las_vega...ig butt everyone go saturday ap_photo_john_locher', \"man nostalgic simpler era hour_ago close_vol_iss...n_onion 's_newsletter_spam filter_daily_headlines\", 'john_wall approach free_throw_line early quarter...ble point_rebound morris contribute point_rebound', \"white_house_press_secretary josh_earnest_say mon...president_obama send_delegation tyrant 's funeral\", 'social_care chancellor wrong social_care_funding...drew_marr sunday_november_gmt_view sharing_option', 'hard working american vs. government_parasite mi...mment work soup_kitchen day maybe gary2s approach', 'cnn.com_div_class=\"banner_id=\"cnn_300x250_sync_f...draiser run event host constance milstein section', 'gold_coast target good_friend afl_draft strategy...jor reason interested join battle queensland club', '1940s baghdad 1980s newcastle archive urban chan...nuszka guardianwitness_facebook_twitter_pinterest', 'jessie_karangu november 7:37 pm michael_jordan a...am time president beloved chicago bull dream team', 'swipe_leave_right attack clones translate chines... jedi council folks crooked yoda say whitemamba83', 'michael cliff waters lead analyst energy_transfe..._environmental science_follow_adventure instagram', 'janet_yellen stay president trump 12:53 pm_est i...mber schmidt not think google successful november', 'obama quickly appeal_court_ruling stop new_overt...ss intend follow_opinion_section twitter_facebook', '1:30_pm follow josh_norman push cowboys_quarterb... injure_reserve ne good performance position post', 'enlarge_image aaron_lee tasjan perform world_caf...uhaus vuhaus episode_playlist_world_cafe 11/29/16', 'washington_post live election_night view party e...dvertise_washington post_video_buildnumber:0299c0', 'sharpton try dismiss say oh talk heavily edit vi..._not point speck brother eye acknowledge log boom', ...]\n        y_test = array([0, 1, 0, ..., 0, 0, 0])\n    289     if hasattr(score, 'item'):\n    290         try:\n    291             # e.g. unwrap memmapped scalars\n    292             score = score.item()\n\n...........................................................................\n/Users/mikeghoul/anaconda/envs/py35/lib/python3.5/site-packages/sklearn/metrics/scorer.py in __call__(self=make_scorer(f1_score), estimator=Pipeline(steps=[('tfidf', TfidfVectorizer(analyz...   subsample=1.0, verbose=0, warm_start=False))]), X=['zurich nov_reuters spotlight find cancer cure sp...create value contract future editing anna willard', 'post_october daisy_luther oh loretta ill_bet ag_..._word share_article_favorite_social network_share', 'mike_coppinger_november 10:02 pm_follow las_vega...ig butt everyone go saturday ap_photo_john_locher', \"man nostalgic simpler era hour_ago close_vol_iss...n_onion 's_newsletter_spam filter_daily_headlines\", 'john_wall approach free_throw_line early quarter...ble point_rebound morris contribute point_rebound', \"white_house_press_secretary josh_earnest_say mon...president_obama send_delegation tyrant 's funeral\", 'social_care chancellor wrong social_care_funding...drew_marr sunday_november_gmt_view sharing_option', 'hard working american vs. government_parasite mi...mment work soup_kitchen day maybe gary2s approach', 'cnn.com_div_class=\"banner_id=\"cnn_300x250_sync_f...draiser run event host constance milstein section', 'gold_coast target good_friend afl_draft strategy...jor reason interested join battle queensland club', '1940s baghdad 1980s newcastle archive urban chan...nuszka guardianwitness_facebook_twitter_pinterest', 'jessie_karangu november 7:37 pm michael_jordan a...am time president beloved chicago bull dream team', 'swipe_leave_right attack clones translate chines... jedi council folks crooked yoda say whitemamba83', 'michael cliff waters lead analyst energy_transfe..._environmental science_follow_adventure instagram', 'janet_yellen stay president trump 12:53 pm_est i...mber schmidt not think google successful november', 'obama quickly appeal_court_ruling stop new_overt...ss intend follow_opinion_section twitter_facebook', '1:30_pm follow josh_norman push cowboys_quarterb... injure_reserve ne good performance position post', 'enlarge_image aaron_lee tasjan perform world_caf...uhaus vuhaus episode_playlist_world_cafe 11/29/16', 'washington_post live election_night view party e...dvertise_washington post_video_buildnumber:0299c0', 'sharpton try dismiss say oh talk heavily edit vi..._not point speck brother eye acknowledge log boom', ...], y_true=array([0, 1, 0, ..., 0, 0, 0]), sample_weight=None)\n     86         score : float\n     87             Score function applied to prediction of estimator on X.\n     88         \"\"\"\n     89         super(_PredictScorer, self).__call__(estimator, X, y_true,\n     90                                              sample_weight=sample_weight)\n---> 91         y_pred = estimator.predict(X)\n        y_pred = undefined\n        estimator.predict = <function Pipeline.predict>\n        X = ['zurich nov_reuters spotlight find cancer cure sp...create value contract future editing anna willard', 'post_october daisy_luther oh loretta ill_bet ag_..._word share_article_favorite_social network_share', 'mike_coppinger_november 10:02 pm_follow las_vega...ig butt everyone go saturday ap_photo_john_locher', \"man nostalgic simpler era hour_ago close_vol_iss...n_onion 's_newsletter_spam filter_daily_headlines\", 'john_wall approach free_throw_line early quarter...ble point_rebound morris contribute point_rebound', \"white_house_press_secretary josh_earnest_say mon...president_obama send_delegation tyrant 's funeral\", 'social_care chancellor wrong social_care_funding...drew_marr sunday_november_gmt_view sharing_option', 'hard working american vs. government_parasite mi...mment work soup_kitchen day maybe gary2s approach', 'cnn.com_div_class=\"banner_id=\"cnn_300x250_sync_f...draiser run event host constance milstein section', 'gold_coast target good_friend afl_draft strategy...jor reason interested join battle queensland club', '1940s baghdad 1980s newcastle archive urban chan...nuszka guardianwitness_facebook_twitter_pinterest', 'jessie_karangu november 7:37 pm michael_jordan a...am time president beloved chicago bull dream team', 'swipe_leave_right attack clones translate chines... jedi council folks crooked yoda say whitemamba83', 'michael cliff waters lead analyst energy_transfe..._environmental science_follow_adventure instagram', 'janet_yellen stay president trump 12:53 pm_est i...mber schmidt not think google successful november', 'obama quickly appeal_court_ruling stop new_overt...ss intend follow_opinion_section twitter_facebook', '1:30_pm follow josh_norman push cowboys_quarterb... injure_reserve ne good performance position post', 'enlarge_image aaron_lee tasjan perform world_caf...uhaus vuhaus episode_playlist_world_cafe 11/29/16', 'washington_post live election_night view party e...dvertise_washington post_video_buildnumber:0299c0', 'sharpton try dismiss say oh talk heavily edit vi..._not point speck brother eye acknowledge log boom', ...]\n     92         if sample_weight is not None:\n     93             return self._sign * self._score_func(y_true, y_pred,\n     94                                                  sample_weight=sample_weight,\n     95                                                  **self._kwargs)\n\n...........................................................................\n/Users/mikeghoul/anaconda/envs/py35/lib/python3.5/site-packages/sklearn/utils/metaestimators.py in <lambda>(*args=(['zurich nov_reuters spotlight find cancer cure sp...create value contract future editing anna willard', 'post_october daisy_luther oh loretta ill_bet ag_..._word share_article_favorite_social network_share', 'mike_coppinger_november 10:02 pm_follow las_vega...ig butt everyone go saturday ap_photo_john_locher', \"man nostalgic simpler era hour_ago close_vol_iss...n_onion 's_newsletter_spam filter_daily_headlines\", 'john_wall approach free_throw_line early quarter...ble point_rebound morris contribute point_rebound', \"white_house_press_secretary josh_earnest_say mon...president_obama send_delegation tyrant 's funeral\", 'social_care chancellor wrong social_care_funding...drew_marr sunday_november_gmt_view sharing_option', 'hard working american vs. government_parasite mi...mment work soup_kitchen day maybe gary2s approach', 'cnn.com_div_class=\"banner_id=\"cnn_300x250_sync_f...draiser run event host constance milstein section', 'gold_coast target good_friend afl_draft strategy...jor reason interested join battle queensland club', '1940s baghdad 1980s newcastle archive urban chan...nuszka guardianwitness_facebook_twitter_pinterest', 'jessie_karangu november 7:37 pm michael_jordan a...am time president beloved chicago bull dream team', 'swipe_leave_right attack clones translate chines... jedi council folks crooked yoda say whitemamba83', 'michael cliff waters lead analyst energy_transfe..._environmental science_follow_adventure instagram', 'janet_yellen stay president trump 12:53 pm_est i...mber schmidt not think google successful november', 'obama quickly appeal_court_ruling stop new_overt...ss intend follow_opinion_section twitter_facebook', '1:30_pm follow josh_norman push cowboys_quarterb... injure_reserve ne good performance position post', 'enlarge_image aaron_lee tasjan perform world_caf...uhaus vuhaus episode_playlist_world_cafe 11/29/16', 'washington_post live election_night view party e...dvertise_washington post_video_buildnumber:0299c0', 'sharpton try dismiss say oh talk heavily edit vi..._not point speck brother eye acknowledge log boom', ...],), **kwargs={})\n     49                     break\n     50             else:\n     51                 attrgetter(self.delegate_names[-1])(obj)\n     52 \n     53         # lambda, but not partial, allows help() to work with update_wrapper\n---> 54         out = lambda *args, **kwargs: self.fn(obj, *args, **kwargs)\n        args = (['zurich nov_reuters spotlight find cancer cure sp...create value contract future editing anna willard', 'post_october daisy_luther oh loretta ill_bet ag_..._word share_article_favorite_social network_share', 'mike_coppinger_november 10:02 pm_follow las_vega...ig butt everyone go saturday ap_photo_john_locher', \"man nostalgic simpler era hour_ago close_vol_iss...n_onion 's_newsletter_spam filter_daily_headlines\", 'john_wall approach free_throw_line early quarter...ble point_rebound morris contribute point_rebound', \"white_house_press_secretary josh_earnest_say mon...president_obama send_delegation tyrant 's funeral\", 'social_care chancellor wrong social_care_funding...drew_marr sunday_november_gmt_view sharing_option', 'hard working american vs. government_parasite mi...mment work soup_kitchen day maybe gary2s approach', 'cnn.com_div_class=\"banner_id=\"cnn_300x250_sync_f...draiser run event host constance milstein section', 'gold_coast target good_friend afl_draft strategy...jor reason interested join battle queensland club', '1940s baghdad 1980s newcastle archive urban chan...nuszka guardianwitness_facebook_twitter_pinterest', 'jessie_karangu november 7:37 pm michael_jordan a...am time president beloved chicago bull dream team', 'swipe_leave_right attack clones translate chines... jedi council folks crooked yoda say whitemamba83', 'michael cliff waters lead analyst energy_transfe..._environmental science_follow_adventure instagram', 'janet_yellen stay president trump 12:53 pm_est i...mber schmidt not think google successful november', 'obama quickly appeal_court_ruling stop new_overt...ss intend follow_opinion_section twitter_facebook', '1:30_pm follow josh_norman push cowboys_quarterb... injure_reserve ne good performance position post', 'enlarge_image aaron_lee tasjan perform world_caf...uhaus vuhaus episode_playlist_world_cafe 11/29/16', 'washington_post live election_night view party e...dvertise_washington post_video_buildnumber:0299c0', 'sharpton try dismiss say oh talk heavily edit vi..._not point speck brother eye acknowledge log boom', ...],)\n        kwargs = {}\n     55         # update the docstring of the returned function\n     56         update_wrapper(out, self.fn)\n     57         return out\n     58 \n\n...........................................................................\n/Users/mikeghoul/anaconda/envs/py35/lib/python3.5/site-packages/sklearn/pipeline.py in predict(self=Pipeline(steps=[('tfidf', TfidfVectorizer(analyz...   subsample=1.0, verbose=0, warm_start=False))]), X=['zurich nov_reuters spotlight find cancer cure sp...create value contract future editing anna willard', 'post_october daisy_luther oh loretta ill_bet ag_..._word share_article_favorite_social network_share', 'mike_coppinger_november 10:02 pm_follow las_vega...ig butt everyone go saturday ap_photo_john_locher', \"man nostalgic simpler era hour_ago close_vol_iss...n_onion 's_newsletter_spam filter_daily_headlines\", 'john_wall approach free_throw_line early quarter...ble point_rebound morris contribute point_rebound', \"white_house_press_secretary josh_earnest_say mon...president_obama send_delegation tyrant 's funeral\", 'social_care chancellor wrong social_care_funding...drew_marr sunday_november_gmt_view sharing_option', 'hard working american vs. government_parasite mi...mment work soup_kitchen day maybe gary2s approach', 'cnn.com_div_class=\"banner_id=\"cnn_300x250_sync_f...draiser run event host constance milstein section', 'gold_coast target good_friend afl_draft strategy...jor reason interested join battle queensland club', '1940s baghdad 1980s newcastle archive urban chan...nuszka guardianwitness_facebook_twitter_pinterest', 'jessie_karangu november 7:37 pm michael_jordan a...am time president beloved chicago bull dream team', 'swipe_leave_right attack clones translate chines... jedi council folks crooked yoda say whitemamba83', 'michael cliff waters lead analyst energy_transfe..._environmental science_follow_adventure instagram', 'janet_yellen stay president trump 12:53 pm_est i...mber schmidt not think google successful november', 'obama quickly appeal_court_ruling stop new_overt...ss intend follow_opinion_section twitter_facebook', '1:30_pm follow josh_norman push cowboys_quarterb... injure_reserve ne good performance position post', 'enlarge_image aaron_lee tasjan perform world_caf...uhaus vuhaus episode_playlist_world_cafe 11/29/16', 'washington_post live election_night view party e...dvertise_washington post_video_buildnumber:0299c0', 'sharpton try dismiss say oh talk heavily edit vi..._not point speck brother eye acknowledge log boom', ...])\n    322         \"\"\"\n    323         Xt = X\n    324         for name, transform in self.steps[:-1]:\n    325             if transform is not None:\n    326                 Xt = transform.transform(Xt)\n--> 327         return self.steps[-1][-1].predict(Xt)\n        self.steps.predict = undefined\n        Xt = <9230x20552 sparse matrix of type '<class 'numpy... stored elements in Compressed Sparse Row format>\n    328 \n    329     @if_delegate_has_method(delegate='_final_estimator')\n    330     def fit_predict(self, X, y=None, **fit_params):\n    331         \"\"\"Applies fit_predict of last step in pipeline after transforms.\n\n...........................................................................\n/Users/mikeghoul/anaconda/envs/py35/lib/python3.5/site-packages/sklearn/ensemble/gradient_boosting.py in predict(self=GradientBoostingClassifier(criterion='friedman_m...      subsample=1.0, verbose=0, warm_start=False), X=<9230x20552 sparse matrix of type '<class 'numpy... stored elements in Compressed Sparse Row format>)\n   1530         Returns\n   1531         -------\n   1532         y: array of shape = [\"n_samples]\n   1533             The predicted values.\n   1534         \"\"\"\n-> 1535         score = self.decision_function(X)\n        score = undefined\n        self.decision_function = <bound method GradientBoostingClassifier.decisio...     subsample=1.0, verbose=0, warm_start=False)>\n        X = <9230x20552 sparse matrix of type '<class 'numpy... stored elements in Compressed Sparse Row format>\n   1536         decisions = self.loss_._score_to_decision(score)\n   1537         return self.classes_.take(decisions, axis=0)\n   1538 \n   1539     def staged_predict(self, X):\n\n...........................................................................\n/Users/mikeghoul/anaconda/envs/py35/lib/python3.5/site-packages/sklearn/ensemble/gradient_boosting.py in decision_function(self=GradientBoostingClassifier(criterion='friedman_m...      subsample=1.0, verbose=0, warm_start=False), X=<9230x20552 sparse matrix of type '<class 'numpy... stored elements in Compressed Sparse Row format>)\n   1488             The decision function of the input samples. The order of the\n   1489             classes corresponds to that in the attribute `classes_`.\n   1490             Regression and binary classification produce an array of shape\n   1491             [n_samples].\n   1492         \"\"\"\n-> 1493         X = check_array(X, dtype=DTYPE, order=\"C\")\n        X = <9230x20552 sparse matrix of type '<class 'numpy... stored elements in Compressed Sparse Row format>\n   1494         score = self._decision_function(X)\n   1495         if score.shape[1] == 1:\n   1496             return score.ravel()\n   1497         return score\n\n...........................................................................\n/Users/mikeghoul/anaconda/envs/py35/lib/python3.5/site-packages/sklearn/utils/validation.py in check_array(array=<9230x20552 sparse matrix of type '<class 'numpy... stored elements in Compressed Sparse Row format>, accept_sparse=None, dtype=<class 'numpy.float32'>, order='C', copy=False, force_all_finite=True, ensure_2d=True, allow_nd=False, ensure_min_samples=1, ensure_min_features=1, warn_on_dtype=False, estimator=None)\n    375         estimator_name = \"Estimator\"\n    376     context = \" by %s\" % estimator_name if estimator is not None else \"\"\n    377 \n    378     if sp.issparse(array):\n    379         array = _ensure_sparse_format(array, accept_sparse, dtype, copy,\n--> 380                                       force_all_finite)\n        force_all_finite = True\n    381     else:\n    382         array = np.array(array, dtype=dtype, order=order, copy=copy)\n    383 \n    384         if ensure_2d:\n\n...........................................................................\n/Users/mikeghoul/anaconda/envs/py35/lib/python3.5/site-packages/sklearn/utils/validation.py in _ensure_sparse_format(spmatrix=<9230x20552 sparse matrix of type '<class 'numpy... stored elements in Compressed Sparse Row format>, accept_sparse=None, dtype=<class 'numpy.float32'>, copy=False, force_all_finite=True)\n    238     -------\n    239     spmatrix_converted : scipy sparse matrix.\n    240         Matrix that is ensured to have an allowed type.\n    241     \"\"\"\n    242     if accept_sparse in [None, False]:\n--> 243         raise TypeError('A sparse matrix was passed, but dense '\n    244                         'data is required. Use X.toarray() to '\n    245                         'convert to a dense numpy array.')\n    246     if dtype is None:\n    247         dtype = spmatrix.dtype\n\nTypeError: A sparse matrix was passed, but dense data is required. Use X.toarray() to convert to a dense numpy array.\n___________________________________________________________________________",
      "\nDuring handling of the above exception, another exception occurred:\n",
      "\u001b[0;31mJoblibTypeError\u001b[0m                           Traceback (most recent call last)",
      "\u001b[0;32m<ipython-input-221-b35b073dc8e5>\u001b[0m in \u001b[0;36m<module>\u001b[0;34m()\u001b[0m\n\u001b[0;32m----> 1\u001b[0;31m \u001b[0mget_ipython\u001b[0m\u001b[0;34m(\u001b[0m\u001b[0;34m)\u001b[0m\u001b[0;34m.\u001b[0m\u001b[0mrun_cell_magic\u001b[0m\u001b[0;34m(\u001b[0m\u001b[0;34m'time'\u001b[0m\u001b[0;34m,\u001b[0m \u001b[0;34m''\u001b[0m\u001b[0;34m,\u001b[0m \u001b[0;34m'gs_gbt = gs_gbt.fit(x_train, y_train)'\u001b[0m\u001b[0;34m)\u001b[0m\u001b[0;34m\u001b[0m\u001b[0m\n\u001b[0m",
      "\u001b[0;32m/Users/mikeghoul/anaconda/envs/py35/lib/python3.5/site-packages/IPython/core/interactiveshell.py\u001b[0m in \u001b[0;36mrun_cell_magic\u001b[0;34m(self, magic_name, line, cell)\u001b[0m\n\u001b[1;32m   2113\u001b[0m             \u001b[0mmagic_arg_s\u001b[0m \u001b[0;34m=\u001b[0m \u001b[0mself\u001b[0m\u001b[0;34m.\u001b[0m\u001b[0mvar_expand\u001b[0m\u001b[0;34m(\u001b[0m\u001b[0mline\u001b[0m\u001b[0;34m,\u001b[0m \u001b[0mstack_depth\u001b[0m\u001b[0;34m)\u001b[0m\u001b[0;34m\u001b[0m\u001b[0m\n\u001b[1;32m   2114\u001b[0m             \u001b[0;32mwith\u001b[0m \u001b[0mself\u001b[0m\u001b[0;34m.\u001b[0m\u001b[0mbuiltin_trap\u001b[0m\u001b[0;34m:\u001b[0m\u001b[0;34m\u001b[0m\u001b[0m\n\u001b[0;32m-> 2115\u001b[0;31m                 \u001b[0mresult\u001b[0m \u001b[0;34m=\u001b[0m \u001b[0mfn\u001b[0m\u001b[0;34m(\u001b[0m\u001b[0mmagic_arg_s\u001b[0m\u001b[0;34m,\u001b[0m \u001b[0mcell\u001b[0m\u001b[0;34m)\u001b[0m\u001b[0;34m\u001b[0m\u001b[0m\n\u001b[0m\u001b[1;32m   2116\u001b[0m             \u001b[0;32mreturn\u001b[0m \u001b[0mresult\u001b[0m\u001b[0;34m\u001b[0m\u001b[0m\n\u001b[1;32m   2117\u001b[0m \u001b[0;34m\u001b[0m\u001b[0m\n",
      "\u001b[0;32m<decorator-gen-59>\u001b[0m in \u001b[0;36mtime\u001b[0;34m(self, line, cell, local_ns)\u001b[0m\n",
      "\u001b[0;32m/Users/mikeghoul/anaconda/envs/py35/lib/python3.5/site-packages/IPython/core/magic.py\u001b[0m in \u001b[0;36m<lambda>\u001b[0;34m(f, *a, **k)\u001b[0m\n\u001b[1;32m    186\u001b[0m     \u001b[0;31m# but it's overkill for just that one bit of state.\u001b[0m\u001b[0;34m\u001b[0m\u001b[0;34m\u001b[0m\u001b[0m\n\u001b[1;32m    187\u001b[0m     \u001b[0;32mdef\u001b[0m \u001b[0mmagic_deco\u001b[0m\u001b[0;34m(\u001b[0m\u001b[0marg\u001b[0m\u001b[0;34m)\u001b[0m\u001b[0;34m:\u001b[0m\u001b[0;34m\u001b[0m\u001b[0m\n\u001b[0;32m--> 188\u001b[0;31m         \u001b[0mcall\u001b[0m \u001b[0;34m=\u001b[0m \u001b[0;32mlambda\u001b[0m \u001b[0mf\u001b[0m\u001b[0;34m,\u001b[0m \u001b[0;34m*\u001b[0m\u001b[0ma\u001b[0m\u001b[0;34m,\u001b[0m \u001b[0;34m**\u001b[0m\u001b[0mk\u001b[0m\u001b[0;34m:\u001b[0m \u001b[0mf\u001b[0m\u001b[0;34m(\u001b[0m\u001b[0;34m*\u001b[0m\u001b[0ma\u001b[0m\u001b[0;34m,\u001b[0m \u001b[0;34m**\u001b[0m\u001b[0mk\u001b[0m\u001b[0;34m)\u001b[0m\u001b[0;34m\u001b[0m\u001b[0m\n\u001b[0m\u001b[1;32m    189\u001b[0m \u001b[0;34m\u001b[0m\u001b[0m\n\u001b[1;32m    190\u001b[0m         \u001b[0;32mif\u001b[0m \u001b[0mcallable\u001b[0m\u001b[0;34m(\u001b[0m\u001b[0marg\u001b[0m\u001b[0;34m)\u001b[0m\u001b[0;34m:\u001b[0m\u001b[0;34m\u001b[0m\u001b[0m\n",
      "\u001b[0;32m/Users/mikeghoul/anaconda/envs/py35/lib/python3.5/site-packages/IPython/core/magics/execution.py\u001b[0m in \u001b[0;36mtime\u001b[0;34m(self, line, cell, local_ns)\u001b[0m\n\u001b[1;32m   1183\u001b[0m         \u001b[0;32melse\u001b[0m\u001b[0;34m:\u001b[0m\u001b[0;34m\u001b[0m\u001b[0m\n\u001b[1;32m   1184\u001b[0m             \u001b[0mst\u001b[0m \u001b[0;34m=\u001b[0m \u001b[0mclock2\u001b[0m\u001b[0;34m(\u001b[0m\u001b[0;34m)\u001b[0m\u001b[0;34m\u001b[0m\u001b[0m\n\u001b[0;32m-> 1185\u001b[0;31m             \u001b[0mexec\u001b[0m\u001b[0;34m(\u001b[0m\u001b[0mcode\u001b[0m\u001b[0;34m,\u001b[0m \u001b[0mglob\u001b[0m\u001b[0;34m,\u001b[0m \u001b[0mlocal_ns\u001b[0m\u001b[0;34m)\u001b[0m\u001b[0;34m\u001b[0m\u001b[0m\n\u001b[0m\u001b[1;32m   1186\u001b[0m             \u001b[0mend\u001b[0m \u001b[0;34m=\u001b[0m \u001b[0mclock2\u001b[0m\u001b[0;34m(\u001b[0m\u001b[0;34m)\u001b[0m\u001b[0;34m\u001b[0m\u001b[0m\n\u001b[1;32m   1187\u001b[0m             \u001b[0mout\u001b[0m \u001b[0;34m=\u001b[0m \u001b[0;32mNone\u001b[0m\u001b[0;34m\u001b[0m\u001b[0m\n",
      "\u001b[0;32m<timed exec>\u001b[0m in \u001b[0;36m<module>\u001b[0;34m()\u001b[0m\n",
      "\u001b[0;32m/Users/mikeghoul/anaconda/envs/py35/lib/python3.5/site-packages/sklearn/model_selection/_search.py\u001b[0m in \u001b[0;36mfit\u001b[0;34m(self, X, y, groups)\u001b[0m\n\u001b[1;32m    943\u001b[0m             \u001b[0mtrain\u001b[0m\u001b[0;34m/\u001b[0m\u001b[0mtest\u001b[0m \u001b[0mset\u001b[0m\u001b[0;34m.\u001b[0m\u001b[0;34m\u001b[0m\u001b[0m\n\u001b[1;32m    944\u001b[0m         \"\"\"\n\u001b[0;32m--> 945\u001b[0;31m         \u001b[0;32mreturn\u001b[0m \u001b[0mself\u001b[0m\u001b[0;34m.\u001b[0m\u001b[0m_fit\u001b[0m\u001b[0;34m(\u001b[0m\u001b[0mX\u001b[0m\u001b[0;34m,\u001b[0m \u001b[0my\u001b[0m\u001b[0;34m,\u001b[0m \u001b[0mgroups\u001b[0m\u001b[0;34m,\u001b[0m \u001b[0mParameterGrid\u001b[0m\u001b[0;34m(\u001b[0m\u001b[0mself\u001b[0m\u001b[0;34m.\u001b[0m\u001b[0mparam_grid\u001b[0m\u001b[0;34m)\u001b[0m\u001b[0;34m)\u001b[0m\u001b[0;34m\u001b[0m\u001b[0m\n\u001b[0m\u001b[1;32m    946\u001b[0m \u001b[0;34m\u001b[0m\u001b[0m\n\u001b[1;32m    947\u001b[0m \u001b[0;34m\u001b[0m\u001b[0m\n",
      "\u001b[0;32m/Users/mikeghoul/anaconda/envs/py35/lib/python3.5/site-packages/sklearn/model_selection/_search.py\u001b[0m in \u001b[0;36m_fit\u001b[0;34m(self, X, y, groups, parameter_iterable)\u001b[0m\n\u001b[1;32m    562\u001b[0m                                   \u001b[0mreturn_times\u001b[0m\u001b[0;34m=\u001b[0m\u001b[0;32mTrue\u001b[0m\u001b[0;34m,\u001b[0m \u001b[0mreturn_parameters\u001b[0m\u001b[0;34m=\u001b[0m\u001b[0;32mTrue\u001b[0m\u001b[0;34m,\u001b[0m\u001b[0;34m\u001b[0m\u001b[0m\n\u001b[1;32m    563\u001b[0m                                   error_score=self.error_score)\n\u001b[0;32m--> 564\u001b[0;31m           \u001b[0;32mfor\u001b[0m \u001b[0mparameters\u001b[0m \u001b[0;32min\u001b[0m \u001b[0mparameter_iterable\u001b[0m\u001b[0;34m\u001b[0m\u001b[0m\n\u001b[0m\u001b[1;32m    565\u001b[0m           for train, test in cv_iter)\n\u001b[1;32m    566\u001b[0m \u001b[0;34m\u001b[0m\u001b[0m\n",
      "\u001b[0;32m/Users/mikeghoul/anaconda/envs/py35/lib/python3.5/site-packages/sklearn/externals/joblib/parallel.py\u001b[0m in \u001b[0;36m__call__\u001b[0;34m(self, iterable)\u001b[0m\n\u001b[1;32m    766\u001b[0m                 \u001b[0;31m# consumption.\u001b[0m\u001b[0;34m\u001b[0m\u001b[0;34m\u001b[0m\u001b[0m\n\u001b[1;32m    767\u001b[0m                 \u001b[0mself\u001b[0m\u001b[0;34m.\u001b[0m\u001b[0m_iterating\u001b[0m \u001b[0;34m=\u001b[0m \u001b[0;32mFalse\u001b[0m\u001b[0;34m\u001b[0m\u001b[0m\n\u001b[0;32m--> 768\u001b[0;31m             \u001b[0mself\u001b[0m\u001b[0;34m.\u001b[0m\u001b[0mretrieve\u001b[0m\u001b[0;34m(\u001b[0m\u001b[0;34m)\u001b[0m\u001b[0;34m\u001b[0m\u001b[0m\n\u001b[0m\u001b[1;32m    769\u001b[0m             \u001b[0;31m# Make sure that we get a last message telling us we are done\u001b[0m\u001b[0;34m\u001b[0m\u001b[0;34m\u001b[0m\u001b[0m\n\u001b[1;32m    770\u001b[0m             \u001b[0melapsed_time\u001b[0m \u001b[0;34m=\u001b[0m \u001b[0mtime\u001b[0m\u001b[0;34m.\u001b[0m\u001b[0mtime\u001b[0m\u001b[0;34m(\u001b[0m\u001b[0;34m)\u001b[0m \u001b[0;34m-\u001b[0m \u001b[0mself\u001b[0m\u001b[0;34m.\u001b[0m\u001b[0m_start_time\u001b[0m\u001b[0;34m\u001b[0m\u001b[0m\n",
      "\u001b[0;32m/Users/mikeghoul/anaconda/envs/py35/lib/python3.5/site-packages/sklearn/externals/joblib/parallel.py\u001b[0m in \u001b[0;36mretrieve\u001b[0;34m(self)\u001b[0m\n\u001b[1;32m    717\u001b[0m                     \u001b[0mensure_ready\u001b[0m \u001b[0;34m=\u001b[0m \u001b[0mself\u001b[0m\u001b[0;34m.\u001b[0m\u001b[0m_managed_backend\u001b[0m\u001b[0;34m\u001b[0m\u001b[0m\n\u001b[1;32m    718\u001b[0m                     \u001b[0mbackend\u001b[0m\u001b[0;34m.\u001b[0m\u001b[0mabort_everything\u001b[0m\u001b[0;34m(\u001b[0m\u001b[0mensure_ready\u001b[0m\u001b[0;34m=\u001b[0m\u001b[0mensure_ready\u001b[0m\u001b[0;34m)\u001b[0m\u001b[0;34m\u001b[0m\u001b[0m\n\u001b[0;32m--> 719\u001b[0;31m                 \u001b[0;32mraise\u001b[0m \u001b[0mexception\u001b[0m\u001b[0;34m\u001b[0m\u001b[0m\n\u001b[0m\u001b[1;32m    720\u001b[0m \u001b[0;34m\u001b[0m\u001b[0m\n\u001b[1;32m    721\u001b[0m     \u001b[0;32mdef\u001b[0m \u001b[0m__call__\u001b[0m\u001b[0;34m(\u001b[0m\u001b[0mself\u001b[0m\u001b[0;34m,\u001b[0m \u001b[0miterable\u001b[0m\u001b[0;34m)\u001b[0m\u001b[0;34m:\u001b[0m\u001b[0;34m\u001b[0m\u001b[0m\n",
      "\u001b[0;31mJoblibTypeError\u001b[0m: JoblibTypeError\n___________________________________________________________________________\nMultiprocessing exception:\n...........................................................................\n/Users/mikeghoul/anaconda/envs/py35/lib/python3.5/runpy.py in _run_module_as_main(mod_name='ipykernel_launcher', alter_argv=1)\n    188         sys.exit(msg)\n    189     main_globals = sys.modules[\"__main__\"].__dict__\n    190     if alter_argv:\n    191         sys.argv[0] = mod_spec.origin\n    192     return _run_code(code, main_globals, None,\n--> 193                      \"__main__\", mod_spec)\n        mod_spec = ModuleSpec(name='ipykernel_launcher', loader=<_f...b/python3.5/site-packages/ipykernel_launcher.py')\n    194 \n    195 def run_module(mod_name, init_globals=None,\n    196                run_name=None, alter_sys=False):\n    197     \"\"\"Execute a module's code without importing it\n\n...........................................................................\n/Users/mikeghoul/anaconda/envs/py35/lib/python3.5/runpy.py in _run_code(code=<code object <module> at 0x10cb3ae40, file \"/Use...3.5/site-packages/ipykernel_launcher.py\", line 5>, run_globals={'__builtins__': <module 'builtins' (built-in)>, '__cached__': '/Users/mikeghoul/anaconda/envs/py35/lib/python3....ges/__pycache__/ipykernel_launcher.cpython-35.pyc', '__doc__': 'Entry point for launching an IPython kernel.\\n\\nTh...orts until\\nafter removing the cwd from sys.path.\\n', '__file__': '/Users/mikeghoul/anaconda/envs/py35/lib/python3.5/site-packages/ipykernel_launcher.py', '__loader__': <_frozen_importlib_external.SourceFileLoader object>, '__name__': '__main__', '__package__': '', '__spec__': ModuleSpec(name='ipykernel_launcher', loader=<_f...b/python3.5/site-packages/ipykernel_launcher.py'), 'app': <module 'ipykernel.kernelapp' from '/Users/mikeg.../python3.5/site-packages/ipykernel/kernelapp.py'>, 'sys': <module 'sys' (built-in)>}, init_globals=None, mod_name='__main__', mod_spec=ModuleSpec(name='ipykernel_launcher', loader=<_f...b/python3.5/site-packages/ipykernel_launcher.py'), pkg_name='', script_name=None)\n     80                        __cached__ = cached,\n     81                        __doc__ = None,\n     82                        __loader__ = loader,\n     83                        __package__ = pkg_name,\n     84                        __spec__ = mod_spec)\n---> 85     exec(code, run_globals)\n        code = <code object <module> at 0x10cb3ae40, file \"/Use...3.5/site-packages/ipykernel_launcher.py\", line 5>\n        run_globals = {'__builtins__': <module 'builtins' (built-in)>, '__cached__': '/Users/mikeghoul/anaconda/envs/py35/lib/python3....ges/__pycache__/ipykernel_launcher.cpython-35.pyc', '__doc__': 'Entry point for launching an IPython kernel.\\n\\nTh...orts until\\nafter removing the cwd from sys.path.\\n', '__file__': '/Users/mikeghoul/anaconda/envs/py35/lib/python3.5/site-packages/ipykernel_launcher.py', '__loader__': <_frozen_importlib_external.SourceFileLoader object>, '__name__': '__main__', '__package__': '', '__spec__': ModuleSpec(name='ipykernel_launcher', loader=<_f...b/python3.5/site-packages/ipykernel_launcher.py'), 'app': <module 'ipykernel.kernelapp' from '/Users/mikeg.../python3.5/site-packages/ipykernel/kernelapp.py'>, 'sys': <module 'sys' (built-in)>}\n     86     return run_globals\n     87 \n     88 def _run_module_code(code, init_globals=None,\n     89                     mod_name=None, mod_spec=None,\n\n...........................................................................\n/Users/mikeghoul/anaconda/envs/py35/lib/python3.5/site-packages/ipykernel_launcher.py in <module>()\n     11     # This is added back by InteractiveShellApp.init_path()\n     12     if sys.path[0] == '':\n     13         del sys.path[0]\n     14 \n     15     from ipykernel import kernelapp as app\n---> 16     app.launch_new_instance()\n     17 \n     18 \n     19 \n     20 \n\n...........................................................................\n/Users/mikeghoul/anaconda/envs/py35/lib/python3.5/site-packages/traitlets/config/application.py in launch_instance(cls=<class 'ipykernel.kernelapp.IPKernelApp'>, argv=None, **kwargs={})\n    653 \n    654         If a global instance already exists, this reinitializes and starts it\n    655         \"\"\"\n    656         app = cls.instance(**kwargs)\n    657         app.initialize(argv)\n--> 658         app.start()\n        app.start = <bound method IPKernelApp.start of <ipykernel.kernelapp.IPKernelApp object>>\n    659 \n    660 #-----------------------------------------------------------------------------\n    661 # utility functions, for convenience\n    662 #-----------------------------------------------------------------------------\n\n...........................................................................\n/Users/mikeghoul/anaconda/envs/py35/lib/python3.5/site-packages/ipykernel/kernelapp.py in start(self=<ipykernel.kernelapp.IPKernelApp object>)\n    472             return self.subapp.start()\n    473         if self.poller is not None:\n    474             self.poller.start()\n    475         self.kernel.start()\n    476         try:\n--> 477             ioloop.IOLoop.instance().start()\n    478         except KeyboardInterrupt:\n    479             pass\n    480 \n    481 launch_new_instance = IPKernelApp.launch_instance\n\n...........................................................................\n/Users/mikeghoul/anaconda/envs/py35/lib/python3.5/site-packages/zmq/eventloop/ioloop.py in start(self=<zmq.eventloop.ioloop.ZMQIOLoop object>)\n    172             )\n    173         return loop\n    174     \n    175     def start(self):\n    176         try:\n--> 177             super(ZMQIOLoop, self).start()\n        self.start = <bound method ZMQIOLoop.start of <zmq.eventloop.ioloop.ZMQIOLoop object>>\n    178         except ZMQError as e:\n    179             if e.errno == ETERM:\n    180                 # quietly return on ETERM\n    181                 pass\n\n...........................................................................\n/Users/mikeghoul/anaconda/envs/py35/lib/python3.5/site-packages/tornado/ioloop.py in start(self=<zmq.eventloop.ioloop.ZMQIOLoop object>)\n    883                 self._events.update(event_pairs)\n    884                 while self._events:\n    885                     fd, events = self._events.popitem()\n    886                     try:\n    887                         fd_obj, handler_func = self._handlers[fd]\n--> 888                         handler_func(fd_obj, events)\n        handler_func = <function wrap.<locals>.null_wrapper>\n        fd_obj = <zmq.sugar.socket.Socket object>\n        events = 1\n    889                     except (OSError, IOError) as e:\n    890                         if errno_from_exception(e) == errno.EPIPE:\n    891                             # Happens when the client closes the connection\n    892                             pass\n\n...........................................................................\n/Users/mikeghoul/anaconda/envs/py35/lib/python3.5/site-packages/tornado/stack_context.py in null_wrapper(*args=(<zmq.sugar.socket.Socket object>, 1), **kwargs={})\n    272         # Fast path when there are no active contexts.\n    273         def null_wrapper(*args, **kwargs):\n    274             try:\n    275                 current_state = _state.contexts\n    276                 _state.contexts = cap_contexts[0]\n--> 277                 return fn(*args, **kwargs)\n        args = (<zmq.sugar.socket.Socket object>, 1)\n        kwargs = {}\n    278             finally:\n    279                 _state.contexts = current_state\n    280         null_wrapper._wrapped = True\n    281         return null_wrapper\n\n...........................................................................\n/Users/mikeghoul/anaconda/envs/py35/lib/python3.5/site-packages/zmq/eventloop/zmqstream.py in _handle_events(self=<zmq.eventloop.zmqstream.ZMQStream object>, fd=<zmq.sugar.socket.Socket object>, events=1)\n    435             # dispatch events:\n    436             if events & IOLoop.ERROR:\n    437                 gen_log.error(\"got POLLERR event on ZMQStream, which doesn't make sense\")\n    438                 return\n    439             if events & IOLoop.READ:\n--> 440                 self._handle_recv()\n        self._handle_recv = <bound method ZMQStream._handle_recv of <zmq.eventloop.zmqstream.ZMQStream object>>\n    441                 if not self.socket:\n    442                     return\n    443             if events & IOLoop.WRITE:\n    444                 self._handle_send()\n\n...........................................................................\n/Users/mikeghoul/anaconda/envs/py35/lib/python3.5/site-packages/zmq/eventloop/zmqstream.py in _handle_recv(self=<zmq.eventloop.zmqstream.ZMQStream object>)\n    467                 gen_log.error(\"RECV Error: %s\"%zmq.strerror(e.errno))\n    468         else:\n    469             if self._recv_callback:\n    470                 callback = self._recv_callback\n    471                 # self._recv_callback = None\n--> 472                 self._run_callback(callback, msg)\n        self._run_callback = <bound method ZMQStream._run_callback of <zmq.eventloop.zmqstream.ZMQStream object>>\n        callback = <function wrap.<locals>.null_wrapper>\n        msg = [<zmq.sugar.frame.Frame object>, <zmq.sugar.frame.Frame object>, <zmq.sugar.frame.Frame object>, <zmq.sugar.frame.Frame object>, <zmq.sugar.frame.Frame object>, <zmq.sugar.frame.Frame object>, <zmq.sugar.frame.Frame object>]\n    473                 \n    474         # self.update_state()\n    475         \n    476 \n\n...........................................................................\n/Users/mikeghoul/anaconda/envs/py35/lib/python3.5/site-packages/zmq/eventloop/zmqstream.py in _run_callback(self=<zmq.eventloop.zmqstream.ZMQStream object>, callback=<function wrap.<locals>.null_wrapper>, *args=([<zmq.sugar.frame.Frame object>, <zmq.sugar.frame.Frame object>, <zmq.sugar.frame.Frame object>, <zmq.sugar.frame.Frame object>, <zmq.sugar.frame.Frame object>, <zmq.sugar.frame.Frame object>, <zmq.sugar.frame.Frame object>],), **kwargs={})\n    409         close our socket.\"\"\"\n    410         try:\n    411             # Use a NullContext to ensure that all StackContexts are run\n    412             # inside our blanket exception handler rather than outside.\n    413             with stack_context.NullContext():\n--> 414                 callback(*args, **kwargs)\n        callback = <function wrap.<locals>.null_wrapper>\n        args = ([<zmq.sugar.frame.Frame object>, <zmq.sugar.frame.Frame object>, <zmq.sugar.frame.Frame object>, <zmq.sugar.frame.Frame object>, <zmq.sugar.frame.Frame object>, <zmq.sugar.frame.Frame object>, <zmq.sugar.frame.Frame object>],)\n        kwargs = {}\n    415         except:\n    416             gen_log.error(\"Uncaught exception, closing connection.\",\n    417                           exc_info=True)\n    418             # Close the socket on an uncaught exception from a user callback\n\n...........................................................................\n/Users/mikeghoul/anaconda/envs/py35/lib/python3.5/site-packages/tornado/stack_context.py in null_wrapper(*args=([<zmq.sugar.frame.Frame object>, <zmq.sugar.frame.Frame object>, <zmq.sugar.frame.Frame object>, <zmq.sugar.frame.Frame object>, <zmq.sugar.frame.Frame object>, <zmq.sugar.frame.Frame object>, <zmq.sugar.frame.Frame object>],), **kwargs={})\n    272         # Fast path when there are no active contexts.\n    273         def null_wrapper(*args, **kwargs):\n    274             try:\n    275                 current_state = _state.contexts\n    276                 _state.contexts = cap_contexts[0]\n--> 277                 return fn(*args, **kwargs)\n        args = ([<zmq.sugar.frame.Frame object>, <zmq.sugar.frame.Frame object>, <zmq.sugar.frame.Frame object>, <zmq.sugar.frame.Frame object>, <zmq.sugar.frame.Frame object>, <zmq.sugar.frame.Frame object>, <zmq.sugar.frame.Frame object>],)\n        kwargs = {}\n    278             finally:\n    279                 _state.contexts = current_state\n    280         null_wrapper._wrapped = True\n    281         return null_wrapper\n\n...........................................................................\n/Users/mikeghoul/anaconda/envs/py35/lib/python3.5/site-packages/ipykernel/kernelbase.py in dispatcher(msg=[<zmq.sugar.frame.Frame object>, <zmq.sugar.frame.Frame object>, <zmq.sugar.frame.Frame object>, <zmq.sugar.frame.Frame object>, <zmq.sugar.frame.Frame object>, <zmq.sugar.frame.Frame object>, <zmq.sugar.frame.Frame object>])\n    278         if self.control_stream:\n    279             self.control_stream.on_recv(self.dispatch_control, copy=False)\n    280 \n    281         def make_dispatcher(stream):\n    282             def dispatcher(msg):\n--> 283                 return self.dispatch_shell(stream, msg)\n        msg = [<zmq.sugar.frame.Frame object>, <zmq.sugar.frame.Frame object>, <zmq.sugar.frame.Frame object>, <zmq.sugar.frame.Frame object>, <zmq.sugar.frame.Frame object>, <zmq.sugar.frame.Frame object>, <zmq.sugar.frame.Frame object>]\n    284             return dispatcher\n    285 \n    286         for s in self.shell_streams:\n    287             s.on_recv(make_dispatcher(s), copy=False)\n\n...........................................................................\n/Users/mikeghoul/anaconda/envs/py35/lib/python3.5/site-packages/ipykernel/kernelbase.py in dispatch_shell(self=<ipykernel.ipkernel.IPythonKernel object>, stream=<zmq.eventloop.zmqstream.ZMQStream object>, msg={'buffers': [], 'content': {'allow_stdin': True, 'code': '%%time\\ngs_gbt = gs_gbt.fit(x_train, y_train)', 'silent': False, 'stop_on_error': True, 'store_history': True, 'user_expressions': {}}, 'header': {'date': datetime.datetime(2017, 9, 6, 20, 37, 4, 685018, tzinfo=datetime.timezone.utc), 'msg_id': '18DADD79228F46FA9D1484D2DD11DDE0', 'msg_type': 'execute_request', 'session': 'F8998EAA59024FEA83AC48F899FEC55D', 'username': 'username', 'version': '5.0'}, 'metadata': {}, 'msg_id': '18DADD79228F46FA9D1484D2DD11DDE0', 'msg_type': 'execute_request', 'parent_header': {}})\n    230             self.log.warn(\"Unknown message type: %r\", msg_type)\n    231         else:\n    232             self.log.debug(\"%s: %s\", msg_type, msg)\n    233             self.pre_handler_hook()\n    234             try:\n--> 235                 handler(stream, idents, msg)\n        handler = <bound method Kernel.execute_request of <ipykernel.ipkernel.IPythonKernel object>>\n        stream = <zmq.eventloop.zmqstream.ZMQStream object>\n        idents = [b'F8998EAA59024FEA83AC48F899FEC55D']\n        msg = {'buffers': [], 'content': {'allow_stdin': True, 'code': '%%time\\ngs_gbt = gs_gbt.fit(x_train, y_train)', 'silent': False, 'stop_on_error': True, 'store_history': True, 'user_expressions': {}}, 'header': {'date': datetime.datetime(2017, 9, 6, 20, 37, 4, 685018, tzinfo=datetime.timezone.utc), 'msg_id': '18DADD79228F46FA9D1484D2DD11DDE0', 'msg_type': 'execute_request', 'session': 'F8998EAA59024FEA83AC48F899FEC55D', 'username': 'username', 'version': '5.0'}, 'metadata': {}, 'msg_id': '18DADD79228F46FA9D1484D2DD11DDE0', 'msg_type': 'execute_request', 'parent_header': {}}\n    236             except Exception:\n    237                 self.log.error(\"Exception in message handler:\", exc_info=True)\n    238             finally:\n    239                 self.post_handler_hook()\n\n...........................................................................\n/Users/mikeghoul/anaconda/envs/py35/lib/python3.5/site-packages/ipykernel/kernelbase.py in execute_request(self=<ipykernel.ipkernel.IPythonKernel object>, stream=<zmq.eventloop.zmqstream.ZMQStream object>, ident=[b'F8998EAA59024FEA83AC48F899FEC55D'], parent={'buffers': [], 'content': {'allow_stdin': True, 'code': '%%time\\ngs_gbt = gs_gbt.fit(x_train, y_train)', 'silent': False, 'stop_on_error': True, 'store_history': True, 'user_expressions': {}}, 'header': {'date': datetime.datetime(2017, 9, 6, 20, 37, 4, 685018, tzinfo=datetime.timezone.utc), 'msg_id': '18DADD79228F46FA9D1484D2DD11DDE0', 'msg_type': 'execute_request', 'session': 'F8998EAA59024FEA83AC48F899FEC55D', 'username': 'username', 'version': '5.0'}, 'metadata': {}, 'msg_id': '18DADD79228F46FA9D1484D2DD11DDE0', 'msg_type': 'execute_request', 'parent_header': {}})\n    394         if not silent:\n    395             self.execution_count += 1\n    396             self._publish_execute_input(code, parent, self.execution_count)\n    397 \n    398         reply_content = self.do_execute(code, silent, store_history,\n--> 399                                         user_expressions, allow_stdin)\n        user_expressions = {}\n        allow_stdin = True\n    400 \n    401         # Flush output before sending the reply.\n    402         sys.stdout.flush()\n    403         sys.stderr.flush()\n\n...........................................................................\n/Users/mikeghoul/anaconda/envs/py35/lib/python3.5/site-packages/ipykernel/ipkernel.py in do_execute(self=<ipykernel.ipkernel.IPythonKernel object>, code='%%time\\ngs_gbt = gs_gbt.fit(x_train, y_train)', silent=False, store_history=True, user_expressions={}, allow_stdin=True)\n    191 \n    192         self._forward_input(allow_stdin)\n    193 \n    194         reply_content = {}\n    195         try:\n--> 196             res = shell.run_cell(code, store_history=store_history, silent=silent)\n        res = undefined\n        shell.run_cell = <bound method ZMQInteractiveShell.run_cell of <ipykernel.zmqshell.ZMQInteractiveShell object>>\n        code = '%%time\\ngs_gbt = gs_gbt.fit(x_train, y_train)'\n        store_history = True\n        silent = False\n    197         finally:\n    198             self._restore_input()\n    199 \n    200         if res.error_before_exec is not None:\n\n...........................................................................\n/Users/mikeghoul/anaconda/envs/py35/lib/python3.5/site-packages/ipykernel/zmqshell.py in run_cell(self=<ipykernel.zmqshell.ZMQInteractiveShell object>, *args=('%%time\\ngs_gbt = gs_gbt.fit(x_train, y_train)',), **kwargs={'silent': False, 'store_history': True})\n    528             )\n    529         self.payload_manager.write_payload(payload)\n    530 \n    531     def run_cell(self, *args, **kwargs):\n    532         self._last_traceback = None\n--> 533         return super(ZMQInteractiveShell, self).run_cell(*args, **kwargs)\n        self.run_cell = <bound method ZMQInteractiveShell.run_cell of <ipykernel.zmqshell.ZMQInteractiveShell object>>\n        args = ('%%time\\ngs_gbt = gs_gbt.fit(x_train, y_train)',)\n        kwargs = {'silent': False, 'store_history': True}\n    534 \n    535     def _showtraceback(self, etype, evalue, stb):\n    536         # try to preserve ordering of tracebacks and print statements\n    537         sys.stdout.flush()\n\n...........................................................................\n/Users/mikeghoul/anaconda/envs/py35/lib/python3.5/site-packages/IPython/core/interactiveshell.py in run_cell(self=<ipykernel.zmqshell.ZMQInteractiveShell object>, raw_cell='%%time\\ngs_gbt = gs_gbt.fit(x_train, y_train)', store_history=True, silent=False, shell_futures=True)\n   2712                 self.displayhook.exec_result = result\n   2713 \n   2714                 # Execute the user code\n   2715                 interactivity = \"none\" if silent else self.ast_node_interactivity\n   2716                 has_raised = self.run_ast_nodes(code_ast.body, cell_name,\n-> 2717                    interactivity=interactivity, compiler=compiler, result=result)\n        interactivity = 'last_expr'\n        compiler = <IPython.core.compilerop.CachingCompiler object>\n   2718                 \n   2719                 self.last_execution_succeeded = not has_raised\n   2720 \n   2721                 # Reset this so later displayed values do not modify the\n\n...........................................................................\n/Users/mikeghoul/anaconda/envs/py35/lib/python3.5/site-packages/IPython/core/interactiveshell.py in run_ast_nodes(self=<ipykernel.zmqshell.ZMQInteractiveShell object>, nodelist=[<_ast.Expr object>], cell_name='<ipython-input-221-b35b073dc8e5>', interactivity='last', compiler=<IPython.core.compilerop.CachingCompiler object>, result=<ExecutionResult object at 1d7429fd0, execution_..._before_exec=None error_in_exec=None result=None>)\n   2822                     return True\n   2823 \n   2824             for i, node in enumerate(to_run_interactive):\n   2825                 mod = ast.Interactive([node])\n   2826                 code = compiler(mod, cell_name, \"single\")\n-> 2827                 if self.run_code(code, result):\n        self.run_code = <bound method InteractiveShell.run_code of <ipykernel.zmqshell.ZMQInteractiveShell object>>\n        code = <code object <module> at 0x18d6e6420, file \"<ipython-input-221-b35b073dc8e5>\", line 1>\n        result = <ExecutionResult object at 1d7429fd0, execution_..._before_exec=None error_in_exec=None result=None>\n   2828                     return True\n   2829 \n   2830             # Flush softspace\n   2831             if softspace(sys.stdout, 0):\n\n...........................................................................\n/Users/mikeghoul/anaconda/envs/py35/lib/python3.5/site-packages/IPython/core/interactiveshell.py in run_code(self=<ipykernel.zmqshell.ZMQInteractiveShell object>, code_obj=<code object <module> at 0x18d6e6420, file \"<ipython-input-221-b35b073dc8e5>\", line 1>, result=<ExecutionResult object at 1d7429fd0, execution_..._before_exec=None error_in_exec=None result=None>)\n   2876         outflag = 1  # happens in more places, so it's easier as default\n   2877         try:\n   2878             try:\n   2879                 self.hooks.pre_run_code_hook()\n   2880                 #rprint('Running code', repr(code_obj)) # dbg\n-> 2881                 exec(code_obj, self.user_global_ns, self.user_ns)\n        code_obj = <code object <module> at 0x18d6e6420, file \"<ipython-input-221-b35b073dc8e5>\", line 1>\n        self.user_global_ns = {'A': (array([ 0.        ,  0.04104794,  1.        ]), array([ 0.        ,  0.85563859,  1.        ]), array([2, 1, 0])), 'B': (array([ 0.        ,  0.05132556,  1.        ]), array([ 0.        ,  0.82246377,  1.        ]), array([2, 1, 0])), 'C_values': [0.001, 0.01, 0.1, 1, 10, 100], 'GradientBoostingClassifier': <class 'sklearn.ensemble.gradient_boosting.GradientBoostingClassifier'>, 'GridSearchCV': <class 'sklearn.model_selection._search.GridSearchCV'>, 'In': ['', \"import spacy\\nnlp = spacy.load('en')\", 'import pandas as pd\\nimport re', 'clean_final = pd.read_csv(\"clean_final_news.csv\"...inal.drop([\\'index\\'], 1, inplace=True)\\nclean_final', 'clean_final.text[6]', 'clean_final.shape', '# Convert text and response to array \\nx_text = c...t.values\\ny_response = clean_final.response.values', 'for idx in range(len(x_text)):\\n    x_text[idx] = re.sub(r\\'@([A-Za-z0-9_]+)\\', \"\", str(x_text[idx]))', 'for idx in range(len(x_text)):\\n    x_text[idx] = re.sub(r\"(https|http)\\\\S+\", \"\", str(x_text[idx]))', 'len(x_text)', '# Update puncuation list in spacy\\nnlp.vocab[\"$\"]...\"].is_punct = True\\nnlp.vocab[\"~\"].is_punct = True', '# helper function to eliminate tokens that are p...token.is_space or token.is_stop or token.like_num', '# function to take array of articles and turn th...         lemma.append(None)\\n    \\n    return lemma', '# function to recombine nested list of tokens in...ppend(concat_art)\\n    \\n    return parsed_articles', '# function to match \"cleaned\" text back up with ...    \\n    return list(zip(observations, response))', '# Lemmatize text\\nlem = lemmatize_txt(x_text)', 'from gensim.models import Phrases\\nfrom gensim.models.phrases import Phraser', '# Create bi-grams for our text \\nphrases = Phrase...= Phraser(phrases)\\nbigram_lem = list(bigram[lem])', '# Create tri-grams for our text\\nphrases2 = Phras...phrases2)\\ntrigram_lem = list(trigram[bigram_lem])', '# Recombine full article text for unigrams, bigr...am_lem)\\ntri_lem_comb = lemma_combine(trigram_lem)', ...], 'LogisticRegression': <class 'sklearn.linear_model.logistic.LogisticRegression'>, 'MultinomialNB': <class 'sklearn.naive_bayes.MultinomialNB'>, 'Out': {3:                                                 ...610                1  \n\n[34611 rows x 10 columns], 4: 'Let friends in your social network know what you...ateAthletic . @wachfox pic.twitter.com/eyoSMpZDBK', 5: (34611, 9), 9: 34611, 32: Pipeline(steps=[('tfidf', TfidfVectorizer(analyz...B(alpha=1.0, class_prior=None, fit_prior=True))]), 33: 0.82877058653568336, 34: 0.80528672540806012, 42: {'clf__alpha': 1e-05, 'tfidf__max_df': 0.75, 'tfidf__min_df': 0.001}, 43: 0.90931089280554755, 44: 0.91304347826086951, ...}, 'Phraser': <class 'gensim.models.phrases.Phraser'>, ...}\n        self.user_ns = {'A': (array([ 0.        ,  0.04104794,  1.        ]), array([ 0.        ,  0.85563859,  1.        ]), array([2, 1, 0])), 'B': (array([ 0.        ,  0.05132556,  1.        ]), array([ 0.        ,  0.82246377,  1.        ]), array([2, 1, 0])), 'C_values': [0.001, 0.01, 0.1, 1, 10, 100], 'GradientBoostingClassifier': <class 'sklearn.ensemble.gradient_boosting.GradientBoostingClassifier'>, 'GridSearchCV': <class 'sklearn.model_selection._search.GridSearchCV'>, 'In': ['', \"import spacy\\nnlp = spacy.load('en')\", 'import pandas as pd\\nimport re', 'clean_final = pd.read_csv(\"clean_final_news.csv\"...inal.drop([\\'index\\'], 1, inplace=True)\\nclean_final', 'clean_final.text[6]', 'clean_final.shape', '# Convert text and response to array \\nx_text = c...t.values\\ny_response = clean_final.response.values', 'for idx in range(len(x_text)):\\n    x_text[idx] = re.sub(r\\'@([A-Za-z0-9_]+)\\', \"\", str(x_text[idx]))', 'for idx in range(len(x_text)):\\n    x_text[idx] = re.sub(r\"(https|http)\\\\S+\", \"\", str(x_text[idx]))', 'len(x_text)', '# Update puncuation list in spacy\\nnlp.vocab[\"$\"]...\"].is_punct = True\\nnlp.vocab[\"~\"].is_punct = True', '# helper function to eliminate tokens that are p...token.is_space or token.is_stop or token.like_num', '# function to take array of articles and turn th...         lemma.append(None)\\n    \\n    return lemma', '# function to recombine nested list of tokens in...ppend(concat_art)\\n    \\n    return parsed_articles', '# function to match \"cleaned\" text back up with ...    \\n    return list(zip(observations, response))', '# Lemmatize text\\nlem = lemmatize_txt(x_text)', 'from gensim.models import Phrases\\nfrom gensim.models.phrases import Phraser', '# Create bi-grams for our text \\nphrases = Phrase...= Phraser(phrases)\\nbigram_lem = list(bigram[lem])', '# Create tri-grams for our text\\nphrases2 = Phras...phrases2)\\ntrigram_lem = list(trigram[bigram_lem])', '# Recombine full article text for unigrams, bigr...am_lem)\\ntri_lem_comb = lemma_combine(trigram_lem)', ...], 'LogisticRegression': <class 'sklearn.linear_model.logistic.LogisticRegression'>, 'MultinomialNB': <class 'sklearn.naive_bayes.MultinomialNB'>, 'Out': {3:                                                 ...610                1  \n\n[34611 rows x 10 columns], 4: 'Let friends in your social network know what you...ateAthletic . @wachfox pic.twitter.com/eyoSMpZDBK', 5: (34611, 9), 9: 34611, 32: Pipeline(steps=[('tfidf', TfidfVectorizer(analyz...B(alpha=1.0, class_prior=None, fit_prior=True))]), 33: 0.82877058653568336, 34: 0.80528672540806012, 42: {'clf__alpha': 1e-05, 'tfidf__max_df': 0.75, 'tfidf__min_df': 0.001}, 43: 0.90931089280554755, 44: 0.91304347826086951, ...}, 'Phraser': <class 'gensim.models.phrases.Phraser'>, ...}\n   2882             finally:\n   2883                 # Reset our crash handler in place\n   2884                 sys.excepthook = old_excepthook\n   2885         except SystemExit as e:\n\n...........................................................................\n/Users/mikeghoul/Desktop/Data Science Bootcamp/Projects/Capstone/<ipython-input-221-b35b073dc8e5> in <module>()\n----> 1 \n      2 \n      3 \n      4 \n      5 \n      6 get_ipython().run_cell_magic('time', '', 'gs_gbt = gs_gbt.fit(x_train, y_train)')\n      7 \n      8 \n      9 \n     10 \n\n...........................................................................\n/Users/mikeghoul/anaconda/envs/py35/lib/python3.5/site-packages/IPython/core/interactiveshell.py in run_cell_magic(self=<ipykernel.zmqshell.ZMQInteractiveShell object>, magic_name='time', line='', cell='gs_gbt = gs_gbt.fit(x_train, y_train)')\n   2110             # This will need to be updated if the internal calling logic gets\n   2111             # refactored, or else we'll be expanding the wrong variables.\n   2112             stack_depth = 2\n   2113             magic_arg_s = self.var_expand(line, stack_depth)\n   2114             with self.builtin_trap:\n-> 2115                 result = fn(magic_arg_s, cell)\n        result = undefined\n        fn = <bound method ExecutionMagics.time of <IPython.core.magics.execution.ExecutionMagics object>>\n        magic_arg_s = ''\n        cell = 'gs_gbt = gs_gbt.fit(x_train, y_train)'\n   2116             return result\n   2117 \n   2118     def find_line_magic(self, magic_name):\n   2119         \"\"\"Find and return a line magic by name.\n\n...........................................................................\n/Users/mikeghoul/Desktop/Data Science Bootcamp/Projects/Capstone/<decorator-gen-59> in time(self=<IPython.core.magics.execution.ExecutionMagics object>, line='', cell='gs_gbt = gs_gbt.fit(x_train, y_train)', local_ns=None)\n      1 \n----> 2 \n      3 \n      4 \n      5 \n      6 \n      7 \n      8 \n      9 \n     10 \n\n...........................................................................\n/Users/mikeghoul/anaconda/envs/py35/lib/python3.5/site-packages/IPython/core/magic.py in <lambda>(f=<function ExecutionMagics.time>, *a=(<IPython.core.magics.execution.ExecutionMagics object>, '', 'gs_gbt = gs_gbt.fit(x_train, y_train)', None), **k={})\n    183     validate_type(magic_kind)\n    184 \n    185     # This is a closure to capture the magic_kind.  We could also use a class,\n    186     # but it's overkill for just that one bit of state.\n    187     def magic_deco(arg):\n--> 188         call = lambda f, *a, **k: f(*a, **k)\n        f = <function ExecutionMagics.time>\n        a = (<IPython.core.magics.execution.ExecutionMagics object>, '', 'gs_gbt = gs_gbt.fit(x_train, y_train)', None)\n        k = {}\n    189 \n    190         if callable(arg):\n    191             # \"Naked\" decorator call (just @foo, no args)\n    192             func = arg\n\n...........................................................................\n/Users/mikeghoul/anaconda/envs/py35/lib/python3.5/site-packages/IPython/core/magics/execution.py in time(self=<IPython.core.magics.execution.ExecutionMagics object>, line='', cell='gs_gbt = gs_gbt.fit(x_train, y_train)', local_ns=None)\n   1180             st = clock2()\n   1181             out = eval(code, glob, local_ns)\n   1182             end = clock2()\n   1183         else:\n   1184             st = clock2()\n-> 1185             exec(code, glob, local_ns)\n        code = <code object <module> at 0x1e776b780, file \"<timed exec>\", line 1>\n        glob = {'A': (array([ 0.        ,  0.04104794,  1.        ]), array([ 0.        ,  0.85563859,  1.        ]), array([2, 1, 0])), 'B': (array([ 0.        ,  0.05132556,  1.        ]), array([ 0.        ,  0.82246377,  1.        ]), array([2, 1, 0])), 'C_values': [0.001, 0.01, 0.1, 1, 10, 100], 'GradientBoostingClassifier': <class 'sklearn.ensemble.gradient_boosting.GradientBoostingClassifier'>, 'GridSearchCV': <class 'sklearn.model_selection._search.GridSearchCV'>, 'In': ['', \"import spacy\\nnlp = spacy.load('en')\", 'import pandas as pd\\nimport re', 'clean_final = pd.read_csv(\"clean_final_news.csv\"...inal.drop([\\'index\\'], 1, inplace=True)\\nclean_final', 'clean_final.text[6]', 'clean_final.shape', '# Convert text and response to array \\nx_text = c...t.values\\ny_response = clean_final.response.values', 'for idx in range(len(x_text)):\\n    x_text[idx] = re.sub(r\\'@([A-Za-z0-9_]+)\\', \"\", str(x_text[idx]))', 'for idx in range(len(x_text)):\\n    x_text[idx] = re.sub(r\"(https|http)\\\\S+\", \"\", str(x_text[idx]))', 'len(x_text)', '# Update puncuation list in spacy\\nnlp.vocab[\"$\"]...\"].is_punct = True\\nnlp.vocab[\"~\"].is_punct = True', '# helper function to eliminate tokens that are p...token.is_space or token.is_stop or token.like_num', '# function to take array of articles and turn th...         lemma.append(None)\\n    \\n    return lemma', '# function to recombine nested list of tokens in...ppend(concat_art)\\n    \\n    return parsed_articles', '# function to match \"cleaned\" text back up with ...    \\n    return list(zip(observations, response))', '# Lemmatize text\\nlem = lemmatize_txt(x_text)', 'from gensim.models import Phrases\\nfrom gensim.models.phrases import Phraser', '# Create bi-grams for our text \\nphrases = Phrase...= Phraser(phrases)\\nbigram_lem = list(bigram[lem])', '# Create tri-grams for our text\\nphrases2 = Phras...phrases2)\\ntrigram_lem = list(trigram[bigram_lem])', '# Recombine full article text for unigrams, bigr...am_lem)\\ntri_lem_comb = lemma_combine(trigram_lem)', ...], 'LogisticRegression': <class 'sklearn.linear_model.logistic.LogisticRegression'>, 'MultinomialNB': <class 'sklearn.naive_bayes.MultinomialNB'>, 'Out': {3:                                                 ...610                1  \n\n[34611 rows x 10 columns], 4: 'Let friends in your social network know what you...ateAthletic . @wachfox pic.twitter.com/eyoSMpZDBK', 5: (34611, 9), 9: 34611, 32: Pipeline(steps=[('tfidf', TfidfVectorizer(analyz...B(alpha=1.0, class_prior=None, fit_prior=True))]), 33: 0.82877058653568336, 34: 0.80528672540806012, 42: {'clf__alpha': 1e-05, 'tfidf__max_df': 0.75, 'tfidf__min_df': 0.001}, 43: 0.90931089280554755, 44: 0.91304347826086951, ...}, 'Phraser': <class 'gensim.models.phrases.Phraser'>, ...}\n        local_ns = None\n   1186             end = clock2()\n   1187             out = None\n   1188         wall_end = wtime()\n   1189         # Compute actual times and report\n\n...........................................................................\n/Users/mikeghoul/Desktop/Data Science Bootcamp/Projects/Capstone/<timed exec> in <module>()\n----> 1 \n      2 \n      3 \n      4 \n      5 \n      6 \n      7 \n      8 \n      9 \n     10 \n\n...........................................................................\n/Users/mikeghoul/anaconda/envs/py35/lib/python3.5/site-packages/sklearn/model_selection/_search.py in fit(self=GridSearchCV(cv=None, error_score='raise',\n     ...train_score=True,\n       scoring='f1', verbose=0), X=['zurich nov_reuters spotlight find cancer cure sp...create value contract future editing anna willard', 'post_october daisy_luther oh loretta ill_bet ag_..._word share_article_favorite_social network_share', 'mike_coppinger_november 10:02 pm_follow las_vega...ig butt everyone go saturday ap_photo_john_locher', \"man nostalgic simpler era hour_ago close_vol_iss...n_onion 's_newsletter_spam filter_daily_headlines\", 'john_wall approach free_throw_line early quarter...ble point_rebound morris contribute point_rebound', \"white_house_press_secretary josh_earnest_say mon...president_obama send_delegation tyrant 's funeral\", 'social_care chancellor wrong social_care_funding...drew_marr sunday_november_gmt_view sharing_option', 'hard working american vs. government_parasite mi...mment work soup_kitchen day maybe gary2s approach', 'cnn.com_div_class=\"banner_id=\"cnn_300x250_sync_f...draiser run event host constance milstein section', 'gold_coast target good_friend afl_draft strategy...jor reason interested join battle queensland club', '1940s baghdad 1980s newcastle archive urban chan...nuszka guardianwitness_facebook_twitter_pinterest', 'jessie_karangu november 7:37 pm michael_jordan a...am time president beloved chicago bull dream team', 'swipe_leave_right attack clones translate chines... jedi council folks crooked yoda say whitemamba83', 'michael cliff waters lead analyst energy_transfe..._environmental science_follow_adventure instagram', 'janet_yellen stay president trump 12:53 pm_est i...mber schmidt not think google successful november', 'obama quickly appeal_court_ruling stop new_overt...ss intend follow_opinion_section twitter_facebook', '1:30_pm follow josh_norman push cowboys_quarterb... injure_reserve ne good performance position post', 'enlarge_image aaron_lee tasjan perform world_caf...uhaus vuhaus episode_playlist_world_cafe 11/29/16', 'washington_post live election_night view party e...dvertise_washington post_video_buildnumber:0299c0', 'sharpton try dismiss say oh talk heavily edit vi..._not point speck brother eye acknowledge log boom', ...], y=array([0, 1, 0, ..., 0, 1, 0]), groups=None)\n    940 \n    941         groups : array-like, with shape (n_samples,), optional\n    942             Group labels for the samples used while splitting the dataset into\n    943             train/test set.\n    944         \"\"\"\n--> 945         return self._fit(X, y, groups, ParameterGrid(self.param_grid))\n        self._fit = <bound method BaseSearchCV._fit of GridSearchCV(...rain_score=True,\n       scoring='f1', verbose=0)>\n        X = ['zurich nov_reuters spotlight find cancer cure sp...create value contract future editing anna willard', 'post_october daisy_luther oh loretta ill_bet ag_..._word share_article_favorite_social network_share', 'mike_coppinger_november 10:02 pm_follow las_vega...ig butt everyone go saturday ap_photo_john_locher', \"man nostalgic simpler era hour_ago close_vol_iss...n_onion 's_newsletter_spam filter_daily_headlines\", 'john_wall approach free_throw_line early quarter...ble point_rebound morris contribute point_rebound', \"white_house_press_secretary josh_earnest_say mon...president_obama send_delegation tyrant 's funeral\", 'social_care chancellor wrong social_care_funding...drew_marr sunday_november_gmt_view sharing_option', 'hard working american vs. government_parasite mi...mment work soup_kitchen day maybe gary2s approach', 'cnn.com_div_class=\"banner_id=\"cnn_300x250_sync_f...draiser run event host constance milstein section', 'gold_coast target good_friend afl_draft strategy...jor reason interested join battle queensland club', '1940s baghdad 1980s newcastle archive urban chan...nuszka guardianwitness_facebook_twitter_pinterest', 'jessie_karangu november 7:37 pm michael_jordan a...am time president beloved chicago bull dream team', 'swipe_leave_right attack clones translate chines... jedi council folks crooked yoda say whitemamba83', 'michael cliff waters lead analyst energy_transfe..._environmental science_follow_adventure instagram', 'janet_yellen stay president trump 12:53 pm_est i...mber schmidt not think google successful november', 'obama quickly appeal_court_ruling stop new_overt...ss intend follow_opinion_section twitter_facebook', '1:30_pm follow josh_norman push cowboys_quarterb... injure_reserve ne good performance position post', 'enlarge_image aaron_lee tasjan perform world_caf...uhaus vuhaus episode_playlist_world_cafe 11/29/16', 'washington_post live election_night view party e...dvertise_washington post_video_buildnumber:0299c0', 'sharpton try dismiss say oh talk heavily edit vi..._not point speck brother eye acknowledge log boom', ...]\n        y = array([0, 1, 0, ..., 0, 1, 0])\n        groups = None\n        self.param_grid = {'gbt__n_estimators': (50, 100, 200), 'tfidf__min_df': (0.001, 0.01, 0.1)}\n    946 \n    947 \n    948 class RandomizedSearchCV(BaseSearchCV):\n    949     \"\"\"Randomized search on hyper parameters.\n\n...........................................................................\n/Users/mikeghoul/anaconda/envs/py35/lib/python3.5/site-packages/sklearn/model_selection/_search.py in _fit(self=GridSearchCV(cv=None, error_score='raise',\n     ...train_score=True,\n       scoring='f1', verbose=0), X=['zurich nov_reuters spotlight find cancer cure sp...create value contract future editing anna willard', 'post_october daisy_luther oh loretta ill_bet ag_..._word share_article_favorite_social network_share', 'mike_coppinger_november 10:02 pm_follow las_vega...ig butt everyone go saturday ap_photo_john_locher', \"man nostalgic simpler era hour_ago close_vol_iss...n_onion 's_newsletter_spam filter_daily_headlines\", 'john_wall approach free_throw_line early quarter...ble point_rebound morris contribute point_rebound', \"white_house_press_secretary josh_earnest_say mon...president_obama send_delegation tyrant 's funeral\", 'social_care chancellor wrong social_care_funding...drew_marr sunday_november_gmt_view sharing_option', 'hard working american vs. government_parasite mi...mment work soup_kitchen day maybe gary2s approach', 'cnn.com_div_class=\"banner_id=\"cnn_300x250_sync_f...draiser run event host constance milstein section', 'gold_coast target good_friend afl_draft strategy...jor reason interested join battle queensland club', '1940s baghdad 1980s newcastle archive urban chan...nuszka guardianwitness_facebook_twitter_pinterest', 'jessie_karangu november 7:37 pm michael_jordan a...am time president beloved chicago bull dream team', 'swipe_leave_right attack clones translate chines... jedi council folks crooked yoda say whitemamba83', 'michael cliff waters lead analyst energy_transfe..._environmental science_follow_adventure instagram', 'janet_yellen stay president trump 12:53 pm_est i...mber schmidt not think google successful november', 'obama quickly appeal_court_ruling stop new_overt...ss intend follow_opinion_section twitter_facebook', '1:30_pm follow josh_norman push cowboys_quarterb... injure_reserve ne good performance position post', 'enlarge_image aaron_lee tasjan perform world_caf...uhaus vuhaus episode_playlist_world_cafe 11/29/16', 'washington_post live election_night view party e...dvertise_washington post_video_buildnumber:0299c0', 'sharpton try dismiss say oh talk heavily edit vi..._not point speck brother eye acknowledge log boom', ...], y=array([0, 1, 0, ..., 0, 1, 0]), groups=None, parameter_iterable=<sklearn.model_selection._search.ParameterGrid object>)\n    559                                   fit_params=self.fit_params,\n    560                                   return_train_score=self.return_train_score,\n    561                                   return_n_test_samples=True,\n    562                                   return_times=True, return_parameters=True,\n    563                                   error_score=self.error_score)\n--> 564           for parameters in parameter_iterable\n        parameters = undefined\n        parameter_iterable = <sklearn.model_selection._search.ParameterGrid object>\n    565           for train, test in cv_iter)\n    566 \n    567         # if one choose to see train score, \"out\" will contain train score info\n    568         if self.return_train_score:\n\n...........................................................................\n/Users/mikeghoul/anaconda/envs/py35/lib/python3.5/site-packages/sklearn/externals/joblib/parallel.py in __call__(self=Parallel(n_jobs=-1), iterable=<generator object BaseSearchCV._fit.<locals>.<genexpr>>)\n    763             if pre_dispatch == \"all\" or n_jobs == 1:\n    764                 # The iterable was consumed all at once by the above for loop.\n    765                 # No need to wait for async callbacks to trigger to\n    766                 # consumption.\n    767                 self._iterating = False\n--> 768             self.retrieve()\n        self.retrieve = <bound method Parallel.retrieve of Parallel(n_jobs=-1)>\n    769             # Make sure that we get a last message telling us we are done\n    770             elapsed_time = time.time() - self._start_time\n    771             self._print('Done %3i out of %3i | elapsed: %s finished',\n    772                         (len(self._output), len(self._output),\n\n---------------------------------------------------------------------------\nSub-process traceback:\n---------------------------------------------------------------------------\nTypeError                                          Wed Sep  6 16:38:40 2017\nPID: 35616     Python 3.5.3: /Users/mikeghoul/anaconda/envs/py35/bin/python\n...........................................................................\n/Users/mikeghoul/anaconda/envs/py35/lib/python3.5/site-packages/sklearn/externals/joblib/parallel.py in __call__(self=<sklearn.externals.joblib.parallel.BatchedCalls object>)\n    126     def __init__(self, iterator_slice):\n    127         self.items = list(iterator_slice)\n    128         self._size = len(self.items)\n    129 \n    130     def __call__(self):\n--> 131         return [func(*args, **kwargs) for func, args, kwargs in self.items]\n        self.items = [(<function _fit_and_score>, (Pipeline(steps=[('tfidf', TfidfVectorizer(analyz...   subsample=1.0, verbose=0, warm_start=False))]), ['zurich nov_reuters spotlight find cancer cure sp...create value contract future editing anna willard', 'post_october daisy_luther oh loretta ill_bet ag_..._word share_article_favorite_social network_share', 'mike_coppinger_november 10:02 pm_follow las_vega...ig butt everyone go saturday ap_photo_john_locher', \"man nostalgic simpler era hour_ago close_vol_iss...n_onion 's_newsletter_spam filter_daily_headlines\", 'john_wall approach free_throw_line early quarter...ble point_rebound morris contribute point_rebound', \"white_house_press_secretary josh_earnest_say mon...president_obama send_delegation tyrant 's funeral\", 'social_care chancellor wrong social_care_funding...drew_marr sunday_november_gmt_view sharing_option', 'hard working american vs. government_parasite mi...mment work soup_kitchen day maybe gary2s approach', 'cnn.com_div_class=\"banner_id=\"cnn_300x250_sync_f...draiser run event host constance milstein section', 'gold_coast target good_friend afl_draft strategy...jor reason interested join battle queensland club', '1940s baghdad 1980s newcastle archive urban chan...nuszka guardianwitness_facebook_twitter_pinterest', 'jessie_karangu november 7:37 pm michael_jordan a...am time president beloved chicago bull dream team', 'swipe_leave_right attack clones translate chines... jedi council folks crooked yoda say whitemamba83', 'michael cliff waters lead analyst energy_transfe..._environmental science_follow_adventure instagram', 'janet_yellen stay president trump 12:53 pm_est i...mber schmidt not think google successful november', 'obama quickly appeal_court_ruling stop new_overt...ss intend follow_opinion_section twitter_facebook', '1:30_pm follow josh_norman push cowboys_quarterb... injure_reserve ne good performance position post', 'enlarge_image aaron_lee tasjan perform world_caf...uhaus vuhaus episode_playlist_world_cafe 11/29/16', 'washington_post live election_night view party e...dvertise_washington post_video_buildnumber:0299c0', 'sharpton try dismiss say oh talk heavily edit vi..._not point speck brother eye acknowledge log boom', ...], array([0, 1, 0, ..., 0, 1, 0]), make_scorer(f1_score), array([ 9174,  9175,  9176, ..., 27685, 27686, 27687]), array([   0,    1,    2, ..., 9252, 9253, 9254]), 0, {'gbt__n_estimators': 50, 'tfidf__min_df': 0.001}), {'error_score': 'raise', 'fit_params': {}, 'return_n_test_samples': True, 'return_parameters': True, 'return_times': True, 'return_train_score': True})]\n    132 \n    133     def __len__(self):\n    134         return self._size\n    135 \n\n...........................................................................\n/Users/mikeghoul/anaconda/envs/py35/lib/python3.5/site-packages/sklearn/externals/joblib/parallel.py in <listcomp>(.0=<list_iterator object>)\n    126     def __init__(self, iterator_slice):\n    127         self.items = list(iterator_slice)\n    128         self._size = len(self.items)\n    129 \n    130     def __call__(self):\n--> 131         return [func(*args, **kwargs) for func, args, kwargs in self.items]\n        func = <function _fit_and_score>\n        args = (Pipeline(steps=[('tfidf', TfidfVectorizer(analyz...   subsample=1.0, verbose=0, warm_start=False))]), ['zurich nov_reuters spotlight find cancer cure sp...create value contract future editing anna willard', 'post_october daisy_luther oh loretta ill_bet ag_..._word share_article_favorite_social network_share', 'mike_coppinger_november 10:02 pm_follow las_vega...ig butt everyone go saturday ap_photo_john_locher', \"man nostalgic simpler era hour_ago close_vol_iss...n_onion 's_newsletter_spam filter_daily_headlines\", 'john_wall approach free_throw_line early quarter...ble point_rebound morris contribute point_rebound', \"white_house_press_secretary josh_earnest_say mon...president_obama send_delegation tyrant 's funeral\", 'social_care chancellor wrong social_care_funding...drew_marr sunday_november_gmt_view sharing_option', 'hard working american vs. government_parasite mi...mment work soup_kitchen day maybe gary2s approach', 'cnn.com_div_class=\"banner_id=\"cnn_300x250_sync_f...draiser run event host constance milstein section', 'gold_coast target good_friend afl_draft strategy...jor reason interested join battle queensland club', '1940s baghdad 1980s newcastle archive urban chan...nuszka guardianwitness_facebook_twitter_pinterest', 'jessie_karangu november 7:37 pm michael_jordan a...am time president beloved chicago bull dream team', 'swipe_leave_right attack clones translate chines... jedi council folks crooked yoda say whitemamba83', 'michael cliff waters lead analyst energy_transfe..._environmental science_follow_adventure instagram', 'janet_yellen stay president trump 12:53 pm_est i...mber schmidt not think google successful november', 'obama quickly appeal_court_ruling stop new_overt...ss intend follow_opinion_section twitter_facebook', '1:30_pm follow josh_norman push cowboys_quarterb... injure_reserve ne good performance position post', 'enlarge_image aaron_lee tasjan perform world_caf...uhaus vuhaus episode_playlist_world_cafe 11/29/16', 'washington_post live election_night view party e...dvertise_washington post_video_buildnumber:0299c0', 'sharpton try dismiss say oh talk heavily edit vi..._not point speck brother eye acknowledge log boom', ...], array([0, 1, 0, ..., 0, 1, 0]), make_scorer(f1_score), array([ 9174,  9175,  9176, ..., 27685, 27686, 27687]), array([   0,    1,    2, ..., 9252, 9253, 9254]), 0, {'gbt__n_estimators': 50, 'tfidf__min_df': 0.001})\n        kwargs = {'error_score': 'raise', 'fit_params': {}, 'return_n_test_samples': True, 'return_parameters': True, 'return_times': True, 'return_train_score': True}\n    132 \n    133     def __len__(self):\n    134         return self._size\n    135 \n\n...........................................................................\n/Users/mikeghoul/anaconda/envs/py35/lib/python3.5/site-packages/sklearn/model_selection/_validation.py in _fit_and_score(estimator=Pipeline(steps=[('tfidf', TfidfVectorizer(analyz...   subsample=1.0, verbose=0, warm_start=False))]), X=['zurich nov_reuters spotlight find cancer cure sp...create value contract future editing anna willard', 'post_october daisy_luther oh loretta ill_bet ag_..._word share_article_favorite_social network_share', 'mike_coppinger_november 10:02 pm_follow las_vega...ig butt everyone go saturday ap_photo_john_locher', \"man nostalgic simpler era hour_ago close_vol_iss...n_onion 's_newsletter_spam filter_daily_headlines\", 'john_wall approach free_throw_line early quarter...ble point_rebound morris contribute point_rebound', \"white_house_press_secretary josh_earnest_say mon...president_obama send_delegation tyrant 's funeral\", 'social_care chancellor wrong social_care_funding...drew_marr sunday_november_gmt_view sharing_option', 'hard working american vs. government_parasite mi...mment work soup_kitchen day maybe gary2s approach', 'cnn.com_div_class=\"banner_id=\"cnn_300x250_sync_f...draiser run event host constance milstein section', 'gold_coast target good_friend afl_draft strategy...jor reason interested join battle queensland club', '1940s baghdad 1980s newcastle archive urban chan...nuszka guardianwitness_facebook_twitter_pinterest', 'jessie_karangu november 7:37 pm michael_jordan a...am time president beloved chicago bull dream team', 'swipe_leave_right attack clones translate chines... jedi council folks crooked yoda say whitemamba83', 'michael cliff waters lead analyst energy_transfe..._environmental science_follow_adventure instagram', 'janet_yellen stay president trump 12:53 pm_est i...mber schmidt not think google successful november', 'obama quickly appeal_court_ruling stop new_overt...ss intend follow_opinion_section twitter_facebook', '1:30_pm follow josh_norman push cowboys_quarterb... injure_reserve ne good performance position post', 'enlarge_image aaron_lee tasjan perform world_caf...uhaus vuhaus episode_playlist_world_cafe 11/29/16', 'washington_post live election_night view party e...dvertise_washington post_video_buildnumber:0299c0', 'sharpton try dismiss say oh talk heavily edit vi..._not point speck brother eye acknowledge log boom', ...], y=array([0, 1, 0, ..., 0, 1, 0]), scorer=make_scorer(f1_score), train=array([ 9174,  9175,  9176, ..., 27685, 27686, 27687]), test=array([   0,    1,    2, ..., 9252, 9253, 9254]), verbose=0, parameters={'gbt__n_estimators': 50, 'tfidf__min_df': 0.001}, fit_params={}, return_train_score=True, return_parameters=True, return_n_test_samples=True, return_times=True, error_score='raise')\n    255                              \" numeric value. (Hint: if using 'raise', please\"\n    256                              \" make sure that it has been spelled correctly.)\")\n    257 \n    258     else:\n    259         fit_time = time.time() - start_time\n--> 260         test_score = _score(estimator, X_test, y_test, scorer)\n        test_score = undefined\n        estimator = Pipeline(steps=[('tfidf', TfidfVectorizer(analyz...   subsample=1.0, verbose=0, warm_start=False))])\n        X_test = ['zurich nov_reuters spotlight find cancer cure sp...create value contract future editing anna willard', 'post_october daisy_luther oh loretta ill_bet ag_..._word share_article_favorite_social network_share', 'mike_coppinger_november 10:02 pm_follow las_vega...ig butt everyone go saturday ap_photo_john_locher', \"man nostalgic simpler era hour_ago close_vol_iss...n_onion 's_newsletter_spam filter_daily_headlines\", 'john_wall approach free_throw_line early quarter...ble point_rebound morris contribute point_rebound', \"white_house_press_secretary josh_earnest_say mon...president_obama send_delegation tyrant 's funeral\", 'social_care chancellor wrong social_care_funding...drew_marr sunday_november_gmt_view sharing_option', 'hard working american vs. government_parasite mi...mment work soup_kitchen day maybe gary2s approach', 'cnn.com_div_class=\"banner_id=\"cnn_300x250_sync_f...draiser run event host constance milstein section', 'gold_coast target good_friend afl_draft strategy...jor reason interested join battle queensland club', '1940s baghdad 1980s newcastle archive urban chan...nuszka guardianwitness_facebook_twitter_pinterest', 'jessie_karangu november 7:37 pm michael_jordan a...am time president beloved chicago bull dream team', 'swipe_leave_right attack clones translate chines... jedi council folks crooked yoda say whitemamba83', 'michael cliff waters lead analyst energy_transfe..._environmental science_follow_adventure instagram', 'janet_yellen stay president trump 12:53 pm_est i...mber schmidt not think google successful november', 'obama quickly appeal_court_ruling stop new_overt...ss intend follow_opinion_section twitter_facebook', '1:30_pm follow josh_norman push cowboys_quarterb... injure_reserve ne good performance position post', 'enlarge_image aaron_lee tasjan perform world_caf...uhaus vuhaus episode_playlist_world_cafe 11/29/16', 'washington_post live election_night view party e...dvertise_washington post_video_buildnumber:0299c0', 'sharpton try dismiss say oh talk heavily edit vi..._not point speck brother eye acknowledge log boom', ...]\n        y_test = array([0, 1, 0, ..., 0, 0, 0])\n        scorer = make_scorer(f1_score)\n    261         score_time = time.time() - start_time - fit_time\n    262         if return_train_score:\n    263             train_score = _score(estimator, X_train, y_train, scorer)\n    264 \n\n...........................................................................\n/Users/mikeghoul/anaconda/envs/py35/lib/python3.5/site-packages/sklearn/model_selection/_validation.py in _score(estimator=Pipeline(steps=[('tfidf', TfidfVectorizer(analyz...   subsample=1.0, verbose=0, warm_start=False))]), X_test=['zurich nov_reuters spotlight find cancer cure sp...create value contract future editing anna willard', 'post_october daisy_luther oh loretta ill_bet ag_..._word share_article_favorite_social network_share', 'mike_coppinger_november 10:02 pm_follow las_vega...ig butt everyone go saturday ap_photo_john_locher', \"man nostalgic simpler era hour_ago close_vol_iss...n_onion 's_newsletter_spam filter_daily_headlines\", 'john_wall approach free_throw_line early quarter...ble point_rebound morris contribute point_rebound', \"white_house_press_secretary josh_earnest_say mon...president_obama send_delegation tyrant 's funeral\", 'social_care chancellor wrong social_care_funding...drew_marr sunday_november_gmt_view sharing_option', 'hard working american vs. government_parasite mi...mment work soup_kitchen day maybe gary2s approach', 'cnn.com_div_class=\"banner_id=\"cnn_300x250_sync_f...draiser run event host constance milstein section', 'gold_coast target good_friend afl_draft strategy...jor reason interested join battle queensland club', '1940s baghdad 1980s newcastle archive urban chan...nuszka guardianwitness_facebook_twitter_pinterest', 'jessie_karangu november 7:37 pm michael_jordan a...am time president beloved chicago bull dream team', 'swipe_leave_right attack clones translate chines... jedi council folks crooked yoda say whitemamba83', 'michael cliff waters lead analyst energy_transfe..._environmental science_follow_adventure instagram', 'janet_yellen stay president trump 12:53 pm_est i...mber schmidt not think google successful november', 'obama quickly appeal_court_ruling stop new_overt...ss intend follow_opinion_section twitter_facebook', '1:30_pm follow josh_norman push cowboys_quarterb... injure_reserve ne good performance position post', 'enlarge_image aaron_lee tasjan perform world_caf...uhaus vuhaus episode_playlist_world_cafe 11/29/16', 'washington_post live election_night view party e...dvertise_washington post_video_buildnumber:0299c0', 'sharpton try dismiss say oh talk heavily edit vi..._not point speck brother eye acknowledge log boom', ...], y_test=array([0, 1, 0, ..., 0, 0, 0]), scorer=make_scorer(f1_score))\n    283 def _score(estimator, X_test, y_test, scorer):\n    284     \"\"\"Compute the score of an estimator on a given test set.\"\"\"\n    285     if y_test is None:\n    286         score = scorer(estimator, X_test)\n    287     else:\n--> 288         score = scorer(estimator, X_test, y_test)\n        score = undefined\n        scorer = make_scorer(f1_score)\n        estimator = Pipeline(steps=[('tfidf', TfidfVectorizer(analyz...   subsample=1.0, verbose=0, warm_start=False))])\n        X_test = ['zurich nov_reuters spotlight find cancer cure sp...create value contract future editing anna willard', 'post_october daisy_luther oh loretta ill_bet ag_..._word share_article_favorite_social network_share', 'mike_coppinger_november 10:02 pm_follow las_vega...ig butt everyone go saturday ap_photo_john_locher', \"man nostalgic simpler era hour_ago close_vol_iss...n_onion 's_newsletter_spam filter_daily_headlines\", 'john_wall approach free_throw_line early quarter...ble point_rebound morris contribute point_rebound', \"white_house_press_secretary josh_earnest_say mon...president_obama send_delegation tyrant 's funeral\", 'social_care chancellor wrong social_care_funding...drew_marr sunday_november_gmt_view sharing_option', 'hard working american vs. government_parasite mi...mment work soup_kitchen day maybe gary2s approach', 'cnn.com_div_class=\"banner_id=\"cnn_300x250_sync_f...draiser run event host constance milstein section', 'gold_coast target good_friend afl_draft strategy...jor reason interested join battle queensland club', '1940s baghdad 1980s newcastle archive urban chan...nuszka guardianwitness_facebook_twitter_pinterest', 'jessie_karangu november 7:37 pm michael_jordan a...am time president beloved chicago bull dream team', 'swipe_leave_right attack clones translate chines... jedi council folks crooked yoda say whitemamba83', 'michael cliff waters lead analyst energy_transfe..._environmental science_follow_adventure instagram', 'janet_yellen stay president trump 12:53 pm_est i...mber schmidt not think google successful november', 'obama quickly appeal_court_ruling stop new_overt...ss intend follow_opinion_section twitter_facebook', '1:30_pm follow josh_norman push cowboys_quarterb... injure_reserve ne good performance position post', 'enlarge_image aaron_lee tasjan perform world_caf...uhaus vuhaus episode_playlist_world_cafe 11/29/16', 'washington_post live election_night view party e...dvertise_washington post_video_buildnumber:0299c0', 'sharpton try dismiss say oh talk heavily edit vi..._not point speck brother eye acknowledge log boom', ...]\n        y_test = array([0, 1, 0, ..., 0, 0, 0])\n    289     if hasattr(score, 'item'):\n    290         try:\n    291             # e.g. unwrap memmapped scalars\n    292             score = score.item()\n\n...........................................................................\n/Users/mikeghoul/anaconda/envs/py35/lib/python3.5/site-packages/sklearn/metrics/scorer.py in __call__(self=make_scorer(f1_score), estimator=Pipeline(steps=[('tfidf', TfidfVectorizer(analyz...   subsample=1.0, verbose=0, warm_start=False))]), X=['zurich nov_reuters spotlight find cancer cure sp...create value contract future editing anna willard', 'post_october daisy_luther oh loretta ill_bet ag_..._word share_article_favorite_social network_share', 'mike_coppinger_november 10:02 pm_follow las_vega...ig butt everyone go saturday ap_photo_john_locher', \"man nostalgic simpler era hour_ago close_vol_iss...n_onion 's_newsletter_spam filter_daily_headlines\", 'john_wall approach free_throw_line early quarter...ble point_rebound morris contribute point_rebound', \"white_house_press_secretary josh_earnest_say mon...president_obama send_delegation tyrant 's funeral\", 'social_care chancellor wrong social_care_funding...drew_marr sunday_november_gmt_view sharing_option', 'hard working american vs. government_parasite mi...mment work soup_kitchen day maybe gary2s approach', 'cnn.com_div_class=\"banner_id=\"cnn_300x250_sync_f...draiser run event host constance milstein section', 'gold_coast target good_friend afl_draft strategy...jor reason interested join battle queensland club', '1940s baghdad 1980s newcastle archive urban chan...nuszka guardianwitness_facebook_twitter_pinterest', 'jessie_karangu november 7:37 pm michael_jordan a...am time president beloved chicago bull dream team', 'swipe_leave_right attack clones translate chines... jedi council folks crooked yoda say whitemamba83', 'michael cliff waters lead analyst energy_transfe..._environmental science_follow_adventure instagram', 'janet_yellen stay president trump 12:53 pm_est i...mber schmidt not think google successful november', 'obama quickly appeal_court_ruling stop new_overt...ss intend follow_opinion_section twitter_facebook', '1:30_pm follow josh_norman push cowboys_quarterb... injure_reserve ne good performance position post', 'enlarge_image aaron_lee tasjan perform world_caf...uhaus vuhaus episode_playlist_world_cafe 11/29/16', 'washington_post live election_night view party e...dvertise_washington post_video_buildnumber:0299c0', 'sharpton try dismiss say oh talk heavily edit vi..._not point speck brother eye acknowledge log boom', ...], y_true=array([0, 1, 0, ..., 0, 0, 0]), sample_weight=None)\n     86         score : float\n     87             Score function applied to prediction of estimator on X.\n     88         \"\"\"\n     89         super(_PredictScorer, self).__call__(estimator, X, y_true,\n     90                                              sample_weight=sample_weight)\n---> 91         y_pred = estimator.predict(X)\n        y_pred = undefined\n        estimator.predict = <function Pipeline.predict>\n        X = ['zurich nov_reuters spotlight find cancer cure sp...create value contract future editing anna willard', 'post_october daisy_luther oh loretta ill_bet ag_..._word share_article_favorite_social network_share', 'mike_coppinger_november 10:02 pm_follow las_vega...ig butt everyone go saturday ap_photo_john_locher', \"man nostalgic simpler era hour_ago close_vol_iss...n_onion 's_newsletter_spam filter_daily_headlines\", 'john_wall approach free_throw_line early quarter...ble point_rebound morris contribute point_rebound', \"white_house_press_secretary josh_earnest_say mon...president_obama send_delegation tyrant 's funeral\", 'social_care chancellor wrong social_care_funding...drew_marr sunday_november_gmt_view sharing_option', 'hard working american vs. government_parasite mi...mment work soup_kitchen day maybe gary2s approach', 'cnn.com_div_class=\"banner_id=\"cnn_300x250_sync_f...draiser run event host constance milstein section', 'gold_coast target good_friend afl_draft strategy...jor reason interested join battle queensland club', '1940s baghdad 1980s newcastle archive urban chan...nuszka guardianwitness_facebook_twitter_pinterest', 'jessie_karangu november 7:37 pm michael_jordan a...am time president beloved chicago bull dream team', 'swipe_leave_right attack clones translate chines... jedi council folks crooked yoda say whitemamba83', 'michael cliff waters lead analyst energy_transfe..._environmental science_follow_adventure instagram', 'janet_yellen stay president trump 12:53 pm_est i...mber schmidt not think google successful november', 'obama quickly appeal_court_ruling stop new_overt...ss intend follow_opinion_section twitter_facebook', '1:30_pm follow josh_norman push cowboys_quarterb... injure_reserve ne good performance position post', 'enlarge_image aaron_lee tasjan perform world_caf...uhaus vuhaus episode_playlist_world_cafe 11/29/16', 'washington_post live election_night view party e...dvertise_washington post_video_buildnumber:0299c0', 'sharpton try dismiss say oh talk heavily edit vi..._not point speck brother eye acknowledge log boom', ...]\n     92         if sample_weight is not None:\n     93             return self._sign * self._score_func(y_true, y_pred,\n     94                                                  sample_weight=sample_weight,\n     95                                                  **self._kwargs)\n\n...........................................................................\n/Users/mikeghoul/anaconda/envs/py35/lib/python3.5/site-packages/sklearn/utils/metaestimators.py in <lambda>(*args=(['zurich nov_reuters spotlight find cancer cure sp...create value contract future editing anna willard', 'post_october daisy_luther oh loretta ill_bet ag_..._word share_article_favorite_social network_share', 'mike_coppinger_november 10:02 pm_follow las_vega...ig butt everyone go saturday ap_photo_john_locher', \"man nostalgic simpler era hour_ago close_vol_iss...n_onion 's_newsletter_spam filter_daily_headlines\", 'john_wall approach free_throw_line early quarter...ble point_rebound morris contribute point_rebound', \"white_house_press_secretary josh_earnest_say mon...president_obama send_delegation tyrant 's funeral\", 'social_care chancellor wrong social_care_funding...drew_marr sunday_november_gmt_view sharing_option', 'hard working american vs. government_parasite mi...mment work soup_kitchen day maybe gary2s approach', 'cnn.com_div_class=\"banner_id=\"cnn_300x250_sync_f...draiser run event host constance milstein section', 'gold_coast target good_friend afl_draft strategy...jor reason interested join battle queensland club', '1940s baghdad 1980s newcastle archive urban chan...nuszka guardianwitness_facebook_twitter_pinterest', 'jessie_karangu november 7:37 pm michael_jordan a...am time president beloved chicago bull dream team', 'swipe_leave_right attack clones translate chines... jedi council folks crooked yoda say whitemamba83', 'michael cliff waters lead analyst energy_transfe..._environmental science_follow_adventure instagram', 'janet_yellen stay president trump 12:53 pm_est i...mber schmidt not think google successful november', 'obama quickly appeal_court_ruling stop new_overt...ss intend follow_opinion_section twitter_facebook', '1:30_pm follow josh_norman push cowboys_quarterb... injure_reserve ne good performance position post', 'enlarge_image aaron_lee tasjan perform world_caf...uhaus vuhaus episode_playlist_world_cafe 11/29/16', 'washington_post live election_night view party e...dvertise_washington post_video_buildnumber:0299c0', 'sharpton try dismiss say oh talk heavily edit vi..._not point speck brother eye acknowledge log boom', ...],), **kwargs={})\n     49                     break\n     50             else:\n     51                 attrgetter(self.delegate_names[-1])(obj)\n     52 \n     53         # lambda, but not partial, allows help() to work with update_wrapper\n---> 54         out = lambda *args, **kwargs: self.fn(obj, *args, **kwargs)\n        args = (['zurich nov_reuters spotlight find cancer cure sp...create value contract future editing anna willard', 'post_october daisy_luther oh loretta ill_bet ag_..._word share_article_favorite_social network_share', 'mike_coppinger_november 10:02 pm_follow las_vega...ig butt everyone go saturday ap_photo_john_locher', \"man nostalgic simpler era hour_ago close_vol_iss...n_onion 's_newsletter_spam filter_daily_headlines\", 'john_wall approach free_throw_line early quarter...ble point_rebound morris contribute point_rebound', \"white_house_press_secretary josh_earnest_say mon...president_obama send_delegation tyrant 's funeral\", 'social_care chancellor wrong social_care_funding...drew_marr sunday_november_gmt_view sharing_option', 'hard working american vs. government_parasite mi...mment work soup_kitchen day maybe gary2s approach', 'cnn.com_div_class=\"banner_id=\"cnn_300x250_sync_f...draiser run event host constance milstein section', 'gold_coast target good_friend afl_draft strategy...jor reason interested join battle queensland club', '1940s baghdad 1980s newcastle archive urban chan...nuszka guardianwitness_facebook_twitter_pinterest', 'jessie_karangu november 7:37 pm michael_jordan a...am time president beloved chicago bull dream team', 'swipe_leave_right attack clones translate chines... jedi council folks crooked yoda say whitemamba83', 'michael cliff waters lead analyst energy_transfe..._environmental science_follow_adventure instagram', 'janet_yellen stay president trump 12:53 pm_est i...mber schmidt not think google successful november', 'obama quickly appeal_court_ruling stop new_overt...ss intend follow_opinion_section twitter_facebook', '1:30_pm follow josh_norman push cowboys_quarterb... injure_reserve ne good performance position post', 'enlarge_image aaron_lee tasjan perform world_caf...uhaus vuhaus episode_playlist_world_cafe 11/29/16', 'washington_post live election_night view party e...dvertise_washington post_video_buildnumber:0299c0', 'sharpton try dismiss say oh talk heavily edit vi..._not point speck brother eye acknowledge log boom', ...],)\n        kwargs = {}\n     55         # update the docstring of the returned function\n     56         update_wrapper(out, self.fn)\n     57         return out\n     58 \n\n...........................................................................\n/Users/mikeghoul/anaconda/envs/py35/lib/python3.5/site-packages/sklearn/pipeline.py in predict(self=Pipeline(steps=[('tfidf', TfidfVectorizer(analyz...   subsample=1.0, verbose=0, warm_start=False))]), X=['zurich nov_reuters spotlight find cancer cure sp...create value contract future editing anna willard', 'post_october daisy_luther oh loretta ill_bet ag_..._word share_article_favorite_social network_share', 'mike_coppinger_november 10:02 pm_follow las_vega...ig butt everyone go saturday ap_photo_john_locher', \"man nostalgic simpler era hour_ago close_vol_iss...n_onion 's_newsletter_spam filter_daily_headlines\", 'john_wall approach free_throw_line early quarter...ble point_rebound morris contribute point_rebound', \"white_house_press_secretary josh_earnest_say mon...president_obama send_delegation tyrant 's funeral\", 'social_care chancellor wrong social_care_funding...drew_marr sunday_november_gmt_view sharing_option', 'hard working american vs. government_parasite mi...mment work soup_kitchen day maybe gary2s approach', 'cnn.com_div_class=\"banner_id=\"cnn_300x250_sync_f...draiser run event host constance milstein section', 'gold_coast target good_friend afl_draft strategy...jor reason interested join battle queensland club', '1940s baghdad 1980s newcastle archive urban chan...nuszka guardianwitness_facebook_twitter_pinterest', 'jessie_karangu november 7:37 pm michael_jordan a...am time president beloved chicago bull dream team', 'swipe_leave_right attack clones translate chines... jedi council folks crooked yoda say whitemamba83', 'michael cliff waters lead analyst energy_transfe..._environmental science_follow_adventure instagram', 'janet_yellen stay president trump 12:53 pm_est i...mber schmidt not think google successful november', 'obama quickly appeal_court_ruling stop new_overt...ss intend follow_opinion_section twitter_facebook', '1:30_pm follow josh_norman push cowboys_quarterb... injure_reserve ne good performance position post', 'enlarge_image aaron_lee tasjan perform world_caf...uhaus vuhaus episode_playlist_world_cafe 11/29/16', 'washington_post live election_night view party e...dvertise_washington post_video_buildnumber:0299c0', 'sharpton try dismiss say oh talk heavily edit vi..._not point speck brother eye acknowledge log boom', ...])\n    322         \"\"\"\n    323         Xt = X\n    324         for name, transform in self.steps[:-1]:\n    325             if transform is not None:\n    326                 Xt = transform.transform(Xt)\n--> 327         return self.steps[-1][-1].predict(Xt)\n        self.steps.predict = undefined\n        Xt = <9230x20552 sparse matrix of type '<class 'numpy... stored elements in Compressed Sparse Row format>\n    328 \n    329     @if_delegate_has_method(delegate='_final_estimator')\n    330     def fit_predict(self, X, y=None, **fit_params):\n    331         \"\"\"Applies fit_predict of last step in pipeline after transforms.\n\n...........................................................................\n/Users/mikeghoul/anaconda/envs/py35/lib/python3.5/site-packages/sklearn/ensemble/gradient_boosting.py in predict(self=GradientBoostingClassifier(criterion='friedman_m...      subsample=1.0, verbose=0, warm_start=False), X=<9230x20552 sparse matrix of type '<class 'numpy... stored elements in Compressed Sparse Row format>)\n   1530         Returns\n   1531         -------\n   1532         y: array of shape = [\"n_samples]\n   1533             The predicted values.\n   1534         \"\"\"\n-> 1535         score = self.decision_function(X)\n        score = undefined\n        self.decision_function = <bound method GradientBoostingClassifier.decisio...     subsample=1.0, verbose=0, warm_start=False)>\n        X = <9230x20552 sparse matrix of type '<class 'numpy... stored elements in Compressed Sparse Row format>\n   1536         decisions = self.loss_._score_to_decision(score)\n   1537         return self.classes_.take(decisions, axis=0)\n   1538 \n   1539     def staged_predict(self, X):\n\n...........................................................................\n/Users/mikeghoul/anaconda/envs/py35/lib/python3.5/site-packages/sklearn/ensemble/gradient_boosting.py in decision_function(self=GradientBoostingClassifier(criterion='friedman_m...      subsample=1.0, verbose=0, warm_start=False), X=<9230x20552 sparse matrix of type '<class 'numpy... stored elements in Compressed Sparse Row format>)\n   1488             The decision function of the input samples. The order of the\n   1489             classes corresponds to that in the attribute `classes_`.\n   1490             Regression and binary classification produce an array of shape\n   1491             [n_samples].\n   1492         \"\"\"\n-> 1493         X = check_array(X, dtype=DTYPE, order=\"C\")\n        X = <9230x20552 sparse matrix of type '<class 'numpy... stored elements in Compressed Sparse Row format>\n   1494         score = self._decision_function(X)\n   1495         if score.shape[1] == 1:\n   1496             return score.ravel()\n   1497         return score\n\n...........................................................................\n/Users/mikeghoul/anaconda/envs/py35/lib/python3.5/site-packages/sklearn/utils/validation.py in check_array(array=<9230x20552 sparse matrix of type '<class 'numpy... stored elements in Compressed Sparse Row format>, accept_sparse=None, dtype=<class 'numpy.float32'>, order='C', copy=False, force_all_finite=True, ensure_2d=True, allow_nd=False, ensure_min_samples=1, ensure_min_features=1, warn_on_dtype=False, estimator=None)\n    375         estimator_name = \"Estimator\"\n    376     context = \" by %s\" % estimator_name if estimator is not None else \"\"\n    377 \n    378     if sp.issparse(array):\n    379         array = _ensure_sparse_format(array, accept_sparse, dtype, copy,\n--> 380                                       force_all_finite)\n        force_all_finite = True\n    381     else:\n    382         array = np.array(array, dtype=dtype, order=order, copy=copy)\n    383 \n    384         if ensure_2d:\n\n...........................................................................\n/Users/mikeghoul/anaconda/envs/py35/lib/python3.5/site-packages/sklearn/utils/validation.py in _ensure_sparse_format(spmatrix=<9230x20552 sparse matrix of type '<class 'numpy... stored elements in Compressed Sparse Row format>, accept_sparse=None, dtype=<class 'numpy.float32'>, copy=False, force_all_finite=True)\n    238     -------\n    239     spmatrix_converted : scipy sparse matrix.\n    240         Matrix that is ensured to have an allowed type.\n    241     \"\"\"\n    242     if accept_sparse in [None, False]:\n--> 243         raise TypeError('A sparse matrix was passed, but dense '\n    244                         'data is required. Use X.toarray() to '\n    245                         'convert to a dense numpy array.')\n    246     if dtype is None:\n    247         dtype = spmatrix.dtype\n\nTypeError: A sparse matrix was passed, but dense data is required. Use X.toarray() to convert to a dense numpy array.\n___________________________________________________________________________"
     ]
    }
   ],
   "source": [
    "%%time\n",
    "gs_gbt = gs_gbt.fit(x_train, y_train)"
   ]
  },
  {
   "cell_type": "code",
   "execution_count": 117,
   "metadata": {},
   "outputs": [],
   "source": [
    "gs_gbt.best_params_"
   ]
  },
  {
   "cell_type": "code",
   "execution_count": 136,
   "metadata": {},
   "outputs": [
    {
     "data": {
      "text/plain": [
       "str"
      ]
     },
     "execution_count": 136,
     "metadata": {},
     "output_type": "execute_result"
    }
   ],
   "source": [
    "gbt_predicted = gs_gbt.predict(x_test)"
   ]
  },
  {
   "cell_type": "code",
   "execution_count": null,
   "metadata": {
    "collapsed": true
   },
   "outputs": [],
   "source": [
    "evaluate_model(gs_gbt, y_test, gbt_predicted)"
   ]
  },
  {
   "cell_type": "markdown",
   "metadata": {},
   "source": [
    "# SVM"
   ]
  },
  {
   "cell_type": "code",
   "execution_count": 222,
   "metadata": {
    "collapsed": true
   },
   "outputs": [],
   "source": [
    "from sklearn.svm import SVC\n",
    "text_pipe_svm = Pipeline([('tfidf', TfidfVectorizer()), ('svm', SVC())])"
   ]
  },
  {
   "cell_type": "code",
   "execution_count": 223,
   "metadata": {},
   "outputs": [
    {
     "name": "stdout",
     "output_type": "stream",
     "text": [
      "CPU times: user 14min 26s, sys: 4.45 s, total: 14min 30s\n",
      "Wall time: 14min 36s\n"
     ]
    },
    {
     "data": {
      "text/plain": [
       "Pipeline(steps=[('tfidf', TfidfVectorizer(analyzer='word', binary=False, decode_error='strict',\n",
       "        dtype=<class 'numpy.int64'>, encoding='utf-8', input='content',\n",
       "        lowercase=True, max_df=1.0, max_features=None, min_df=1,\n",
       "        ngram_range=(1, 1), norm='l2', preprocessor=None, smooth_idf=True,\n",
       " ...,\n",
       "  max_iter=-1, probability=False, random_state=None, shrinking=True,\n",
       "  tol=0.001, verbose=False))])"
      ]
     },
     "execution_count": 223,
     "metadata": {},
     "output_type": "execute_result"
    }
   ],
   "source": [
    "%%time\n",
    "text_pipe_svm.fit(x_train, y_train)"
   ]
  },
  {
   "cell_type": "code",
   "execution_count": 224,
   "metadata": {
    "collapsed": true
   },
   "outputs": [],
   "source": [
    "svm_parameters = {'tfidf__min_df': (0.75, 0.80, 0.85, 0.90, 0.95, 1.0),\\\n",
    "             'tfidf__min_df': (0.001,0.01,0.1),\\\n",
    "            'svm__C': (1, 10, 100, 1000),\\\n",
    "                 'svm__degree': (1, 2, 3),\\\n",
    "                 'svm__class_weight': (None, 'balanced')}"
   ]
  },
  {
   "cell_type": "code",
   "execution_count": 225,
   "metadata": {
    "collapsed": true
   },
   "outputs": [],
   "source": [
    "gs_svm = GridSearchCV(text_pipe_svm, svm_parameters, n_jobs=-1, scoring='f1')"
   ]
  },
  {
   "cell_type": "code",
   "execution_count": 226,
   "metadata": {},
   "outputs": [
    {
     "name": "stderr",
     "output_type": "stream",
     "text": [
      "/Users/mikeghoul/anaconda/envs/py35/lib/python3.5/site-packages/sklearn/metrics/classification.py:1113: UndefinedMetricWarning: F-score is ill-defined and being set to 0.0 due to no predicted samples.\n",
      "  'precision', 'predicted', average, warn_for)\n",
      "/Users/mikeghoul/anaconda/envs/py35/lib/python3.5/site-packages/sklearn/metrics/classification.py:1113: UndefinedMetricWarning: F-score is ill-defined and being set to 0.0 due to no predicted samples.\n",
      "  'precision', 'predicted', average, warn_for)\n",
      "/Users/mikeghoul/anaconda/envs/py35/lib/python3.5/site-packages/sklearn/metrics/classification.py:1113: UndefinedMetricWarning: F-score is ill-defined and being set to 0.0 due to no predicted samples.\n",
      "  'precision', 'predicted', average, warn_for)\n",
      "/Users/mikeghoul/anaconda/envs/py35/lib/python3.5/site-packages/sklearn/metrics/classification.py:1113: UndefinedMetricWarning: F-score is ill-defined and being set to 0.0 due to no predicted samples.\n",
      "  'precision', 'predicted', average, warn_for)\n",
      "/Users/mikeghoul/anaconda/envs/py35/lib/python3.5/site-packages/sklearn/metrics/classification.py:1113: UndefinedMetricWarning: F-score is ill-defined and being set to 0.0 due to no predicted samples.\n",
      "  'precision', 'predicted', average, warn_for)\n",
      "/Users/mikeghoul/anaconda/envs/py35/lib/python3.5/site-packages/sklearn/metrics/classification.py:1113: UndefinedMetricWarning: F-score is ill-defined and being set to 0.0 due to no predicted samples.\n",
      "  'precision', 'predicted', average, warn_for)\n",
      "/Users/mikeghoul/anaconda/envs/py35/lib/python3.5/site-packages/sklearn/metrics/classification.py:1113: UndefinedMetricWarning: F-score is ill-defined and being set to 0.0 due to no predicted samples.\n",
      "  'precision', 'predicted', average, warn_for)\n",
      "/Users/mikeghoul/anaconda/envs/py35/lib/python3.5/site-packages/sklearn/metrics/classification.py:1113: UndefinedMetricWarning: F-score is ill-defined and being set to 0.0 due to no predicted samples.\n",
      "  'precision', 'predicted', average, warn_for)\n",
      "/Users/mikeghoul/anaconda/envs/py35/lib/python3.5/site-packages/sklearn/metrics/classification.py:1113: UndefinedMetricWarning: F-score is ill-defined and being set to 0.0 due to no predicted samples.\n",
      "  'precision', 'predicted', average, warn_for)\n",
      "/Users/mikeghoul/anaconda/envs/py35/lib/python3.5/site-packages/sklearn/metrics/classification.py:1113: UndefinedMetricWarning: F-score is ill-defined and being set to 0.0 due to no predicted samples.\n",
      "  'precision', 'predicted', average, warn_for)\n",
      "/Users/mikeghoul/anaconda/envs/py35/lib/python3.5/site-packages/sklearn/metrics/classification.py:1113: UndefinedMetricWarning: F-score is ill-defined and being set to 0.0 due to no predicted samples.\n",
      "  'precision', 'predicted', average, warn_for)\n",
      "/Users/mikeghoul/anaconda/envs/py35/lib/python3.5/site-packages/sklearn/metrics/classification.py:1113: UndefinedMetricWarning: F-score is ill-defined and being set to 0.0 due to no predicted samples.\n",
      "  'precision', 'predicted', average, warn_for)\n",
      "/Users/mikeghoul/anaconda/envs/py35/lib/python3.5/site-packages/sklearn/metrics/classification.py:1113: UndefinedMetricWarning: F-score is ill-defined and being set to 0.0 due to no predicted samples.\n",
      "  'precision', 'predicted', average, warn_for)\n",
      "/Users/mikeghoul/anaconda/envs/py35/lib/python3.5/site-packages/sklearn/metrics/classification.py:1113: UndefinedMetricWarning: F-score is ill-defined and being set to 0.0 due to no predicted samples.\n",
      "  'precision', 'predicted', average, warn_for)\n",
      "/Users/mikeghoul/anaconda/envs/py35/lib/python3.5/site-packages/sklearn/metrics/classification.py:1113: UndefinedMetricWarning: F-score is ill-defined and being set to 0.0 due to no predicted samples.\n",
      "  'precision', 'predicted', average, warn_for)\n",
      "/Users/mikeghoul/anaconda/envs/py35/lib/python3.5/site-packages/sklearn/metrics/classification.py:1113: UndefinedMetricWarning: F-score is ill-defined and being set to 0.0 due to no predicted samples.\n",
      "  'precision', 'predicted', average, warn_for)\n",
      "/Users/mikeghoul/anaconda/envs/py35/lib/python3.5/site-packages/sklearn/metrics/classification.py:1113: UndefinedMetricWarning: F-score is ill-defined and being set to 0.0 due to no predicted samples.\n",
      "  'precision', 'predicted', average, warn_for)\n",
      "/Users/mikeghoul/anaconda/envs/py35/lib/python3.5/site-packages/sklearn/metrics/classification.py:1113: UndefinedMetricWarning: F-score is ill-defined and being set to 0.0 due to no predicted samples.\n",
      "  'precision', 'predicted', average, warn_for)\n",
      "/Users/mikeghoul/anaconda/envs/py35/lib/python3.5/site-packages/sklearn/metrics/classification.py:1113: UndefinedMetricWarning: F-score is ill-defined and being set to 0.0 due to no predicted samples.\n",
      "  'precision', 'predicted', average, warn_for)\n",
      "/Users/mikeghoul/anaconda/envs/py35/lib/python3.5/site-packages/sklearn/metrics/classification.py:1113: UndefinedMetricWarning: F-score is ill-defined and being set to 0.0 due to no predicted samples.\n",
      "  'precision', 'predicted', average, warn_for)\n",
      "/Users/mikeghoul/anaconda/envs/py35/lib/python3.5/site-packages/sklearn/metrics/classification.py:1113: UndefinedMetricWarning: F-score is ill-defined and being set to 0.0 due to no predicted samples.\n",
      "  'precision', 'predicted', average, warn_for)\n",
      "/Users/mikeghoul/anaconda/envs/py35/lib/python3.5/site-packages/sklearn/metrics/classification.py:1113: UndefinedMetricWarning: F-score is ill-defined and being set to 0.0 due to no predicted samples.\n",
      "  'precision', 'predicted', average, warn_for)\n",
      "/Users/mikeghoul/anaconda/envs/py35/lib/python3.5/site-packages/sklearn/metrics/classification.py:1113: UndefinedMetricWarning: F-score is ill-defined and being set to 0.0 due to no predicted samples.\n",
      "  'precision', 'predicted', average, warn_for)\n",
      "/Users/mikeghoul/anaconda/envs/py35/lib/python3.5/site-packages/sklearn/metrics/classification.py:1113: UndefinedMetricWarning: F-score is ill-defined and being set to 0.0 due to no predicted samples.\n",
      "  'precision', 'predicted', average, warn_for)\n",
      "/Users/mikeghoul/anaconda/envs/py35/lib/python3.5/site-packages/sklearn/metrics/classification.py:1113: UndefinedMetricWarning: F-score is ill-defined and being set to 0.0 due to no predicted samples.\n",
      "  'precision', 'predicted', average, warn_for)\n",
      "/Users/mikeghoul/anaconda/envs/py35/lib/python3.5/site-packages/sklearn/metrics/classification.py:1113: UndefinedMetricWarning: F-score is ill-defined and being set to 0.0 due to no predicted samples.\n",
      "  'precision', 'predicted', average, warn_for)\n",
      "/Users/mikeghoul/anaconda/envs/py35/lib/python3.5/site-packages/sklearn/metrics/classification.py:1113: UndefinedMetricWarning: F-score is ill-defined and being set to 0.0 due to no predicted samples.\n",
      "  'precision', 'predicted', average, warn_for)\n",
      "/Users/mikeghoul/anaconda/envs/py35/lib/python3.5/site-packages/sklearn/metrics/classification.py:1113: UndefinedMetricWarning: F-score is ill-defined and being set to 0.0 due to no predicted samples.\n",
      "  'precision', 'predicted', average, warn_for)\n",
      "/Users/mikeghoul/anaconda/envs/py35/lib/python3.5/site-packages/sklearn/metrics/classification.py:1113: UndefinedMetricWarning: F-score is ill-defined and being set to 0.0 due to no predicted samples.\n",
      "  'precision', 'predicted', average, warn_for)\n",
      "/Users/mikeghoul/anaconda/envs/py35/lib/python3.5/site-packages/sklearn/metrics/classification.py:1113: UndefinedMetricWarning: F-score is ill-defined and being set to 0.0 due to no predicted samples.\n",
      "  'precision', 'predicted', average, warn_for)\n",
      "/Users/mikeghoul/anaconda/envs/py35/lib/python3.5/site-packages/sklearn/metrics/classification.py:1113: UndefinedMetricWarning: F-score is ill-defined and being set to 0.0 due to no predicted samples.\n",
      "  'precision', 'predicted', average, warn_for)\n",
      "/Users/mikeghoul/anaconda/envs/py35/lib/python3.5/site-packages/sklearn/metrics/classification.py:1113: UndefinedMetricWarning: F-score is ill-defined and being set to 0.0 due to no predicted samples.\n",
      "  'precision', 'predicted', average, warn_for)\n",
      "/Users/mikeghoul/anaconda/envs/py35/lib/python3.5/site-packages/sklearn/metrics/classification.py:1113: UndefinedMetricWarning: F-score is ill-defined and being set to 0.0 due to no predicted samples.\n",
      "  'precision', 'predicted', average, warn_for)\n",
      "/Users/mikeghoul/anaconda/envs/py35/lib/python3.5/site-packages/sklearn/metrics/classification.py:1113: UndefinedMetricWarning: F-score is ill-defined and being set to 0.0 due to no predicted samples.\n",
      "  'precision', 'predicted', average, warn_for)\n"
     ]
    },
    {
     "name": "stderr",
     "output_type": "stream",
     "text": [
      "/Users/mikeghoul/anaconda/envs/py35/lib/python3.5/site-packages/sklearn/metrics/classification.py:1113: UndefinedMetricWarning: F-score is ill-defined and being set to 0.0 due to no predicted samples.\n",
      "  'precision', 'predicted', average, warn_for)\n",
      "/Users/mikeghoul/anaconda/envs/py35/lib/python3.5/site-packages/sklearn/metrics/classification.py:1113: UndefinedMetricWarning: F-score is ill-defined and being set to 0.0 due to no predicted samples.\n",
      "  'precision', 'predicted', average, warn_for)\n",
      "/Users/mikeghoul/anaconda/envs/py35/lib/python3.5/site-packages/sklearn/metrics/classification.py:1113: UndefinedMetricWarning: F-score is ill-defined and being set to 0.0 due to no predicted samples.\n",
      "  'precision', 'predicted', average, warn_for)\n",
      "/Users/mikeghoul/anaconda/envs/py35/lib/python3.5/site-packages/sklearn/metrics/classification.py:1113: UndefinedMetricWarning: F-score is ill-defined and being set to 0.0 due to no predicted samples.\n",
      "  'precision', 'predicted', average, warn_for)\n",
      "/Users/mikeghoul/anaconda/envs/py35/lib/python3.5/site-packages/sklearn/metrics/classification.py:1113: UndefinedMetricWarning: F-score is ill-defined and being set to 0.0 due to no predicted samples.\n",
      "  'precision', 'predicted', average, warn_for)\n",
      "/Users/mikeghoul/anaconda/envs/py35/lib/python3.5/site-packages/sklearn/metrics/classification.py:1113: UndefinedMetricWarning: F-score is ill-defined and being set to 0.0 due to no predicted samples.\n",
      "  'precision', 'predicted', average, warn_for)\n",
      "/Users/mikeghoul/anaconda/envs/py35/lib/python3.5/site-packages/sklearn/metrics/classification.py:1113: UndefinedMetricWarning: F-score is ill-defined and being set to 0.0 due to no predicted samples.\n",
      "  'precision', 'predicted', average, warn_for)\n",
      "/Users/mikeghoul/anaconda/envs/py35/lib/python3.5/site-packages/sklearn/metrics/classification.py:1113: UndefinedMetricWarning: F-score is ill-defined and being set to 0.0 due to no predicted samples.\n",
      "  'precision', 'predicted', average, warn_for)\n",
      "/Users/mikeghoul/anaconda/envs/py35/lib/python3.5/site-packages/sklearn/metrics/classification.py:1113: UndefinedMetricWarning: F-score is ill-defined and being set to 0.0 due to no predicted samples.\n",
      "  'precision', 'predicted', average, warn_for)\n",
      "/Users/mikeghoul/anaconda/envs/py35/lib/python3.5/site-packages/sklearn/metrics/classification.py:1113: UndefinedMetricWarning: F-score is ill-defined and being set to 0.0 due to no predicted samples.\n",
      "  'precision', 'predicted', average, warn_for)\n",
      "/Users/mikeghoul/anaconda/envs/py35/lib/python3.5/site-packages/sklearn/metrics/classification.py:1113: UndefinedMetricWarning: F-score is ill-defined and being set to 0.0 due to no predicted samples.\n",
      "  'precision', 'predicted', average, warn_for)\n"
     ]
    },
    {
     "name": "stdout",
     "output_type": "stream",
     "text": [
      "CPU times: user 12min 45s, sys: 31 s, total: 13min 16s\n",
      "Wall time: 7h 57min 17s\n"
     ]
    }
   ],
   "source": [
    "%%time\n",
    "gs_svm = gs_svm.fit(x_train, y_train)"
   ]
  },
  {
   "cell_type": "code",
   "execution_count": 227,
   "metadata": {},
   "outputs": [
    {
     "data": {
      "text/plain": [
       "{'svm__C': 1000,\n",
       " 'svm__class_weight': 'balanced',\n",
       " 'svm__degree': 1,\n",
       " 'tfidf__min_df': 0.001}"
      ]
     },
     "execution_count": 227,
     "metadata": {},
     "output_type": "execute_result"
    }
   ],
   "source": [
    "gs_svm.best_params_"
   ]
  },
  {
   "cell_type": "code",
   "execution_count": 228,
   "metadata": {
    "collapsed": true
   },
   "outputs": [],
   "source": [
    "svm_predicted = gs_svm.predict(x_test)"
   ]
  },
  {
   "cell_type": "code",
   "execution_count": 232,
   "metadata": {},
   "outputs": [
    {
     "name": "stdout",
     "output_type": "stream",
     "text": [
      "Confusion Matrix:\n",
      " [[4312  403]\n",
      " [ 218 1990]]\n",
      "Classification report:\n",
      "              precision    recall  f1-score   support\n",
      "\n",
      "          0       0.95      0.91      0.93      4715\n",
      "          1       0.83      0.90      0.87      2208\n",
      "\n",
      "avg / total       0.91      0.91      0.91      6923\n",
      "\n"
     ]
    }
   ],
   "source": [
    "# can't feed in proba for svm, log loss requires probability\n",
    "matrix = confusion_matrix(y_test, svm_predicted)\n",
    "report = metrics.classification_report(y_test, svm_predicted, target_names = ['0', '1'])\n",
    "print('Confusion Matrix:\\n', matrix)\n",
    "print('Classification report:\\n', report)\n"
   ]
  },
  {
   "cell_type": "code",
   "execution_count": 233,
   "metadata": {},
   "outputs": [
    {
     "name": "stdout",
     "output_type": "stream",
     "text": [
      "Train score: 0.929990641314\n",
      "Test score: 0.907898108872\n"
     ]
    }
   ],
   "source": [
    "train_loss = metrics.roc_auc_score(y_train, gs_svm.predict(x_train))\n",
    "test_loss = metrics.roc_auc_score(y_test, gs_svm.predict(x_test))\n",
    "print(\"Train score:\", train_loss)\n",
    "print(\"Test score:\", test_loss)"
   ]
  },
  {
   "cell_type": "code",
   "execution_count": 234,
   "metadata": {},
   "outputs": [
    {
     "data": {
      "text/plain": [
       "<matplotlib.legend.Legend at 0x1d9a463c8>"
      ]
     },
     "execution_count": 234,
     "metadata": {},
     "output_type": "execute_result"
    },
    {
     "data": {
      "image/png": "[encoded data removed]",
      "text/plain": [
       "<matplotlib.figure.Figure at 0x196fa11d0>"
      ]
     },
     "metadata": {},
     "output_type": "display_data"
    }
   ],
   "source": [
    "A=sklearn.metrics.roc_curve(y_train,gs_svm.predict(x_train),pos_label=1)\n",
    "B=sklearn.metrics.roc_curve(y_test,gs_svm.predict(x_test),pos_label=1)\n",
    "\n",
    "plt.plot(A[0],A[1],label='ROC SVM Train')\n",
    "plt.plot(B[0],B[1],label='ROC SVM Test')\n",
    "plt.xlim((-0.2,1.1))\n",
    "plt.ylim((-0.1,1.1))\n",
    "plt.legend(loc=4)"
   ]
  },
  {
   "cell_type": "code",
   "execution_count": 236,
   "metadata": {},
   "outputs": [],
   "source": [
    "import pickle\n",
    "filename = 'svm_model.sav'\n",
    "pickle.dump(gs_svm, open(filename, 'wb'))"
   ]
  }
 ],
 "metadata": {
  "kernelspec": {
   "display_name": "Python 3",
   "language": "python",
   "name": "python3"
  },
  "language_info": {
   "codemirror_mode": {
    "name": "ipython",
    "version": 3
   },
   "file_extension": ".py",
   "mimetype": "text/x-python",
   "name": "python",
   "nbconvert_exporter": "python",
   "pygments_lexer": "ipython3",
   "version": "3.6.4"
  }
 },
 "nbformat": 4,
 "nbformat_minor": 2
}
