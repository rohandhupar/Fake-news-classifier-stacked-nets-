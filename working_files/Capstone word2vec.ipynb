{
 "cells": [
  {
   "cell_type": "code",
   "execution_count": 1,
   "metadata": {
    "collapsed": true
   },
   "outputs": [],
   "source": [
    "import pandas as pd\n",
    "import numpy as np \n",
    "import itertools as it\n",
    "% matplotlib inline\n",
    "import matplotlib.pyplot as plt\n",
    "from gensim.models import Word2Vec\n",
    "from gensim.models import KeyedVectors"
   ]
  },
  {
   "cell_type": "code",
   "execution_count": 2,
   "metadata": {
    "collapsed": true
   },
   "outputs": [],
   "source": [
    "import pickle\n",
    "import time"
   ]
  },
  {
   "cell_type": "code",
   "execution_count": 3,
   "metadata": {
    "collapsed": true
   },
   "outputs": [],
   "source": [
    "from sklearn.feature_extraction.text import TfidfVectorizer\n",
    "from sklearn.model_selection import train_test_split\n",
    "from sklearn.naive_bayes import MultinomialNB\n",
    "from sklearn.pipeline import Pipeline\n",
    "from sklearn.model_selection import GridSearchCV\n",
    "from sklearn import metrics\n",
    "from sklearn.model_selection import cross_val_score\n",
    "from sklearn.linear_model import LogisticRegression\n",
    "from sklearn.ensemble import RandomForestClassifier\n",
    "from sklearn.neighbors import KNeighborsClassifier\n",
    "from sklearn.svm import SVC\n",
    "from sklearn.metrics import confusion_matrix"
   ]
  },
  {
   "cell_type": "markdown",
   "metadata": {},
   "source": [
    "## Loading the data"
   ]
  },
  {
   "cell_type": "code",
   "execution_count": 8,
   "metadata": {
    "collapsed": true
   },
   "outputs": [],
   "source": [
    "model = KeyedVectors.load_word2vec_format('./Goog/GoogleNews-vectors-negative300.bin', binary=True)"
   ]
  },
  {
   "cell_type": "code",
   "execution_count": 33,
   "metadata": {
    "collapsed": true
   },
   "outputs": [],
   "source": [
    "clean_final = pd.read_csv(\"./total_news/clean_final_news.csv\", encoding = \"utf8\", index_col = 0)"
   ]
  },
  {
   "cell_type": "code",
   "execution_count": 34,
   "metadata": {},
   "outputs": [
    {
     "data": {
      "text/html": [
       "<div>\n",
       "<style>\n",
       "    .dataframe thead tr:only-child th {\n",
       "        text-align: right;\n",
       "    }\n",
       "\n",
       "    .dataframe thead th {\n",
       "        text-align: left;\n",
       "    }\n",
       "\n",
       "    .dataframe tbody tr th {\n",
       "        vertical-align: top;\n",
       "    }\n",
       "</style>\n",
       "<table border=\"1\" class=\"dataframe\">\n",
       "  <thead>\n",
       "    <tr style=\"text-align: right;\">\n",
       "      <th></th>\n",
       "      <th>author</th>\n",
       "      <th>published</th>\n",
       "      <th>text</th>\n",
       "      <th>domain_rank</th>\n",
       "      <th>site_url</th>\n",
       "      <th>spam_score</th>\n",
       "      <th>title</th>\n",
       "      <th>response</th>\n",
       "      <th>length</th>\n",
       "    </tr>\n",
       "  </thead>\n",
       "  <tbody>\n",
       "    <tr>\n",
       "      <th>0</th>\n",
       "      <td>SAM TANENHAUS</td>\n",
       "      <td>2016-11-20T03:51:00.000+02:00</td>\n",
       "      <td>Privacy Policy Eisenhowers two terms bore this...</td>\n",
       "      <td>98.0</td>\n",
       "      <td>nytimes.com</td>\n",
       "      <td>0.000</td>\n",
       "      <td>Opinion: Donald Trump’s Art of the New Deal?</td>\n",
       "      <td>Not fake</td>\n",
       "      <td>949</td>\n",
       "    </tr>\n",
       "    <tr>\n",
       "      <th>1</th>\n",
       "      <td>NaN</td>\n",
       "      <td>2016-11-20T00:52:00.000+02:00</td>\n",
       "      <td>Can Trump Save Their Jobs?  by Nelson D. Sc...</td>\n",
       "      <td>98.0</td>\n",
       "      <td>nytimes.com</td>\n",
       "      <td>0.000</td>\n",
       "      <td>Carrier Workers for Trump</td>\n",
       "      <td>Not fake</td>\n",
       "      <td>372</td>\n",
       "    </tr>\n",
       "    <tr>\n",
       "      <th>2</th>\n",
       "      <td>Kathleen Elkins</td>\n",
       "      <td>2016-11-20T06:18:00.000+02:00</td>\n",
       "      <td>Tuesday, 18 Oct 2016 | 10:25 AM ET CNBC.com Ed...</td>\n",
       "      <td>767.0</td>\n",
       "      <td>cnbc.com</td>\n",
       "      <td>0.008</td>\n",
       "      <td>Tennis star Caroline Wozniacki shares the mone...</td>\n",
       "      <td>Not fake</td>\n",
       "      <td>386</td>\n",
       "    </tr>\n",
       "    <tr>\n",
       "      <th>3</th>\n",
       "      <td>JEFF SOMMER</td>\n",
       "      <td>2016-11-20T00:04:00.000+02:00</td>\n",
       "      <td>Continue reading the main story Yet it is poss...</td>\n",
       "      <td>98.0</td>\n",
       "      <td>nytimes.com</td>\n",
       "      <td>0.000</td>\n",
       "      <td>Strategies: It’s Not Just the White House. Cha...</td>\n",
       "      <td>Not fake</td>\n",
       "      <td>1005</td>\n",
       "    </tr>\n",
       "    <tr>\n",
       "      <th>4</th>\n",
       "      <td>James Rufus Koren</td>\n",
       "      <td>2016-11-20T02:42:00.000+02:00</td>\n",
       "      <td>Wells Fargo hit with new sanctions following f...</td>\n",
       "      <td>609.0</td>\n",
       "      <td>latimes.com</td>\n",
       "      <td>0.264</td>\n",
       "      <td>Wells Fargo hit with new sanctions following f...</td>\n",
       "      <td>Not fake</td>\n",
       "      <td>809</td>\n",
       "    </tr>\n",
       "  </tbody>\n",
       "</table>\n",
       "</div>"
      ],
      "text/plain": [
       "              author                      published  \\\n",
       "0      SAM TANENHAUS  2016-11-20T03:51:00.000+02:00   \n",
       "1                NaN  2016-11-20T00:52:00.000+02:00   \n",
       "2    Kathleen Elkins  2016-11-20T06:18:00.000+02:00   \n",
       "3        JEFF SOMMER  2016-11-20T00:04:00.000+02:00   \n",
       "4  James Rufus Koren  2016-11-20T02:42:00.000+02:00   \n",
       "\n",
       "                                                text  domain_rank  \\\n",
       "0  Privacy Policy Eisenhowers two terms bore this...         98.0   \n",
       "1     Can Trump Save Their Jobs?  by Nelson D. Sc...         98.0   \n",
       "2  Tuesday, 18 Oct 2016 | 10:25 AM ET CNBC.com Ed...        767.0   \n",
       "3  Continue reading the main story Yet it is poss...         98.0   \n",
       "4  Wells Fargo hit with new sanctions following f...        609.0   \n",
       "\n",
       "      site_url  spam_score                                              title  \\\n",
       "0  nytimes.com       0.000       Opinion: Donald Trump’s Art of the New Deal?   \n",
       "1  nytimes.com       0.000                          Carrier Workers for Trump   \n",
       "2     cnbc.com       0.008  Tennis star Caroline Wozniacki shares the mone...   \n",
       "3  nytimes.com       0.000  Strategies: It’s Not Just the White House. Cha...   \n",
       "4  latimes.com       0.264  Wells Fargo hit with new sanctions following f...   \n",
       "\n",
       "   response  length  \n",
       "0  Not fake     949  \n",
       "1  Not fake     372  \n",
       "2  Not fake     386  \n",
       "3  Not fake    1005  \n",
       "4  Not fake     809  "
      ]
     },
     "execution_count": 34,
     "metadata": {},
     "output_type": "execute_result"
    }
   ],
   "source": [
    "clean_final.head()"
   ]
  },
  {
   "cell_type": "code",
   "execution_count": 12,
   "metadata": {
    "collapsed": true
   },
   "outputs": [],
   "source": [
    "fileObject = open('./lem_texts/uni_text.sav','rb')  \n",
    "uni_lem_comb2 = pickle.load(fileObject)  ## load unigram"
   ]
  },
  {
   "cell_type": "code",
   "execution_count": 7,
   "metadata": {
    "collapsed": true
   },
   "outputs": [],
   "source": [
    "fileObject = open('./lem_texts/bi_text.sav','rb')  \n",
    "bi_lem_comb2 = pickle.load(fileObject)  ## load bigram"
   ]
  },
  {
   "cell_type": "code",
   "execution_count": 9,
   "metadata": {
    "collapsed": true
   },
   "outputs": [],
   "source": [
    "fileObject = open('./lem_texts/tri_text.sav','rb')  \n",
    "tri_lem_comb2 = pickle.load(fileObject)  ## load trigram"
   ]
  },
  {
   "cell_type": "code",
   "execution_count": 13,
   "metadata": {},
   "outputs": [
    {
     "data": {
      "text/plain": [
       "0    privacy policy eisenhowers term bear instead u...\n",
       "1    trump save jobs nelson d. schwartz nov. look w...\n",
       "2    tuesday oct 10:25 et cnbc.com eduardo munoz al...\n",
       "3    continue read main story possible election rem...\n",
       "4    wells fargo hit new sanction follow fake accou...\n",
       "5    privacy policy liberal society depend illibera...\n",
       "6    let friend social network know read facebook e...\n",
       "7    privacy policy lot people tonight feel like lo...\n",
       "8    young barber brazil cutting away traditional b...\n",
       "9    passenger train go track near northern indian ...\n",
       "dtype: object"
      ]
     },
     "execution_count": 13,
     "metadata": {},
     "output_type": "execute_result"
    }
   ],
   "source": [
    "uni_lem = pd.Series([x for x in uni_lem_comb2])\n",
    "uni_lem[0:10]"
   ]
  },
  {
   "cell_type": "code",
   "execution_count": 8,
   "metadata": {},
   "outputs": [
    {
     "data": {
      "text/plain": [
       "0    privacy_policy eisenhowers term bear instead u...\n",
       "1    trump save jobs nelson d. schwartz nov. look w...\n",
       "2    tuesday oct 10:25 et cnbc.com eduardo_munoz al...\n",
       "3    continue_read main_story possible election rem...\n",
       "4    wells_fargo hit new sanction follow fake_accou...\n",
       "5    privacy_policy liberal society depend illibera...\n",
       "6    let_friend social_network know read_facebook e...\n",
       "7    privacy_policy lot people tonight feel_like lo...\n",
       "8    young barber brazil cutting away traditional b...\n",
       "9    passenger_train go track near northern indian ...\n",
       "dtype: object"
      ]
     },
     "execution_count": 8,
     "metadata": {},
     "output_type": "execute_result"
    }
   ],
   "source": [
    "bi_lem = pd.Series([x for x in bi_lem_comb2])\n",
    "bi_lem[0:10]"
   ]
  },
  {
   "cell_type": "code",
   "execution_count": 10,
   "metadata": {},
   "outputs": [
    {
     "data": {
      "text/plain": [
       "0    privacy_policy eisenhowers term bear instead u...\n",
       "1    trump save jobs nelson d. schwartz nov. look w...\n",
       "2    tuesday oct 10:25 et cnbc.com eduardo_munoz_al...\n",
       "3    continue_read_main_story possible election rem...\n",
       "4    wells_fargo hit new sanction follow fake_accou...\n",
       "5    privacy_policy liberal society depend illibera...\n",
       "6    let_friend_social_network know_read_facebook e...\n",
       "7    privacy_policy lot_people tonight feel_like lo...\n",
       "8    young barber brazil cutting away traditional b...\n",
       "9    passenger_train go track near northern indian ...\n",
       "dtype: object"
      ]
     },
     "execution_count": 10,
     "metadata": {},
     "output_type": "execute_result"
    }
   ],
   "source": [
    "tri_lem = pd.Series([x for x in tri_lem_comb2])\n",
    "tri_lem[0:10]"
   ]
  },
  {
   "cell_type": "markdown",
   "metadata": {},
   "source": [
    "## Converting the text into vectors"
   ]
  },
  {
   "cell_type": "code",
   "execution_count": 11,
   "metadata": {},
   "outputs": [
    {
     "name": "stderr",
     "output_type": "stream",
     "text": [
      "/Users/mikeghoul/anaconda/envs/py35/lib/python3.5/site-packages/pandas/core/generic.py:2999: SettingWithCopyWarning: \n",
      "A value is trying to be set on a copy of a slice from a DataFrame.\n",
      "Try using .loc[row_indexer,col_indexer] = value instead\n",
      "\n",
      "See the caveats in the documentation: http://pandas.pydata.org/pandas-docs/stable/indexing.html#indexing-view-versus-copy\n",
      "  self[name] = value\n"
     ]
    },
    {
     "data": {
      "text/html": [
       "<div>\n",
       "<style>\n",
       "    .dataframe thead tr:only-child th {\n",
       "        text-align: right;\n",
       "    }\n",
       "\n",
       "    .dataframe thead th {\n",
       "        text-align: left;\n",
       "    }\n",
       "\n",
       "    .dataframe tbody tr th {\n",
       "        vertical-align: top;\n",
       "    }\n",
       "</style>\n",
       "<table border=\"1\" class=\"dataframe\">\n",
       "  <thead>\n",
       "    <tr style=\"text-align: right;\">\n",
       "      <th></th>\n",
       "      <th>author</th>\n",
       "      <th>published</th>\n",
       "      <th>text</th>\n",
       "      <th>domain_rank</th>\n",
       "      <th>site_url</th>\n",
       "      <th>spam_score</th>\n",
       "      <th>title</th>\n",
       "      <th>response</th>\n",
       "      <th>length</th>\n",
       "      <th>binary_response</th>\n",
       "    </tr>\n",
       "  </thead>\n",
       "  <tbody>\n",
       "    <tr>\n",
       "      <th>0</th>\n",
       "      <td>SAM TANENHAUS</td>\n",
       "      <td>2016-11-20T03:51:00.000+02:00</td>\n",
       "      <td>[0.0410616, 0.0443374, 0.0329776, 0.0611348, -...</td>\n",
       "      <td>98.0</td>\n",
       "      <td>nytimes.com</td>\n",
       "      <td>0.000</td>\n",
       "      <td>Opinion: Donald Trump’s Art of the New Deal?</td>\n",
       "      <td>Not fake</td>\n",
       "      <td>949</td>\n",
       "      <td>0</td>\n",
       "    </tr>\n",
       "    <tr>\n",
       "      <th>1</th>\n",
       "      <td>NaN</td>\n",
       "      <td>2016-11-20T00:52:00.000+02:00</td>\n",
       "      <td>[0.0345326, 0.0364513, 0.0196588, 0.0763706, -...</td>\n",
       "      <td>98.0</td>\n",
       "      <td>nytimes.com</td>\n",
       "      <td>0.000</td>\n",
       "      <td>Carrier Workers for Trump</td>\n",
       "      <td>Not fake</td>\n",
       "      <td>372</td>\n",
       "      <td>0</td>\n",
       "    </tr>\n",
       "    <tr>\n",
       "      <th>2</th>\n",
       "      <td>Kathleen Elkins</td>\n",
       "      <td>2016-11-20T06:18:00.000+02:00</td>\n",
       "      <td>[0.0474658, 0.00713334, 0.0312889, 0.0871276, ...</td>\n",
       "      <td>767.0</td>\n",
       "      <td>cnbc.com</td>\n",
       "      <td>0.008</td>\n",
       "      <td>Tennis star Caroline Wozniacki shares the mone...</td>\n",
       "      <td>Not fake</td>\n",
       "      <td>386</td>\n",
       "      <td>0</td>\n",
       "    </tr>\n",
       "    <tr>\n",
       "      <th>3</th>\n",
       "      <td>JEFF SOMMER</td>\n",
       "      <td>2016-11-20T00:04:00.000+02:00</td>\n",
       "      <td>[0.0167984, 0.0344597, 0.0157176, 0.0664391, -...</td>\n",
       "      <td>98.0</td>\n",
       "      <td>nytimes.com</td>\n",
       "      <td>0.000</td>\n",
       "      <td>Strategies: It’s Not Just the White House. Cha...</td>\n",
       "      <td>Not fake</td>\n",
       "      <td>1005</td>\n",
       "      <td>0</td>\n",
       "    </tr>\n",
       "    <tr>\n",
       "      <th>4</th>\n",
       "      <td>James Rufus Koren</td>\n",
       "      <td>2016-11-20T02:42:00.000+02:00</td>\n",
       "      <td>[-0.000221085, 0.0416317, 0.03043, 0.0444352, ...</td>\n",
       "      <td>609.0</td>\n",
       "      <td>latimes.com</td>\n",
       "      <td>0.264</td>\n",
       "      <td>Wells Fargo hit with new sanctions following f...</td>\n",
       "      <td>Not fake</td>\n",
       "      <td>809</td>\n",
       "      <td>0</td>\n",
       "    </tr>\n",
       "  </tbody>\n",
       "</table>\n",
       "</div>"
      ],
      "text/plain": [
       "              author                      published  \\\n",
       "0      SAM TANENHAUS  2016-11-20T03:51:00.000+02:00   \n",
       "1                NaN  2016-11-20T00:52:00.000+02:00   \n",
       "2    Kathleen Elkins  2016-11-20T06:18:00.000+02:00   \n",
       "3        JEFF SOMMER  2016-11-20T00:04:00.000+02:00   \n",
       "4  James Rufus Koren  2016-11-20T02:42:00.000+02:00   \n",
       "\n",
       "                                                text  domain_rank  \\\n",
       "0  [0.0410616, 0.0443374, 0.0329776, 0.0611348, -...         98.0   \n",
       "1  [0.0345326, 0.0364513, 0.0196588, 0.0763706, -...         98.0   \n",
       "2  [0.0474658, 0.00713334, 0.0312889, 0.0871276, ...        767.0   \n",
       "3  [0.0167984, 0.0344597, 0.0157176, 0.0664391, -...         98.0   \n",
       "4  [-0.000221085, 0.0416317, 0.03043, 0.0444352, ...        609.0   \n",
       "\n",
       "      site_url  spam_score                                              title  \\\n",
       "0  nytimes.com       0.000       Opinion: Donald Trump’s Art of the New Deal?   \n",
       "1  nytimes.com       0.000                          Carrier Workers for Trump   \n",
       "2     cnbc.com       0.008  Tennis star Caroline Wozniacki shares the mone...   \n",
       "3  nytimes.com       0.000  Strategies: It’s Not Just the White House. Cha...   \n",
       "4  latimes.com       0.264  Wells Fargo hit with new sanctions following f...   \n",
       "\n",
       "   response  length  binary_response  \n",
       "0  Not fake     949                0  \n",
       "1  Not fake     372                0  \n",
       "2  Not fake     386                0  \n",
       "3  Not fake    1005                0  \n",
       "4  Not fake     809                0  "
      ]
     },
     "execution_count": 11,
     "metadata": {},
     "output_type": "execute_result"
    }
   ],
   "source": [
    "def infer_vector(text):\n",
    "    text = text.split()\n",
    "    vector = []\n",
    "    for i in text:\n",
    "        try:\n",
    "            vector.append(model.word_vec(i))\n",
    "        except:\n",
    "            pass\n",
    "    return list(np.mean(vector, axis=0))\n",
    "\n",
    "test = clean_final.iloc[:10, :]\n",
    "test.text = test.text.apply(infer_vector)\n",
    "test.head()"
   ]
  },
  {
   "cell_type": "code",
   "execution_count": 12,
   "metadata": {},
   "outputs": [
    {
     "name": "stdout",
     "output_type": "stream",
     "text": [
      "CPU times: user 22.8 s, sys: 994 ms, total: 23.8 s\n",
      "Wall time: 23.9 s\n"
     ]
    }
   ],
   "source": [
    "%%time\n",
    "vec_text = tri_lem.apply(infer_vector)\n",
    "type(vec_text)"
   ]
  },
  {
   "cell_type": "code",
   "execution_count": 13,
   "metadata": {},
   "outputs": [
    {
     "data": {
      "text/plain": [
       "0    [0.0335845, 0.0401085, 0.00729215, 0.112954, -...\n",
       "1    [0.0324782, 0.00438509, -0.00248873, 0.1, -0.0...\n",
       "dtype: object"
      ]
     },
     "execution_count": 13,
     "metadata": {},
     "output_type": "execute_result"
    }
   ],
   "source": [
    "vec_text[0:2]"
   ]
  },
  {
   "cell_type": "code",
   "execution_count": 14,
   "metadata": {},
   "outputs": [
    {
     "name": "stdout",
     "output_type": "stream",
     "text": [
      "CPU times: user 3.13 s, sys: 159 ms, total: 3.29 s\n",
      "Wall time: 3.32 s\n"
     ]
    }
   ],
   "source": [
    "%%time\n",
    "vec_text = pd.DataFrame(list(map(lambda x: list(x), vec_text)))"
   ]
  },
  {
   "cell_type": "code",
   "execution_count": 15,
   "metadata": {},
   "outputs": [
    {
     "data": {
      "text/html": [
       "<div>\n",
       "<style>\n",
       "    .dataframe thead tr:only-child th {\n",
       "        text-align: right;\n",
       "    }\n",
       "\n",
       "    .dataframe thead th {\n",
       "        text-align: left;\n",
       "    }\n",
       "\n",
       "    .dataframe tbody tr th {\n",
       "        vertical-align: top;\n",
       "    }\n",
       "</style>\n",
       "<table border=\"1\" class=\"dataframe\">\n",
       "  <thead>\n",
       "    <tr style=\"text-align: right;\">\n",
       "      <th></th>\n",
       "      <th>0</th>\n",
       "      <th>1</th>\n",
       "      <th>2</th>\n",
       "      <th>3</th>\n",
       "      <th>4</th>\n",
       "      <th>5</th>\n",
       "      <th>6</th>\n",
       "      <th>7</th>\n",
       "      <th>8</th>\n",
       "      <th>9</th>\n",
       "      <th>...</th>\n",
       "      <th>290</th>\n",
       "      <th>291</th>\n",
       "      <th>292</th>\n",
       "      <th>293</th>\n",
       "      <th>294</th>\n",
       "      <th>295</th>\n",
       "      <th>296</th>\n",
       "      <th>297</th>\n",
       "      <th>298</th>\n",
       "      <th>299</th>\n",
       "    </tr>\n",
       "  </thead>\n",
       "  <tbody>\n",
       "    <tr>\n",
       "      <th>0</th>\n",
       "      <td>0.033585</td>\n",
       "      <td>0.040108</td>\n",
       "      <td>0.007292</td>\n",
       "      <td>0.112954</td>\n",
       "      <td>-0.060914</td>\n",
       "      <td>-0.029191</td>\n",
       "      <td>0.048299</td>\n",
       "      <td>-0.058155</td>\n",
       "      <td>0.084398</td>\n",
       "      <td>0.059573</td>\n",
       "      <td>...</td>\n",
       "      <td>-0.068472</td>\n",
       "      <td>0.014620</td>\n",
       "      <td>-0.037333</td>\n",
       "      <td>-0.016348</td>\n",
       "      <td>-0.042939</td>\n",
       "      <td>-0.021002</td>\n",
       "      <td>0.017126</td>\n",
       "      <td>-0.048978</td>\n",
       "      <td>0.026031</td>\n",
       "      <td>-0.012229</td>\n",
       "    </tr>\n",
       "    <tr>\n",
       "      <th>1</th>\n",
       "      <td>0.032478</td>\n",
       "      <td>0.004385</td>\n",
       "      <td>-0.002489</td>\n",
       "      <td>0.100000</td>\n",
       "      <td>-0.071105</td>\n",
       "      <td>0.017676</td>\n",
       "      <td>0.060257</td>\n",
       "      <td>-0.050939</td>\n",
       "      <td>0.085788</td>\n",
       "      <td>0.046210</td>\n",
       "      <td>...</td>\n",
       "      <td>-0.041618</td>\n",
       "      <td>0.035648</td>\n",
       "      <td>-0.075665</td>\n",
       "      <td>0.011646</td>\n",
       "      <td>-0.007537</td>\n",
       "      <td>-0.012843</td>\n",
       "      <td>0.009767</td>\n",
       "      <td>-0.057980</td>\n",
       "      <td>0.025834</td>\n",
       "      <td>-0.028797</td>\n",
       "    </tr>\n",
       "    <tr>\n",
       "      <th>2</th>\n",
       "      <td>0.025310</td>\n",
       "      <td>0.012568</td>\n",
       "      <td>-0.010649</td>\n",
       "      <td>0.128698</td>\n",
       "      <td>-0.019919</td>\n",
       "      <td>0.007436</td>\n",
       "      <td>0.079936</td>\n",
       "      <td>-0.088572</td>\n",
       "      <td>0.069966</td>\n",
       "      <td>0.069574</td>\n",
       "      <td>...</td>\n",
       "      <td>-0.024976</td>\n",
       "      <td>0.074644</td>\n",
       "      <td>-0.064599</td>\n",
       "      <td>-0.001808</td>\n",
       "      <td>-0.013263</td>\n",
       "      <td>-0.095344</td>\n",
       "      <td>0.019082</td>\n",
       "      <td>-0.031374</td>\n",
       "      <td>0.001696</td>\n",
       "      <td>-0.029502</td>\n",
       "    </tr>\n",
       "    <tr>\n",
       "      <th>3</th>\n",
       "      <td>0.014668</td>\n",
       "      <td>0.020092</td>\n",
       "      <td>-0.030602</td>\n",
       "      <td>0.084360</td>\n",
       "      <td>-0.075278</td>\n",
       "      <td>-0.041485</td>\n",
       "      <td>0.052998</td>\n",
       "      <td>-0.080511</td>\n",
       "      <td>0.135734</td>\n",
       "      <td>0.066690</td>\n",
       "      <td>...</td>\n",
       "      <td>-0.075238</td>\n",
       "      <td>0.038700</td>\n",
       "      <td>-0.017733</td>\n",
       "      <td>-0.010239</td>\n",
       "      <td>-0.012920</td>\n",
       "      <td>-0.022788</td>\n",
       "      <td>-0.006968</td>\n",
       "      <td>0.010951</td>\n",
       "      <td>0.034321</td>\n",
       "      <td>-0.001688</td>\n",
       "    </tr>\n",
       "    <tr>\n",
       "      <th>4</th>\n",
       "      <td>-0.042439</td>\n",
       "      <td>-0.012939</td>\n",
       "      <td>0.006611</td>\n",
       "      <td>0.042099</td>\n",
       "      <td>-0.026948</td>\n",
       "      <td>-0.040657</td>\n",
       "      <td>0.047994</td>\n",
       "      <td>-0.022462</td>\n",
       "      <td>0.121271</td>\n",
       "      <td>0.019877</td>\n",
       "      <td>...</td>\n",
       "      <td>-0.023605</td>\n",
       "      <td>0.059983</td>\n",
       "      <td>-0.021047</td>\n",
       "      <td>0.013978</td>\n",
       "      <td>-0.017887</td>\n",
       "      <td>-0.008069</td>\n",
       "      <td>-0.001654</td>\n",
       "      <td>-0.020538</td>\n",
       "      <td>0.010296</td>\n",
       "      <td>-0.045819</td>\n",
       "    </tr>\n",
       "  </tbody>\n",
       "</table>\n",
       "<p>5 rows × 300 columns</p>\n",
       "</div>"
      ],
      "text/plain": [
       "        0         1         2         3         4         5         6    \\\n",
       "0  0.033585  0.040108  0.007292  0.112954 -0.060914 -0.029191  0.048299   \n",
       "1  0.032478  0.004385 -0.002489  0.100000 -0.071105  0.017676  0.060257   \n",
       "2  0.025310  0.012568 -0.010649  0.128698 -0.019919  0.007436  0.079936   \n",
       "3  0.014668  0.020092 -0.030602  0.084360 -0.075278 -0.041485  0.052998   \n",
       "4 -0.042439 -0.012939  0.006611  0.042099 -0.026948 -0.040657  0.047994   \n",
       "\n",
       "        7         8         9      ...          290       291       292  \\\n",
       "0 -0.058155  0.084398  0.059573    ...    -0.068472  0.014620 -0.037333   \n",
       "1 -0.050939  0.085788  0.046210    ...    -0.041618  0.035648 -0.075665   \n",
       "2 -0.088572  0.069966  0.069574    ...    -0.024976  0.074644 -0.064599   \n",
       "3 -0.080511  0.135734  0.066690    ...    -0.075238  0.038700 -0.017733   \n",
       "4 -0.022462  0.121271  0.019877    ...    -0.023605  0.059983 -0.021047   \n",
       "\n",
       "        293       294       295       296       297       298       299  \n",
       "0 -0.016348 -0.042939 -0.021002  0.017126 -0.048978  0.026031 -0.012229  \n",
       "1  0.011646 -0.007537 -0.012843  0.009767 -0.057980  0.025834 -0.028797  \n",
       "2 -0.001808 -0.013263 -0.095344  0.019082 -0.031374  0.001696 -0.029502  \n",
       "3 -0.010239 -0.012920 -0.022788 -0.006968  0.010951  0.034321 -0.001688  \n",
       "4  0.013978 -0.017887 -0.008069 -0.001654 -0.020538  0.010296 -0.045819  \n",
       "\n",
       "[5 rows x 300 columns]"
      ]
     },
     "execution_count": 15,
     "metadata": {},
     "output_type": "execute_result"
    }
   ],
   "source": [
    "vec_text.head()"
   ]
  },
  {
   "cell_type": "code",
   "execution_count": 16,
   "metadata": {
    "collapsed": true
   },
   "outputs": [],
   "source": [
    "# saving vec_text of trigrams:\n",
    "filename = 'vec_text_trigram.sav'\n",
    "pickle.dump(vec_text, open(filename, 'wb'))"
   ]
  },
  {
   "cell_type": "markdown",
   "metadata": {},
   "source": [
    "## Prepping for Model runs"
   ]
  },
  {
   "cell_type": "code",
   "execution_count": 14,
   "metadata": {
    "collapsed": true
   },
   "outputs": [],
   "source": [
    "clean_final[\"binary_response\"] = np.where(clean_final[\"response\"] == \"Not fake\", 0, 1)"
   ]
  },
  {
   "cell_type": "code",
   "execution_count": 15,
   "metadata": {
    "collapsed": true
   },
   "outputs": [],
   "source": [
    "y_response = clean_final.binary_response.values"
   ]
  },
  {
   "cell_type": "code",
   "execution_count": 23,
   "metadata": {
    "collapsed": true
   },
   "outputs": [],
   "source": [
    "def evaluate_model(clf, actual, predicted):\n",
    "    report = metrics.classification_report(actual, predicted, target_names = [\"0\", \"1\"])\n",
    "    matrix = confusion_matrix(actual, predicted)\n",
    "    train_loss = metrics.log_loss(y_train, clf.predict_proba(x_train))\n",
    "    test_loss = metrics.log_loss(y_test, clf.predict_proba(x_test))\n",
    "    \n",
    "    print(\"Train score:\", train_loss)\n",
    "    print(\"Test score:\", test_loss)\n",
    "    print(\"Confusion Matrix\\n\", matrix)\n",
    "    print(\"Classification Report:\\n\", report)\n",
    "    \n",
    "    return test_loss"
   ]
  },
  {
   "cell_type": "code",
   "execution_count": 80,
   "metadata": {
    "collapsed": true
   },
   "outputs": [],
   "source": [
    "x_train, x_test, y_train, y_test = train_test_split(vec_text, y_response, test_size = 0.2, stratify = y_response)"
   ]
  },
  {
   "cell_type": "code",
   "execution_count": 81,
   "metadata": {},
   "outputs": [
    {
     "data": {
      "text/html": [
       "<div>\n",
       "<style>\n",
       "    .dataframe thead tr:only-child th {\n",
       "        text-align: right;\n",
       "    }\n",
       "\n",
       "    .dataframe thead th {\n",
       "        text-align: left;\n",
       "    }\n",
       "\n",
       "    .dataframe tbody tr th {\n",
       "        vertical-align: top;\n",
       "    }\n",
       "</style>\n",
       "<table border=\"1\" class=\"dataframe\">\n",
       "  <thead>\n",
       "    <tr style=\"text-align: right;\">\n",
       "      <th></th>\n",
       "      <th>0</th>\n",
       "      <th>1</th>\n",
       "      <th>2</th>\n",
       "      <th>3</th>\n",
       "      <th>4</th>\n",
       "      <th>5</th>\n",
       "      <th>6</th>\n",
       "      <th>7</th>\n",
       "      <th>8</th>\n",
       "      <th>9</th>\n",
       "      <th>...</th>\n",
       "      <th>290</th>\n",
       "      <th>291</th>\n",
       "      <th>292</th>\n",
       "      <th>293</th>\n",
       "      <th>294</th>\n",
       "      <th>295</th>\n",
       "      <th>296</th>\n",
       "      <th>297</th>\n",
       "      <th>298</th>\n",
       "      <th>299</th>\n",
       "    </tr>\n",
       "  </thead>\n",
       "  <tbody>\n",
       "    <tr>\n",
       "      <th>20597</th>\n",
       "      <td>0.007709</td>\n",
       "      <td>0.017403</td>\n",
       "      <td>-0.038444</td>\n",
       "      <td>0.099468</td>\n",
       "      <td>-0.053557</td>\n",
       "      <td>-0.028407</td>\n",
       "      <td>0.098579</td>\n",
       "      <td>-0.068028</td>\n",
       "      <td>0.151267</td>\n",
       "      <td>0.091760</td>\n",
       "      <td>...</td>\n",
       "      <td>0.011691</td>\n",
       "      <td>0.084913</td>\n",
       "      <td>-0.067285</td>\n",
       "      <td>-0.010680</td>\n",
       "      <td>-0.004272</td>\n",
       "      <td>-0.030108</td>\n",
       "      <td>0.013905</td>\n",
       "      <td>-0.008894</td>\n",
       "      <td>0.054871</td>\n",
       "      <td>-0.001743</td>\n",
       "    </tr>\n",
       "    <tr>\n",
       "      <th>33737</th>\n",
       "      <td>0.017816</td>\n",
       "      <td>-0.017890</td>\n",
       "      <td>-0.024544</td>\n",
       "      <td>0.079752</td>\n",
       "      <td>-0.079946</td>\n",
       "      <td>0.024167</td>\n",
       "      <td>0.079945</td>\n",
       "      <td>-0.041951</td>\n",
       "      <td>0.104204</td>\n",
       "      <td>0.041188</td>\n",
       "      <td>...</td>\n",
       "      <td>0.010981</td>\n",
       "      <td>0.017813</td>\n",
       "      <td>-0.065238</td>\n",
       "      <td>0.046668</td>\n",
       "      <td>-0.036378</td>\n",
       "      <td>-0.072763</td>\n",
       "      <td>-0.020446</td>\n",
       "      <td>-0.090308</td>\n",
       "      <td>-0.003251</td>\n",
       "      <td>0.019481</td>\n",
       "    </tr>\n",
       "    <tr>\n",
       "      <th>8714</th>\n",
       "      <td>-0.019424</td>\n",
       "      <td>0.027737</td>\n",
       "      <td>-0.027773</td>\n",
       "      <td>0.101947</td>\n",
       "      <td>-0.050705</td>\n",
       "      <td>-0.025107</td>\n",
       "      <td>0.049221</td>\n",
       "      <td>-0.079895</td>\n",
       "      <td>0.135338</td>\n",
       "      <td>0.076715</td>\n",
       "      <td>...</td>\n",
       "      <td>-0.047518</td>\n",
       "      <td>0.076821</td>\n",
       "      <td>-0.057666</td>\n",
       "      <td>-0.006992</td>\n",
       "      <td>-0.010111</td>\n",
       "      <td>-0.013085</td>\n",
       "      <td>0.002304</td>\n",
       "      <td>0.006605</td>\n",
       "      <td>0.014867</td>\n",
       "      <td>-0.036863</td>\n",
       "    </tr>\n",
       "    <tr>\n",
       "      <th>26303</th>\n",
       "      <td>-0.018105</td>\n",
       "      <td>-0.013560</td>\n",
       "      <td>0.017270</td>\n",
       "      <td>0.116076</td>\n",
       "      <td>-0.078645</td>\n",
       "      <td>0.026974</td>\n",
       "      <td>0.062000</td>\n",
       "      <td>-0.109196</td>\n",
       "      <td>0.085268</td>\n",
       "      <td>0.069428</td>\n",
       "      <td>...</td>\n",
       "      <td>-0.025339</td>\n",
       "      <td>0.054621</td>\n",
       "      <td>-0.011983</td>\n",
       "      <td>0.065452</td>\n",
       "      <td>-0.004409</td>\n",
       "      <td>-0.009881</td>\n",
       "      <td>-0.075745</td>\n",
       "      <td>-0.058842</td>\n",
       "      <td>-0.021266</td>\n",
       "      <td>0.021686</td>\n",
       "    </tr>\n",
       "    <tr>\n",
       "      <th>30951</th>\n",
       "      <td>0.044345</td>\n",
       "      <td>0.023070</td>\n",
       "      <td>-0.024319</td>\n",
       "      <td>0.106851</td>\n",
       "      <td>-0.049098</td>\n",
       "      <td>0.003009</td>\n",
       "      <td>0.091687</td>\n",
       "      <td>-0.062067</td>\n",
       "      <td>0.117500</td>\n",
       "      <td>0.029144</td>\n",
       "      <td>...</td>\n",
       "      <td>-0.082412</td>\n",
       "      <td>0.054102</td>\n",
       "      <td>-0.087407</td>\n",
       "      <td>0.002709</td>\n",
       "      <td>-0.043134</td>\n",
       "      <td>0.009037</td>\n",
       "      <td>-0.014926</td>\n",
       "      <td>-0.007236</td>\n",
       "      <td>0.034299</td>\n",
       "      <td>-0.031974</td>\n",
       "    </tr>\n",
       "  </tbody>\n",
       "</table>\n",
       "<p>5 rows × 300 columns</p>\n",
       "</div>"
      ],
      "text/plain": [
       "            0         1         2         3         4         5         6    \\\n",
       "20597  0.007709  0.017403 -0.038444  0.099468 -0.053557 -0.028407  0.098579   \n",
       "33737  0.017816 -0.017890 -0.024544  0.079752 -0.079946  0.024167  0.079945   \n",
       "8714  -0.019424  0.027737 -0.027773  0.101947 -0.050705 -0.025107  0.049221   \n",
       "26303 -0.018105 -0.013560  0.017270  0.116076 -0.078645  0.026974  0.062000   \n",
       "30951  0.044345  0.023070 -0.024319  0.106851 -0.049098  0.003009  0.091687   \n",
       "\n",
       "            7         8         9      ...          290       291       292  \\\n",
       "20597 -0.068028  0.151267  0.091760    ...     0.011691  0.084913 -0.067285   \n",
       "33737 -0.041951  0.104204  0.041188    ...     0.010981  0.017813 -0.065238   \n",
       "8714  -0.079895  0.135338  0.076715    ...    -0.047518  0.076821 -0.057666   \n",
       "26303 -0.109196  0.085268  0.069428    ...    -0.025339  0.054621 -0.011983   \n",
       "30951 -0.062067  0.117500  0.029144    ...    -0.082412  0.054102 -0.087407   \n",
       "\n",
       "            293       294       295       296       297       298       299  \n",
       "20597 -0.010680 -0.004272 -0.030108  0.013905 -0.008894  0.054871 -0.001743  \n",
       "33737  0.046668 -0.036378 -0.072763 -0.020446 -0.090308 -0.003251  0.019481  \n",
       "8714  -0.006992 -0.010111 -0.013085  0.002304  0.006605  0.014867 -0.036863  \n",
       "26303  0.065452 -0.004409 -0.009881 -0.075745 -0.058842 -0.021266  0.021686  \n",
       "30951  0.002709 -0.043134  0.009037 -0.014926 -0.007236  0.034299 -0.031974  \n",
       "\n",
       "[5 rows x 300 columns]"
      ]
     },
     "execution_count": 81,
     "metadata": {},
     "output_type": "execute_result"
    }
   ],
   "source": [
    "x_train.head()"
   ]
  },
  {
   "cell_type": "code",
   "execution_count": null,
   "metadata": {
    "collapsed": true
   },
   "outputs": [],
   "source": [
    "# mean_w2v = MeanEmbeddingVectorizer(w2v).fit(x_train, y_train)"
   ]
  },
  {
   "cell_type": "code",
   "execution_count": null,
   "metadata": {
    "collapsed": true
   },
   "outputs": [],
   "source": [
    "# m = mean_w2v.transform(x_train)"
   ]
  },
  {
   "cell_type": "code",
   "execution_count": null,
   "metadata": {
    "collapsed": true
   },
   "outputs": [],
   "source": [
    "# m.shape"
   ]
  },
  {
   "cell_type": "markdown",
   "metadata": {},
   "source": [
    "## Loading in Previously Saved models:"
   ]
  },
  {
   "cell_type": "code",
   "execution_count": 5,
   "metadata": {
    "collapsed": true
   },
   "outputs": [],
   "source": [
    "# load the models\n",
    "fileObject = open('./models/wv_lr_model.sav','rb')  \n",
    "wv_lr = pickle.load(fileObject)\n",
    "\n",
    "fileObject = open('./models/wv_svm_model.sav','rb')  \n",
    "wv_svm = pickle.load(fileObject)\n",
    "\n",
    "fileObject = open('./models/wv_rf_model.sav','rb')  \n",
    "wv_rf = pickle.load(fileObject)"
   ]
  },
  {
   "cell_type": "code",
   "execution_count": 6,
   "metadata": {
    "collapsed": true
   },
   "outputs": [],
   "source": [
    "# load training/test data:\n",
    "clean_final = pd.read_csv(\"./total_news/clean_final_news.csv\", encoding = \"utf8\", index_col = 0)\n",
    "clean_final[\"binary_response\"] = np.where(clean_final[\"response\"] == \"Not fake\", 0, 1)\n",
    "y_response = clean_final.binary_response.values"
   ]
  },
  {
   "cell_type": "code",
   "execution_count": 17,
   "metadata": {
    "collapsed": true
   },
   "outputs": [],
   "source": [
    "# load vec_text\n",
    "fileObject = open('./lem_texts/vec_text_trigram.sav','rb')  \n",
    "vec_text = pickle.load(fileObject)"
   ]
  },
  {
   "cell_type": "code",
   "execution_count": 18,
   "metadata": {},
   "outputs": [],
   "source": [
    "x_train, x_test, y_train, y_test = train_test_split(vec_text, y_response, test_size = 0.2, stratify = y_response)"
   ]
  },
  {
   "cell_type": "code",
   "execution_count": 19,
   "metadata": {
    "collapsed": true
   },
   "outputs": [],
   "source": [
    "def evaluate_model(clf, actual, predicted):\n",
    "    report = metrics.classification_report(actual, predicted, target_names = [\"0\", \"1\"])\n",
    "    matrix = confusion_matrix(actual, predicted)\n",
    "    train_loss = metrics.log_loss(y_train, clf.predict_proba(x_train))\n",
    "    test_loss = metrics.log_loss(y_test, clf.predict_proba(x_test))\n",
    "    \n",
    "    print(\"Train score:\", train_loss)\n",
    "    print(\"Test score:\", test_loss)\n",
    "    print(\"Confusion Matrix\\n\", matrix)\n",
    "    print(\"Classification Report:\\n\", report)"
   ]
  },
  {
   "cell_type": "markdown",
   "metadata": {},
   "source": [
    "## Logistic Regression - Trigrams"
   ]
  },
  {
   "cell_type": "code",
   "execution_count": 4,
   "metadata": {
    "collapsed": true
   },
   "outputs": [],
   "source": [
    "lr = LogisticRegression()"
   ]
  },
  {
   "cell_type": "code",
   "execution_count": 26,
   "metadata": {},
   "outputs": [
    {
     "name": "stdout",
     "output_type": "stream",
     "text": [
      "CPU times: user 1.64 s, sys: 59.5 ms, total: 1.7 s\n",
      "Wall time: 1.71 s\n"
     ]
    },
    {
     "data": {
      "text/plain": [
       "LogisticRegression(C=1.0, class_weight=None, dual=False, fit_intercept=True,\n",
       "          intercept_scaling=1, max_iter=100, multi_class='ovr', n_jobs=1,\n",
       "          penalty='l2', random_state=None, solver='liblinear', tol=0.0001,\n",
       "          verbose=0, warm_start=False)"
      ]
     },
     "execution_count": 26,
     "metadata": {},
     "output_type": "execute_result"
    }
   ],
   "source": [
    "%%time\n",
    "lr.fit(x_train, y_train)"
   ]
  },
  {
   "cell_type": "code",
   "execution_count": 27,
   "metadata": {
    "collapsed": true
   },
   "outputs": [],
   "source": [
    "lr_parameters = {#'tfidf__max_df': (0.75, 0.80, 0.85, 0.90, 0.95, 1.0),\\\n",
    "              #'tfidf__min_df': (0.001,0.01,0.1),\\\n",
    "               'penalty': ('l1','l2'),\\\n",
    "               'C': (0.01, 0.1, 1),\\\n",
    "               'class_weight': (None, 'balanced')}"
   ]
  },
  {
   "cell_type": "code",
   "execution_count": 28,
   "metadata": {
    "collapsed": true
   },
   "outputs": [],
   "source": [
    "# Establish grid search instance\n",
    "wv_lr = GridSearchCV(lr, lr_parameters, n_jobs=-1, scoring = 'f1')"
   ]
  },
  {
   "cell_type": "code",
   "execution_count": 29,
   "metadata": {},
   "outputs": [
    {
     "name": "stderr",
     "output_type": "stream",
     "text": [
      "/Users/mikeghoul/anaconda/envs/py35/lib/python3.5/site-packages/sklearn/metrics/classification.py:1113: UndefinedMetricWarning: F-score is ill-defined and being set to 0.0 due to no predicted samples.\n",
      "  'precision', 'predicted', average, warn_for)\n",
      "/Users/mikeghoul/anaconda/envs/py35/lib/python3.5/site-packages/sklearn/metrics/classification.py:1113: UndefinedMetricWarning: F-score is ill-defined and being set to 0.0 due to no predicted samples.\n",
      "  'precision', 'predicted', average, warn_for)\n",
      "/Users/mikeghoul/anaconda/envs/py35/lib/python3.5/site-packages/sklearn/metrics/classification.py:1113: UndefinedMetricWarning: F-score is ill-defined and being set to 0.0 due to no predicted samples.\n",
      "  'precision', 'predicted', average, warn_for)\n"
     ]
    },
    {
     "name": "stdout",
     "output_type": "stream",
     "text": [
      "CPU times: user 2min 23s, sys: 706 ms, total: 2min 24s\n",
      "Wall time: 4min 43s\n"
     ]
    }
   ],
   "source": [
    "%%time\n",
    "wv_lr = wv_lr.fit(x_train, y_train)"
   ]
  },
  {
   "cell_type": "code",
   "execution_count": 30,
   "metadata": {},
   "outputs": [
    {
     "data": {
      "text/plain": [
       "{'C': 1, 'class_weight': 'balanced', 'penalty': 'l1'}"
      ]
     },
     "execution_count": 30,
     "metadata": {},
     "output_type": "execute_result"
    }
   ],
   "source": [
    "wv_lr.best_params_"
   ]
  },
  {
   "cell_type": "code",
   "execution_count": 20,
   "metadata": {
    "collapsed": true
   },
   "outputs": [],
   "source": [
    "lr_predicted = wv_lr.predict(x_test)"
   ]
  },
  {
   "cell_type": "code",
   "execution_count": 21,
   "metadata": {},
   "outputs": [
    {
     "name": "stdout",
     "output_type": "stream",
     "text": [
      "Train score: 0.377574622483\n",
      "Test score: 0.378936908813\n",
      "Confusion Matrix\n",
      " [[3940  775]\n",
      " [ 372 1836]]\n",
      "Classification Report:\n",
      "              precision    recall  f1-score   support\n",
      "\n",
      "          0       0.91      0.84      0.87      4715\n",
      "          1       0.70      0.83      0.76      2208\n",
      "\n",
      "avg / total       0.85      0.83      0.84      6923\n",
      "\n",
      "CPU times: user 34 ms, sys: 2.71 ms, total: 36.7 ms\n",
      "Wall time: 29.2 ms\n"
     ]
    }
   ],
   "source": [
    "%%time\n",
    "# Get more detailed performance metrics\n",
    "evaluate_model(wv_lr, y_test, lr_predicted)"
   ]
  },
  {
   "cell_type": "code",
   "execution_count": 22,
   "metadata": {},
   "outputs": [
    {
     "name": "stdout",
     "output_type": "stream",
     "text": [
      "Train score: 0.835581012925\n",
      "Test score: 0.833576352068\n"
     ]
    }
   ],
   "source": [
    "train_loss = metrics.roc_auc_score(y_train, wv_lr.predict(x_train))\n",
    "test_loss = metrics.roc_auc_score(y_test, wv_lr.predict(x_test))\n",
    "print(\"Train score:\", train_loss)\n",
    "print(\"Test score:\", test_loss)"
   ]
  },
  {
   "cell_type": "code",
   "execution_count": 23,
   "metadata": {},
   "outputs": [
    {
     "data": {
      "text/plain": [
       "<matplotlib.legend.Legend at 0x23f14aba8>"
      ]
     },
     "execution_count": 23,
     "metadata": {},
     "output_type": "execute_result"
    },
    {
     "data": {
      "image/png": "[encoded data removed]",
      "text/plain": [
       "<matplotlib.figure.Figure at 0x1159a2518>"
      ]
     },
     "metadata": {},
     "output_type": "display_data"
    }
   ],
   "source": [
    "import sklearn\n",
    "A=sklearn.metrics.roc_curve(y_train,wv_lr.predict(x_train),pos_label=1)\n",
    "B=sklearn.metrics.roc_curve(y_test,wv_lr.predict(x_test),pos_label=1)\n",
    "\n",
    "plt.plot(A[0],A[1],label='ROC LR Train')\n",
    "plt.plot(B[0],B[1],label='ROC LR Test')\n",
    "plt.xlim((-0.2,1.1))\n",
    "plt.ylim((-0.1,1.1))\n",
    "plt.legend(loc=4)"
   ]
  },
  {
   "cell_type": "code",
   "execution_count": 54,
   "metadata": {
    "collapsed": true
   },
   "outputs": [],
   "source": [
    "# saving lr model\n",
    "filename = 'wv_lr_model.sav'\n",
    "pickle.dump(wv_lr, open(filename, 'wb'))"
   ]
  },
  {
   "cell_type": "markdown",
   "metadata": {},
   "source": [
    "## SVM - Trigrams"
   ]
  },
  {
   "cell_type": "code",
   "execution_count": 36,
   "metadata": {
    "collapsed": true
   },
   "outputs": [],
   "source": [
    "from sklearn.svm import SVC\n",
    "svm = SVC()"
   ]
  },
  {
   "cell_type": "code",
   "execution_count": 37,
   "metadata": {},
   "outputs": [
    {
     "name": "stdout",
     "output_type": "stream",
     "text": [
      "CPU times: user 3min 4s, sys: 991 ms, total: 3min 5s\n",
      "Wall time: 3min 6s\n"
     ]
    },
    {
     "data": {
      "text/plain": [
       "SVC(C=1.0, cache_size=200, class_weight=None, coef0=0.0,\n",
       "  decision_function_shape=None, degree=3, gamma='auto', kernel='rbf',\n",
       "  max_iter=-1, probability=False, random_state=None, shrinking=True,\n",
       "  tol=0.001, verbose=False)"
      ]
     },
     "execution_count": 37,
     "metadata": {},
     "output_type": "execute_result"
    }
   ],
   "source": [
    "%%time\n",
    "svm.fit(x_train, y_train)"
   ]
  },
  {
   "cell_type": "code",
   "execution_count": 44,
   "metadata": {
    "collapsed": true
   },
   "outputs": [],
   "source": [
    "svm_parameters = {'C': (1, 10, 100, 1000),\\\n",
    "                 'degree': (1, 2, 3),\\\n",
    "                 'class_weight': (None, 'balanced')}"
   ]
  },
  {
   "cell_type": "code",
   "execution_count": 45,
   "metadata": {
    "collapsed": true
   },
   "outputs": [],
   "source": [
    "wv_svm = GridSearchCV(svm, svm_parameters, n_jobs=-1, scoring='f1')"
   ]
  },
  {
   "cell_type": "code",
   "execution_count": 46,
   "metadata": {},
   "outputs": [
    {
     "name": "stderr",
     "output_type": "stream",
     "text": [
      "/Users/mikeghoul/anaconda/envs/py35/lib/python3.5/site-packages/sklearn/metrics/classification.py:1113: UndefinedMetricWarning: F-score is ill-defined and being set to 0.0 due to no predicted samples.\n",
      "  'precision', 'predicted', average, warn_for)\n",
      "/Users/mikeghoul/anaconda/envs/py35/lib/python3.5/site-packages/sklearn/metrics/classification.py:1113: UndefinedMetricWarning: F-score is ill-defined and being set to 0.0 due to no predicted samples.\n",
      "  'precision', 'predicted', average, warn_for)\n",
      "/Users/mikeghoul/anaconda/envs/py35/lib/python3.5/site-packages/sklearn/metrics/classification.py:1113: UndefinedMetricWarning: F-score is ill-defined and being set to 0.0 due to no predicted samples.\n",
      "  'precision', 'predicted', average, warn_for)\n",
      "/Users/mikeghoul/anaconda/envs/py35/lib/python3.5/site-packages/sklearn/metrics/classification.py:1113: UndefinedMetricWarning: F-score is ill-defined and being set to 0.0 due to no predicted samples.\n",
      "  'precision', 'predicted', average, warn_for)\n",
      "/Users/mikeghoul/anaconda/envs/py35/lib/python3.5/site-packages/sklearn/metrics/classification.py:1113: UndefinedMetricWarning: F-score is ill-defined and being set to 0.0 due to no predicted samples.\n",
      "  'precision', 'predicted', average, warn_for)\n",
      "/Users/mikeghoul/anaconda/envs/py35/lib/python3.5/site-packages/sklearn/metrics/classification.py:1113: UndefinedMetricWarning: F-score is ill-defined and being set to 0.0 due to no predicted samples.\n",
      "  'precision', 'predicted', average, warn_for)\n",
      "/Users/mikeghoul/anaconda/envs/py35/lib/python3.5/site-packages/sklearn/metrics/classification.py:1113: UndefinedMetricWarning: F-score is ill-defined and being set to 0.0 due to no predicted samples.\n",
      "  'precision', 'predicted', average, warn_for)\n",
      "/Users/mikeghoul/anaconda/envs/py35/lib/python3.5/site-packages/sklearn/metrics/classification.py:1113: UndefinedMetricWarning: F-score is ill-defined and being set to 0.0 due to no predicted samples.\n",
      "  'precision', 'predicted', average, warn_for)\n",
      "/Users/mikeghoul/anaconda/envs/py35/lib/python3.5/site-packages/sklearn/metrics/classification.py:1113: UndefinedMetricWarning: F-score is ill-defined and being set to 0.0 due to no predicted samples.\n",
      "  'precision', 'predicted', average, warn_for)\n"
     ]
    },
    {
     "name": "stdout",
     "output_type": "stream",
     "text": [
      "CPU times: user 3min 1s, sys: 2.1 s, total: 3min 3s\n",
      "Wall time: 1h 9min 18s\n"
     ]
    }
   ],
   "source": [
    "%%time\n",
    "wv_svm = wv_svm.fit(x_train, y_train)"
   ]
  },
  {
   "cell_type": "code",
   "execution_count": 47,
   "metadata": {},
   "outputs": [
    {
     "data": {
      "text/plain": [
       "{'C': 1000, 'class_weight': 'balanced', 'degree': 1}"
      ]
     },
     "execution_count": 47,
     "metadata": {},
     "output_type": "execute_result"
    }
   ],
   "source": [
    "wv_svm.best_params_"
   ]
  },
  {
   "cell_type": "code",
   "execution_count": 24,
   "metadata": {
    "collapsed": true
   },
   "outputs": [],
   "source": [
    "svm_predicted = wv_svm.predict(x_test)"
   ]
  },
  {
   "cell_type": "code",
   "execution_count": 25,
   "metadata": {},
   "outputs": [
    {
     "name": "stdout",
     "output_type": "stream",
     "text": [
      "Confusion Matrix:\n",
      " [[3975  740]\n",
      " [ 354 1854]]\n",
      "Classification report:\n",
      "              precision    recall  f1-score   support\n",
      "\n",
      "          0       0.92      0.84      0.88      4715\n",
      "          1       0.71      0.84      0.77      2208\n",
      "\n",
      "avg / total       0.85      0.84      0.84      6923\n",
      "\n"
     ]
    }
   ],
   "source": [
    "# can't feed in proba for svm, log loss requires probability\n",
    "matrix = confusion_matrix(y_test, svm_predicted)\n",
    "report = metrics.classification_report(y_test, svm_predicted, target_names = ['0', '1'])\n",
    "print('Confusion Matrix:\\n', matrix)\n",
    "print('Classification report:\\n', report)"
   ]
  },
  {
   "cell_type": "code",
   "execution_count": 26,
   "metadata": {},
   "outputs": [
    {
     "name": "stdout",
     "output_type": "stream",
     "text": [
      "Train score: 0.842183517682\n",
      "Test score: 0.841363997879\n"
     ]
    }
   ],
   "source": [
    "train_loss = metrics.roc_auc_score(y_train, wv_svm.predict(x_train))\n",
    "test_loss = metrics.roc_auc_score(y_test, wv_svm.predict(x_test))\n",
    "print(\"Train score:\", train_loss)\n",
    "print(\"Test score:\", test_loss)"
   ]
  },
  {
   "cell_type": "code",
   "execution_count": 27,
   "metadata": {},
   "outputs": [
    {
     "data": {
      "text/plain": [
       "<matplotlib.legend.Legend at 0x24429aba8>"
      ]
     },
     "execution_count": 27,
     "metadata": {},
     "output_type": "execute_result"
    },
    {
     "data": {
      "image/png": "[encoded data removed]",
      "text/plain": [
       "<matplotlib.figure.Figure at 0x23662eef0>"
      ]
     },
     "metadata": {},
     "output_type": "display_data"
    }
   ],
   "source": [
    "A=sklearn.metrics.roc_curve(y_train,wv_svm.predict(x_train),pos_label=1)\n",
    "B=sklearn.metrics.roc_curve(y_test,wv_svm.predict(x_test),pos_label=1)\n",
    "\n",
    "plt.plot(A[0],A[1],label='ROC SVM Train')\n",
    "plt.plot(B[0],B[1],label='ROC SVM Test')\n",
    "plt.xlim((-0.2,1.1))\n",
    "plt.ylim((-0.1,1.1))\n",
    "plt.legend(loc=4)"
   ]
  },
  {
   "cell_type": "code",
   "execution_count": 53,
   "metadata": {
    "collapsed": true
   },
   "outputs": [],
   "source": [
    "# saving svm model\n",
    "filename = 'wv_svm_model.sav'\n",
    "pickle.dump(wv_svm, open(filename, 'wb'))"
   ]
  },
  {
   "cell_type": "markdown",
   "metadata": {},
   "source": [
    "## Random Forest - Trigrams"
   ]
  },
  {
   "cell_type": "code",
   "execution_count": 55,
   "metadata": {
    "collapsed": true
   },
   "outputs": [],
   "source": [
    "from sklearn.ensemble import RandomForestClassifier\n",
    "\n",
    "rf = RandomForestClassifier()"
   ]
  },
  {
   "cell_type": "code",
   "execution_count": 56,
   "metadata": {},
   "outputs": [
    {
     "name": "stdout",
     "output_type": "stream",
     "text": [
      "CPU times: user 4.83 s, sys: 39.9 ms, total: 4.87 s\n",
      "Wall time: 4.9 s\n"
     ]
    },
    {
     "data": {
      "text/plain": [
       "RandomForestClassifier(bootstrap=True, class_weight=None, criterion='gini',\n",
       "            max_depth=None, max_features='auto', max_leaf_nodes=None,\n",
       "            min_impurity_split=1e-07, min_samples_leaf=1,\n",
       "            min_samples_split=2, min_weight_fraction_leaf=0.0,\n",
       "            n_estimators=10, n_jobs=1, oob_score=False, random_state=None,\n",
       "            verbose=0, warm_start=False)"
      ]
     },
     "execution_count": 56,
     "metadata": {},
     "output_type": "execute_result"
    }
   ],
   "source": [
    "%%time\n",
    "rf.fit(x_train, y_train)"
   ]
  },
  {
   "cell_type": "code",
   "execution_count": 57,
   "metadata": {
    "collapsed": true
   },
   "outputs": [],
   "source": [
    "rf_parameters = {'n_estimators': (50, 100, 200),\\\n",
    "               'criterion': ('gini', 'entropy'),\\\n",
    "               'class_weight': (None, 'balanced'),\\\n",
    "               'min_samples_split': (10,20,30)}"
   ]
  },
  {
   "cell_type": "code",
   "execution_count": 58,
   "metadata": {
    "collapsed": true
   },
   "outputs": [],
   "source": [
    "wv_rf = GridSearchCV(rf, rf_parameters, n_jobs=-1, scoring='f1')"
   ]
  },
  {
   "cell_type": "code",
   "execution_count": 59,
   "metadata": {},
   "outputs": [
    {
     "name": "stdout",
     "output_type": "stream",
     "text": [
      "CPU times: user 2min 12s, sys: 3.18 s, total: 2min 15s\n",
      "Wall time: 16min 57s\n"
     ]
    }
   ],
   "source": [
    "%%time\n",
    "wv_rf = wv_rf.fit(x_train, y_train)"
   ]
  },
  {
   "cell_type": "code",
   "execution_count": 60,
   "metadata": {},
   "outputs": [
    {
     "data": {
      "text/plain": [
       "{'class_weight': 'balanced',\n",
       " 'criterion': 'entropy',\n",
       " 'min_samples_split': 30,\n",
       " 'n_estimators': 200}"
      ]
     },
     "execution_count": 60,
     "metadata": {},
     "output_type": "execute_result"
    }
   ],
   "source": [
    "wv_rf.best_params_"
   ]
  },
  {
   "cell_type": "code",
   "execution_count": 28,
   "metadata": {},
   "outputs": [
    {
     "name": "stdout",
     "output_type": "stream",
     "text": [
      "CPU times: user 375 ms, sys: 38.3 ms, total: 413 ms\n",
      "Wall time: 416 ms\n"
     ]
    }
   ],
   "source": [
    "%%time\n",
    "rf_predicted = wv_rf.predict(x_test)"
   ]
  },
  {
   "cell_type": "code",
   "execution_count": 29,
   "metadata": {},
   "outputs": [
    {
     "name": "stdout",
     "output_type": "stream",
     "text": [
      "Train score: 0.28363707143\n",
      "Test score: 0.286755986467\n",
      "Confusion Matrix\n",
      " [[4556  159]\n",
      " [ 190 2018]]\n",
      "Classification Report:\n",
      "              precision    recall  f1-score   support\n",
      "\n",
      "          0       0.96      0.97      0.96      4715\n",
      "          1       0.93      0.91      0.92      2208\n",
      "\n",
      "avg / total       0.95      0.95      0.95      6923\n",
      "\n",
      "CPU times: user 1.89 s, sys: 78.6 ms, total: 1.97 s\n",
      "Wall time: 1.98 s\n"
     ]
    }
   ],
   "source": [
    "%%time\n",
    "# Get more detailed performance metrics\n",
    "evaluate_model(wv_rf, y_test, rf_predicted)"
   ]
  },
  {
   "cell_type": "code",
   "execution_count": 30,
   "metadata": {},
   "outputs": [
    {
     "name": "stdout",
     "output_type": "stream",
     "text": [
      "Train score: 0.9471313719\n",
      "Test score: 0.940113556027\n",
      "CPU times: user 1.89 s, sys: 58.7 ms, total: 1.95 s\n",
      "Wall time: 1.95 s\n"
     ]
    }
   ],
   "source": [
    "%%time\n",
    "train_loss = metrics.roc_auc_score(y_train, wv_rf.predict(x_train))\n",
    "test_loss = metrics.roc_auc_score(y_test, wv_rf.predict(x_test))\n",
    "print(\"Train score:\", train_loss)\n",
    "print(\"Test score:\", test_loss)"
   ]
  },
  {
   "cell_type": "code",
   "execution_count": 31,
   "metadata": {},
   "outputs": [
    {
     "name": "stdout",
     "output_type": "stream",
     "text": [
      "CPU times: user 1.98 s, sys: 58.6 ms, total: 2.04 s\n",
      "Wall time: 2.04 s\n"
     ]
    },
    {
     "data": {
      "image/png": "[encoded data removed]",
      "text/plain": [
       "<matplotlib.figure.Figure at 0x23f0db7f0>"
      ]
     },
     "metadata": {},
     "output_type": "display_data"
    }
   ],
   "source": [
    "%%time\n",
    "A=sklearn.metrics.roc_curve(y_train,wv_rf.predict(x_train),pos_label=1)\n",
    "B=sklearn.metrics.roc_curve(y_test,wv_rf.predict(x_test),pos_label=1)\n",
    "\n",
    "plt.plot(A[0],A[1],label='ROC RF Train')\n",
    "plt.plot(B[0],B[1],label='ROC RF Test')\n",
    "plt.xlim((-0.2,1.1))\n",
    "plt.ylim((-0.1,1.1))\n",
    "plt.legend(loc=4)"
   ]
  },
  {
   "cell_type": "code",
   "execution_count": 65,
   "metadata": {
    "collapsed": true
   },
   "outputs": [],
   "source": [
    "# saving svm model\n",
    "filename = 'wv_rf_model.sav'\n",
    "pickle.dump(wv_rf, open(filename, 'wb'))"
   ]
  },
  {
   "cell_type": "markdown",
   "metadata": {},
   "source": [
    "## Logistic Regression - Bigrams"
   ]
  },
  {
   "cell_type": "code",
   "execution_count": 10,
   "metadata": {},
   "outputs": [
    {
     "name": "stdout",
     "output_type": "stream",
     "text": [
      "CPU times: user 21.2 s, sys: 331 ms, total: 21.5 s\n",
      "Wall time: 21.6 s\n"
     ]
    }
   ],
   "source": [
    "%%time\n",
    "vec_text_bi = bi_lem.apply(infer_vector)\n",
    "type(vec_text_bi)"
   ]
  },
  {
   "cell_type": "code",
   "execution_count": 11,
   "metadata": {},
   "outputs": [
    {
     "name": "stdout",
     "output_type": "stream",
     "text": [
      "CPU times: user 2.94 s, sys: 182 ms, total: 3.12 s\n",
      "Wall time: 3.12 s\n"
     ]
    }
   ],
   "source": [
    "%%time\n",
    "vec_text_bi = pd.DataFrame(list(map(lambda x: list(x), vec_text_bi)))"
   ]
  },
  {
   "cell_type": "code",
   "execution_count": 12,
   "metadata": {},
   "outputs": [
    {
     "data": {
      "text/html": [
       "<div>\n",
       "<style>\n",
       "    .dataframe thead tr:only-child th {\n",
       "        text-align: right;\n",
       "    }\n",
       "\n",
       "    .dataframe thead th {\n",
       "        text-align: left;\n",
       "    }\n",
       "\n",
       "    .dataframe tbody tr th {\n",
       "        vertical-align: top;\n",
       "    }\n",
       "</style>\n",
       "<table border=\"1\" class=\"dataframe\">\n",
       "  <thead>\n",
       "    <tr style=\"text-align: right;\">\n",
       "      <th></th>\n",
       "      <th>0</th>\n",
       "      <th>1</th>\n",
       "      <th>2</th>\n",
       "      <th>3</th>\n",
       "      <th>4</th>\n",
       "      <th>5</th>\n",
       "      <th>6</th>\n",
       "      <th>7</th>\n",
       "      <th>8</th>\n",
       "      <th>9</th>\n",
       "      <th>...</th>\n",
       "      <th>290</th>\n",
       "      <th>291</th>\n",
       "      <th>292</th>\n",
       "      <th>293</th>\n",
       "      <th>294</th>\n",
       "      <th>295</th>\n",
       "      <th>296</th>\n",
       "      <th>297</th>\n",
       "      <th>298</th>\n",
       "      <th>299</th>\n",
       "    </tr>\n",
       "  </thead>\n",
       "  <tbody>\n",
       "    <tr>\n",
       "      <th>0</th>\n",
       "      <td>0.032914</td>\n",
       "      <td>0.041971</td>\n",
       "      <td>0.010249</td>\n",
       "      <td>0.112589</td>\n",
       "      <td>-0.060370</td>\n",
       "      <td>-0.033499</td>\n",
       "      <td>0.048079</td>\n",
       "      <td>-0.056296</td>\n",
       "      <td>0.081851</td>\n",
       "      <td>0.054917</td>\n",
       "      <td>...</td>\n",
       "      <td>-0.061651</td>\n",
       "      <td>0.011835</td>\n",
       "      <td>-0.043411</td>\n",
       "      <td>-0.016750</td>\n",
       "      <td>-0.044377</td>\n",
       "      <td>-0.018817</td>\n",
       "      <td>0.014995</td>\n",
       "      <td>-0.046308</td>\n",
       "      <td>0.027923</td>\n",
       "      <td>-0.014004</td>\n",
       "    </tr>\n",
       "    <tr>\n",
       "      <th>1</th>\n",
       "      <td>0.025956</td>\n",
       "      <td>0.002461</td>\n",
       "      <td>-0.003110</td>\n",
       "      <td>0.102935</td>\n",
       "      <td>-0.073104</td>\n",
       "      <td>0.015920</td>\n",
       "      <td>0.065457</td>\n",
       "      <td>-0.048688</td>\n",
       "      <td>0.087145</td>\n",
       "      <td>0.051192</td>\n",
       "      <td>...</td>\n",
       "      <td>-0.033402</td>\n",
       "      <td>0.035703</td>\n",
       "      <td>-0.072315</td>\n",
       "      <td>0.012243</td>\n",
       "      <td>-0.001642</td>\n",
       "      <td>-0.017677</td>\n",
       "      <td>0.009899</td>\n",
       "      <td>-0.059558</td>\n",
       "      <td>0.029522</td>\n",
       "      <td>-0.026119</td>\n",
       "    </tr>\n",
       "    <tr>\n",
       "      <th>2</th>\n",
       "      <td>0.027883</td>\n",
       "      <td>0.015250</td>\n",
       "      <td>-0.010191</td>\n",
       "      <td>0.129361</td>\n",
       "      <td>-0.018491</td>\n",
       "      <td>0.006342</td>\n",
       "      <td>0.079601</td>\n",
       "      <td>-0.090290</td>\n",
       "      <td>0.071359</td>\n",
       "      <td>0.070335</td>\n",
       "      <td>...</td>\n",
       "      <td>-0.028281</td>\n",
       "      <td>0.070759</td>\n",
       "      <td>-0.065828</td>\n",
       "      <td>-0.004968</td>\n",
       "      <td>-0.014056</td>\n",
       "      <td>-0.095150</td>\n",
       "      <td>0.017775</td>\n",
       "      <td>-0.032080</td>\n",
       "      <td>0.001624</td>\n",
       "      <td>-0.028968</td>\n",
       "    </tr>\n",
       "    <tr>\n",
       "      <th>3</th>\n",
       "      <td>0.013175</td>\n",
       "      <td>0.018189</td>\n",
       "      <td>-0.034123</td>\n",
       "      <td>0.089051</td>\n",
       "      <td>-0.066914</td>\n",
       "      <td>-0.048653</td>\n",
       "      <td>0.055105</td>\n",
       "      <td>-0.078310</td>\n",
       "      <td>0.141677</td>\n",
       "      <td>0.066115</td>\n",
       "      <td>...</td>\n",
       "      <td>-0.070120</td>\n",
       "      <td>0.036414</td>\n",
       "      <td>-0.023299</td>\n",
       "      <td>-0.012192</td>\n",
       "      <td>-0.011044</td>\n",
       "      <td>-0.028370</td>\n",
       "      <td>-0.007311</td>\n",
       "      <td>0.010829</td>\n",
       "      <td>0.032877</td>\n",
       "      <td>-0.005561</td>\n",
       "    </tr>\n",
       "    <tr>\n",
       "      <th>4</th>\n",
       "      <td>-0.033727</td>\n",
       "      <td>0.004050</td>\n",
       "      <td>-0.012132</td>\n",
       "      <td>0.049739</td>\n",
       "      <td>-0.021497</td>\n",
       "      <td>-0.052307</td>\n",
       "      <td>0.035218</td>\n",
       "      <td>-0.027092</td>\n",
       "      <td>0.114728</td>\n",
       "      <td>0.018676</td>\n",
       "      <td>...</td>\n",
       "      <td>-0.002633</td>\n",
       "      <td>0.064286</td>\n",
       "      <td>-0.020233</td>\n",
       "      <td>0.021477</td>\n",
       "      <td>-0.008193</td>\n",
       "      <td>-0.025942</td>\n",
       "      <td>-0.015454</td>\n",
       "      <td>-0.051123</td>\n",
       "      <td>-0.006340</td>\n",
       "      <td>-0.031178</td>\n",
       "    </tr>\n",
       "  </tbody>\n",
       "</table>\n",
       "<p>5 rows × 300 columns</p>\n",
       "</div>"
      ],
      "text/plain": [
       "        0         1         2         3         4         5         6    \\\n",
       "0  0.032914  0.041971  0.010249  0.112589 -0.060370 -0.033499  0.048079   \n",
       "1  0.025956  0.002461 -0.003110  0.102935 -0.073104  0.015920  0.065457   \n",
       "2  0.027883  0.015250 -0.010191  0.129361 -0.018491  0.006342  0.079601   \n",
       "3  0.013175  0.018189 -0.034123  0.089051 -0.066914 -0.048653  0.055105   \n",
       "4 -0.033727  0.004050 -0.012132  0.049739 -0.021497 -0.052307  0.035218   \n",
       "\n",
       "        7         8         9      ...          290       291       292  \\\n",
       "0 -0.056296  0.081851  0.054917    ...    -0.061651  0.011835 -0.043411   \n",
       "1 -0.048688  0.087145  0.051192    ...    -0.033402  0.035703 -0.072315   \n",
       "2 -0.090290  0.071359  0.070335    ...    -0.028281  0.070759 -0.065828   \n",
       "3 -0.078310  0.141677  0.066115    ...    -0.070120  0.036414 -0.023299   \n",
       "4 -0.027092  0.114728  0.018676    ...    -0.002633  0.064286 -0.020233   \n",
       "\n",
       "        293       294       295       296       297       298       299  \n",
       "0 -0.016750 -0.044377 -0.018817  0.014995 -0.046308  0.027923 -0.014004  \n",
       "1  0.012243 -0.001642 -0.017677  0.009899 -0.059558  0.029522 -0.026119  \n",
       "2 -0.004968 -0.014056 -0.095150  0.017775 -0.032080  0.001624 -0.028968  \n",
       "3 -0.012192 -0.011044 -0.028370 -0.007311  0.010829  0.032877 -0.005561  \n",
       "4  0.021477 -0.008193 -0.025942 -0.015454 -0.051123 -0.006340 -0.031178  \n",
       "\n",
       "[5 rows x 300 columns]"
      ]
     },
     "execution_count": 12,
     "metadata": {},
     "output_type": "execute_result"
    }
   ],
   "source": [
    "vec_text_bi.head()"
   ]
  },
  {
   "cell_type": "code",
   "execution_count": 13,
   "metadata": {
    "collapsed": true
   },
   "outputs": [],
   "source": [
    "clean_final[\"binary_response\"] = np.where(clean_final[\"response\"] == \"Not fake\", 0, 1)"
   ]
  },
  {
   "cell_type": "code",
   "execution_count": 14,
   "metadata": {
    "collapsed": true
   },
   "outputs": [],
   "source": [
    "y_response = clean_final.binary_response.values"
   ]
  },
  {
   "cell_type": "code",
   "execution_count": 15,
   "metadata": {
    "collapsed": true
   },
   "outputs": [],
   "source": [
    "x_train, x_test, y_train, y_test = train_test_split(vec_text_bi, y_response, test_size = 0.2, stratify = y_response)"
   ]
  },
  {
   "cell_type": "code",
   "execution_count": 16,
   "metadata": {},
   "outputs": [
    {
     "name": "stdout",
     "output_type": "stream",
     "text": [
      "CPU times: user 1.54 s, sys: 58.1 ms, total: 1.6 s\n",
      "Wall time: 1.61 s\n"
     ]
    }
   ],
   "source": [
    "%%time\n",
    "lr = LogisticRegression()\n",
    "lr.fit(x_train, y_train)"
   ]
  },
  {
   "cell_type": "code",
   "execution_count": 17,
   "metadata": {
    "collapsed": true
   },
   "outputs": [],
   "source": [
    "lr_parameters = {#'tfidf__max_df': (0.75, 0.80, 0.85, 0.90, 0.95, 1.0),\\\n",
    "              #'tfidf__min_df': (0.001,0.01,0.1),\\\n",
    "               'penalty': ('l1','l2'),\\\n",
    "               'C': (0.01, 0.1, 1),\\\n",
    "               'class_weight': (None, 'balanced')}"
   ]
  },
  {
   "cell_type": "code",
   "execution_count": 18,
   "metadata": {
    "collapsed": true
   },
   "outputs": [],
   "source": [
    "# Establish grid search instance\n",
    "wv_lr_bi = GridSearchCV(lr, lr_parameters, n_jobs=-1, scoring = 'f1')"
   ]
  },
  {
   "cell_type": "code",
   "execution_count": 19,
   "metadata": {},
   "outputs": [
    {
     "name": "stderr",
     "output_type": "stream",
     "text": [
      "/Users/mikeghoul/anaconda/envs/py35/lib/python3.5/site-packages/sklearn/metrics/classification.py:1113: UndefinedMetricWarning: F-score is ill-defined and being set to 0.0 due to no predicted samples.\n",
      "  'precision', 'predicted', average, warn_for)\n",
      "/Users/mikeghoul/anaconda/envs/py35/lib/python3.5/site-packages/sklearn/metrics/classification.py:1113: UndefinedMetricWarning: F-score is ill-defined and being set to 0.0 due to no predicted samples.\n",
      "  'precision', 'predicted', average, warn_for)\n",
      "/Users/mikeghoul/anaconda/envs/py35/lib/python3.5/site-packages/sklearn/metrics/classification.py:1113: UndefinedMetricWarning: F-score is ill-defined and being set to 0.0 due to no predicted samples.\n",
      "  'precision', 'predicted', average, warn_for)\n"
     ]
    },
    {
     "name": "stdout",
     "output_type": "stream",
     "text": [
      "CPU times: user 2min 8s, sys: 460 ms, total: 2min 9s\n",
      "Wall time: 4min 17s\n"
     ]
    }
   ],
   "source": [
    "%%time\n",
    "wv_lr_bi = wv_lr_bi.fit(x_train, y_train)"
   ]
  },
  {
   "cell_type": "code",
   "execution_count": 20,
   "metadata": {},
   "outputs": [
    {
     "data": {
      "text/plain": [
       "{'C': 1, 'class_weight': 'balanced', 'penalty': 'l1'}"
      ]
     },
     "execution_count": 20,
     "metadata": {},
     "output_type": "execute_result"
    }
   ],
   "source": [
    "wv_lr_bi.best_params_"
   ]
  },
  {
   "cell_type": "code",
   "execution_count": 21,
   "metadata": {
    "collapsed": true
   },
   "outputs": [],
   "source": [
    "lr_predicted_bi = wv_lr_bi.predict(x_test)"
   ]
  },
  {
   "cell_type": "code",
   "execution_count": 24,
   "metadata": {},
   "outputs": [
    {
     "name": "stdout",
     "output_type": "stream",
     "text": [
      "Train score: 0.362014656181\n",
      "Test score: 0.380065353748\n",
      "Confusion Matrix\n",
      " [[3929  786]\n",
      " [ 341 1867]]\n",
      "Classification Report:\n",
      "              precision    recall  f1-score   support\n",
      "\n",
      "          0       0.92      0.83      0.87      4715\n",
      "          1       0.70      0.85      0.77      2208\n",
      "\n",
      "avg / total       0.85      0.84      0.84      6923\n",
      "\n",
      "CPU times: user 32.3 ms, sys: 3.11 ms, total: 35.4 ms\n",
      "Wall time: 28.6 ms\n"
     ]
    },
    {
     "data": {
      "text/plain": [
       "0.38006535374840977"
      ]
     },
     "execution_count": 24,
     "metadata": {},
     "output_type": "execute_result"
    }
   ],
   "source": [
    "%%time\n",
    "# Get more detailed performance metrics\n",
    "evaluate_model(wv_lr_bi, y_test, lr_predicted_bi)"
   ]
  },
  {
   "cell_type": "code",
   "execution_count": 25,
   "metadata": {},
   "outputs": [
    {
     "name": "stdout",
     "output_type": "stream",
     "text": [
      "Train score: 0.842743131775\n",
      "Test score: 0.839429789678\n"
     ]
    }
   ],
   "source": [
    "train_loss = metrics.roc_auc_score(y_train, wv_lr_bi.predict(x_train))\n",
    "test_loss = metrics.roc_auc_score(y_test, wv_lr_bi.predict(x_test))\n",
    "print(\"Train score:\", train_loss)\n",
    "print(\"Test score:\", test_loss)"
   ]
  },
  {
   "cell_type": "code",
   "execution_count": 26,
   "metadata": {},
   "outputs": [
    {
     "data": {
      "text/plain": [
       "<matplotlib.legend.Legend at 0x20bebf6d8>"
      ]
     },
     "execution_count": 26,
     "metadata": {},
     "output_type": "execute_result"
    },
    {
     "data": {
      "image/png": "[encoded data removed]",
      "text/plain": [
       "<matplotlib.figure.Figure at 0x10bae8400>"
      ]
     },
     "metadata": {},
     "output_type": "display_data"
    }
   ],
   "source": [
    "import sklearn\n",
    "A=sklearn.metrics.roc_curve(y_train,wv_lr_bi.predict(x_train),pos_label=1)\n",
    "B=sklearn.metrics.roc_curve(y_test,wv_lr_bi.predict(x_test),pos_label=1)\n",
    "\n",
    "plt.plot(A[0],A[1],label='ROC LR Train')\n",
    "plt.plot(B[0],B[1],label='ROC LR Test')\n",
    "plt.xlim((-0.2,1.1))\n",
    "plt.ylim((-0.1,1.1))\n",
    "plt.legend(loc=4)"
   ]
  },
  {
   "cell_type": "code",
   "execution_count": 27,
   "metadata": {
    "collapsed": true
   },
   "outputs": [],
   "source": [
    "# saving lr model\n",
    "filename = 'wv_lr_bi_model.sav'\n",
    "pickle.dump(wv_lr_bi, open(filename, 'wb'))"
   ]
  }
 ],
 "metadata": {
  "kernelspec": {
   "display_name": "Python 3",
   "language": "python",
   "name": "python3"
  },
  "language_info": {
   "codemirror_mode": {
    "name": "ipython",
    "version": 3
   },
   "file_extension": ".py",
   "mimetype": "text/x-python",
   "name": "python",
   "nbconvert_exporter": "python",
   "pygments_lexer": "ipython3",
   "version": "3.5.3"
  }
 },
 "nbformat": 4,
 "nbformat_minor": 2
}
